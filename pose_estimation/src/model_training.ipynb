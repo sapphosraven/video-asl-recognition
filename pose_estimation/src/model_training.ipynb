{
 "cells": [
  {
   "cell_type": "markdown",
   "id": "db43fcdf",
   "metadata": {},
   "source": [
    "# ASL Recognition: End-to-End Workflow\n",
    "\n",
    "This notebook consolidates the entire workflow for preprocessing, model training, and evaluation for American Sign Language (ASL) recognition.\n"
   ]
  },
  {
   "cell_type": "code",
   "execution_count": 15,
   "id": "f3a040ba",
   "metadata": {},
   "outputs": [
    {
     "name": "stdout",
     "output_type": "stream",
     "text": [
      "Using device: cuda\n"
     ]
    }
   ],
   "source": [
    "# Import Required Libraries\n",
    "import os\n",
    "import json\n",
    "import numpy as np\n",
    "import pandas as pd\n",
    "import matplotlib.pyplot as plt\n",
    "from pathlib import Path\n",
    "from sklearn.model_selection import train_test_split\n",
    "import torch\n",
    "import torch.nn as nn\n",
    "import torch.optim as optim\n",
    "from torch.utils.data import DataLoader, Dataset\n",
    "import pickle\n",
    "from tqdm.notebook import tqdm  # Use notebook-friendly version of tqdm\n",
    "\n",
    "# Check for GPU availability\n",
    "device = torch.device(\"cuda\" if torch.cuda.is_available() else \"cpu\")\n",
    "print(f\"Using device: {device}\")"
   ]
  },
  {
   "cell_type": "markdown",
   "id": "0f7b7725",
   "metadata": {},
   "source": [
    "# Preprocessing: Load and Normalize Keypoints\n",
    "\n",
    "We will load the preprocessed keypoints from the JSON files and normalize them.\n"
   ]
  },
  {
   "cell_type": "code",
   "execution_count": 16,
   "id": "e4673b9a",
   "metadata": {},
   "outputs": [
    {
     "name": "stdout",
     "output_type": "stream",
     "text": [
      "Loading keypoints from f:\\Uni_Stuff\\6th_Sem\\DL\\Proj\\video-asl-recognition\\pose_estimation\\data\\keypoints\n",
      "Using the following classes: ['about', 'accident', 'africa', 'again', 'all', 'always', 'animal', 'apple', 'approve', 'argue', 'arrive', 'baby', 'back', 'backpack', 'bad', 'bake', 'balance', 'ball', 'banana', 'bar', 'basketball', 'bath', 'bathroom', 'beard', 'because', 'bed', 'before', 'behind', 'bird', 'birthday', 'black', 'blanket', 'blue', 'book', 'bowling', 'boy', 'bring', 'brother', 'brown', 'business', 'but', 'buy', 'call', 'can', 'candy', 'careful', 'cat', 'catch', 'center', 'cereal', 'chair', 'champion', 'change', 'chat', 'cheat', 'check', 'cheese', 'children', 'christmas', 'city', 'class', 'clock', 'close', 'clothes', 'coffee', 'cold', 'college', 'color', 'computer', 'convince', 'cook', 'cool', 'copy', 'corn', 'cough', 'country', 'cousin', 'cow', 'crash', 'crazy', 'cry', 'cute', 'dance', 'dark', 'daughter', 'day', 'deaf', 'decide', 'delay', 'delicious', 'different', 'disappear', 'discuss', 'divorce', 'doctor', 'dog', 'door', 'draw', 'dress', 'drink', 'drive', 'drop', 'east', 'easy', 'eat', 'egg', 'enjoy', 'environment', 'example', 'family', 'far', 'fat', 'father', 'fault', 'feel', 'fine', 'finish', 'first', 'fish', 'flower', 'football', 'forget', 'friend', 'friendly', 'full', 'future', 'game', 'girl', 'give', 'glasses', 'go', 'good', 'government', 'graduate', 'green', 'hair', 'halloween', 'happy', 'hard', 'hat', 'have', 'headache', 'hear', 'hearing', 'heart', 'help', 'here', 'home', 'hope', 'hot', 'hour', 'house', 'how', 'humble', 'hurry', 'husband', 'improve', 'inform', 'interest', 'internet', 'jacket', 'join', 'jump', 'kill', 'kiss', 'knife', 'know', 'language', 'last', 'late', 'later', 'laugh', 'law', 'learn', 'leave', 'letter', 'light', 'like', 'list', 'live', 'lose', 'make', 'man', 'many', 'match', 'mean', 'meat', 'medicine', 'meet', 'milk', 'money', 'more', 'most', 'mother', 'movie', 'music', 'name', 'need', 'new', 'no', 'none', 'now', 'office', 'old', 'orange', 'order', 'paint', 'pants', 'paper', 'party', 'past', 'pencil', 'person', 'pink', 'pizza', 'plan', 'play', 'please', 'police', 'practice', 'president', 'problem', 'pull', 'purple', 'rabbit', 'read', 'red', 'remember', 'restaurant', 'ride', 'right', 'room', 'run', 'russia', 'salt', 'same', 'sandwich', 'school', 'secretary', 'share', 'shirt', 'short', 'show', 'sick', 'sign', 'since', 'small', 'snow', 'some', 'son', 'soon', 'south', 'stay', 'student', 'study', 'sunday', 'table', 'take', 'tall', 'tea', 'teach', 'teacher', 'tell', 'test', 'thanksgiving', 'theory', 'thin', 'thursday', 'time', 'tired', 'tomato', 'trade', 'train', 'travel', 'ugly', 'visit', 'wait', 'walk', 'want', 'war', 'water', 'week', 'what', 'where', 'white', 'who', 'why', 'wife', 'window', 'with', 'woman', 'work', 'write', 'wrong', 'year', 'yellow', 'yes', 'yesterday', 'you', 'your']\n",
      "Final valid classes: ['about', 'accident', 'africa', 'again', 'all', 'always', 'animal', 'apple', 'approve', 'argue', 'arrive', 'baby', 'back', 'backpack', 'bad', 'bake', 'balance', 'ball', 'banana', 'bar', 'basketball', 'bath', 'bathroom', 'beard', 'because', 'bed', 'before', 'behind', 'bird', 'birthday', 'black', 'blanket', 'blue', 'book', 'bowling', 'boy', 'bring', 'brother', 'brown', 'business', 'but', 'buy', 'call', 'can', 'candy', 'careful', 'cat', 'catch', 'center', 'cereal', 'chair', 'champion', 'change', 'chat', 'cheat', 'check', 'cheese', 'children', 'christmas', 'city', 'class', 'clock', 'close', 'clothes', 'coffee', 'cold', 'college', 'color', 'computer', 'convince', 'cook', 'cool', 'copy', 'corn', 'cough', 'country', 'cousin', 'cow', 'crash', 'crazy', 'cry', 'cute', 'dance', 'dark', 'daughter', 'day', 'deaf', 'decide', 'delay', 'delicious', 'different', 'disappear', 'discuss', 'divorce', 'doctor', 'dog', 'door', 'draw', 'dress', 'drink', 'drive', 'drop', 'east', 'easy', 'eat', 'egg', 'enjoy', 'environment', 'example', 'family', 'far', 'fat', 'father', 'fault', 'feel', 'fine', 'finish', 'first', 'fish', 'flower', 'football', 'forget', 'friend', 'friendly', 'full', 'future', 'game', 'girl', 'give', 'glasses', 'go', 'good', 'government', 'graduate', 'green', 'hair', 'halloween', 'happy', 'hard', 'hat', 'have', 'headache', 'hear', 'hearing', 'heart', 'help', 'here', 'home', 'hope', 'hot', 'hour', 'house', 'how', 'humble', 'hurry', 'husband', 'improve', 'inform', 'interest', 'internet', 'jacket', 'join', 'jump', 'kill', 'kiss', 'knife', 'know', 'language', 'last', 'late', 'later', 'laugh', 'law', 'learn', 'leave', 'letter', 'light', 'like', 'list', 'live', 'lose', 'make', 'man', 'many', 'match', 'mean', 'meat', 'medicine', 'meet', 'milk', 'money', 'more', 'most', 'mother', 'movie', 'music', 'name', 'need', 'new', 'no', 'none', 'now', 'office', 'old', 'orange', 'order', 'paint', 'pants', 'paper', 'party', 'past', 'pencil', 'person', 'pink', 'pizza', 'plan', 'play', 'please', 'police', 'practice', 'president', 'problem', 'pull', 'purple', 'rabbit', 'read', 'red', 'remember', 'restaurant', 'ride', 'right', 'room', 'run', 'russia', 'salt', 'same', 'sandwich', 'school', 'secretary', 'share', 'shirt', 'short', 'show', 'sick', 'sign', 'since', 'small', 'snow', 'some', 'son', 'soon', 'south', 'stay', 'student', 'study', 'sunday', 'table', 'take', 'tall', 'tea', 'teach', 'teacher', 'tell', 'test', 'thanksgiving', 'theory', 'thin', 'thursday', 'time', 'tired', 'tomato', 'trade', 'train', 'travel', 'ugly', 'visit', 'wait', 'walk', 'want', 'war', 'water', 'week', 'what', 'where', 'white', 'who', 'why', 'wife', 'window', 'with', 'woman', 'work', 'write', 'wrong', 'year', 'yellow', 'yes', 'yesterday', 'you', 'your']\n",
      "Final valid classes: ['about', 'accident', 'africa', 'again', 'all', 'always', 'animal', 'apple', 'approve', 'argue', 'arrive', 'baby', 'back', 'backpack', 'bad', 'bake', 'balance', 'ball', 'banana', 'bar', 'basketball', 'bath', 'bathroom', 'beard', 'because', 'bed', 'before', 'behind', 'bird', 'birthday', 'black', 'blanket', 'blue', 'book', 'bowling', 'boy', 'bring', 'brother', 'brown', 'business', 'but', 'buy', 'call', 'can', 'candy', 'careful', 'cat', 'catch', 'center', 'cereal', 'chair', 'champion', 'change', 'chat', 'cheat', 'check', 'cheese', 'children', 'christmas', 'city', 'class', 'clock', 'close', 'clothes', 'coffee', 'cold', 'college', 'color', 'computer', 'convince', 'cook', 'cool', 'copy', 'corn', 'cough', 'country', 'cousin', 'cow', 'crash', 'crazy', 'cry', 'cute', 'dance', 'dark', 'daughter', 'day', 'deaf', 'decide', 'delay', 'delicious', 'different', 'disappear', 'discuss', 'divorce', 'doctor', 'dog', 'door', 'draw', 'dress', 'drink', 'drive', 'drop', 'east', 'easy', 'eat', 'egg', 'enjoy', 'environment', 'example', 'family', 'far', 'fat', 'father', 'fault', 'feel', 'fine', 'finish', 'first', 'fish', 'flower', 'football', 'forget', 'friend', 'friendly', 'full', 'future', 'game', 'girl', 'give', 'glasses', 'go', 'good', 'government', 'graduate', 'green', 'hair', 'halloween', 'happy', 'hard', 'hat', 'have', 'headache', 'hear', 'hearing', 'heart', 'help', 'here', 'home', 'hope', 'hot', 'hour', 'house', 'how', 'humble', 'hurry', 'husband', 'improve', 'inform', 'interest', 'internet', 'jacket', 'join', 'jump', 'kill', 'kiss', 'knife', 'know', 'language', 'last', 'late', 'later', 'laugh', 'law', 'learn', 'leave', 'letter', 'light', 'like', 'list', 'live', 'lose', 'make', 'man', 'many', 'match', 'mean', 'meat', 'medicine', 'meet', 'milk', 'money', 'more', 'most', 'mother', 'movie', 'music', 'name', 'need', 'new', 'no', 'none', 'now', 'office', 'old', 'orange', 'order', 'paint', 'pants', 'paper', 'party', 'past', 'pencil', 'person', 'pink', 'pizza', 'plan', 'play', 'please', 'police', 'practice', 'president', 'problem', 'pull', 'purple', 'rabbit', 'read', 'red', 'remember', 'restaurant', 'ride', 'right', 'room', 'run', 'russia', 'salt', 'same', 'sandwich', 'school', 'secretary', 'share', 'shirt', 'short', 'show', 'sick', 'sign', 'since', 'small', 'snow', 'some', 'son', 'soon', 'south', 'stay', 'student', 'study', 'sunday', 'table', 'take', 'tall', 'tea', 'teach', 'teacher', 'tell', 'test', 'thanksgiving', 'theory', 'thin', 'thursday', 'time', 'tired', 'tomato', 'trade', 'train', 'travel', 'ugly', 'visit', 'wait', 'walk', 'want', 'war', 'water', 'week', 'what', 'where', 'white', 'who', 'why', 'wife', 'window', 'with', 'woman', 'work', 'write', 'wrong', 'year', 'yellow', 'yes', 'yesterday', 'you', 'your']\n"
     ]
    },
    {
     "data": {
      "application/vnd.jupyter.widget-view+json": {
       "model_id": "803519bb1b4648ed8905056014d14158",
       "version_major": 2,
       "version_minor": 0
      },
      "text/plain": [
       "Loading keypoint files:   0%|          | 0/3202 [00:00<?, ?it/s]"
      ]
     },
     "metadata": {},
     "output_type": "display_data"
    },
    {
     "name": "stdout",
     "output_type": "stream",
     "text": [
      "Processed 3202 files successfully, skipped 0 files\n"
     ]
    }
   ],
   "source": [
    "# Configuration\n",
    "DATA_DIR = Path(r'f:\\Uni_Stuff\\6th_Sem\\DL\\Proj\\video-asl-recognition\\pose_estimation\\data\\keypoints')\n",
    "NUM_CLASSES_TO_USE = None  # Set to an integer to limit the number of classes\n",
    "\n",
    "# Load and normalize keypoints\n",
    "# Now also return sequence lengths for masking\n",
    "\n",
    "def load_keypoints(data_dir, num_classes_to_use=5):\n",
    "    data = []\n",
    "    labels = []\n",
    "    lengths = []\n",
    "    skipped_files = 0\n",
    "    processed_files = 0\n",
    "    print(f\"Loading keypoints from {data_dir}\")\n",
    "    # Gather all class folders and sort them alphabetically\n",
    "    all_class_dirs = sorted([d for d in data_dir.iterdir() if d.is_dir()])\n",
    "    if num_classes_to_use is not None:\n",
    "        all_class_dirs = all_class_dirs[:num_classes_to_use]\n",
    "\n",
    "    # Generate label2idx mapping dynamically\n",
    "    label2idx = {}\n",
    "    valid_class_dirs = []\n",
    "    for class_dir in all_class_dirs:\n",
    "        json_files = list(class_dir.glob('*.json'))\n",
    "        if len(json_files) >= 2:\n",
    "            valid_class_dirs.append(class_dir)\n",
    "            label2idx[class_dir.name] = len(label2idx)\n",
    "        else:\n",
    "            print(f\"Skipping class {class_dir.name}: Less than 2 instances available.\")\n",
    "\n",
    "    print(f\"Using the following classes: {list(label2idx.keys())}\")\n",
    "\n",
    "    # Gather all JSON files from the selected class directories\n",
    "    all_json_files = []\n",
    "    class_instance_count = {class_name: 0 for class_name in label2idx.keys()}\n",
    "    for class_dir in valid_class_dirs:\n",
    "        json_files = list(class_dir.glob('*.json'))\n",
    "        class_instance_count[class_dir.name] = len(json_files)\n",
    "        all_json_files.extend(json_files)\n",
    "\n",
    "    # Filter out classes with fewer than 2 instances\n",
    "    valid_classes = [class_name for class_name, count in class_instance_count.items() if count >= 2]\n",
    "    label2idx = {class_name: idx for idx, class_name in enumerate(valid_classes)}\n",
    "    print(f\"Final valid classes: {valid_classes}\")\n",
    "\n",
    "    for json_file in tqdm(all_json_files, desc=\"Loading keypoint files\"):\n",
    "        try:\n",
    "            with open(json_file, 'r') as f:\n",
    "                content = json.load(f)\n",
    "            keypoints = content.get('keypoints', None)\n",
    "            label = content.get('label', None)\n",
    "            if label not in label2idx:\n",
    "                print(f\"Skipping {json_file}: Label '{label}' not in label2idx mapping.\")\n",
    "                skipped_files += 1\n",
    "                continue\n",
    "            if not keypoints:\n",
    "                print(f\"Skipping {json_file}: Keypoints are empty or missing.\")\n",
    "                skipped_files += 1\n",
    "                continue\n",
    "            processed_frames = []\n",
    "            for frame in keypoints:\n",
    "                left_hand_features = np.zeros(63, dtype=np.float32)\n",
    "                right_hand_features = np.zeros(63, dtype=np.float32)\n",
    "                pose_features = np.zeros(99, dtype=np.float32)\n",
    "                if 'hands' in frame and frame['hands']:\n",
    "                    for i, hand in enumerate(frame['hands']):\n",
    "                        if i < 2:\n",
    "                            hand_features = []\n",
    "                            for point in hand:\n",
    "                                if isinstance(point, list) and len(point) == 3:\n",
    "                                    hand_features.extend(point)\n",
    "                            if i == 0 and len(hand_features) <= 63:\n",
    "                                left_hand_features[:len(hand_features)] = hand_features\n",
    "                            elif i == 1 and len(hand_features) <= 63:\n",
    "                                right_hand_features[:len(hand_features)] = hand_features\n",
    "                if 'pose' in frame and frame['pose']:\n",
    "                    pose_data = []\n",
    "                    for point in frame['pose']:\n",
    "                        if isinstance(point, list) and len(point) == 3:\n",
    "                            pose_data.extend(point)\n",
    "                    if len(pose_data) <= 99:\n",
    "                        pose_features[:len(pose_data)] = pose_data\n",
    "                frame_features = np.concatenate([left_hand_features, right_hand_features, pose_features])\n",
    "                processed_frames.append(frame_features)\n",
    "            if processed_frames:\n",
    "                processed_data = np.array(processed_frames, dtype=np.float32)\n",
    "                if processed_data.shape[0] > 0 and processed_data.shape[1] > 0:\n",
    "                    data.append(processed_data)\n",
    "                    labels.append(label2idx[label])\n",
    "                    lengths.append(processed_data.shape[0])\n",
    "                    processed_files += 1\n",
    "                else:\n",
    "                    print(f\"Skipping {json_file}: Processed frames are invalid.\")\n",
    "                    skipped_files += 1\n",
    "            else:\n",
    "                print(f\"Skipping {json_file}: No valid frames were processed.\")\n",
    "                skipped_files += 1\n",
    "        except Exception as e:\n",
    "            print(f\"Skipping {json_file}: Exception occurred - {e}\")\n",
    "            skipped_files += 1\n",
    "    print(f\"Processed {processed_files} files successfully, skipped {skipped_files} files\")\n",
    "    if not data:\n",
    "        print(\"Warning: No valid data was loaded!\")\n",
    "        return np.array([]), np.array([]), np.array([]), label2idx\n",
    "    max_seq_len = max(sample.shape[0] for sample in data)\n",
    "    feature_dim = data[0].shape[1]\n",
    "    padded_data = []\n",
    "    for sample in data:\n",
    "        if sample.shape[0] < max_seq_len:\n",
    "            padding = np.zeros((max_seq_len - sample.shape[0], feature_dim), dtype=np.float32)\n",
    "            padded_sample = np.vstack((sample, padding))\n",
    "        else:\n",
    "            padded_sample = sample[:max_seq_len]\n",
    "        padded_data.append(padded_sample)\n",
    "    return np.array(padded_data), np.array(labels), np.array(lengths), label2idx\n",
    "\n",
    "data, labels, lengths, label2idx = load_keypoints(DATA_DIR, NUM_CLASSES_TO_USE)"
   ]
  },
  {
   "cell_type": "code",
   "execution_count": 17,
   "id": "a50aa2f3",
   "metadata": {},
   "outputs": [
    {
     "name": "stdout",
     "output_type": "stream",
     "text": [
      "First 5 labels:\n",
      "[0 0 0 0 0]\n",
      "First 5 lengths:\n",
      "[16 16 16 16 16]\n",
      "Raw data statistics:\n",
      "Number of samples: 3202\n",
      "Shape of sample 0: (16, 225)\n",
      "Sample 0 - min: -2.6472163 max: 2.4947815 mean: 0.2292768\n",
      "Raw data stddev: 0.6613013\n",
      "Label distribution:\n",
      "Label: 0, Count: 8\n",
      "Label: 1, Count: 13\n",
      "Label: 2, Count: 13\n",
      "Label: 3, Count: 10\n",
      "Label: 4, Count: 13\n",
      "Label: 5, Count: 9\n",
      "Label: 6, Count: 10\n",
      "Label: 7, Count: 13\n",
      "Label: 8, Count: 11\n",
      "Label: 9, Count: 10\n",
      "Label: 10, Count: 10\n",
      "Label: 11, Count: 10\n",
      "Label: 12, Count: 7\n",
      "Label: 13, Count: 11\n",
      "Label: 14, Count: 11\n",
      "Label: 15, Count: 8\n",
      "Label: 16, Count: 11\n",
      "Label: 17, Count: 11\n",
      "Label: 18, Count: 10\n",
      "Label: 19, Count: 10\n",
      "Label: 20, Count: 12\n",
      "Label: 21, Count: 10\n",
      "Label: 22, Count: 10\n",
      "Label: 23, Count: 10\n",
      "Label: 24, Count: 7\n",
      "Label: 25, Count: 13\n",
      "Label: 26, Count: 17\n",
      "Label: 27, Count: 9\n",
      "Label: 28, Count: 12\n",
      "Label: 29, Count: 9\n",
      "Label: 30, Count: 13\n",
      "Label: 31, Count: 8\n",
      "Label: 32, Count: 12\n",
      "Label: 33, Count: 10\n",
      "Label: 34, Count: 13\n",
      "Label: 35, Count: 10\n",
      "Label: 36, Count: 10\n",
      "Label: 37, Count: 11\n",
      "Label: 38, Count: 11\n",
      "Label: 39, Count: 11\n",
      "Label: 40, Count: 10\n",
      "Label: 41, Count: 11\n",
      "Label: 42, Count: 11\n",
      "Label: 43, Count: 12\n",
      "Label: 44, Count: 14\n",
      "Label: 45, Count: 8\n",
      "Label: 46, Count: 11\n",
      "Label: 47, Count: 9\n",
      "Label: 48, Count: 10\n",
      "Label: 49, Count: 9\n",
      "Label: 50, Count: 9\n",
      "Label: 51, Count: 8\n",
      "Label: 52, Count: 12\n",
      "Label: 53, Count: 10\n",
      "Label: 54, Count: 12\n",
      "Label: 55, Count: 13\n",
      "Label: 56, Count: 9\n",
      "Label: 57, Count: 8\n",
      "Label: 58, Count: 9\n",
      "Label: 59, Count: 13\n",
      "Label: 60, Count: 10\n",
      "Label: 61, Count: 7\n",
      "Label: 62, Count: 8\n",
      "Label: 63, Count: 9\n",
      "Label: 64, Count: 9\n",
      "Label: 65, Count: 12\n",
      "Label: 66, Count: 11\n",
      "Label: 67, Count: 14\n",
      "Label: 68, Count: 20\n",
      "Label: 69, Count: 11\n",
      "Label: 70, Count: 12\n",
      "Label: 71, Count: 13\n",
      "Label: 72, Count: 9\n",
      "Label: 73, Count: 12\n",
      "Label: 74, Count: 9\n",
      "Label: 75, Count: 10\n",
      "Label: 76, Count: 15\n",
      "Label: 77, Count: 13\n",
      "Label: 78, Count: 11\n",
      "Label: 79, Count: 9\n",
      "Label: 80, Count: 10\n",
      "Label: 81, Count: 8\n",
      "Label: 82, Count: 11\n",
      "Label: 83, Count: 13\n",
      "Label: 84, Count: 11\n",
      "Label: 85, Count: 10\n",
      "Label: 86, Count: 13\n",
      "Label: 87, Count: 11\n",
      "Label: 88, Count: 9\n",
      "Label: 89, Count: 10\n",
      "Label: 90, Count: 11\n",
      "Label: 91, Count: 9\n",
      "Label: 92, Count: 11\n",
      "Label: 93, Count: 7\n",
      "Label: 94, Count: 10\n",
      "Label: 95, Count: 14\n",
      "Label: 96, Count: 10\n",
      "Label: 97, Count: 10\n",
      "Label: 98, Count: 9\n",
      "Label: 99, Count: 21\n",
      "Label: 100, Count: 8\n",
      "Label: 101, Count: 10\n",
      "Label: 102, Count: 8\n",
      "Label: 103, Count: 8\n",
      "Label: 104, Count: 9\n",
      "Label: 105, Count: 8\n",
      "Label: 106, Count: 10\n",
      "Label: 107, Count: 9\n",
      "Label: 108, Count: 8\n",
      "Label: 109, Count: 14\n",
      "Label: 110, Count: 12\n",
      "Label: 111, Count: 11\n",
      "Label: 112, Count: 10\n",
      "Label: 113, Count: 7\n",
      "Label: 114, Count: 9\n",
      "Label: 115, Count: 14\n",
      "Label: 116, Count: 12\n",
      "Label: 117, Count: 9\n",
      "Label: 118, Count: 14\n",
      "Label: 119, Count: 9\n",
      "Label: 120, Count: 9\n",
      "Label: 121, Count: 14\n",
      "Label: 122, Count: 8\n",
      "Label: 123, Count: 8\n",
      "Label: 124, Count: 12\n",
      "Label: 125, Count: 9\n",
      "Label: 126, Count: 9\n",
      "Label: 127, Count: 10\n",
      "Label: 128, Count: 13\n",
      "Label: 129, Count: 10\n",
      "Label: 130, Count: 17\n",
      "Label: 131, Count: 10\n",
      "Label: 132, Count: 11\n",
      "Label: 133, Count: 12\n",
      "Label: 134, Count: 10\n",
      "Label: 135, Count: 14\n",
      "Label: 136, Count: 9\n",
      "Label: 137, Count: 10\n",
      "Label: 138, Count: 7\n",
      "Label: 139, Count: 13\n",
      "Label: 140, Count: 8\n",
      "Label: 141, Count: 13\n",
      "Label: 142, Count: 10\n",
      "Label: 143, Count: 14\n",
      "Label: 144, Count: 9\n",
      "Label: 145, Count: 14\n",
      "Label: 146, Count: 9\n",
      "Label: 147, Count: 9\n",
      "Label: 148, Count: 11\n",
      "Label: 149, Count: 15\n",
      "Label: 150, Count: 9\n",
      "Label: 151, Count: 9\n",
      "Label: 152, Count: 9\n",
      "Label: 153, Count: 10\n",
      "Label: 154, Count: 7\n",
      "Label: 155, Count: 9\n",
      "Label: 156, Count: 9\n",
      "Label: 157, Count: 9\n",
      "Label: 158, Count: 12\n",
      "Label: 159, Count: 10\n",
      "Label: 160, Count: 10\n",
      "Label: 161, Count: 10\n",
      "Label: 162, Count: 8\n",
      "Label: 163, Count: 9\n",
      "Label: 164, Count: 11\n",
      "Label: 165, Count: 6\n",
      "Label: 166, Count: 11\n",
      "Label: 167, Count: 13\n",
      "Label: 168, Count: 12\n",
      "Label: 169, Count: 10\n",
      "Label: 170, Count: 13\n",
      "Label: 171, Count: 12\n",
      "Label: 172, Count: 10\n",
      "Label: 173, Count: 11\n",
      "Label: 174, Count: 12\n",
      "Label: 175, Count: 12\n",
      "Label: 176, Count: 11\n",
      "Label: 177, Count: 17\n",
      "Label: 178, Count: 12\n",
      "Label: 179, Count: 6\n",
      "Label: 180, Count: 12\n",
      "Label: 181, Count: 9\n",
      "Label: 182, Count: 13\n",
      "Label: 183, Count: 13\n",
      "Label: 184, Count: 10\n",
      "Label: 185, Count: 8\n",
      "Label: 186, Count: 9\n",
      "Label: 187, Count: 9\n",
      "Label: 188, Count: 13\n",
      "Label: 189, Count: 9\n",
      "Label: 190, Count: 8\n",
      "Label: 191, Count: 9\n",
      "Label: 192, Count: 10\n",
      "Label: 193, Count: 16\n",
      "Label: 194, Count: 7\n",
      "Label: 195, Count: 10\n",
      "Label: 196, Count: 11\n",
      "Label: 197, Count: 11\n",
      "Label: 198, Count: 10\n",
      "Label: 199, Count: 15\n",
      "Label: 200, Count: 8\n",
      "Label: 201, Count: 14\n",
      "Label: 202, Count: 10\n",
      "Label: 203, Count: 8\n",
      "Label: 204, Count: 14\n",
      "Label: 205, Count: 8\n",
      "Label: 206, Count: 11\n",
      "Label: 207, Count: 10\n",
      "Label: 208, Count: 12\n",
      "Label: 209, Count: 9\n",
      "Label: 210, Count: 10\n",
      "Label: 211, Count: 7\n",
      "Label: 212, Count: 10\n",
      "Label: 213, Count: 12\n",
      "Label: 214, Count: 15\n",
      "Label: 215, Count: 9\n",
      "Label: 216, Count: 13\n",
      "Label: 217, Count: 8\n",
      "Label: 218, Count: 10\n",
      "Label: 219, Count: 8\n",
      "Label: 220, Count: 11\n",
      "Label: 221, Count: 9\n",
      "Label: 222, Count: 12\n",
      "Label: 223, Count: 11\n",
      "Label: 224, Count: 11\n",
      "Label: 225, Count: 9\n",
      "Label: 226, Count: 9\n",
      "Label: 227, Count: 10\n",
      "Label: 228, Count: 8\n",
      "Label: 229, Count: 8\n",
      "Label: 230, Count: 12\n",
      "Label: 231, Count: 10\n",
      "Label: 232, Count: 10\n",
      "Label: 233, Count: 11\n",
      "Label: 234, Count: 11\n",
      "Label: 235, Count: 12\n",
      "Label: 236, Count: 11\n",
      "Label: 237, Count: 11\n",
      "Label: 238, Count: 13\n",
      "Label: 239, Count: 10\n",
      "Label: 240, Count: 14\n",
      "Label: 241, Count: 13\n",
      "Label: 242, Count: 10\n",
      "Label: 243, Count: 11\n",
      "Label: 244, Count: 9\n",
      "Label: 245, Count: 9\n",
      "Label: 246, Count: 10\n",
      "Label: 247, Count: 8\n",
      "Label: 248, Count: 9\n",
      "Label: 249, Count: 12\n",
      "Label: 250, Count: 10\n",
      "Label: 251, Count: 10\n",
      "Label: 252, Count: 9\n",
      "Label: 253, Count: 11\n",
      "Label: 254, Count: 15\n",
      "Label: 255, Count: 11\n",
      "Label: 256, Count: 8\n",
      "Label: 257, Count: 11\n",
      "Label: 258, Count: 14\n",
      "Label: 259, Count: 9\n",
      "Label: 260, Count: 10\n",
      "Label: 261, Count: 12\n",
      "Label: 262, Count: 12\n",
      "Label: 263, Count: 8\n",
      "Label: 264, Count: 15\n",
      "Label: 265, Count: 9\n",
      "Label: 266, Count: 16\n",
      "Label: 267, Count: 13\n",
      "Label: 268, Count: 10\n",
      "Label: 269, Count: 10\n",
      "Label: 270, Count: 8\n",
      "Label: 271, Count: 11\n",
      "Label: 272, Count: 9\n",
      "Label: 273, Count: 10\n",
      "Label: 274, Count: 11\n",
      "Label: 275, Count: 12\n",
      "Label: 276, Count: 13\n",
      "Label: 277, Count: 11\n",
      "Label: 278, Count: 11\n",
      "Label: 279, Count: 9\n",
      "Label: 280, Count: 12\n",
      "Label: 281, Count: 11\n",
      "Label: 282, Count: 10\n",
      "Label: 283, Count: 9\n",
      "Label: 284, Count: 13\n",
      "Label: 285, Count: 15\n",
      "Label: 286, Count: 8\n",
      "Label: 287, Count: 11\n",
      "Label: 288, Count: 8\n",
      "Label: 289, Count: 10\n",
      "Label: 290, Count: 13\n",
      "Label: 291, Count: 12\n",
      "Label: 292, Count: 12\n",
      "Label: 293, Count: 12\n",
      "Label: 294, Count: 13\n",
      "Label: 295, Count: 11\n",
      "Label: 296, Count: 15\n",
      "Label: 297, Count: 12\n",
      "Label: 298, Count: 12\n",
      "Label: 299, Count: 11\n",
      "Sequence lengths statistics:\n",
      "Min length: 16 Max length: 16 Mean length: 16.0\n",
      "Loading keypoints from f:\\Uni_Stuff\\6th_Sem\\DL\\Proj\\video-asl-recognition\\pose_estimation\\data\\keypoints\n",
      "Using the following classes: ['about', 'accident', 'africa', 'again', 'all', 'always', 'animal', 'apple', 'approve', 'argue', 'arrive', 'baby', 'back', 'backpack', 'bad', 'bake', 'balance', 'ball', 'banana', 'bar', 'basketball', 'bath', 'bathroom', 'beard', 'because', 'bed', 'before', 'behind', 'bird', 'birthday', 'black', 'blanket', 'blue', 'book', 'bowling', 'boy', 'bring', 'brother', 'brown', 'business', 'but', 'buy', 'call', 'can', 'candy', 'careful', 'cat', 'catch', 'center', 'cereal', 'chair', 'champion', 'change', 'chat', 'cheat', 'check', 'cheese', 'children', 'christmas', 'city', 'class', 'clock', 'close', 'clothes', 'coffee', 'cold', 'college', 'color', 'computer', 'convince', 'cook', 'cool', 'copy', 'corn', 'cough', 'country', 'cousin', 'cow', 'crash', 'crazy', 'cry', 'cute', 'dance', 'dark', 'daughter', 'day', 'deaf', 'decide', 'delay', 'delicious', 'different', 'disappear', 'discuss', 'divorce', 'doctor', 'dog', 'door', 'draw', 'dress', 'drink', 'drive', 'drop', 'east', 'easy', 'eat', 'egg', 'enjoy', 'environment', 'example', 'family', 'far', 'fat', 'father', 'fault', 'feel', 'fine', 'finish', 'first', 'fish', 'flower', 'football', 'forget', 'friend', 'friendly', 'full', 'future', 'game', 'girl', 'give', 'glasses', 'go', 'good', 'government', 'graduate', 'green', 'hair', 'halloween', 'happy', 'hard', 'hat', 'have', 'headache', 'hear', 'hearing', 'heart', 'help', 'here', 'home', 'hope', 'hot', 'hour', 'house', 'how', 'humble', 'hurry', 'husband', 'improve', 'inform', 'interest', 'internet', 'jacket', 'join', 'jump', 'kill', 'kiss', 'knife', 'know', 'language', 'last', 'late', 'later', 'laugh', 'law', 'learn', 'leave', 'letter', 'light', 'like', 'list', 'live', 'lose', 'make', 'man', 'many', 'match', 'mean', 'meat', 'medicine', 'meet', 'milk', 'money', 'more', 'most', 'mother', 'movie', 'music', 'name', 'need', 'new', 'no', 'none', 'now', 'office', 'old', 'orange', 'order', 'paint', 'pants', 'paper', 'party', 'past', 'pencil', 'person', 'pink', 'pizza', 'plan', 'play', 'please', 'police', 'practice', 'president', 'problem', 'pull', 'purple', 'rabbit', 'read', 'red', 'remember', 'restaurant', 'ride', 'right', 'room', 'run', 'russia', 'salt', 'same', 'sandwich', 'school', 'secretary', 'share', 'shirt', 'short', 'show', 'sick', 'sign', 'since', 'small', 'snow', 'some', 'son', 'soon', 'south', 'stay', 'student', 'study', 'sunday', 'table', 'take', 'tall', 'tea', 'teach', 'teacher', 'tell', 'test', 'thanksgiving', 'theory', 'thin', 'thursday', 'time', 'tired', 'tomato', 'trade', 'train', 'travel', 'ugly', 'visit', 'wait', 'walk', 'want', 'war', 'water', 'week', 'what', 'where', 'white', 'who', 'why', 'wife', 'window', 'with', 'woman', 'work', 'write', 'wrong', 'year', 'yellow', 'yes', 'yesterday', 'you', 'your']\n",
      "Final valid classes: ['about', 'accident', 'africa', 'again', 'all', 'always', 'animal', 'apple', 'approve', 'argue', 'arrive', 'baby', 'back', 'backpack', 'bad', 'bake', 'balance', 'ball', 'banana', 'bar', 'basketball', 'bath', 'bathroom', 'beard', 'because', 'bed', 'before', 'behind', 'bird', 'birthday', 'black', 'blanket', 'blue', 'book', 'bowling', 'boy', 'bring', 'brother', 'brown', 'business', 'but', 'buy', 'call', 'can', 'candy', 'careful', 'cat', 'catch', 'center', 'cereal', 'chair', 'champion', 'change', 'chat', 'cheat', 'check', 'cheese', 'children', 'christmas', 'city', 'class', 'clock', 'close', 'clothes', 'coffee', 'cold', 'college', 'color', 'computer', 'convince', 'cook', 'cool', 'copy', 'corn', 'cough', 'country', 'cousin', 'cow', 'crash', 'crazy', 'cry', 'cute', 'dance', 'dark', 'daughter', 'day', 'deaf', 'decide', 'delay', 'delicious', 'different', 'disappear', 'discuss', 'divorce', 'doctor', 'dog', 'door', 'draw', 'dress', 'drink', 'drive', 'drop', 'east', 'easy', 'eat', 'egg', 'enjoy', 'environment', 'example', 'family', 'far', 'fat', 'father', 'fault', 'feel', 'fine', 'finish', 'first', 'fish', 'flower', 'football', 'forget', 'friend', 'friendly', 'full', 'future', 'game', 'girl', 'give', 'glasses', 'go', 'good', 'government', 'graduate', 'green', 'hair', 'halloween', 'happy', 'hard', 'hat', 'have', 'headache', 'hear', 'hearing', 'heart', 'help', 'here', 'home', 'hope', 'hot', 'hour', 'house', 'how', 'humble', 'hurry', 'husband', 'improve', 'inform', 'interest', 'internet', 'jacket', 'join', 'jump', 'kill', 'kiss', 'knife', 'know', 'language', 'last', 'late', 'later', 'laugh', 'law', 'learn', 'leave', 'letter', 'light', 'like', 'list', 'live', 'lose', 'make', 'man', 'many', 'match', 'mean', 'meat', 'medicine', 'meet', 'milk', 'money', 'more', 'most', 'mother', 'movie', 'music', 'name', 'need', 'new', 'no', 'none', 'now', 'office', 'old', 'orange', 'order', 'paint', 'pants', 'paper', 'party', 'past', 'pencil', 'person', 'pink', 'pizza', 'plan', 'play', 'please', 'police', 'practice', 'president', 'problem', 'pull', 'purple', 'rabbit', 'read', 'red', 'remember', 'restaurant', 'ride', 'right', 'room', 'run', 'russia', 'salt', 'same', 'sandwich', 'school', 'secretary', 'share', 'shirt', 'short', 'show', 'sick', 'sign', 'since', 'small', 'snow', 'some', 'son', 'soon', 'south', 'stay', 'student', 'study', 'sunday', 'table', 'take', 'tall', 'tea', 'teach', 'teacher', 'tell', 'test', 'thanksgiving', 'theory', 'thin', 'thursday', 'time', 'tired', 'tomato', 'trade', 'train', 'travel', 'ugly', 'visit', 'wait', 'walk', 'want', 'war', 'water', 'week', 'what', 'where', 'white', 'who', 'why', 'wife', 'window', 'with', 'woman', 'work', 'write', 'wrong', 'year', 'yellow', 'yes', 'yesterday', 'you', 'your']\n"
     ]
    },
    {
     "data": {
      "application/vnd.jupyter.widget-view+json": {
       "model_id": "3d69243745e54b1bae40c872c62fbfcc",
       "version_major": 2,
       "version_minor": 0
      },
      "text/plain": [
       "Loading keypoint files:   0%|          | 0/3202 [00:00<?, ?it/s]"
      ]
     },
     "metadata": {},
     "output_type": "display_data"
    },
    {
     "name": "stdout",
     "output_type": "stream",
     "text": [
      "Processed 3202 files successfully, skipped 0 files\n"
     ]
    }
   ],
   "source": [
    "print(\"First 5 labels:\")\n",
    "print(labels[:5])\n",
    "print(\"First 5 lengths:\")\n",
    "print(lengths[:5])\n",
    "\n",
    "\n",
    "# After data, labels, lengths = load_keypoints(DATA_DIR)\n",
    "print(\"Raw data statistics:\")\n",
    "if data.size > 0:\n",
    "    # Print shapes of the first few samples\n",
    "    print(\"Number of samples:\", len(data))\n",
    "    print(\"Shape of sample 0:\", data[0].shape)\n",
    "    # Compute min, max and mean for the first sample (raw frames)\n",
    "    sample0 = data[0]\n",
    "    print(\"Sample 0 - min:\", np.min(sample0), \"max:\", np.max(sample0), \"mean:\", np.mean(sample0))\n",
    "    # Print stddev for all raw data\n",
    "    print(\"Raw data stddev:\", np.std(data))\n",
    "else:\n",
    "    print(\"No data loaded.\")\n",
    "\n",
    "print(\"Label distribution:\")\n",
    "unique, counts = np.unique(labels, return_counts=True)\n",
    "for l, count in zip(unique, counts):\n",
    "    print(f\"Label: {l}, Count: {count}\")\n",
    "\n",
    "print(\"Sequence lengths statistics:\")\n",
    "if lengths.size > 0:\n",
    "    print(\"Min length:\", np.min(lengths), \"Max length:\", np.max(lengths), \"Mean length:\", np.mean(lengths))\n",
    "else:\n",
    "    print(\"No sequence lengths available.\")\n",
    "\n",
    "# Specify the number of classes to use (set to None to use all classes)\n",
    "num_classes_to_use = None\n",
    "data, labels, lengths, label2idx = load_keypoints(DATA_DIR, num_classes_to_use)"
   ]
  },
  {
   "cell_type": "code",
   "execution_count": 18,
   "id": "cb7f9a23",
   "metadata": {},
   "outputs": [
    {
     "name": "stdout",
     "output_type": "stream",
     "text": [
      "Data shape after normalization: (3202, 16, 225)\n"
     ]
    }
   ],
   "source": [
    "# Feature normalization (global z-score normalization)\n",
    "def normalize_features(data):\n",
    "    # data: (num_samples, seq_len, num_features)\n",
    "    mean = data.mean()\n",
    "    std = data.std()\n",
    "    normalized = (data - mean) / std\n",
    "    return normalized, mean, std\n",
    "\n",
    "# Apply global z-score normalization\n",
    "data, mean, std = normalize_features(data)\n",
    "print(f\"Data shape after normalization: {data.shape}\")\n",
    "\n",
    "def create_mask(lengths, max_len):\n",
    "    # lengths: (num_samples,)\n",
    "    # returns mask: (num_samples, max_len) with 1 for real, 0 for pad\n",
    "    mask = np.zeros((len(lengths), max_len), dtype=np.float32)\n",
    "    for i, l in enumerate(lengths):\n",
    "        mask[i, :l] = 1.0\n",
    "    return mask\n",
    "\n",
    "mask = create_mask(lengths, data.shape[1])"
   ]
  },
  {
   "cell_type": "code",
   "execution_count": 19,
   "id": "f0d40e5d",
   "metadata": {},
   "outputs": [
    {
     "name": "stdout",
     "output_type": "stream",
     "text": [
      "Normalized data statistics:\n",
      "Data shape: (3202, 16, 225)\n",
      "Min value: -6.65441 Max value: 4.175602 Median value: -0.23095042 Mean value: -7.791997e-08 Std Dev: 1.0\n"
     ]
    }
   ],
   "source": [
    "# After data, feat_center, feat_scale = normalize_features(data)\n",
    "print(\"Normalized data statistics:\")\n",
    "if data.size > 0:\n",
    "    print(\"Data shape:\", data.shape)\n",
    "    print(\"Min value:\", np.min(data), \"Max value:\", np.max(data), \"Median value:\", np.median(data), \"Mean value:\", np.mean(data), \"Std Dev:\", np.std(data))\n",
    "else:\n",
    "    print(\"No data available after normalization.\")"
   ]
  },
  {
   "cell_type": "markdown",
   "id": "ad60166d",
   "metadata": {},
   "source": [
    "# Dataset Preparation: Train-Test Split\n",
    "\n",
    "Split the dataset into training, validation, and test sets.\n"
   ]
  },
  {
   "cell_type": "code",
   "execution_count": 20,
   "id": "b85c3332",
   "metadata": {},
   "outputs": [
    {
     "name": "stdout",
     "output_type": "stream",
     "text": [
      "Label to index mapping: {0: 0, 1: 1, 2: 2, 3: 3, 4: 4, 5: 5, 6: 6, 7: 7, 8: 8, 9: 9, 10: 10, 11: 11, 12: 12, 13: 13, 14: 14, 15: 15, 16: 16, 17: 17, 18: 18, 19: 19, 20: 20, 21: 21, 22: 22, 23: 23, 24: 24, 25: 25, 26: 26, 27: 27, 28: 28, 29: 29, 30: 30, 31: 31, 32: 32, 33: 33, 34: 34, 35: 35, 36: 36, 37: 37, 38: 38, 39: 39, 40: 40, 41: 41, 42: 42, 43: 43, 44: 44, 45: 45, 46: 46, 47: 47, 48: 48, 49: 49, 50: 50, 51: 51, 52: 52, 53: 53, 54: 54, 55: 55, 56: 56, 57: 57, 58: 58, 59: 59, 60: 60, 61: 61, 62: 62, 63: 63, 64: 64, 65: 65, 66: 66, 67: 67, 68: 68, 69: 69, 70: 70, 71: 71, 72: 72, 73: 73, 74: 74, 75: 75, 76: 76, 77: 77, 78: 78, 79: 79, 80: 80, 81: 81, 82: 82, 83: 83, 84: 84, 85: 85, 86: 86, 87: 87, 88: 88, 89: 89, 90: 90, 91: 91, 92: 92, 93: 93, 94: 94, 95: 95, 96: 96, 97: 97, 98: 98, 99: 99, 100: 100, 101: 101, 102: 102, 103: 103, 104: 104, 105: 105, 106: 106, 107: 107, 108: 108, 109: 109, 110: 110, 111: 111, 112: 112, 113: 113, 114: 114, 115: 115, 116: 116, 117: 117, 118: 118, 119: 119, 120: 120, 121: 121, 122: 122, 123: 123, 124: 124, 125: 125, 126: 126, 127: 127, 128: 128, 129: 129, 130: 130, 131: 131, 132: 132, 133: 133, 134: 134, 135: 135, 136: 136, 137: 137, 138: 138, 139: 139, 140: 140, 141: 141, 142: 142, 143: 143, 144: 144, 145: 145, 146: 146, 147: 147, 148: 148, 149: 149, 150: 150, 151: 151, 152: 152, 153: 153, 154: 154, 155: 155, 156: 156, 157: 157, 158: 158, 159: 159, 160: 160, 161: 161, 162: 162, 163: 163, 164: 164, 165: 165, 166: 166, 167: 167, 168: 168, 169: 169, 170: 170, 171: 171, 172: 172, 173: 173, 174: 174, 175: 175, 176: 176, 177: 177, 178: 178, 179: 179, 180: 180, 181: 181, 182: 182, 183: 183, 184: 184, 185: 185, 186: 186, 187: 187, 188: 188, 189: 189, 190: 190, 191: 191, 192: 192, 193: 193, 194: 194, 195: 195, 196: 196, 197: 197, 198: 198, 199: 199, 200: 200, 201: 201, 202: 202, 203: 203, 204: 204, 205: 205, 206: 206, 207: 207, 208: 208, 209: 209, 210: 210, 211: 211, 212: 212, 213: 213, 214: 214, 215: 215, 216: 216, 217: 217, 218: 218, 219: 219, 220: 220, 221: 221, 222: 222, 223: 223, 224: 224, 225: 225, 226: 226, 227: 227, 228: 228, 229: 229, 230: 230, 231: 231, 232: 232, 233: 233, 234: 234, 235: 235, 236: 236, 237: 237, 238: 238, 239: 239, 240: 240, 241: 241, 242: 242, 243: 243, 244: 244, 245: 245, 246: 246, 247: 247, 248: 248, 249: 249, 250: 250, 251: 251, 252: 252, 253: 253, 254: 254, 255: 255, 256: 256, 257: 257, 258: 258, 259: 259, 260: 260, 261: 261, 262: 262, 263: 263, 264: 264, 265: 265, 266: 266, 267: 267, 268: 268, 269: 269, 270: 270, 271: 271, 272: 272, 273: 273, 274: 274, 275: 275, 276: 276, 277: 277, 278: 278, 279: 279, 280: 280, 281: 281, 282: 282, 283: 283, 284: 284, 285: 285, 286: 286, 287: 287, 288: 288, 289: 289, 290: 290, 291: 291, 292: 292, 293: 293, 294: 294, 295: 295, 296: 296, 297: 297, 298: 298, 299: 299}\n",
      "Converted labels to numeric indices.\n",
      "Training set: (2241, 16, 225), Validation set: (480, 16, 225), Test set: (481, 16, 225)\n",
      "Class weights: tensor([1.3342, 0.8210, 0.8210, 1.0673, 0.8210, 1.1859, 1.0673, 0.8210, 0.9703,\n",
      "        1.0673, 1.0673, 1.0673, 1.5248, 0.9703, 0.9703, 1.3342, 0.9703, 0.9703,\n",
      "        1.0673, 1.0673, 0.8894, 1.0673, 1.0673, 1.0673, 1.5248, 0.8210, 0.6278,\n",
      "        1.1859, 0.8894, 1.1859, 0.8210, 1.3342, 0.8894, 1.0673, 0.8210, 1.0673,\n",
      "        1.0673, 0.9703, 0.9703, 0.9703, 1.0673, 0.9703, 0.9703, 0.8894, 0.7624,\n",
      "        1.3342, 0.9703, 1.1859, 1.0673, 1.1859, 1.1859, 1.3342, 0.8894, 1.0673,\n",
      "        0.8894, 0.8210, 1.1859, 1.3342, 1.1859, 0.8210, 1.0673, 1.5248, 1.3342,\n",
      "        1.1859, 1.1859, 0.8894, 0.9703, 0.7624, 0.5337, 0.9703, 0.8894, 0.8210,\n",
      "        1.1859, 0.8894, 1.1859, 1.0673, 0.7116, 0.8210, 0.9703, 1.1859, 1.0673,\n",
      "        1.3342, 0.9703, 0.8210, 0.9703, 1.0673, 0.8210, 0.9703, 1.1859, 1.0673,\n",
      "        0.9703, 1.1859, 0.9703, 1.5248, 1.0673, 0.7624, 1.0673, 1.0673, 1.1859,\n",
      "        0.5083, 1.3342, 1.0673, 1.3342, 1.3342, 1.1859, 1.3342, 1.0673, 1.1859,\n",
      "        1.3342, 0.7624, 0.8894, 0.9703, 1.0673, 1.5248, 1.1859, 0.7624, 0.8894,\n",
      "        1.1859, 0.7624, 1.1859, 1.1859, 0.7624, 1.3342, 1.3342, 0.8894, 1.1859,\n",
      "        1.1859, 1.0673, 0.8210, 1.0673, 0.6278, 1.0673, 0.9703, 0.8894, 1.0673,\n",
      "        0.7624, 1.1859, 1.0673, 1.5248, 0.8210, 1.3342, 0.8210, 1.0673, 0.7624,\n",
      "        1.1859, 0.7624, 1.1859, 1.1859, 0.9703, 0.7116, 1.1859, 1.1859, 1.1859,\n",
      "        1.0673, 1.5248, 1.1859, 1.1859, 1.1859, 0.8894, 1.0673, 1.0673, 1.0673,\n",
      "        1.3342, 1.1859, 0.9703, 1.7789, 0.9703, 0.8210, 0.8894, 1.0673, 0.8210,\n",
      "        0.8894, 1.0673, 0.9703, 0.8894, 0.8894, 0.9703, 0.6278, 0.8894, 1.7789,\n",
      "        0.8894, 1.1859, 0.8210, 0.8210, 1.0673, 1.3342, 1.1859, 1.1859, 0.8210,\n",
      "        1.1859, 1.3342, 1.1859, 1.0673, 0.6671, 1.5248, 1.0673, 0.9703, 0.9703,\n",
      "        1.0673, 0.7116, 1.3342, 0.7624, 1.0673, 1.3342, 0.7624, 1.3342, 0.9703,\n",
      "        1.0673, 0.8894, 1.1859, 1.0673, 1.5248, 1.0673, 0.8894, 0.7116, 1.1859,\n",
      "        0.8210, 1.3342, 1.0673, 1.3342, 0.9703, 1.1859, 0.8894, 0.9703, 0.9703,\n",
      "        1.1859, 1.1859, 1.0673, 1.3342, 1.3342, 0.8894, 1.0673, 1.0673, 0.9703,\n",
      "        0.9703, 0.8894, 0.9703, 0.9703, 0.8210, 1.0673, 0.7624, 0.8210, 1.0673,\n",
      "        0.9703, 1.1859, 1.1859, 1.0673, 1.3342, 1.1859, 0.8894, 1.0673, 1.0673,\n",
      "        1.1859, 0.9703, 0.7116, 0.9703, 1.3342, 0.9703, 0.7624, 1.1859, 1.0673,\n",
      "        0.8894, 0.8894, 1.3342, 0.7116, 1.1859, 0.6671, 0.8210, 1.0673, 1.0673,\n",
      "        1.3342, 0.9703, 1.1859, 1.0673, 0.9703, 0.8894, 0.8210, 0.9703, 0.9703,\n",
      "        1.1859, 0.8894, 0.9703, 1.0673, 1.1859, 0.8210, 0.7116, 1.3342, 0.9703,\n",
      "        1.3342, 1.0673, 0.8210, 0.8894, 0.8894, 0.8894, 0.8210, 0.9703, 0.7116,\n",
      "        0.8894, 0.8894, 0.9703], device='cuda:0')\n",
      "Training set: (2241, 16, 225), Validation set: (480, 16, 225), Test set: (481, 16, 225)\n",
      "Class weights: tensor([1.3342, 0.8210, 0.8210, 1.0673, 0.8210, 1.1859, 1.0673, 0.8210, 0.9703,\n",
      "        1.0673, 1.0673, 1.0673, 1.5248, 0.9703, 0.9703, 1.3342, 0.9703, 0.9703,\n",
      "        1.0673, 1.0673, 0.8894, 1.0673, 1.0673, 1.0673, 1.5248, 0.8210, 0.6278,\n",
      "        1.1859, 0.8894, 1.1859, 0.8210, 1.3342, 0.8894, 1.0673, 0.8210, 1.0673,\n",
      "        1.0673, 0.9703, 0.9703, 0.9703, 1.0673, 0.9703, 0.9703, 0.8894, 0.7624,\n",
      "        1.3342, 0.9703, 1.1859, 1.0673, 1.1859, 1.1859, 1.3342, 0.8894, 1.0673,\n",
      "        0.8894, 0.8210, 1.1859, 1.3342, 1.1859, 0.8210, 1.0673, 1.5248, 1.3342,\n",
      "        1.1859, 1.1859, 0.8894, 0.9703, 0.7624, 0.5337, 0.9703, 0.8894, 0.8210,\n",
      "        1.1859, 0.8894, 1.1859, 1.0673, 0.7116, 0.8210, 0.9703, 1.1859, 1.0673,\n",
      "        1.3342, 0.9703, 0.8210, 0.9703, 1.0673, 0.8210, 0.9703, 1.1859, 1.0673,\n",
      "        0.9703, 1.1859, 0.9703, 1.5248, 1.0673, 0.7624, 1.0673, 1.0673, 1.1859,\n",
      "        0.5083, 1.3342, 1.0673, 1.3342, 1.3342, 1.1859, 1.3342, 1.0673, 1.1859,\n",
      "        1.3342, 0.7624, 0.8894, 0.9703, 1.0673, 1.5248, 1.1859, 0.7624, 0.8894,\n",
      "        1.1859, 0.7624, 1.1859, 1.1859, 0.7624, 1.3342, 1.3342, 0.8894, 1.1859,\n",
      "        1.1859, 1.0673, 0.8210, 1.0673, 0.6278, 1.0673, 0.9703, 0.8894, 1.0673,\n",
      "        0.7624, 1.1859, 1.0673, 1.5248, 0.8210, 1.3342, 0.8210, 1.0673, 0.7624,\n",
      "        1.1859, 0.7624, 1.1859, 1.1859, 0.9703, 0.7116, 1.1859, 1.1859, 1.1859,\n",
      "        1.0673, 1.5248, 1.1859, 1.1859, 1.1859, 0.8894, 1.0673, 1.0673, 1.0673,\n",
      "        1.3342, 1.1859, 0.9703, 1.7789, 0.9703, 0.8210, 0.8894, 1.0673, 0.8210,\n",
      "        0.8894, 1.0673, 0.9703, 0.8894, 0.8894, 0.9703, 0.6278, 0.8894, 1.7789,\n",
      "        0.8894, 1.1859, 0.8210, 0.8210, 1.0673, 1.3342, 1.1859, 1.1859, 0.8210,\n",
      "        1.1859, 1.3342, 1.1859, 1.0673, 0.6671, 1.5248, 1.0673, 0.9703, 0.9703,\n",
      "        1.0673, 0.7116, 1.3342, 0.7624, 1.0673, 1.3342, 0.7624, 1.3342, 0.9703,\n",
      "        1.0673, 0.8894, 1.1859, 1.0673, 1.5248, 1.0673, 0.8894, 0.7116, 1.1859,\n",
      "        0.8210, 1.3342, 1.0673, 1.3342, 0.9703, 1.1859, 0.8894, 0.9703, 0.9703,\n",
      "        1.1859, 1.1859, 1.0673, 1.3342, 1.3342, 0.8894, 1.0673, 1.0673, 0.9703,\n",
      "        0.9703, 0.8894, 0.9703, 0.9703, 0.8210, 1.0673, 0.7624, 0.8210, 1.0673,\n",
      "        0.9703, 1.1859, 1.1859, 1.0673, 1.3342, 1.1859, 0.8894, 1.0673, 1.0673,\n",
      "        1.1859, 0.9703, 0.7116, 0.9703, 1.3342, 0.9703, 0.7624, 1.1859, 1.0673,\n",
      "        0.8894, 0.8894, 1.3342, 0.7116, 1.1859, 0.6671, 0.8210, 1.0673, 1.0673,\n",
      "        1.3342, 0.9703, 1.1859, 1.0673, 0.9703, 0.8894, 0.8210, 0.9703, 0.9703,\n",
      "        1.1859, 0.8894, 0.9703, 1.0673, 1.1859, 0.8210, 0.7116, 1.3342, 0.9703,\n",
      "        1.3342, 1.0673, 0.8210, 0.8894, 0.8894, 0.8894, 0.8210, 0.9703, 0.7116,\n",
      "        0.8894, 0.8894, 0.9703], device='cuda:0')\n"
     ]
    }
   ],
   "source": [
    "# Import train_test_split if not already imported\n",
    "from sklearn.model_selection import train_test_split\n",
    "from sklearn.utils.class_weight import compute_class_weight\n",
    "import numpy as np\n",
    "import torch\n",
    "from torch.utils.data import DataLoader\n",
    "from torch.utils.data.sampler import WeightedRandomSampler\n",
    "\n",
    "# Create a mapping from string labels to numeric indices\n",
    "label_to_index = {label: idx for idx, label in enumerate(np.unique(labels))}\n",
    "index_to_label = {idx: label for label, idx in label_to_index.items()}\n",
    "print(f\"Label to index mapping: {label_to_index}\")\n",
    "\n",
    "# Convert string labels to numeric indices\n",
    "numeric_labels = np.array([label_to_index[label] for label in labels])\n",
    "print(f\"Converted labels to numeric indices.\")\n",
    "\n",
    "# Split the dataset\n",
    "X_train, X_temp, y_train, y_temp, mask_train, mask_temp = train_test_split(data, numeric_labels, mask, test_size=0.3, stratify=numeric_labels, random_state=42)\n",
    "X_val, X_test, y_val, y_test, mask_val, mask_test = train_test_split(X_temp, y_temp, mask_temp, test_size=0.5, stratify=y_temp, random_state=42)\n",
    "\n",
    "print(f\"Training set: {X_train.shape}, Validation set: {X_val.shape}, Test set: {X_test.shape}\")\n",
    "\n",
    "# Compute class weights for balancing\n",
    "class_weights = compute_class_weight('balanced', classes=np.unique(numeric_labels), y=numeric_labels)\n",
    "class_weights = torch.tensor(class_weights, dtype=torch.float32).to(device)\n",
    "print(f\"Class weights: {class_weights}\")\n",
    " \n",
    "# Update DataLoader to use weighted sampling\n",
    "# NOTE: train_dataset is not defined yet here, so just define the sampler and sample_weights for later use\n",
    "sample_weights = class_weights[numeric_labels]\n",
    "sampler = WeightedRandomSampler(weights=sample_weights, num_samples=len(sample_weights), replacement=True)\n",
    "# Do not create train_loader here; it will be created after train_dataset is defined"
   ]
  },
  {
   "cell_type": "code",
   "execution_count": 29,
   "id": "4e866d21",
   "metadata": {},
   "outputs": [],
   "source": [
    "# Define the dataset class\n",
    "class ASLDataset(Dataset):\n",
    "    def __init__(self, data, labels, lengths):\n",
    "        self.data = torch.tensor(data, dtype=torch.float32)\n",
    "        self.labels = torch.tensor(labels, dtype=torch.long)\n",
    "        self.lengths = torch.tensor(lengths, dtype=torch.long)\n",
    "    def __len__(self):\n",
    "        return len(self.data)\n",
    "    def __getitem__(self, idx):\n",
    "        return self.data[idx], self.labels[idx], self.lengths[idx]\n",
    "\n",
    "# Create the datasets\n",
    "train_dataset = ASLDataset(X_train, y_train, mask_train.sum(axis=1).astype(int))\n",
    "val_dataset = ASLDataset(X_val, y_val, mask_val.sum(axis=1).astype(int))\n",
    "\n",
    "# Create the data loaders\n",
    "train_loader = DataLoader(train_dataset, batch_size=32, shuffle=True)\n",
    "val_loader = DataLoader(val_dataset, batch_size=32, shuffle=False)"
   ]
  },
  {
   "cell_type": "markdown",
   "id": "c0bb276e",
   "metadata": {},
   "source": [
    "# Model Definition: BiLSTM for Temporal Data\n",
    "\n",
    "Define a BiLSTM model for ASL recognition.\n"
   ]
  },
  {
   "cell_type": "code",
   "execution_count": 41,
   "id": "95231d4e",
   "metadata": {},
   "outputs": [
    {
     "name": "stdout",
     "output_type": "stream",
     "text": [
      "Data shape: (3202, 16, 225)\n",
      "Each sample has 16 frames with 225 features per frame\n",
      "Input size for the model: 225\n",
      "Number of unique labels (classes): 300\n",
      "BiLSTM(\n",
      "  (lstm): GRU(225, 128, num_layers=2, batch_first=True, dropout=0.3, bidirectional=True)\n",
      "  (layer_norm): LayerNorm((256,), eps=1e-05, elementwise_affine=True)\n",
      "  (dropout): Dropout(p=0.3, inplace=False)\n",
      "  (fc): Linear(in_features=256, out_features=300, bias=True)\n",
      ")\n"
     ]
    }
   ],
   "source": [
    "import torch\n",
    "import torch.nn as nn\n",
    "import numpy as np\n",
    "\n",
    "# Print information about the data shape\n",
    "print(f\"Data shape: {data.shape}\")\n",
    "if len(data) > 0:\n",
    "    print(f\"Each sample has {data[0].shape[0]} frames with {data[0].shape[1]} features per frame\")\n",
    "\n",
    "# Replace RNNModel with BiLSTM\n",
    "class BiLSTM(nn.Module):\n",
    "    def __init__(self, input_size, hidden_size, output_size, num_layers=2, dropout_rate=0.3):\n",
    "        super(BiLSTM, self).__init__()\n",
    "        self.lstm = nn.GRU(\n",
    "            input_size, hidden_size, num_layers=num_layers, batch_first=True, bidirectional=True, dropout=dropout_rate if num_layers > 1 else 0\n",
    "        )\n",
    "        self.layer_norm = nn.LayerNorm(hidden_size * 2)\n",
    "        self.dropout = nn.Dropout(dropout_rate)\n",
    "        self.fc = nn.Linear(hidden_size * 2, output_size)\n",
    "\n",
    "    def forward(self, x, lengths):\n",
    "        # Pack the padded sequence\n",
    "        packed_x = nn.utils.rnn.pack_padded_sequence(x, lengths.cpu(), batch_first=True, enforce_sorted=False)\n",
    "        packed_out, _ = self.lstm(packed_x)\n",
    "        # Unpack the sequence\n",
    "        out, _ = nn.utils.rnn.pad_packed_sequence(packed_out, batch_first=True)\n",
    "        # Get the last valid output for each sequence\n",
    "        idx = (lengths - 1).view(-1, 1).expand(-1, out.size(2)).unsqueeze(1)\n",
    "        out = out.gather(1, idx).squeeze(1)\n",
    "        out = self.layer_norm(out)\n",
    "        out = self.dropout(out)\n",
    "        out = self.fc(out)\n",
    "        return out\n",
    "\n",
    "# Get the input size from the processed data\n",
    "input_size = data[0].shape[1] if len(data) > 0 else 0\n",
    "hidden_size = 128\n",
    "output_size = len(np.unique(labels))\n",
    "print(f\"Input size for the model: {input_size}\")\n",
    "print(f\"Number of unique labels (classes): {output_size}\")\n",
    "\n",
    "model = BiLSTM(input_size, hidden_size, output_size)\n",
    "print(model)\n",
    "model = model.to(device)"
   ]
  },
  {
   "cell_type": "markdown",
   "id": "a9840ccc",
   "metadata": {},
   "source": [
    "# Hyperparameter Tuning with Grid Search\n",
    "\n",
    "We use a custom grid search implementation for hyperparameter optimization.\n"
   ]
  },
  {
   "cell_type": "code",
   "execution_count": 42,
   "id": "032d4807",
   "metadata": {},
   "outputs": [
    {
     "name": "stderr",
     "output_type": "stream",
     "text": [
      "[I 2025-05-20 09:07:46,990] A new study created in memory with name: no-name-9b35f040-4832-45b0-b8a5-53aff04b93b6\n"
     ]
    },
    {
     "name": "stderr",
     "output_type": "stream",
     "text": [
      "[I 2025-05-20 09:08:06,248] Trial 0 finished with value: 5.708085950215658 and parameters: {'learning_rate': 0.00023771610800531762, 'hidden_size': 32, 'dropout_rate': 0.6728026463363816, 'batch_size': 16, 'weight_decay': 0.001378518381342817, 'num_layers': 2}. Best is trial 0 with value: 5.708085950215658.\n",
      "[I 2025-05-20 09:08:11,746] Trial 1 finished with value: 5.8329766392707825 and parameters: {'learning_rate': 7.371030088959175e-05, 'hidden_size': 16, 'dropout_rate': 0.4619771441963142, 'batch_size': 64, 'weight_decay': 0.0004917788601709243, 'num_layers': 2}. Best is trial 0 with value: 5.708085950215658.\n",
      "[I 2025-05-20 09:08:11,746] Trial 1 finished with value: 5.8329766392707825 and parameters: {'learning_rate': 7.371030088959175e-05, 'hidden_size': 16, 'dropout_rate': 0.4619771441963142, 'batch_size': 64, 'weight_decay': 0.0004917788601709243, 'num_layers': 2}. Best is trial 0 with value: 5.708085950215658.\n",
      "[I 2025-05-20 09:08:16,874] Trial 2 finished with value: 5.3703243136405945 and parameters: {'learning_rate': 0.00242312761650568, 'hidden_size': 8, 'dropout_rate': 0.46333576529768783, 'batch_size': 64, 'weight_decay': 0.0037052371758763466, 'num_layers': 2}. Best is trial 2 with value: 5.3703243136405945.\n",
      "[I 2025-05-20 09:08:16,874] Trial 2 finished with value: 5.3703243136405945 and parameters: {'learning_rate': 0.00242312761650568, 'hidden_size': 8, 'dropout_rate': 0.46333576529768783, 'batch_size': 64, 'weight_decay': 0.0037052371758763466, 'num_layers': 2}. Best is trial 2 with value: 5.3703243136405945.\n",
      "[I 2025-05-20 09:08:21,883] Trial 3 finished with value: 5.705102860927582 and parameters: {'learning_rate': 0.021896784905708844, 'hidden_size': 8, 'dropout_rate': 0.5422985858077526, 'batch_size': 64, 'weight_decay': 0.007298902353582617, 'num_layers': 2}. Best is trial 2 with value: 5.3703243136405945.\n",
      "[I 2025-05-20 09:08:21,883] Trial 3 finished with value: 5.705102860927582 and parameters: {'learning_rate': 0.021896784905708844, 'hidden_size': 8, 'dropout_rate': 0.5422985858077526, 'batch_size': 64, 'weight_decay': 0.007298902353582617, 'num_layers': 2}. Best is trial 2 with value: 5.3703243136405945.\n",
      "[I 2025-05-20 09:08:25,502] Trial 4 finished with value: 5.867898523807526 and parameters: {'learning_rate': 4.66997811412762e-05, 'hidden_size': 8, 'dropout_rate': 0.10684225293260774, 'batch_size': 64, 'weight_decay': 0.00033127627599227475, 'num_layers': 1}. Best is trial 2 with value: 5.3703243136405945.\n",
      "[I 2025-05-20 09:08:25,502] Trial 4 finished with value: 5.867898523807526 and parameters: {'learning_rate': 4.66997811412762e-05, 'hidden_size': 8, 'dropout_rate': 0.10684225293260774, 'batch_size': 64, 'weight_decay': 0.00033127627599227475, 'num_layers': 1}. Best is trial 2 with value: 5.3703243136405945.\n",
      "[I 2025-05-20 09:08:44,931] Trial 5 finished with value: 5.352839501698812 and parameters: {'learning_rate': 0.0023398972789865813, 'hidden_size': 16, 'dropout_rate': 0.589816621203113, 'batch_size': 16, 'weight_decay': 0.0022203421336231244, 'num_layers': 2}. Best is trial 5 with value: 5.352839501698812.\n",
      "[I 2025-05-20 09:08:44,931] Trial 5 finished with value: 5.352839501698812 and parameters: {'learning_rate': 0.0023398972789865813, 'hidden_size': 16, 'dropout_rate': 0.589816621203113, 'batch_size': 16, 'weight_decay': 0.0022203421336231244, 'num_layers': 2}. Best is trial 5 with value: 5.352839501698812.\n",
      "[I 2025-05-20 09:08:45,379] Trial 6 pruned. \n",
      "[I 2025-05-20 09:08:45,379] Trial 6 pruned. \n",
      "[I 2025-05-20 09:09:22,154] Trial 7 finished with value: 5.71655044555664 and parameters: {'learning_rate': 0.015804673049469753, 'hidden_size': 16, 'dropout_rate': 0.34643368035140276, 'batch_size': 8, 'weight_decay': 0.0062333691822038465, 'num_layers': 2}. Best is trial 5 with value: 5.352839501698812.\n",
      "[I 2025-05-20 09:09:22,154] Trial 7 finished with value: 5.71655044555664 and parameters: {'learning_rate': 0.015804673049469753, 'hidden_size': 16, 'dropout_rate': 0.34643368035140276, 'batch_size': 8, 'weight_decay': 0.0062333691822038465, 'num_layers': 2}. Best is trial 5 with value: 5.352839501698812.\n",
      "[I 2025-05-20 09:09:23,394] Trial 8 pruned. \n",
      "[I 2025-05-20 09:09:23,394] Trial 8 pruned. \n",
      "[I 2025-05-20 09:09:26,948] Trial 9 pruned. \n",
      "[I 2025-05-20 09:09:26,948] Trial 9 pruned. \n",
      "[I 2025-05-20 09:09:27,643] Trial 10 pruned. \n",
      "[I 2025-05-20 09:09:27,643] Trial 10 pruned. \n",
      "[I 2025-05-20 09:10:06,060] Trial 11 finished with value: 5.35933780670166 and parameters: {'learning_rate': 0.0031760740472683755, 'hidden_size': 8, 'dropout_rate': 0.4940127429919735, 'batch_size': 8, 'weight_decay': 0.001651439272514696, 'num_layers': 2}. Best is trial 5 with value: 5.352839501698812.\n",
      "[I 2025-05-20 09:10:06,060] Trial 11 finished with value: 5.35933780670166 and parameters: {'learning_rate': 0.0031760740472683755, 'hidden_size': 8, 'dropout_rate': 0.4940127429919735, 'batch_size': 8, 'weight_decay': 0.001651439272514696, 'num_layers': 2}. Best is trial 5 with value: 5.352839501698812.\n",
      "[I 2025-05-20 09:10:09,445] Trial 12 pruned. \n",
      "[I 2025-05-20 09:10:09,445] Trial 12 pruned. \n",
      "[I 2025-05-20 09:10:12,940] Trial 13 pruned. \n",
      "[I 2025-05-20 09:10:12,940] Trial 13 pruned. \n",
      "[I 2025-05-20 09:10:13,916] Trial 14 pruned. \n",
      "[I 2025-05-20 09:10:13,916] Trial 14 pruned. \n",
      "[I 2025-05-20 09:10:17,114] Trial 15 pruned. \n",
      "[I 2025-05-20 09:10:17,114] Trial 15 pruned. \n",
      "[I 2025-05-20 09:10:35,418] Trial 16 finished with value: 5.3941963831583655 and parameters: {'learning_rate': 0.008549855205133334, 'hidden_size': 16, 'dropout_rate': 0.3483372350735708, 'batch_size': 16, 'weight_decay': 5.216572191294432e-05, 'num_layers': 2}. Best is trial 5 with value: 5.352839501698812.\n",
      "[I 2025-05-20 09:10:35,418] Trial 16 finished with value: 5.3941963831583655 and parameters: {'learning_rate': 0.008549855205133334, 'hidden_size': 16, 'dropout_rate': 0.3483372350735708, 'batch_size': 16, 'weight_decay': 5.216572191294432e-05, 'num_layers': 2}. Best is trial 5 with value: 5.352839501698812.\n",
      "[I 2025-05-20 09:10:37,687] Trial 17 pruned. \n",
      "[I 2025-05-20 09:10:37,687] Trial 17 pruned. \n",
      "[I 2025-05-20 09:10:39,463] Trial 18 pruned. \n",
      "[I 2025-05-20 09:10:39,463] Trial 18 pruned. \n",
      "[I 2025-05-20 09:10:40,401] Trial 19 pruned. \n",
      "[I 2025-05-20 09:10:40,401] Trial 19 pruned. \n",
      "[I 2025-05-20 09:10:44,025] Trial 20 pruned. \n",
      "[I 2025-05-20 09:10:44,025] Trial 20 pruned. \n",
      "[I 2025-05-20 09:10:44,564] Trial 21 pruned. \n",
      "[I 2025-05-20 09:10:44,564] Trial 21 pruned. \n",
      "[I 2025-05-20 09:10:45,091] Trial 22 pruned. \n",
      "[I 2025-05-20 09:10:45,091] Trial 22 pruned. \n",
      "[I 2025-05-20 09:10:48,366] Trial 23 pruned. \n",
      "[I 2025-05-20 09:10:48,366] Trial 23 pruned. \n",
      "[I 2025-05-20 09:10:55,439] Trial 24 pruned. \n",
      "[I 2025-05-20 09:10:55,439] Trial 24 pruned. \n",
      "[I 2025-05-20 09:10:58,917] Trial 25 pruned. \n",
      "[I 2025-05-20 09:10:58,917] Trial 25 pruned. \n",
      "[I 2025-05-20 09:11:00,718] Trial 26 pruned. \n",
      "[I 2025-05-20 09:11:00,718] Trial 26 pruned. \n",
      "[I 2025-05-20 09:11:02,002] Trial 27 pruned. \n",
      "[I 2025-05-20 09:11:02,002] Trial 27 pruned. \n",
      "[I 2025-05-20 09:11:02,717] Trial 28 pruned. \n",
      "[I 2025-05-20 09:11:02,717] Trial 28 pruned. \n",
      "[I 2025-05-20 09:11:05,010] Trial 29 pruned. \n",
      "[I 2025-05-20 09:11:05,010] Trial 29 pruned. \n",
      "[I 2025-05-20 09:11:08,658] Trial 30 pruned. \n",
      "[I 2025-05-20 09:11:08,658] Trial 30 pruned. \n",
      "[I 2025-05-20 09:11:10,869] Trial 31 pruned. \n",
      "[I 2025-05-20 09:11:10,869] Trial 31 pruned. \n",
      "[I 2025-05-20 09:11:12,965] Trial 32 pruned. \n",
      "[I 2025-05-20 09:11:12,965] Trial 32 pruned. \n",
      "[I 2025-05-20 09:11:15,259] Trial 33 pruned. \n",
      "[I 2025-05-20 09:11:15,259] Trial 33 pruned. \n",
      "[I 2025-05-20 09:11:17,279] Trial 34 pruned. \n",
      "[I 2025-05-20 09:11:17,279] Trial 34 pruned. \n",
      "[I 2025-05-20 09:11:17,840] Trial 35 pruned. \n",
      "[I 2025-05-20 09:11:17,840] Trial 35 pruned. \n",
      "[I 2025-05-20 09:11:23,001] Trial 36 pruned. \n",
      "[I 2025-05-20 09:11:23,001] Trial 36 pruned. \n",
      "[I 2025-05-20 09:11:23,405] Trial 37 pruned. \n",
      "[I 2025-05-20 09:11:23,405] Trial 37 pruned. \n",
      "[I 2025-05-20 09:11:25,395] Trial 38 pruned. \n",
      "[I 2025-05-20 09:11:25,395] Trial 38 pruned. \n",
      "[I 2025-05-20 09:11:25,991] Trial 39 pruned. \n",
      "[I 2025-05-20 09:11:25,991] Trial 39 pruned. \n",
      "[I 2025-05-20 09:11:28,586] Trial 40 pruned. \n",
      "[I 2025-05-20 09:11:28,586] Trial 40 pruned. \n",
      "[I 2025-05-20 09:11:30,301] Trial 41 pruned. \n",
      "[I 2025-05-20 09:11:30,301] Trial 41 pruned. \n",
      "[I 2025-05-20 09:11:35,391] Trial 42 finished with value: 5.342716872692108 and parameters: {'learning_rate': 0.010862593597486508, 'hidden_size': 8, 'dropout_rate': 0.40993956104372564, 'batch_size': 64, 'weight_decay': 0.005456816535046522, 'num_layers': 2}. Best is trial 42 with value: 5.342716872692108.\n",
      "[I 2025-05-20 09:11:35,391] Trial 42 finished with value: 5.342716872692108 and parameters: {'learning_rate': 0.010862593597486508, 'hidden_size': 8, 'dropout_rate': 0.40993956104372564, 'batch_size': 64, 'weight_decay': 0.005456816535046522, 'num_layers': 2}. Best is trial 42 with value: 5.342716872692108.\n",
      "[I 2025-05-20 09:11:40,769] Trial 43 finished with value: 5.332345366477966 and parameters: {'learning_rate': 0.009998266503624465, 'hidden_size': 8, 'dropout_rate': 0.3962568036227246, 'batch_size': 64, 'weight_decay': 0.0024768589913846195, 'num_layers': 2}. Best is trial 43 with value: 5.332345366477966.\n",
      "[I 2025-05-20 09:11:40,769] Trial 43 finished with value: 5.332345366477966 and parameters: {'learning_rate': 0.009998266503624465, 'hidden_size': 8, 'dropout_rate': 0.3962568036227246, 'batch_size': 64, 'weight_decay': 0.0024768589913846195, 'num_layers': 2}. Best is trial 43 with value: 5.332345366477966.\n",
      "[I 2025-05-20 09:11:41,436] Trial 44 pruned. \n",
      "[I 2025-05-20 09:11:41,436] Trial 44 pruned. \n",
      "[I 2025-05-20 09:11:43,485] Trial 45 pruned. \n",
      "[I 2025-05-20 09:11:43,485] Trial 45 pruned. \n",
      "[I 2025-05-20 09:11:45,256] Trial 46 pruned. \n",
      "[I 2025-05-20 09:11:45,256] Trial 46 pruned. \n",
      "[I 2025-05-20 09:11:45,796] Trial 47 pruned. \n",
      "[I 2025-05-20 09:11:45,796] Trial 47 pruned. \n",
      "[I 2025-05-20 09:11:46,343] Trial 48 pruned. \n",
      "[I 2025-05-20 09:11:46,343] Trial 48 pruned. \n",
      "[I 2025-05-20 09:11:49,445] Trial 49 pruned. \n",
      "[I 2025-05-20 09:11:49,445] Trial 49 pruned. \n",
      "[I 2025-05-20 09:11:59,855] Trial 50 pruned. \n",
      "[I 2025-05-20 09:11:59,855] Trial 50 pruned. \n",
      "[I 2025-05-20 09:12:00,426] Trial 51 pruned. \n",
      "[I 2025-05-20 09:12:00,426] Trial 51 pruned. \n",
      "[I 2025-05-20 09:12:18,502] Trial 52 finished with value: 5.247752285003662 and parameters: {'learning_rate': 0.0036202270481568185, 'hidden_size': 8, 'dropout_rate': 0.2419011065969457, 'batch_size': 16, 'weight_decay': 0.0012694193380977969, 'num_layers': 2}. Best is trial 52 with value: 5.247752285003662.\n",
      "[I 2025-05-20 09:12:18,502] Trial 52 finished with value: 5.247752285003662 and parameters: {'learning_rate': 0.0036202270481568185, 'hidden_size': 8, 'dropout_rate': 0.2419011065969457, 'batch_size': 16, 'weight_decay': 0.0012694193380977969, 'num_layers': 2}. Best is trial 52 with value: 5.247752285003662.\n",
      "[I 2025-05-20 09:12:19,354] Trial 53 pruned. \n",
      "[I 2025-05-20 09:12:19,354] Trial 53 pruned. \n",
      "[I 2025-05-20 09:12:22,330] Trial 54 pruned. \n",
      "[I 2025-05-20 09:12:22,330] Trial 54 pruned. \n",
      "[I 2025-05-20 09:12:58,415] Trial 55 finished with value: 4.989979084332784 and parameters: {'learning_rate': 0.0020179048964028695, 'hidden_size': 8, 'dropout_rate': 0.11093475734047098, 'batch_size': 8, 'weight_decay': 0.0030187977652495154, 'num_layers': 2}. Best is trial 55 with value: 4.989979084332784.\n",
      "[I 2025-05-20 09:12:58,415] Trial 55 finished with value: 4.989979084332784 and parameters: {'learning_rate': 0.0020179048964028695, 'hidden_size': 8, 'dropout_rate': 0.11093475734047098, 'batch_size': 8, 'weight_decay': 0.0030187977652495154, 'num_layers': 2}. Best is trial 55 with value: 4.989979084332784.\n",
      "[I 2025-05-20 09:13:01,850] Trial 56 pruned. \n",
      "[I 2025-05-20 09:13:01,850] Trial 56 pruned. \n",
      "[I 2025-05-20 09:13:05,508] Trial 57 pruned. \n",
      "[I 2025-05-20 09:13:05,508] Trial 57 pruned. \n",
      "[I 2025-05-20 09:13:09,263] Trial 58 pruned. \n",
      "[I 2025-05-20 09:13:09,263] Trial 58 pruned. \n",
      "[I 2025-05-20 09:13:26,165] Trial 59 pruned. \n",
      "[I 2025-05-20 09:13:26,165] Trial 59 pruned. \n",
      "[I 2025-05-20 09:13:37,061] Trial 60 finished with value: 5.390413761138916 and parameters: {'learning_rate': 0.02259921418575644, 'hidden_size': 8, 'dropout_rate': 0.19498250838149989, 'batch_size': 32, 'weight_decay': 0.0018864519825877227, 'num_layers': 1}. Best is trial 55 with value: 4.989979084332784.\n",
      "[I 2025-05-20 09:13:37,061] Trial 60 finished with value: 5.390413761138916 and parameters: {'learning_rate': 0.02259921418575644, 'hidden_size': 8, 'dropout_rate': 0.19498250838149989, 'batch_size': 32, 'weight_decay': 0.0018864519825877227, 'num_layers': 1}. Best is trial 55 with value: 4.989979084332784.\n",
      "[I 2025-05-20 09:13:40,819] Trial 61 pruned. \n",
      "[I 2025-05-20 09:13:40,819] Trial 61 pruned. \n",
      "[I 2025-05-20 09:13:42,773] Trial 62 pruned. \n",
      "[I 2025-05-20 09:13:42,773] Trial 62 pruned. \n",
      "[I 2025-05-20 09:13:44,411] Trial 63 pruned. \n",
      "[I 2025-05-20 09:13:44,411] Trial 63 pruned. \n",
      "[I 2025-05-20 09:13:48,160] Trial 64 pruned. \n",
      "[I 2025-05-20 09:13:48,160] Trial 64 pruned. \n",
      "[I 2025-05-20 09:14:06,080] Trial 65 finished with value: 5.3708313465118405 and parameters: {'learning_rate': 0.004907452604623943, 'hidden_size': 8, 'dropout_rate': 0.18354014013495462, 'batch_size': 16, 'weight_decay': 0.007527151915629123, 'num_layers': 2}. Best is trial 55 with value: 4.989979084332784.\n",
      "[I 2025-05-20 09:14:06,080] Trial 65 finished with value: 5.3708313465118405 and parameters: {'learning_rate': 0.004907452604623943, 'hidden_size': 8, 'dropout_rate': 0.18354014013495462, 'batch_size': 16, 'weight_decay': 0.007527151915629123, 'num_layers': 2}. Best is trial 55 with value: 4.989979084332784.\n",
      "[I 2025-05-20 09:14:06,635] Trial 66 pruned. \n",
      "[I 2025-05-20 09:14:06,635] Trial 66 pruned. \n",
      "[I 2025-05-20 09:14:07,612] Trial 67 pruned. \n",
      "[I 2025-05-20 09:14:07,612] Trial 67 pruned. \n",
      "[I 2025-05-20 09:14:10,052] Trial 68 pruned. \n",
      "[I 2025-05-20 09:14:10,052] Trial 68 pruned. \n",
      "[I 2025-05-20 09:14:15,848] Trial 69 pruned. \n",
      "[I 2025-05-20 09:14:15,848] Trial 69 pruned. \n",
      "[I 2025-05-20 09:14:16,557] Trial 70 pruned. \n",
      "[I 2025-05-20 09:14:16,557] Trial 70 pruned. \n",
      "[I 2025-05-20 09:14:34,643] Trial 71 finished with value: 5.337797753016154 and parameters: {'learning_rate': 0.004857767195314639, 'hidden_size': 8, 'dropout_rate': 0.1713444734330639, 'batch_size': 16, 'weight_decay': 0.00815567023218325, 'num_layers': 2}. Best is trial 55 with value: 4.989979084332784.\n",
      "[I 2025-05-20 09:14:34,643] Trial 71 finished with value: 5.337797753016154 and parameters: {'learning_rate': 0.004857767195314639, 'hidden_size': 8, 'dropout_rate': 0.1713444734330639, 'batch_size': 16, 'weight_decay': 0.00815567023218325, 'num_layers': 2}. Best is trial 55 with value: 4.989979084332784.\n",
      "[I 2025-05-20 09:14:39,981] Trial 72 pruned. \n",
      "[I 2025-05-20 09:14:39,981] Trial 72 pruned. \n",
      "[I 2025-05-20 09:14:58,288] Trial 73 finished with value: 5.244164498647054 and parameters: {'learning_rate': 0.0028962530619983883, 'hidden_size': 8, 'dropout_rate': 0.11061151107650256, 'batch_size': 16, 'weight_decay': 0.0069286739143534755, 'num_layers': 2}. Best is trial 55 with value: 4.989979084332784.\n",
      "[I 2025-05-20 09:14:58,288] Trial 73 finished with value: 5.244164498647054 and parameters: {'learning_rate': 0.0028962530619983883, 'hidden_size': 8, 'dropout_rate': 0.11061151107650256, 'batch_size': 16, 'weight_decay': 0.0069286739143534755, 'num_layers': 2}. Best is trial 55 with value: 4.989979084332784.\n",
      "[I 2025-05-20 09:15:22,600] Trial 74 finished with value: 5.269113397598266 and parameters: {'learning_rate': 0.002843501361673493, 'hidden_size': 8, 'dropout_rate': 0.12031037963502675, 'batch_size': 16, 'weight_decay': 0.006598226247856012, 'num_layers': 2}. Best is trial 55 with value: 4.989979084332784.\n",
      "[I 2025-05-20 09:15:22,600] Trial 74 finished with value: 5.269113397598266 and parameters: {'learning_rate': 0.002843501361673493, 'hidden_size': 8, 'dropout_rate': 0.12031037963502675, 'batch_size': 16, 'weight_decay': 0.006598226247856012, 'num_layers': 2}. Best is trial 55 with value: 4.989979084332784.\n",
      "[I 2025-05-20 09:15:26,065] Trial 75 pruned. \n",
      "[I 2025-05-20 09:15:26,065] Trial 75 pruned. \n",
      "[I 2025-05-20 09:15:44,853] Trial 76 finished with value: 5.329104312260946 and parameters: {'learning_rate': 0.002698997679146742, 'hidden_size': 8, 'dropout_rate': 0.12644915043588145, 'batch_size': 16, 'weight_decay': 0.009906725099883796, 'num_layers': 2}. Best is trial 55 with value: 4.989979084332784.\n",
      "[I 2025-05-20 09:15:44,853] Trial 76 finished with value: 5.329104312260946 and parameters: {'learning_rate': 0.002698997679146742, 'hidden_size': 8, 'dropout_rate': 0.12644915043588145, 'batch_size': 16, 'weight_decay': 0.009906725099883796, 'num_layers': 2}. Best is trial 55 with value: 4.989979084332784.\n",
      "[I 2025-05-20 09:15:48,729] Trial 77 pruned. \n",
      "[I 2025-05-20 09:15:48,729] Trial 77 pruned. \n",
      "[I 2025-05-20 09:15:50,641] Trial 78 pruned. \n",
      "[I 2025-05-20 09:15:50,641] Trial 78 pruned. \n",
      "[I 2025-05-20 09:15:52,718] Trial 79 pruned. \n",
      "[I 2025-05-20 09:15:52,718] Trial 79 pruned. \n",
      "[I 2025-05-20 09:15:54,720] Trial 80 pruned. \n",
      "[I 2025-05-20 09:15:54,720] Trial 80 pruned. \n",
      "[I 2025-05-20 09:15:56,608] Trial 81 pruned. \n",
      "[I 2025-05-20 09:15:56,608] Trial 81 pruned. \n",
      "[I 2025-05-20 09:15:58,368] Trial 82 pruned. \n",
      "[I 2025-05-20 09:15:58,368] Trial 82 pruned. \n",
      "[I 2025-05-20 09:16:15,229] Trial 83 finished with value: 4.819098615646363 and parameters: {'learning_rate': 0.002176807902232767, 'hidden_size': 16, 'dropout_rate': 0.18405658369189018, 'batch_size': 16, 'weight_decay': 0.003201863144843352, 'num_layers': 2}. Best is trial 83 with value: 4.819098615646363.\n",
      "[I 2025-05-20 09:16:15,229] Trial 83 finished with value: 4.819098615646363 and parameters: {'learning_rate': 0.002176807902232767, 'hidden_size': 16, 'dropout_rate': 0.18405658369189018, 'batch_size': 16, 'weight_decay': 0.003201863144843352, 'num_layers': 2}. Best is trial 83 with value: 4.819098615646363.\n",
      "[I 2025-05-20 09:16:17,065] Trial 84 pruned. \n",
      "[I 2025-05-20 09:16:17,065] Trial 84 pruned. \n",
      "[I 2025-05-20 09:16:20,659] Trial 85 pruned. \n",
      "[I 2025-05-20 09:16:20,659] Trial 85 pruned. \n",
      "[I 2025-05-20 09:16:24,048] Trial 86 pruned. \n",
      "[I 2025-05-20 09:16:24,048] Trial 86 pruned. \n",
      "[I 2025-05-20 09:16:25,741] Trial 87 pruned. \n",
      "[I 2025-05-20 09:16:25,741] Trial 87 pruned. \n",
      "[I 2025-05-20 09:16:27,492] Trial 88 pruned. \n",
      "[I 2025-05-20 09:16:27,492] Trial 88 pruned. \n",
      "[I 2025-05-20 09:16:29,208] Trial 89 pruned. \n",
      "[I 2025-05-20 09:16:29,208] Trial 89 pruned. \n",
      "[I 2025-05-20 09:16:47,395] Trial 90 finished with value: 5.2832207679748535 and parameters: {'learning_rate': 0.002437954873303022, 'hidden_size': 8, 'dropout_rate': 0.13445668101615638, 'batch_size': 16, 'weight_decay': 0.00772141184238021, 'num_layers': 2}. Best is trial 83 with value: 4.819098615646363.\n",
      "[I 2025-05-20 09:16:47,395] Trial 90 finished with value: 5.2832207679748535 and parameters: {'learning_rate': 0.002437954873303022, 'hidden_size': 8, 'dropout_rate': 0.13445668101615638, 'batch_size': 16, 'weight_decay': 0.00772141184238021, 'num_layers': 2}. Best is trial 83 with value: 4.819098615646363.\n",
      "[I 2025-05-20 09:16:50,836] Trial 91 pruned. \n",
      "[I 2025-05-20 09:16:50,836] Trial 91 pruned. \n",
      "[I 2025-05-20 09:16:52,551] Trial 92 pruned. \n",
      "[I 2025-05-20 09:16:52,551] Trial 92 pruned. \n",
      "[I 2025-05-20 09:17:10,499] Trial 93 finished with value: 5.138931624094645 and parameters: {'learning_rate': 0.0032419368445533196, 'hidden_size': 8, 'dropout_rate': 0.11788151855522477, 'batch_size': 16, 'weight_decay': 0.005821176395904457, 'num_layers': 2}. Best is trial 83 with value: 4.819098615646363.\n",
      "[I 2025-05-20 09:17:10,499] Trial 93 finished with value: 5.138931624094645 and parameters: {'learning_rate': 0.0032419368445533196, 'hidden_size': 8, 'dropout_rate': 0.11788151855522477, 'batch_size': 16, 'weight_decay': 0.005821176395904457, 'num_layers': 2}. Best is trial 83 with value: 4.819098615646363.\n",
      "[I 2025-05-20 09:17:12,274] Trial 94 pruned. \n",
      "[I 2025-05-20 09:17:12,274] Trial 94 pruned. \n",
      "[I 2025-05-20 09:17:14,247] Trial 95 pruned. \n",
      "[I 2025-05-20 09:17:14,247] Trial 95 pruned. \n",
      "[I 2025-05-20 09:17:16,367] Trial 96 pruned. \n",
      "[I 2025-05-20 09:17:16,367] Trial 96 pruned. \n",
      "[I 2025-05-20 09:17:18,323] Trial 97 pruned. \n",
      "[I 2025-05-20 09:17:18,323] Trial 97 pruned. \n",
      "[I 2025-05-20 09:17:20,133] Trial 98 pruned. \n",
      "[I 2025-05-20 09:17:20,133] Trial 98 pruned. \n",
      "[I 2025-05-20 09:17:22,132] Trial 99 pruned. \n",
      "[I 2025-05-20 09:17:22,132] Trial 99 pruned. \n"
     ]
    },
    {
     "name": "stdout",
     "output_type": "stream",
     "text": [
      "Best hyperparameters: {'learning_rate': 0.002176807902232767, 'hidden_size': 16, 'dropout_rate': 0.18405658369189018, 'batch_size': 16, 'weight_decay': 0.003201863144843352, 'num_layers': 2}\n",
      "Final best parameters: {'learning_rate': 0.002176807902232767, 'hidden_size': 16, 'dropout_rate': 0.18405658369189018, 'batch_size': 16, 'weight_decay': 0.003201863144843352, 'num_layers': 2}\n"
     ]
    }
   ],
   "source": [
    "# Import Optuna for hyperparameter optimization\n",
    "import optuna\n",
    "import numpy as np\n",
    "\n",
    "# Define the objective function for Optuna\n",
    "def objective(trial):\n",
    "    # Define the hyperparameter search space\n",
    "    learning_rate = trial.suggest_float('learning_rate', 1e-5, 1e-1, log=True)  # Updated from suggest_loguniform\n",
    "    hidden_size = trial.suggest_categorical('hidden_size', [8, 16, 32])\n",
    "    dropout_rate = trial.suggest_float('dropout_rate', 0.1, 0.8)  # Updated from suggest_uniform\n",
    "    batch_size = trial.suggest_categorical('batch_size', [8, 16, 32, 64])\n",
    "    weight_decay = trial.suggest_float('weight_decay', 1e-5, 1e-2, log=True)  # Updated from suggest_loguniform\n",
    "    num_layers = trial.suggest_int('num_layers', 1, 2)\n",
    "\n",
    "    # Create the model with the sampled hyperparameters\n",
    "    model = BiLSTM(input_size, hidden_size, output_size, num_layers=num_layers, dropout_rate=dropout_rate).to(device)\n",
    "\n",
    "    # Define the loss function and optimizer\n",
    "    criterion = nn.CrossEntropyLoss(weight=class_weights)\n",
    "    optimizer = optim.Adam(model.parameters(), lr=learning_rate, weight_decay=weight_decay)\n",
    "\n",
    "    # Training loop (simplified for Optuna)\n",
    "    train_loader = DataLoader(train_dataset, batch_size=batch_size, shuffle=True)\n",
    "    val_loader = DataLoader(val_dataset, batch_size=batch_size, shuffle=False)\n",
    "\n",
    "    # Track stats\n",
    "    train_losses = []\n",
    "    val_losses = []\n",
    "    val_count = 0\n",
    "\n",
    "    for epoch in range(10):  # Limit epochs for faster optimization\n",
    "        # Training phase\n",
    "        model.train()\n",
    "        train_loss = 0.0\n",
    "        train_count = 0\n",
    "\n",
    "        for batch_idx, (inputs, targets, lengths) in enumerate(train_loader):\n",
    "            # Skip batches with empty or invalid lengths\n",
    "            if lengths.numel() == 0 or lengths.dim() != 1:\n",
    "                continue\n",
    "\n",
    "            inputs, targets, lengths = inputs.to(device), targets.to(device), lengths.to(device)\n",
    "            optimizer.zero_grad()\n",
    "\n",
    "            try:\n",
    "                outputs = model(inputs, lengths)\n",
    "                loss = criterion(outputs, targets)\n",
    "                loss.backward()\n",
    "                optimizer.step()\n",
    "                train_loss += loss.item()\n",
    "                train_count += 1\n",
    "            except Exception as e:\n",
    "                continue\n",
    "\n",
    "        if train_count > 0:\n",
    "            train_loss /= train_count\n",
    "            train_losses.append(train_loss)\n",
    "\n",
    "        # Validation phase\n",
    "        model.eval()\n",
    "        val_loss = 0.0\n",
    "        val_count = 0\n",
    "\n",
    "        with torch.no_grad():\n",
    "            for batch_idx, (inputs, targets, lengths) in enumerate(val_loader):\n",
    "                # Skip batches with empty or invalid lengths\n",
    "                if lengths.numel() == 0 or lengths.dim() != 1:\n",
    "                    continue\n",
    "\n",
    "                inputs, targets, lengths = inputs.to(device), targets.to(device), lengths.to(device)\n",
    "\n",
    "                try:\n",
    "                    outputs = model(inputs, lengths)\n",
    "                    loss = criterion(outputs, targets)\n",
    "                    val_loss += loss.item()\n",
    "                    val_count += 1\n",
    "                except Exception as e:\n",
    "                    continue\n",
    "\n",
    "        if val_count > 0:\n",
    "            val_loss /= val_count\n",
    "            val_losses.append(val_loss)\n",
    "        else:\n",
    "            # Return a high loss if no valid batches\n",
    "            return 999.0\n",
    "\n",
    "        # Report validation loss to Optuna\n",
    "        trial.report(val_loss, epoch)\n",
    "\n",
    "        # Handle pruning\n",
    "        if trial.should_prune():\n",
    "            raise optuna.exceptions.TrialPruned()\n",
    "\n",
    "    if val_losses:\n",
    "        return val_losses[-1]  # Return the last validation loss\n",
    "    else:\n",
    "        return 999.0  # Return a high loss if no valid validation happened\n",
    "\n",
    "# Run Optuna optimization\n",
    "study = optuna.create_study(direction='minimize')\n",
    "study.optimize(objective, n_trials=100, timeout=3600)  # Reduced to 10 trials for debugging\n",
    "\n",
    "# Extract the best hyperparameters\n",
    "best_params = study.best_params\n",
    "print(\"Best hyperparameters:\", best_params)\n",
    "\n",
    "# Ensure all required parameters are stored for model training\n",
    "best_params = {\n",
    "    'learning_rate': best_params['learning_rate'],\n",
    "    'hidden_size': best_params['hidden_size'],\n",
    "    'dropout_rate': best_params['dropout_rate'],\n",
    "    'batch_size': best_params['batch_size'],\n",
    "    'weight_decay': best_params['weight_decay'],\n",
    "    'num_layers': best_params['num_layers']\n",
    "}\n",
    "\n",
    "print(\"Final best parameters:\", best_params)"
   ]
  },
  {
   "cell_type": "markdown",
   "id": "17410aea",
   "metadata": {},
   "source": [
    "# Model Training with K-Fold Cross-Validation\n",
    "\n",
    "Train the model using k-fold cross-validation to better evaluate its performance. This section also switches to an RNN-based architecture and ensures proper batch normalization.\n"
   ]
  },
  {
   "cell_type": "code",
   "execution_count": 45,
   "id": "71b730f4",
   "metadata": {},
   "outputs": [
    {
     "name": "stdout",
     "output_type": "stream",
     "text": [
      "Training with best hyperparameters:\n",
      "  Learning rate: 0.002176807902232767\n",
      "  Hidden size: 16\n",
      "  Dropout rate: 0.18405658369189018\n",
      "  Batch size: 16\n",
      "  Weight decay: 0.003201863144843352\n",
      "  Number of layers: 2\n",
      "Fold 1/3\n",
      "Epoch 1/50\r"
     ]
    },
    {
     "data": {
      "application/vnd.jupyter.widget-view+json": {
       "model_id": "c99cd8f94323439795ac74a79d16b1d8",
       "version_major": 2,
       "version_minor": 0
      },
      "text/plain": [
       "Training:   0%|          | 0/94 [00:00<?, ?it/s]"
      ]
     },
     "metadata": {},
     "output_type": "display_data"
    },
    {
     "data": {
      "application/vnd.jupyter.widget-view+json": {
       "model_id": "8ddc63f72a0b41049e4e07065bd20753",
       "version_major": 2,
       "version_minor": 0
      },
      "text/plain": [
       "Validation:   0%|          | 0/47 [00:00<?, ?it/s]"
      ]
     },
     "metadata": {},
     "output_type": "display_data"
    },
    {
     "name": "stdout",
     "output_type": "stream",
     "text": [
      "Epoch 1/50, Train Loss: 5.9605, Val Loss: 5.7570\n",
      "Model checkpoint saved!\n",
      "Epoch 2/50\r"
     ]
    },
    {
     "data": {
      "application/vnd.jupyter.widget-view+json": {
       "model_id": "468035b3e63440f7845effddb49df902",
       "version_major": 2,
       "version_minor": 0
      },
      "text/plain": [
       "Training:   0%|          | 0/94 [00:00<?, ?it/s]"
      ]
     },
     "metadata": {},
     "output_type": "display_data"
    },
    {
     "data": {
      "application/vnd.jupyter.widget-view+json": {
       "model_id": "3a460c5fa9334748ba6ff9ac90bad62d",
       "version_major": 2,
       "version_minor": 0
      },
      "text/plain": [
       "Validation:   0%|          | 0/47 [00:00<?, ?it/s]"
      ]
     },
     "metadata": {},
     "output_type": "display_data"
    },
    {
     "name": "stdout",
     "output_type": "stream",
     "text": [
      "Epoch 2/50, Train Loss: 5.7775, Val Loss: 5.7411\n",
      "Model checkpoint saved!\n",
      "Epoch 3/50\r"
     ]
    },
    {
     "data": {
      "application/vnd.jupyter.widget-view+json": {
       "model_id": "0567bdfcdd2f4ccf8104e78a84914ce6",
       "version_major": 2,
       "version_minor": 0
      },
      "text/plain": [
       "Training:   0%|          | 0/94 [00:00<?, ?it/s]"
      ]
     },
     "metadata": {},
     "output_type": "display_data"
    },
    {
     "data": {
      "application/vnd.jupyter.widget-view+json": {
       "model_id": "ce645bcdc6b54110bc980f7e8ee20b02",
       "version_major": 2,
       "version_minor": 0
      },
      "text/plain": [
       "Validation:   0%|          | 0/47 [00:00<?, ?it/s]"
      ]
     },
     "metadata": {},
     "output_type": "display_data"
    },
    {
     "name": "stdout",
     "output_type": "stream",
     "text": [
      "Epoch 3/50, Train Loss: 5.7313, Val Loss: 5.7206\n",
      "Model checkpoint saved!\n",
      "Epoch 4/50\r"
     ]
    },
    {
     "data": {
      "application/vnd.jupyter.widget-view+json": {
       "model_id": "3253c567abd44256960caa09bfa6d25e",
       "version_major": 2,
       "version_minor": 0
      },
      "text/plain": [
       "Training:   0%|          | 0/94 [00:00<?, ?it/s]"
      ]
     },
     "metadata": {},
     "output_type": "display_data"
    },
    {
     "data": {
      "application/vnd.jupyter.widget-view+json": {
       "model_id": "a51b0766ce61465fa1e78c653afb71b6",
       "version_major": 2,
       "version_minor": 0
      },
      "text/plain": [
       "Validation:   0%|          | 0/47 [00:00<?, ?it/s]"
      ]
     },
     "metadata": {},
     "output_type": "display_data"
    },
    {
     "name": "stdout",
     "output_type": "stream",
     "text": [
      "Epoch 4/50, Train Loss: 5.6235, Val Loss: 5.5738\n",
      "Model checkpoint saved!\n",
      "Epoch 5/50\r"
     ]
    },
    {
     "data": {
      "application/vnd.jupyter.widget-view+json": {
       "model_id": "c1fe721d79a74fa8ba2e6f0d6fe43ea5",
       "version_major": 2,
       "version_minor": 0
      },
      "text/plain": [
       "Training:   0%|          | 0/94 [00:00<?, ?it/s]"
      ]
     },
     "metadata": {},
     "output_type": "display_data"
    },
    {
     "data": {
      "application/vnd.jupyter.widget-view+json": {
       "model_id": "4c30a721c6d3490d8569a3043d0d9110",
       "version_major": 2,
       "version_minor": 0
      },
      "text/plain": [
       "Validation:   0%|          | 0/47 [00:00<?, ?it/s]"
      ]
     },
     "metadata": {},
     "output_type": "display_data"
    },
    {
     "name": "stdout",
     "output_type": "stream",
     "text": [
      "Epoch 5/50, Train Loss: 5.4537, Val Loss: 5.4344\n",
      "Model checkpoint saved!\n",
      "Epoch 6/50\r"
     ]
    },
    {
     "data": {
      "application/vnd.jupyter.widget-view+json": {
       "model_id": "c061ef30336b412ba60687de36a40823",
       "version_major": 2,
       "version_minor": 0
      },
      "text/plain": [
       "Training:   0%|          | 0/94 [00:00<?, ?it/s]"
      ]
     },
     "metadata": {},
     "output_type": "display_data"
    },
    {
     "data": {
      "application/vnd.jupyter.widget-view+json": {
       "model_id": "c8b5e397de55434ab2a27f8f777b9be2",
       "version_major": 2,
       "version_minor": 0
      },
      "text/plain": [
       "Validation:   0%|          | 0/47 [00:00<?, ?it/s]"
      ]
     },
     "metadata": {},
     "output_type": "display_data"
    },
    {
     "name": "stdout",
     "output_type": "stream",
     "text": [
      "Epoch 6/50, Train Loss: 5.3343, Val Loss: 5.4002\n",
      "Model checkpoint saved!\n",
      "Epoch 7/50\r"
     ]
    },
    {
     "data": {
      "application/vnd.jupyter.widget-view+json": {
       "model_id": "4437a68246e84dd19cd4e17dad2457cc",
       "version_major": 2,
       "version_minor": 0
      },
      "text/plain": [
       "Training:   0%|          | 0/94 [00:00<?, ?it/s]"
      ]
     },
     "metadata": {},
     "output_type": "display_data"
    },
    {
     "data": {
      "application/vnd.jupyter.widget-view+json": {
       "model_id": "460e17adbeb744b897edab5422e706ad",
       "version_major": 2,
       "version_minor": 0
      },
      "text/plain": [
       "Validation:   0%|          | 0/47 [00:00<?, ?it/s]"
      ]
     },
     "metadata": {},
     "output_type": "display_data"
    },
    {
     "name": "stdout",
     "output_type": "stream",
     "text": [
      "Epoch 7/50, Train Loss: 5.2521, Val Loss: 5.3681\n",
      "Model checkpoint saved!\n",
      "Epoch 8/50\r"
     ]
    },
    {
     "data": {
      "application/vnd.jupyter.widget-view+json": {
       "model_id": "426b564cc847469795c6c8c15f8984d0",
       "version_major": 2,
       "version_minor": 0
      },
      "text/plain": [
       "Training:   0%|          | 0/94 [00:00<?, ?it/s]"
      ]
     },
     "metadata": {},
     "output_type": "display_data"
    },
    {
     "data": {
      "application/vnd.jupyter.widget-view+json": {
       "model_id": "a73b3fdf93c647c59f1c4da3660314d2",
       "version_major": 2,
       "version_minor": 0
      },
      "text/plain": [
       "Validation:   0%|          | 0/47 [00:00<?, ?it/s]"
      ]
     },
     "metadata": {},
     "output_type": "display_data"
    },
    {
     "name": "stdout",
     "output_type": "stream",
     "text": [
      "Epoch 8/50, Train Loss: 5.1964, Val Loss: 5.3079\n",
      "Model checkpoint saved!\n",
      "Epoch 9/50\r"
     ]
    },
    {
     "data": {
      "application/vnd.jupyter.widget-view+json": {
       "model_id": "e9c3ce2951504dc289eb69ac035883ac",
       "version_major": 2,
       "version_minor": 0
      },
      "text/plain": [
       "Training:   0%|          | 0/94 [00:00<?, ?it/s]"
      ]
     },
     "metadata": {},
     "output_type": "display_data"
    },
    {
     "data": {
      "application/vnd.jupyter.widget-view+json": {
       "model_id": "cb1fa6d5128a48d5b5b63d442f247e97",
       "version_major": 2,
       "version_minor": 0
      },
      "text/plain": [
       "Validation:   0%|          | 0/47 [00:00<?, ?it/s]"
      ]
     },
     "metadata": {},
     "output_type": "display_data"
    },
    {
     "name": "stdout",
     "output_type": "stream",
     "text": [
      "Epoch 9/50, Train Loss: 5.1206, Val Loss: 5.2955\n",
      "Model checkpoint saved!\n",
      "Epoch 10/50\r"
     ]
    },
    {
     "data": {
      "application/vnd.jupyter.widget-view+json": {
       "model_id": "79eb4d3ef8aa440c849c51d92a4fff92",
       "version_major": 2,
       "version_minor": 0
      },
      "text/plain": [
       "Training:   0%|          | 0/94 [00:00<?, ?it/s]"
      ]
     },
     "metadata": {},
     "output_type": "display_data"
    },
    {
     "data": {
      "application/vnd.jupyter.widget-view+json": {
       "model_id": "ffc28b9c14cd45549b83b23e5a37ee52",
       "version_major": 2,
       "version_minor": 0
      },
      "text/plain": [
       "Validation:   0%|          | 0/47 [00:00<?, ?it/s]"
      ]
     },
     "metadata": {},
     "output_type": "display_data"
    },
    {
     "name": "stdout",
     "output_type": "stream",
     "text": [
      "Epoch 10/50, Train Loss: 5.0363, Val Loss: 5.2368\n",
      "Model checkpoint saved!\n",
      "Epoch 11/50\r"
     ]
    },
    {
     "data": {
      "application/vnd.jupyter.widget-view+json": {
       "model_id": "b3a07863ed6c4dda9544c68fef8c9372",
       "version_major": 2,
       "version_minor": 0
      },
      "text/plain": [
       "Training:   0%|          | 0/94 [00:00<?, ?it/s]"
      ]
     },
     "metadata": {},
     "output_type": "display_data"
    },
    {
     "data": {
      "application/vnd.jupyter.widget-view+json": {
       "model_id": "8c210f207cbb4529ace15cdb1d032344",
       "version_major": 2,
       "version_minor": 0
      },
      "text/plain": [
       "Validation:   0%|          | 0/47 [00:00<?, ?it/s]"
      ]
     },
     "metadata": {},
     "output_type": "display_data"
    },
    {
     "name": "stdout",
     "output_type": "stream",
     "text": [
      "Epoch 11/50, Train Loss: 4.9388, Val Loss: 5.2158\n",
      "Model checkpoint saved!\n",
      "Epoch 12/50\r"
     ]
    },
    {
     "data": {
      "application/vnd.jupyter.widget-view+json": {
       "model_id": "1956a9960f844a948f0eb5b900bfb87f",
       "version_major": 2,
       "version_minor": 0
      },
      "text/plain": [
       "Training:   0%|          | 0/94 [00:00<?, ?it/s]"
      ]
     },
     "metadata": {},
     "output_type": "display_data"
    },
    {
     "data": {
      "application/vnd.jupyter.widget-view+json": {
       "model_id": "d5b1077918934a96a656c625fb857604",
       "version_major": 2,
       "version_minor": 0
      },
      "text/plain": [
       "Validation:   0%|          | 0/47 [00:00<?, ?it/s]"
      ]
     },
     "metadata": {},
     "output_type": "display_data"
    },
    {
     "name": "stdout",
     "output_type": "stream",
     "text": [
      "Epoch 12/50, Train Loss: 4.8547, Val Loss: 5.1365\n",
      "Model checkpoint saved!\n",
      "Epoch 13/50\r"
     ]
    },
    {
     "data": {
      "application/vnd.jupyter.widget-view+json": {
       "model_id": "a94cd3824edd4a4b8669c9cb58110ae2",
       "version_major": 2,
       "version_minor": 0
      },
      "text/plain": [
       "Training:   0%|          | 0/94 [00:00<?, ?it/s]"
      ]
     },
     "metadata": {},
     "output_type": "display_data"
    },
    {
     "data": {
      "application/vnd.jupyter.widget-view+json": {
       "model_id": "75bd25e58d694cbfbcdf1168e08d75c4",
       "version_major": 2,
       "version_minor": 0
      },
      "text/plain": [
       "Validation:   0%|          | 0/47 [00:00<?, ?it/s]"
      ]
     },
     "metadata": {},
     "output_type": "display_data"
    },
    {
     "name": "stdout",
     "output_type": "stream",
     "text": [
      "Epoch 13/50, Train Loss: 4.7960, Val Loss: 5.1076\n",
      "Model checkpoint saved!\n",
      "Epoch 14/50\r"
     ]
    },
    {
     "data": {
      "application/vnd.jupyter.widget-view+json": {
       "model_id": "0ba48baea4e947d5a3e7c5087e2f637c",
       "version_major": 2,
       "version_minor": 0
      },
      "text/plain": [
       "Training:   0%|          | 0/94 [00:00<?, ?it/s]"
      ]
     },
     "metadata": {},
     "output_type": "display_data"
    },
    {
     "data": {
      "application/vnd.jupyter.widget-view+json": {
       "model_id": "8e68d027ef0c4754867753d644067b23",
       "version_major": 2,
       "version_minor": 0
      },
      "text/plain": [
       "Validation:   0%|          | 0/47 [00:00<?, ?it/s]"
      ]
     },
     "metadata": {},
     "output_type": "display_data"
    },
    {
     "name": "stdout",
     "output_type": "stream",
     "text": [
      "Epoch 14/50, Train Loss: 4.7497, Val Loss: 5.1287\n",
      "Early stopping counter: 1/5\n",
      "Epoch 15/50\r"
     ]
    },
    {
     "data": {
      "application/vnd.jupyter.widget-view+json": {
       "model_id": "ff1d22c23c18405f8f1ddf90086e95d1",
       "version_major": 2,
       "version_minor": 0
      },
      "text/plain": [
       "Training:   0%|          | 0/94 [00:00<?, ?it/s]"
      ]
     },
     "metadata": {},
     "output_type": "display_data"
    },
    {
     "data": {
      "application/vnd.jupyter.widget-view+json": {
       "model_id": "3f3ed2e26ccb4500bdfe99cf28253a65",
       "version_major": 2,
       "version_minor": 0
      },
      "text/plain": [
       "Validation:   0%|          | 0/47 [00:00<?, ?it/s]"
      ]
     },
     "metadata": {},
     "output_type": "display_data"
    },
    {
     "name": "stdout",
     "output_type": "stream",
     "text": [
      "Epoch 15/50, Train Loss: 4.6823, Val Loss: 5.0736\n",
      "Model checkpoint saved!\n",
      "Epoch 16/50\r"
     ]
    },
    {
     "data": {
      "application/vnd.jupyter.widget-view+json": {
       "model_id": "a0d2f05b72d54bd29b07e49930a6b57c",
       "version_major": 2,
       "version_minor": 0
      },
      "text/plain": [
       "Training:   0%|          | 0/94 [00:00<?, ?it/s]"
      ]
     },
     "metadata": {},
     "output_type": "display_data"
    },
    {
     "data": {
      "application/vnd.jupyter.widget-view+json": {
       "model_id": "b9e0f6f29c794afe8dcc0035b34314fd",
       "version_major": 2,
       "version_minor": 0
      },
      "text/plain": [
       "Validation:   0%|          | 0/47 [00:00<?, ?it/s]"
      ]
     },
     "metadata": {},
     "output_type": "display_data"
    },
    {
     "name": "stdout",
     "output_type": "stream",
     "text": [
      "Epoch 16/50, Train Loss: 4.6615, Val Loss: 5.1004\n",
      "Early stopping counter: 1/5\n",
      "Epoch 17/50\r"
     ]
    },
    {
     "data": {
      "application/vnd.jupyter.widget-view+json": {
       "model_id": "e67072e856114f6497b420adbecb0118",
       "version_major": 2,
       "version_minor": 0
      },
      "text/plain": [
       "Training:   0%|          | 0/94 [00:00<?, ?it/s]"
      ]
     },
     "metadata": {},
     "output_type": "display_data"
    },
    {
     "data": {
      "application/vnd.jupyter.widget-view+json": {
       "model_id": "4b7dfd0fb32a40d29be722ff37a31cde",
       "version_major": 2,
       "version_minor": 0
      },
      "text/plain": [
       "Validation:   0%|          | 0/47 [00:00<?, ?it/s]"
      ]
     },
     "metadata": {},
     "output_type": "display_data"
    },
    {
     "name": "stdout",
     "output_type": "stream",
     "text": [
      "Epoch 17/50, Train Loss: 4.5747, Val Loss: 5.0399\n",
      "Model checkpoint saved!\n",
      "Epoch 18/50\r"
     ]
    },
    {
     "data": {
      "application/vnd.jupyter.widget-view+json": {
       "model_id": "6fae16ee36474488974cabd7847cd5ff",
       "version_major": 2,
       "version_minor": 0
      },
      "text/plain": [
       "Training:   0%|          | 0/94 [00:00<?, ?it/s]"
      ]
     },
     "metadata": {},
     "output_type": "display_data"
    },
    {
     "data": {
      "application/vnd.jupyter.widget-view+json": {
       "model_id": "099465d94a994df8ab28d4f3f7e3a5fc",
       "version_major": 2,
       "version_minor": 0
      },
      "text/plain": [
       "Validation:   0%|          | 0/47 [00:00<?, ?it/s]"
      ]
     },
     "metadata": {},
     "output_type": "display_data"
    },
    {
     "name": "stdout",
     "output_type": "stream",
     "text": [
      "Epoch 18/50, Train Loss: 4.5064, Val Loss: 5.0455\n",
      "Early stopping counter: 1/5\n",
      "Epoch 19/50\r"
     ]
    },
    {
     "data": {
      "application/vnd.jupyter.widget-view+json": {
       "model_id": "a8b1123197504be7ac4300e72778ebdd",
       "version_major": 2,
       "version_minor": 0
      },
      "text/plain": [
       "Training:   0%|          | 0/94 [00:00<?, ?it/s]"
      ]
     },
     "metadata": {},
     "output_type": "display_data"
    },
    {
     "data": {
      "application/vnd.jupyter.widget-view+json": {
       "model_id": "48cd6e8a70444f04bea9d9b06eafdfad",
       "version_major": 2,
       "version_minor": 0
      },
      "text/plain": [
       "Validation:   0%|          | 0/47 [00:00<?, ?it/s]"
      ]
     },
     "metadata": {},
     "output_type": "display_data"
    },
    {
     "name": "stdout",
     "output_type": "stream",
     "text": [
      "Epoch 19/50, Train Loss: 4.4935, Val Loss: 4.9374\n",
      "Model checkpoint saved!\n",
      "Epoch 20/50\r"
     ]
    },
    {
     "data": {
      "application/vnd.jupyter.widget-view+json": {
       "model_id": "aa0ae4153780488190e3fe67c82de8b3",
       "version_major": 2,
       "version_minor": 0
      },
      "text/plain": [
       "Training:   0%|          | 0/94 [00:00<?, ?it/s]"
      ]
     },
     "metadata": {},
     "output_type": "display_data"
    },
    {
     "data": {
      "application/vnd.jupyter.widget-view+json": {
       "model_id": "75fecfac7acc45749c2033296544af0f",
       "version_major": 2,
       "version_minor": 0
      },
      "text/plain": [
       "Validation:   0%|          | 0/47 [00:00<?, ?it/s]"
      ]
     },
     "metadata": {},
     "output_type": "display_data"
    },
    {
     "name": "stdout",
     "output_type": "stream",
     "text": [
      "Epoch 20/50, Train Loss: 4.3811, Val Loss: 4.9595\n",
      "Early stopping counter: 1/5\n",
      "Epoch 21/50\r"
     ]
    },
    {
     "data": {
      "application/vnd.jupyter.widget-view+json": {
       "model_id": "153571a8e6d448e6a5b9cf9d759f9c83",
       "version_major": 2,
       "version_minor": 0
      },
      "text/plain": [
       "Training:   0%|          | 0/94 [00:00<?, ?it/s]"
      ]
     },
     "metadata": {},
     "output_type": "display_data"
    },
    {
     "data": {
      "application/vnd.jupyter.widget-view+json": {
       "model_id": "fab812d73f7a472b8d0a3df4a1cae69c",
       "version_major": 2,
       "version_minor": 0
      },
      "text/plain": [
       "Validation:   0%|          | 0/47 [00:00<?, ?it/s]"
      ]
     },
     "metadata": {},
     "output_type": "display_data"
    },
    {
     "name": "stdout",
     "output_type": "stream",
     "text": [
      "Epoch 21/50, Train Loss: 4.3524, Val Loss: 4.9262\n",
      "Model checkpoint saved!\n",
      "Epoch 22/50\r"
     ]
    },
    {
     "data": {
      "application/vnd.jupyter.widget-view+json": {
       "model_id": "9dc00b33abba4637974b21707595a26d",
       "version_major": 2,
       "version_minor": 0
      },
      "text/plain": [
       "Training:   0%|          | 0/94 [00:00<?, ?it/s]"
      ]
     },
     "metadata": {},
     "output_type": "display_data"
    },
    {
     "data": {
      "application/vnd.jupyter.widget-view+json": {
       "model_id": "1911801139e44d239df5d1b864dbe78a",
       "version_major": 2,
       "version_minor": 0
      },
      "text/plain": [
       "Validation:   0%|          | 0/47 [00:00<?, ?it/s]"
      ]
     },
     "metadata": {},
     "output_type": "display_data"
    },
    {
     "name": "stdout",
     "output_type": "stream",
     "text": [
      "Epoch 22/50, Train Loss: 4.2834, Val Loss: 4.9306\n",
      "Early stopping counter: 1/5\n",
      "Epoch 23/50\r"
     ]
    },
    {
     "data": {
      "application/vnd.jupyter.widget-view+json": {
       "model_id": "830d334f3d854605a673cd3cd7cf011c",
       "version_major": 2,
       "version_minor": 0
      },
      "text/plain": [
       "Training:   0%|          | 0/94 [00:00<?, ?it/s]"
      ]
     },
     "metadata": {},
     "output_type": "display_data"
    },
    {
     "data": {
      "application/vnd.jupyter.widget-view+json": {
       "model_id": "4a256849548b4d089b2352d423237259",
       "version_major": 2,
       "version_minor": 0
      },
      "text/plain": [
       "Validation:   0%|          | 0/47 [00:00<?, ?it/s]"
      ]
     },
     "metadata": {},
     "output_type": "display_data"
    },
    {
     "name": "stdout",
     "output_type": "stream",
     "text": [
      "Epoch 23/50, Train Loss: 4.2334, Val Loss: 4.8589\n",
      "Model checkpoint saved!\n",
      "Epoch 24/50\r"
     ]
    },
    {
     "data": {
      "application/vnd.jupyter.widget-view+json": {
       "model_id": "7ce51c177a7e4a59b2ffc9f9fe83cbd6",
       "version_major": 2,
       "version_minor": 0
      },
      "text/plain": [
       "Training:   0%|          | 0/94 [00:00<?, ?it/s]"
      ]
     },
     "metadata": {},
     "output_type": "display_data"
    },
    {
     "data": {
      "application/vnd.jupyter.widget-view+json": {
       "model_id": "75de156ffc054f8683bb997be80e8f52",
       "version_major": 2,
       "version_minor": 0
      },
      "text/plain": [
       "Validation:   0%|          | 0/47 [00:00<?, ?it/s]"
      ]
     },
     "metadata": {},
     "output_type": "display_data"
    },
    {
     "name": "stdout",
     "output_type": "stream",
     "text": [
      "Epoch 24/50, Train Loss: 4.1977, Val Loss: 4.8352\n",
      "Model checkpoint saved!\n",
      "Epoch 25/50\r"
     ]
    },
    {
     "data": {
      "application/vnd.jupyter.widget-view+json": {
       "model_id": "30770a11928f4572a7c35438c5c77b72",
       "version_major": 2,
       "version_minor": 0
      },
      "text/plain": [
       "Training:   0%|          | 0/94 [00:00<?, ?it/s]"
      ]
     },
     "metadata": {},
     "output_type": "display_data"
    },
    {
     "data": {
      "application/vnd.jupyter.widget-view+json": {
       "model_id": "3a63d962c6614ee4b6f7f0da98ff06da",
       "version_major": 2,
       "version_minor": 0
      },
      "text/plain": [
       "Validation:   0%|          | 0/47 [00:00<?, ?it/s]"
      ]
     },
     "metadata": {},
     "output_type": "display_data"
    },
    {
     "name": "stdout",
     "output_type": "stream",
     "text": [
      "Epoch 25/50, Train Loss: 4.1478, Val Loss: 4.9013\n",
      "Early stopping counter: 1/5\n",
      "Epoch 26/50\r"
     ]
    },
    {
     "data": {
      "application/vnd.jupyter.widget-view+json": {
       "model_id": "d7581af8425647bbb09745db1a6b6dc4",
       "version_major": 2,
       "version_minor": 0
      },
      "text/plain": [
       "Training:   0%|          | 0/94 [00:00<?, ?it/s]"
      ]
     },
     "metadata": {},
     "output_type": "display_data"
    },
    {
     "data": {
      "application/vnd.jupyter.widget-view+json": {
       "model_id": "99b25acc0da34443ae121ebe77f24954",
       "version_major": 2,
       "version_minor": 0
      },
      "text/plain": [
       "Validation:   0%|          | 0/47 [00:00<?, ?it/s]"
      ]
     },
     "metadata": {},
     "output_type": "display_data"
    },
    {
     "name": "stdout",
     "output_type": "stream",
     "text": [
      "Epoch 26/50, Train Loss: 4.0996, Val Loss: 4.8377\n",
      "Early stopping counter: 2/5\n",
      "Epoch 27/50\r"
     ]
    },
    {
     "data": {
      "application/vnd.jupyter.widget-view+json": {
       "model_id": "0850a7da11514ed2b1006fe69eee0402",
       "version_major": 2,
       "version_minor": 0
      },
      "text/plain": [
       "Training:   0%|          | 0/94 [00:00<?, ?it/s]"
      ]
     },
     "metadata": {},
     "output_type": "display_data"
    },
    {
     "data": {
      "application/vnd.jupyter.widget-view+json": {
       "model_id": "5988a7bf32f7433e82d4680111a84afa",
       "version_major": 2,
       "version_minor": 0
      },
      "text/plain": [
       "Validation:   0%|          | 0/47 [00:00<?, ?it/s]"
      ]
     },
     "metadata": {},
     "output_type": "display_data"
    },
    {
     "name": "stdout",
     "output_type": "stream",
     "text": [
      "Epoch 27/50, Train Loss: 4.1030, Val Loss: 4.8486\n",
      "Early stopping counter: 3/5\n",
      "Epoch 28/50\r"
     ]
    },
    {
     "data": {
      "application/vnd.jupyter.widget-view+json": {
       "model_id": "f3cba8f921204ca392af823f34cf0e1b",
       "version_major": 2,
       "version_minor": 0
      },
      "text/plain": [
       "Training:   0%|          | 0/94 [00:00<?, ?it/s]"
      ]
     },
     "metadata": {},
     "output_type": "display_data"
    },
    {
     "data": {
      "application/vnd.jupyter.widget-view+json": {
       "model_id": "656c6aaf9123417fa82bcb360380be20",
       "version_major": 2,
       "version_minor": 0
      },
      "text/plain": [
       "Validation:   0%|          | 0/47 [00:00<?, ?it/s]"
      ]
     },
     "metadata": {},
     "output_type": "display_data"
    },
    {
     "name": "stdout",
     "output_type": "stream",
     "text": [
      "Epoch 28/50, Train Loss: 3.9927, Val Loss: 4.7358\n",
      "Model checkpoint saved!\n",
      "Epoch 29/50\r"
     ]
    },
    {
     "data": {
      "application/vnd.jupyter.widget-view+json": {
       "model_id": "ad28788115b64399bd7f80985c16c536",
       "version_major": 2,
       "version_minor": 0
      },
      "text/plain": [
       "Training:   0%|          | 0/94 [00:00<?, ?it/s]"
      ]
     },
     "metadata": {},
     "output_type": "display_data"
    },
    {
     "data": {
      "application/vnd.jupyter.widget-view+json": {
       "model_id": "1df0ec6c379f46a386f01820530e968f",
       "version_major": 2,
       "version_minor": 0
      },
      "text/plain": [
       "Validation:   0%|          | 0/47 [00:00<?, ?it/s]"
      ]
     },
     "metadata": {},
     "output_type": "display_data"
    },
    {
     "name": "stdout",
     "output_type": "stream",
     "text": [
      "Epoch 29/50, Train Loss: 3.9599, Val Loss: 4.7905\n",
      "Early stopping counter: 1/5\n",
      "Epoch 30/50\r"
     ]
    },
    {
     "data": {
      "application/vnd.jupyter.widget-view+json": {
       "model_id": "0932b03bf83e444faebbdd4266387955",
       "version_major": 2,
       "version_minor": 0
      },
      "text/plain": [
       "Training:   0%|          | 0/94 [00:00<?, ?it/s]"
      ]
     },
     "metadata": {},
     "output_type": "display_data"
    },
    {
     "data": {
      "application/vnd.jupyter.widget-view+json": {
       "model_id": "55d3f03ff754473e85250922226bbdb8",
       "version_major": 2,
       "version_minor": 0
      },
      "text/plain": [
       "Validation:   0%|          | 0/47 [00:00<?, ?it/s]"
      ]
     },
     "metadata": {},
     "output_type": "display_data"
    },
    {
     "name": "stdout",
     "output_type": "stream",
     "text": [
      "Epoch 30/50, Train Loss: 3.9471, Val Loss: 4.7686\n",
      "Early stopping counter: 2/5\n",
      "Epoch 31/50\r"
     ]
    },
    {
     "data": {
      "application/vnd.jupyter.widget-view+json": {
       "model_id": "f77206b6b4354b97a55b9caad75d2388",
       "version_major": 2,
       "version_minor": 0
      },
      "text/plain": [
       "Training:   0%|          | 0/94 [00:00<?, ?it/s]"
      ]
     },
     "metadata": {},
     "output_type": "display_data"
    },
    {
     "data": {
      "application/vnd.jupyter.widget-view+json": {
       "model_id": "8acfffe33ac14806a1d0eca58cff13c1",
       "version_major": 2,
       "version_minor": 0
      },
      "text/plain": [
       "Validation:   0%|          | 0/47 [00:00<?, ?it/s]"
      ]
     },
     "metadata": {},
     "output_type": "display_data"
    },
    {
     "name": "stdout",
     "output_type": "stream",
     "text": [
      "Epoch 31/50, Train Loss: 3.8910, Val Loss: 4.7402\n",
      "Early stopping counter: 3/5\n",
      "Epoch 32/50\r"
     ]
    },
    {
     "data": {
      "application/vnd.jupyter.widget-view+json": {
       "model_id": "d6f269e6f25e4d1ead31c736eab9cecd",
       "version_major": 2,
       "version_minor": 0
      },
      "text/plain": [
       "Training:   0%|          | 0/94 [00:00<?, ?it/s]"
      ]
     },
     "metadata": {},
     "output_type": "display_data"
    },
    {
     "data": {
      "application/vnd.jupyter.widget-view+json": {
       "model_id": "b479ef3844ba40739870d9ecfe843b4d",
       "version_major": 2,
       "version_minor": 0
      },
      "text/plain": [
       "Validation:   0%|          | 0/47 [00:00<?, ?it/s]"
      ]
     },
     "metadata": {},
     "output_type": "display_data"
    },
    {
     "name": "stdout",
     "output_type": "stream",
     "text": [
      "Epoch 32/50, Train Loss: 3.8796, Val Loss: 4.6653\n",
      "Model checkpoint saved!\n",
      "Epoch 33/50\r"
     ]
    },
    {
     "data": {
      "application/vnd.jupyter.widget-view+json": {
       "model_id": "2b3c6f60a2ae48428cba674aaff670c8",
       "version_major": 2,
       "version_minor": 0
      },
      "text/plain": [
       "Training:   0%|          | 0/94 [00:00<?, ?it/s]"
      ]
     },
     "metadata": {},
     "output_type": "display_data"
    },
    {
     "data": {
      "application/vnd.jupyter.widget-view+json": {
       "model_id": "e4aa047be8b142f29a0e8127240a70a7",
       "version_major": 2,
       "version_minor": 0
      },
      "text/plain": [
       "Validation:   0%|          | 0/47 [00:00<?, ?it/s]"
      ]
     },
     "metadata": {},
     "output_type": "display_data"
    },
    {
     "name": "stdout",
     "output_type": "stream",
     "text": [
      "Epoch 33/50, Train Loss: 3.8475, Val Loss: 4.6716\n",
      "Early stopping counter: 1/5\n",
      "Epoch 34/50\r"
     ]
    },
    {
     "data": {
      "application/vnd.jupyter.widget-view+json": {
       "model_id": "4911b41dec7141089392682a65c1566a",
       "version_major": 2,
       "version_minor": 0
      },
      "text/plain": [
       "Training:   0%|          | 0/94 [00:00<?, ?it/s]"
      ]
     },
     "metadata": {},
     "output_type": "display_data"
    },
    {
     "data": {
      "application/vnd.jupyter.widget-view+json": {
       "model_id": "f70b1f2df25c4b43b65f42bc37e04b1a",
       "version_major": 2,
       "version_minor": 0
      },
      "text/plain": [
       "Validation:   0%|          | 0/47 [00:00<?, ?it/s]"
      ]
     },
     "metadata": {},
     "output_type": "display_data"
    },
    {
     "name": "stdout",
     "output_type": "stream",
     "text": [
      "Epoch 34/50, Train Loss: 3.8481, Val Loss: 4.6676\n",
      "Early stopping counter: 2/5\n",
      "Epoch 35/50\r"
     ]
    },
    {
     "data": {
      "application/vnd.jupyter.widget-view+json": {
       "model_id": "a9bf81ff88a943158daf80926a8e6b55",
       "version_major": 2,
       "version_minor": 0
      },
      "text/plain": [
       "Training:   0%|          | 0/94 [00:00<?, ?it/s]"
      ]
     },
     "metadata": {},
     "output_type": "display_data"
    },
    {
     "data": {
      "application/vnd.jupyter.widget-view+json": {
       "model_id": "43936d07faf9476a9fcfda424c763fcd",
       "version_major": 2,
       "version_minor": 0
      },
      "text/plain": [
       "Validation:   0%|          | 0/47 [00:00<?, ?it/s]"
      ]
     },
     "metadata": {},
     "output_type": "display_data"
    },
    {
     "name": "stdout",
     "output_type": "stream",
     "text": [
      "Epoch 35/50, Train Loss: 3.7746, Val Loss: 4.6166\n",
      "Model checkpoint saved!\n",
      "Epoch 36/50\r"
     ]
    },
    {
     "data": {
      "application/vnd.jupyter.widget-view+json": {
       "model_id": "3d30809e6dd04b2b81568b1c75313252",
       "version_major": 2,
       "version_minor": 0
      },
      "text/plain": [
       "Training:   0%|          | 0/94 [00:00<?, ?it/s]"
      ]
     },
     "metadata": {},
     "output_type": "display_data"
    },
    {
     "data": {
      "application/vnd.jupyter.widget-view+json": {
       "model_id": "8bf29390892d4f47850db8ec15f1efe8",
       "version_major": 2,
       "version_minor": 0
      },
      "text/plain": [
       "Validation:   0%|          | 0/47 [00:00<?, ?it/s]"
      ]
     },
     "metadata": {},
     "output_type": "display_data"
    },
    {
     "name": "stdout",
     "output_type": "stream",
     "text": [
      "Epoch 36/50, Train Loss: 3.7435, Val Loss: 4.6581\n",
      "Early stopping counter: 1/5\n",
      "Epoch 37/50\r"
     ]
    },
    {
     "data": {
      "application/vnd.jupyter.widget-view+json": {
       "model_id": "03ec3d0ff7f64fc8a54be7844b1f2586",
       "version_major": 2,
       "version_minor": 0
      },
      "text/plain": [
       "Training:   0%|          | 0/94 [00:00<?, ?it/s]"
      ]
     },
     "metadata": {},
     "output_type": "display_data"
    },
    {
     "data": {
      "application/vnd.jupyter.widget-view+json": {
       "model_id": "8dcaa0c711734eb3817572f53b33c7b6",
       "version_major": 2,
       "version_minor": 0
      },
      "text/plain": [
       "Validation:   0%|          | 0/47 [00:00<?, ?it/s]"
      ]
     },
     "metadata": {},
     "output_type": "display_data"
    },
    {
     "name": "stdout",
     "output_type": "stream",
     "text": [
      "Epoch 37/50, Train Loss: 3.7273, Val Loss: 4.6651\n",
      "Early stopping counter: 2/5\n",
      "Epoch 38/50\r"
     ]
    },
    {
     "data": {
      "application/vnd.jupyter.widget-view+json": {
       "model_id": "00062d9f32ca4ff388416840e6c0160c",
       "version_major": 2,
       "version_minor": 0
      },
      "text/plain": [
       "Training:   0%|          | 0/94 [00:00<?, ?it/s]"
      ]
     },
     "metadata": {},
     "output_type": "display_data"
    },
    {
     "data": {
      "application/vnd.jupyter.widget-view+json": {
       "model_id": "c43e3b68c24d4f17bff8d2856ba09c6f",
       "version_major": 2,
       "version_minor": 0
      },
      "text/plain": [
       "Validation:   0%|          | 0/47 [00:00<?, ?it/s]"
      ]
     },
     "metadata": {},
     "output_type": "display_data"
    },
    {
     "name": "stdout",
     "output_type": "stream",
     "text": [
      "Epoch 38/50, Train Loss: 3.7285, Val Loss: 4.6757\n",
      "Early stopping counter: 3/5\n",
      "Epoch 39/50\r"
     ]
    },
    {
     "data": {
      "application/vnd.jupyter.widget-view+json": {
       "model_id": "3007078886144946a4f47412ebf132f4",
       "version_major": 2,
       "version_minor": 0
      },
      "text/plain": [
       "Training:   0%|          | 0/94 [00:00<?, ?it/s]"
      ]
     },
     "metadata": {},
     "output_type": "display_data"
    },
    {
     "data": {
      "application/vnd.jupyter.widget-view+json": {
       "model_id": "710063621af142269516bed029020bef",
       "version_major": 2,
       "version_minor": 0
      },
      "text/plain": [
       "Validation:   0%|          | 0/47 [00:00<?, ?it/s]"
      ]
     },
     "metadata": {},
     "output_type": "display_data"
    },
    {
     "name": "stdout",
     "output_type": "stream",
     "text": [
      "Epoch 39/50, Train Loss: 3.7048, Val Loss: 4.6580\n",
      "Early stopping counter: 4/5\n",
      "Epoch 40/50\r"
     ]
    },
    {
     "data": {
      "application/vnd.jupyter.widget-view+json": {
       "model_id": "f7bebca33ee340e6bbcb7665cf21a0a9",
       "version_major": 2,
       "version_minor": 0
      },
      "text/plain": [
       "Training:   0%|          | 0/94 [00:00<?, ?it/s]"
      ]
     },
     "metadata": {},
     "output_type": "display_data"
    },
    {
     "data": {
      "application/vnd.jupyter.widget-view+json": {
       "model_id": "22727663cd06459e8d1f20b0ccb4cd87",
       "version_major": 2,
       "version_minor": 0
      },
      "text/plain": [
       "Validation:   0%|          | 0/47 [00:00<?, ?it/s]"
      ]
     },
     "metadata": {},
     "output_type": "display_data"
    },
    {
     "name": "stdout",
     "output_type": "stream",
     "text": [
      "Epoch 40/50, Train Loss: 3.6933, Val Loss: 4.6678\n",
      "Early stopping counter: 5/5\n",
      "Early stopping triggered.\n",
      "Fold 2/3\n",
      "Epoch 1/50\r"
     ]
    },
    {
     "data": {
      "application/vnd.jupyter.widget-view+json": {
       "model_id": "bf6f64d6404b437bb0213a6d4f5dedf2",
       "version_major": 2,
       "version_minor": 0
      },
      "text/plain": [
       "Training:   0%|          | 0/94 [00:00<?, ?it/s]"
      ]
     },
     "metadata": {},
     "output_type": "display_data"
    },
    {
     "data": {
      "application/vnd.jupyter.widget-view+json": {
       "model_id": "c6014f64d9df4373a4f9ef59d1d151fa",
       "version_major": 2,
       "version_minor": 0
      },
      "text/plain": [
       "Validation:   0%|          | 0/47 [00:00<?, ?it/s]"
      ]
     },
     "metadata": {},
     "output_type": "display_data"
    },
    {
     "name": "stdout",
     "output_type": "stream",
     "text": [
      "Epoch 1/50, Train Loss: 5.9769, Val Loss: 5.7721\n",
      "Model checkpoint saved!\n",
      "Epoch 2/50\r"
     ]
    },
    {
     "data": {
      "application/vnd.jupyter.widget-view+json": {
       "model_id": "51c6637d958343549977fd4b1bac217b",
       "version_major": 2,
       "version_minor": 0
      },
      "text/plain": [
       "Training:   0%|          | 0/94 [00:00<?, ?it/s]"
      ]
     },
     "metadata": {},
     "output_type": "display_data"
    },
    {
     "data": {
      "application/vnd.jupyter.widget-view+json": {
       "model_id": "5eee5b14bd38438ea42da491fd995bae",
       "version_major": 2,
       "version_minor": 0
      },
      "text/plain": [
       "Validation:   0%|          | 0/47 [00:00<?, ?it/s]"
      ]
     },
     "metadata": {},
     "output_type": "display_data"
    },
    {
     "name": "stdout",
     "output_type": "stream",
     "text": [
      "Epoch 2/50, Train Loss: 5.7913, Val Loss: 5.7630\n",
      "Model checkpoint saved!\n",
      "Epoch 3/50\r"
     ]
    },
    {
     "data": {
      "application/vnd.jupyter.widget-view+json": {
       "model_id": "bbd312ae58af4a8caed591cf7acc00d1",
       "version_major": 2,
       "version_minor": 0
      },
      "text/plain": [
       "Training:   0%|          | 0/94 [00:00<?, ?it/s]"
      ]
     },
     "metadata": {},
     "output_type": "display_data"
    },
    {
     "data": {
      "application/vnd.jupyter.widget-view+json": {
       "model_id": "29d5e7acb1fa416fa94efa4619d89260",
       "version_major": 2,
       "version_minor": 0
      },
      "text/plain": [
       "Validation:   0%|          | 0/47 [00:00<?, ?it/s]"
      ]
     },
     "metadata": {},
     "output_type": "display_data"
    },
    {
     "name": "stdout",
     "output_type": "stream",
     "text": [
      "Epoch 3/50, Train Loss: 5.7053, Val Loss: 5.7301\n",
      "Model checkpoint saved!\n",
      "Epoch 4/50\r"
     ]
    },
    {
     "data": {
      "application/vnd.jupyter.widget-view+json": {
       "model_id": "7bb8e68e83444b0fa6831c7fc72a9baf",
       "version_major": 2,
       "version_minor": 0
      },
      "text/plain": [
       "Training:   0%|          | 0/94 [00:00<?, ?it/s]"
      ]
     },
     "metadata": {},
     "output_type": "display_data"
    },
    {
     "data": {
      "application/vnd.jupyter.widget-view+json": {
       "model_id": "af42caec8de2472eb3feeea8b9377199",
       "version_major": 2,
       "version_minor": 0
      },
      "text/plain": [
       "Validation:   0%|          | 0/47 [00:00<?, ?it/s]"
      ]
     },
     "metadata": {},
     "output_type": "display_data"
    },
    {
     "name": "stdout",
     "output_type": "stream",
     "text": [
      "Epoch 4/50, Train Loss: 5.5559, Val Loss: 5.5897\n",
      "Model checkpoint saved!\n",
      "Epoch 5/50\r"
     ]
    },
    {
     "data": {
      "application/vnd.jupyter.widget-view+json": {
       "model_id": "05394cedf797472babd7dc8635642e36",
       "version_major": 2,
       "version_minor": 0
      },
      "text/plain": [
       "Training:   0%|          | 0/94 [00:00<?, ?it/s]"
      ]
     },
     "metadata": {},
     "output_type": "display_data"
    },
    {
     "data": {
      "application/vnd.jupyter.widget-view+json": {
       "model_id": "83eb5c3aab874fa2bfef2a54ff71c9d6",
       "version_major": 2,
       "version_minor": 0
      },
      "text/plain": [
       "Validation:   0%|          | 0/47 [00:00<?, ?it/s]"
      ]
     },
     "metadata": {},
     "output_type": "display_data"
    },
    {
     "name": "stdout",
     "output_type": "stream",
     "text": [
      "Epoch 5/50, Train Loss: 5.4188, Val Loss: 5.4750\n",
      "Model checkpoint saved!\n",
      "Epoch 6/50\r"
     ]
    },
    {
     "data": {
      "application/vnd.jupyter.widget-view+json": {
       "model_id": "a340faf0ad5d4eec89dd04231f2890c5",
       "version_major": 2,
       "version_minor": 0
      },
      "text/plain": [
       "Training:   0%|          | 0/94 [00:00<?, ?it/s]"
      ]
     },
     "metadata": {},
     "output_type": "display_data"
    },
    {
     "data": {
      "application/vnd.jupyter.widget-view+json": {
       "model_id": "a4e8a52d5d7e4a298a0627b8fb1996ec",
       "version_major": 2,
       "version_minor": 0
      },
      "text/plain": [
       "Validation:   0%|          | 0/47 [00:00<?, ?it/s]"
      ]
     },
     "metadata": {},
     "output_type": "display_data"
    },
    {
     "name": "stdout",
     "output_type": "stream",
     "text": [
      "Epoch 6/50, Train Loss: 5.3285, Val Loss: 5.4965\n",
      "Early stopping counter: 1/5\n",
      "Epoch 7/50\r"
     ]
    },
    {
     "data": {
      "application/vnd.jupyter.widget-view+json": {
       "model_id": "436357e8b24c47f2b07b0f6dd58479df",
       "version_major": 2,
       "version_minor": 0
      },
      "text/plain": [
       "Training:   0%|          | 0/94 [00:00<?, ?it/s]"
      ]
     },
     "metadata": {},
     "output_type": "display_data"
    },
    {
     "data": {
      "application/vnd.jupyter.widget-view+json": {
       "model_id": "874daa33aa464951a9ace986956f4ee4",
       "version_major": 2,
       "version_minor": 0
      },
      "text/plain": [
       "Validation:   0%|          | 0/47 [00:00<?, ?it/s]"
      ]
     },
     "metadata": {},
     "output_type": "display_data"
    },
    {
     "name": "stdout",
     "output_type": "stream",
     "text": [
      "Epoch 7/50, Train Loss: 5.2853, Val Loss: 5.4637\n",
      "Model checkpoint saved!\n",
      "Epoch 8/50\r"
     ]
    },
    {
     "data": {
      "application/vnd.jupyter.widget-view+json": {
       "model_id": "f839f947365f43d78b66bbf4bc77d430",
       "version_major": 2,
       "version_minor": 0
      },
      "text/plain": [
       "Training:   0%|          | 0/94 [00:00<?, ?it/s]"
      ]
     },
     "metadata": {},
     "output_type": "display_data"
    },
    {
     "data": {
      "application/vnd.jupyter.widget-view+json": {
       "model_id": "61501e927e8a46d38f2c3dd059ab0b3a",
       "version_major": 2,
       "version_minor": 0
      },
      "text/plain": [
       "Validation:   0%|          | 0/47 [00:00<?, ?it/s]"
      ]
     },
     "metadata": {},
     "output_type": "display_data"
    },
    {
     "name": "stdout",
     "output_type": "stream",
     "text": [
      "Epoch 8/50, Train Loss: 5.2259, Val Loss: 5.4705\n",
      "Early stopping counter: 1/5\n",
      "Epoch 9/50\r"
     ]
    },
    {
     "data": {
      "application/vnd.jupyter.widget-view+json": {
       "model_id": "845a8da2d5314138abd950d5f356c5a2",
       "version_major": 2,
       "version_minor": 0
      },
      "text/plain": [
       "Training:   0%|          | 0/94 [00:00<?, ?it/s]"
      ]
     },
     "metadata": {},
     "output_type": "display_data"
    },
    {
     "data": {
      "application/vnd.jupyter.widget-view+json": {
       "model_id": "e00b7c24952347e7aa62e8df4e9a656b",
       "version_major": 2,
       "version_minor": 0
      },
      "text/plain": [
       "Validation:   0%|          | 0/47 [00:00<?, ?it/s]"
      ]
     },
     "metadata": {},
     "output_type": "display_data"
    },
    {
     "name": "stdout",
     "output_type": "stream",
     "text": [
      "Epoch 9/50, Train Loss: 5.2141, Val Loss: 5.4634\n",
      "Model checkpoint saved!\n",
      "Epoch 10/50\r"
     ]
    },
    {
     "data": {
      "application/vnd.jupyter.widget-view+json": {
       "model_id": "0e88cd17a26643af944452cdefe14f80",
       "version_major": 2,
       "version_minor": 0
      },
      "text/plain": [
       "Training:   0%|          | 0/94 [00:00<?, ?it/s]"
      ]
     },
     "metadata": {},
     "output_type": "display_data"
    },
    {
     "data": {
      "application/vnd.jupyter.widget-view+json": {
       "model_id": "a110530b6bbe41a9bec48e0d5e125c0e",
       "version_major": 2,
       "version_minor": 0
      },
      "text/plain": [
       "Validation:   0%|          | 0/47 [00:00<?, ?it/s]"
      ]
     },
     "metadata": {},
     "output_type": "display_data"
    },
    {
     "name": "stdout",
     "output_type": "stream",
     "text": [
      "Epoch 10/50, Train Loss: 5.1818, Val Loss: 5.4862\n",
      "Early stopping counter: 1/5\n",
      "Epoch 11/50\r"
     ]
    },
    {
     "data": {
      "application/vnd.jupyter.widget-view+json": {
       "model_id": "b2322a73ba65455c9ab2d771d64c1ed8",
       "version_major": 2,
       "version_minor": 0
      },
      "text/plain": [
       "Training:   0%|          | 0/94 [00:00<?, ?it/s]"
      ]
     },
     "metadata": {},
     "output_type": "display_data"
    },
    {
     "data": {
      "application/vnd.jupyter.widget-view+json": {
       "model_id": "4fab2a63973f46119bd40dc166f1efdc",
       "version_major": 2,
       "version_minor": 0
      },
      "text/plain": [
       "Validation:   0%|          | 0/47 [00:00<?, ?it/s]"
      ]
     },
     "metadata": {},
     "output_type": "display_data"
    },
    {
     "name": "stdout",
     "output_type": "stream",
     "text": [
      "Epoch 11/50, Train Loss: 5.1301, Val Loss: 5.4214\n",
      "Model checkpoint saved!\n",
      "Epoch 12/50\r"
     ]
    },
    {
     "data": {
      "application/vnd.jupyter.widget-view+json": {
       "model_id": "3e1ae9bafc404713b873845ccebd10fd",
       "version_major": 2,
       "version_minor": 0
      },
      "text/plain": [
       "Training:   0%|          | 0/94 [00:00<?, ?it/s]"
      ]
     },
     "metadata": {},
     "output_type": "display_data"
    },
    {
     "data": {
      "application/vnd.jupyter.widget-view+json": {
       "model_id": "f1f2b2f0331e48a3bf0de0940b59bd78",
       "version_major": 2,
       "version_minor": 0
      },
      "text/plain": [
       "Validation:   0%|          | 0/47 [00:00<?, ?it/s]"
      ]
     },
     "metadata": {},
     "output_type": "display_data"
    },
    {
     "name": "stdout",
     "output_type": "stream",
     "text": [
      "Epoch 12/50, Train Loss: 5.0533, Val Loss: 5.3564\n",
      "Model checkpoint saved!\n",
      "Epoch 13/50\r"
     ]
    },
    {
     "data": {
      "application/vnd.jupyter.widget-view+json": {
       "model_id": "dd3abc4b7e104d2cb691a9204f8103eb",
       "version_major": 2,
       "version_minor": 0
      },
      "text/plain": [
       "Training:   0%|          | 0/94 [00:00<?, ?it/s]"
      ]
     },
     "metadata": {},
     "output_type": "display_data"
    },
    {
     "data": {
      "application/vnd.jupyter.widget-view+json": {
       "model_id": "1c735dd971b84186b93e356c831f4ec4",
       "version_major": 2,
       "version_minor": 0
      },
      "text/plain": [
       "Validation:   0%|          | 0/47 [00:00<?, ?it/s]"
      ]
     },
     "metadata": {},
     "output_type": "display_data"
    },
    {
     "name": "stdout",
     "output_type": "stream",
     "text": [
      "Epoch 13/50, Train Loss: 4.9638, Val Loss: 5.3119\n",
      "Model checkpoint saved!\n",
      "Epoch 14/50\r"
     ]
    },
    {
     "data": {
      "application/vnd.jupyter.widget-view+json": {
       "model_id": "06eab67566f94672afac9fed5cb9817b",
       "version_major": 2,
       "version_minor": 0
      },
      "text/plain": [
       "Training:   0%|          | 0/94 [00:00<?, ?it/s]"
      ]
     },
     "metadata": {},
     "output_type": "display_data"
    },
    {
     "data": {
      "application/vnd.jupyter.widget-view+json": {
       "model_id": "5dc3a0e1940645a6aabb29a4b8d15590",
       "version_major": 2,
       "version_minor": 0
      },
      "text/plain": [
       "Validation:   0%|          | 0/47 [00:00<?, ?it/s]"
      ]
     },
     "metadata": {},
     "output_type": "display_data"
    },
    {
     "name": "stdout",
     "output_type": "stream",
     "text": [
      "Epoch 14/50, Train Loss: 4.8978, Val Loss: 5.2717\n",
      "Model checkpoint saved!\n",
      "Epoch 15/50\r"
     ]
    },
    {
     "data": {
      "application/vnd.jupyter.widget-view+json": {
       "model_id": "4002f57f973a4836bf83ef13f79b8971",
       "version_major": 2,
       "version_minor": 0
      },
      "text/plain": [
       "Training:   0%|          | 0/94 [00:00<?, ?it/s]"
      ]
     },
     "metadata": {},
     "output_type": "display_data"
    },
    {
     "data": {
      "application/vnd.jupyter.widget-view+json": {
       "model_id": "f3196eb1d10f48fea5260e15ea31c6a2",
       "version_major": 2,
       "version_minor": 0
      },
      "text/plain": [
       "Validation:   0%|          | 0/47 [00:00<?, ?it/s]"
      ]
     },
     "metadata": {},
     "output_type": "display_data"
    },
    {
     "name": "stdout",
     "output_type": "stream",
     "text": [
      "Epoch 15/50, Train Loss: 4.8096, Val Loss: 5.2654\n",
      "Model checkpoint saved!\n",
      "Epoch 16/50\r"
     ]
    },
    {
     "data": {
      "application/vnd.jupyter.widget-view+json": {
       "model_id": "a604de2cd8fe48b4bfeb3c46a911f29d",
       "version_major": 2,
       "version_minor": 0
      },
      "text/plain": [
       "Training:   0%|          | 0/94 [00:00<?, ?it/s]"
      ]
     },
     "metadata": {},
     "output_type": "display_data"
    },
    {
     "data": {
      "application/vnd.jupyter.widget-view+json": {
       "model_id": "3486ad57edd14474804103fb8da5d376",
       "version_major": 2,
       "version_minor": 0
      },
      "text/plain": [
       "Validation:   0%|          | 0/47 [00:00<?, ?it/s]"
      ]
     },
     "metadata": {},
     "output_type": "display_data"
    },
    {
     "name": "stdout",
     "output_type": "stream",
     "text": [
      "Epoch 16/50, Train Loss: 4.7402, Val Loss: 5.2429\n",
      "Model checkpoint saved!\n",
      "Epoch 17/50\r"
     ]
    },
    {
     "data": {
      "application/vnd.jupyter.widget-view+json": {
       "model_id": "47e67ebd2a954e2db3e8994a9fb8ec42",
       "version_major": 2,
       "version_minor": 0
      },
      "text/plain": [
       "Training:   0%|          | 0/94 [00:00<?, ?it/s]"
      ]
     },
     "metadata": {},
     "output_type": "display_data"
    },
    {
     "data": {
      "application/vnd.jupyter.widget-view+json": {
       "model_id": "4397e270f97c4e6ab53d9528173761cc",
       "version_major": 2,
       "version_minor": 0
      },
      "text/plain": [
       "Validation:   0%|          | 0/47 [00:00<?, ?it/s]"
      ]
     },
     "metadata": {},
     "output_type": "display_data"
    },
    {
     "name": "stdout",
     "output_type": "stream",
     "text": [
      "Epoch 17/50, Train Loss: 4.6890, Val Loss: 5.2060\n",
      "Model checkpoint saved!\n",
      "Epoch 18/50\r"
     ]
    },
    {
     "data": {
      "application/vnd.jupyter.widget-view+json": {
       "model_id": "d3b54198d1e3454a847ea980ae3a1ece",
       "version_major": 2,
       "version_minor": 0
      },
      "text/plain": [
       "Training:   0%|          | 0/94 [00:00<?, ?it/s]"
      ]
     },
     "metadata": {},
     "output_type": "display_data"
    },
    {
     "data": {
      "application/vnd.jupyter.widget-view+json": {
       "model_id": "865d6728014e4feebb80a6271d253983",
       "version_major": 2,
       "version_minor": 0
      },
      "text/plain": [
       "Validation:   0%|          | 0/47 [00:00<?, ?it/s]"
      ]
     },
     "metadata": {},
     "output_type": "display_data"
    },
    {
     "name": "stdout",
     "output_type": "stream",
     "text": [
      "Epoch 18/50, Train Loss: 4.6397, Val Loss: 5.1674\n",
      "Model checkpoint saved!\n",
      "Epoch 19/50\r"
     ]
    },
    {
     "data": {
      "application/vnd.jupyter.widget-view+json": {
       "model_id": "b6b8102f1312480abff143fdafc8409d",
       "version_major": 2,
       "version_minor": 0
      },
      "text/plain": [
       "Training:   0%|          | 0/94 [00:00<?, ?it/s]"
      ]
     },
     "metadata": {},
     "output_type": "display_data"
    },
    {
     "data": {
      "application/vnd.jupyter.widget-view+json": {
       "model_id": "f2bf0104e81d47df973c50f0518d3f13",
       "version_major": 2,
       "version_minor": 0
      },
      "text/plain": [
       "Validation:   0%|          | 0/47 [00:00<?, ?it/s]"
      ]
     },
     "metadata": {},
     "output_type": "display_data"
    },
    {
     "name": "stdout",
     "output_type": "stream",
     "text": [
      "Epoch 19/50, Train Loss: 4.5607, Val Loss: 5.1575\n",
      "Model checkpoint saved!\n",
      "Epoch 20/50\r"
     ]
    },
    {
     "data": {
      "application/vnd.jupyter.widget-view+json": {
       "model_id": "9d00c78a24f8499cb1bc970662b13d98",
       "version_major": 2,
       "version_minor": 0
      },
      "text/plain": [
       "Training:   0%|          | 0/94 [00:00<?, ?it/s]"
      ]
     },
     "metadata": {},
     "output_type": "display_data"
    },
    {
     "data": {
      "application/vnd.jupyter.widget-view+json": {
       "model_id": "93ea605670cf4ecf961c8f608905e38a",
       "version_major": 2,
       "version_minor": 0
      },
      "text/plain": [
       "Validation:   0%|          | 0/47 [00:00<?, ?it/s]"
      ]
     },
     "metadata": {},
     "output_type": "display_data"
    },
    {
     "name": "stdout",
     "output_type": "stream",
     "text": [
      "Epoch 20/50, Train Loss: 4.5318, Val Loss: 5.1728\n",
      "Early stopping counter: 1/5\n",
      "Epoch 21/50\r"
     ]
    },
    {
     "data": {
      "application/vnd.jupyter.widget-view+json": {
       "model_id": "784040b8d68a46f8a152a266161a63ed",
       "version_major": 2,
       "version_minor": 0
      },
      "text/plain": [
       "Training:   0%|          | 0/94 [00:00<?, ?it/s]"
      ]
     },
     "metadata": {},
     "output_type": "display_data"
    },
    {
     "data": {
      "application/vnd.jupyter.widget-view+json": {
       "model_id": "889b0c0ef2644756944967c286b5ddc4",
       "version_major": 2,
       "version_minor": 0
      },
      "text/plain": [
       "Validation:   0%|          | 0/47 [00:00<?, ?it/s]"
      ]
     },
     "metadata": {},
     "output_type": "display_data"
    },
    {
     "name": "stdout",
     "output_type": "stream",
     "text": [
      "Epoch 21/50, Train Loss: 4.4612, Val Loss: 5.1067\n",
      "Model checkpoint saved!\n",
      "Epoch 22/50\r"
     ]
    },
    {
     "data": {
      "application/vnd.jupyter.widget-view+json": {
       "model_id": "1a402801528b4a7289ca8b00bab956a1",
       "version_major": 2,
       "version_minor": 0
      },
      "text/plain": [
       "Training:   0%|          | 0/94 [00:00<?, ?it/s]"
      ]
     },
     "metadata": {},
     "output_type": "display_data"
    },
    {
     "data": {
      "application/vnd.jupyter.widget-view+json": {
       "model_id": "ca852c72513841ac9949d0a5bc6da805",
       "version_major": 2,
       "version_minor": 0
      },
      "text/plain": [
       "Validation:   0%|          | 0/47 [00:00<?, ?it/s]"
      ]
     },
     "metadata": {},
     "output_type": "display_data"
    },
    {
     "name": "stdout",
     "output_type": "stream",
     "text": [
      "Epoch 22/50, Train Loss: 4.4024, Val Loss: 5.1114\n",
      "Early stopping counter: 1/5\n",
      "Epoch 23/50\r"
     ]
    },
    {
     "data": {
      "application/vnd.jupyter.widget-view+json": {
       "model_id": "de78cf021fd643498571cbc67c6f9f36",
       "version_major": 2,
       "version_minor": 0
      },
      "text/plain": [
       "Training:   0%|          | 0/94 [00:00<?, ?it/s]"
      ]
     },
     "metadata": {},
     "output_type": "display_data"
    },
    {
     "data": {
      "application/vnd.jupyter.widget-view+json": {
       "model_id": "0ffa415318454cfc9b4c99ec0f2f4491",
       "version_major": 2,
       "version_minor": 0
      },
      "text/plain": [
       "Validation:   0%|          | 0/47 [00:00<?, ?it/s]"
      ]
     },
     "metadata": {},
     "output_type": "display_data"
    },
    {
     "name": "stdout",
     "output_type": "stream",
     "text": [
      "Epoch 23/50, Train Loss: 4.3478, Val Loss: 5.1054\n",
      "Model checkpoint saved!\n",
      "Epoch 24/50\r"
     ]
    },
    {
     "data": {
      "application/vnd.jupyter.widget-view+json": {
       "model_id": "3a770b9b9d614d05a7cee9ec2c11e993",
       "version_major": 2,
       "version_minor": 0
      },
      "text/plain": [
       "Training:   0%|          | 0/94 [00:00<?, ?it/s]"
      ]
     },
     "metadata": {},
     "output_type": "display_data"
    },
    {
     "data": {
      "application/vnd.jupyter.widget-view+json": {
       "model_id": "37c3e7b9b137498cad1e542ed287c9d8",
       "version_major": 2,
       "version_minor": 0
      },
      "text/plain": [
       "Validation:   0%|          | 0/47 [00:00<?, ?it/s]"
      ]
     },
     "metadata": {},
     "output_type": "display_data"
    },
    {
     "name": "stdout",
     "output_type": "stream",
     "text": [
      "Epoch 24/50, Train Loss: 4.2939, Val Loss: 5.0541\n",
      "Model checkpoint saved!\n",
      "Epoch 25/50\r"
     ]
    },
    {
     "data": {
      "application/vnd.jupyter.widget-view+json": {
       "model_id": "75c063edddc242e09961cff113316397",
       "version_major": 2,
       "version_minor": 0
      },
      "text/plain": [
       "Training:   0%|          | 0/94 [00:00<?, ?it/s]"
      ]
     },
     "metadata": {},
     "output_type": "display_data"
    },
    {
     "data": {
      "application/vnd.jupyter.widget-view+json": {
       "model_id": "a1a412c0bd3e4540a61579d99a10cfa9",
       "version_major": 2,
       "version_minor": 0
      },
      "text/plain": [
       "Validation:   0%|          | 0/47 [00:00<?, ?it/s]"
      ]
     },
     "metadata": {},
     "output_type": "display_data"
    },
    {
     "name": "stdout",
     "output_type": "stream",
     "text": [
      "Epoch 25/50, Train Loss: 4.1864, Val Loss: 5.0373\n",
      "Model checkpoint saved!\n",
      "Epoch 26/50\r"
     ]
    },
    {
     "data": {
      "application/vnd.jupyter.widget-view+json": {
       "model_id": "d4d8e242353748ef88a3006a856b213e",
       "version_major": 2,
       "version_minor": 0
      },
      "text/plain": [
       "Training:   0%|          | 0/94 [00:00<?, ?it/s]"
      ]
     },
     "metadata": {},
     "output_type": "display_data"
    },
    {
     "data": {
      "application/vnd.jupyter.widget-view+json": {
       "model_id": "a071a30031c1429d9c448e3bf81e7056",
       "version_major": 2,
       "version_minor": 0
      },
      "text/plain": [
       "Validation:   0%|          | 0/47 [00:00<?, ?it/s]"
      ]
     },
     "metadata": {},
     "output_type": "display_data"
    },
    {
     "name": "stdout",
     "output_type": "stream",
     "text": [
      "Epoch 26/50, Train Loss: 4.1383, Val Loss: 5.0838\n",
      "Early stopping counter: 1/5\n",
      "Epoch 27/50\r"
     ]
    },
    {
     "data": {
      "application/vnd.jupyter.widget-view+json": {
       "model_id": "95435a9ce8b44032b473619b423259a2",
       "version_major": 2,
       "version_minor": 0
      },
      "text/plain": [
       "Training:   0%|          | 0/94 [00:00<?, ?it/s]"
      ]
     },
     "metadata": {},
     "output_type": "display_data"
    },
    {
     "data": {
      "application/vnd.jupyter.widget-view+json": {
       "model_id": "b6f65efb25a94148a3b5eadeb3f150d2",
       "version_major": 2,
       "version_minor": 0
      },
      "text/plain": [
       "Validation:   0%|          | 0/47 [00:00<?, ?it/s]"
      ]
     },
     "metadata": {},
     "output_type": "display_data"
    },
    {
     "name": "stdout",
     "output_type": "stream",
     "text": [
      "Epoch 27/50, Train Loss: 4.0973, Val Loss: 4.9880\n",
      "Model checkpoint saved!\n",
      "Epoch 28/50\r"
     ]
    },
    {
     "data": {
      "application/vnd.jupyter.widget-view+json": {
       "model_id": "a6a2af8fef114333b6803f7a89f8a729",
       "version_major": 2,
       "version_minor": 0
      },
      "text/plain": [
       "Training:   0%|          | 0/94 [00:00<?, ?it/s]"
      ]
     },
     "metadata": {},
     "output_type": "display_data"
    },
    {
     "data": {
      "application/vnd.jupyter.widget-view+json": {
       "model_id": "650fcfccefec49a88e627ba9d6a95990",
       "version_major": 2,
       "version_minor": 0
      },
      "text/plain": [
       "Validation:   0%|          | 0/47 [00:00<?, ?it/s]"
      ]
     },
     "metadata": {},
     "output_type": "display_data"
    },
    {
     "name": "stdout",
     "output_type": "stream",
     "text": [
      "Epoch 28/50, Train Loss: 4.0583, Val Loss: 5.0551\n",
      "Early stopping counter: 1/5\n",
      "Epoch 29/50\r"
     ]
    },
    {
     "data": {
      "application/vnd.jupyter.widget-view+json": {
       "model_id": "0da75d705e844ff29dbb0f4678605543",
       "version_major": 2,
       "version_minor": 0
      },
      "text/plain": [
       "Training:   0%|          | 0/94 [00:00<?, ?it/s]"
      ]
     },
     "metadata": {},
     "output_type": "display_data"
    },
    {
     "data": {
      "application/vnd.jupyter.widget-view+json": {
       "model_id": "5d0dca8401964ff6a47aab79efddb070",
       "version_major": 2,
       "version_minor": 0
      },
      "text/plain": [
       "Validation:   0%|          | 0/47 [00:00<?, ?it/s]"
      ]
     },
     "metadata": {},
     "output_type": "display_data"
    },
    {
     "name": "stdout",
     "output_type": "stream",
     "text": [
      "Epoch 29/50, Train Loss: 3.9585, Val Loss: 4.9534\n",
      "Model checkpoint saved!\n",
      "Epoch 30/50\r"
     ]
    },
    {
     "data": {
      "application/vnd.jupyter.widget-view+json": {
       "model_id": "b73b73f2c4fa4466a3ab49016baaaece",
       "version_major": 2,
       "version_minor": 0
      },
      "text/plain": [
       "Training:   0%|          | 0/94 [00:00<?, ?it/s]"
      ]
     },
     "metadata": {},
     "output_type": "display_data"
    },
    {
     "data": {
      "application/vnd.jupyter.widget-view+json": {
       "model_id": "070e70049d7a4b119095fea740177e67",
       "version_major": 2,
       "version_minor": 0
      },
      "text/plain": [
       "Validation:   0%|          | 0/47 [00:00<?, ?it/s]"
      ]
     },
     "metadata": {},
     "output_type": "display_data"
    },
    {
     "name": "stdout",
     "output_type": "stream",
     "text": [
      "Epoch 30/50, Train Loss: 3.9208, Val Loss: 5.0261\n",
      "Early stopping counter: 1/5\n",
      "Epoch 31/50\r"
     ]
    },
    {
     "data": {
      "application/vnd.jupyter.widget-view+json": {
       "model_id": "0eb2b95ff4fd4522a2f24da25df99d9b",
       "version_major": 2,
       "version_minor": 0
      },
      "text/plain": [
       "Training:   0%|          | 0/94 [00:00<?, ?it/s]"
      ]
     },
     "metadata": {},
     "output_type": "display_data"
    },
    {
     "data": {
      "application/vnd.jupyter.widget-view+json": {
       "model_id": "09c8a14aae2744ec8d0b7eec04f3a337",
       "version_major": 2,
       "version_minor": 0
      },
      "text/plain": [
       "Validation:   0%|          | 0/47 [00:00<?, ?it/s]"
      ]
     },
     "metadata": {},
     "output_type": "display_data"
    },
    {
     "name": "stdout",
     "output_type": "stream",
     "text": [
      "Epoch 31/50, Train Loss: 3.8773, Val Loss: 4.9394\n",
      "Model checkpoint saved!\n",
      "Epoch 32/50\r"
     ]
    },
    {
     "data": {
      "application/vnd.jupyter.widget-view+json": {
       "model_id": "f790ca923e31409c9d212a9a607c8006",
       "version_major": 2,
       "version_minor": 0
      },
      "text/plain": [
       "Training:   0%|          | 0/94 [00:00<?, ?it/s]"
      ]
     },
     "metadata": {},
     "output_type": "display_data"
    },
    {
     "data": {
      "application/vnd.jupyter.widget-view+json": {
       "model_id": "773d97d2c6cc4272a4ddac2ea6569977",
       "version_major": 2,
       "version_minor": 0
      },
      "text/plain": [
       "Validation:   0%|          | 0/47 [00:00<?, ?it/s]"
      ]
     },
     "metadata": {},
     "output_type": "display_data"
    },
    {
     "name": "stdout",
     "output_type": "stream",
     "text": [
      "Epoch 32/50, Train Loss: 3.7911, Val Loss: 4.9750\n",
      "Early stopping counter: 1/5\n",
      "Epoch 33/50\r"
     ]
    },
    {
     "data": {
      "application/vnd.jupyter.widget-view+json": {
       "model_id": "589bec822c7f4497b57480b8cedd5208",
       "version_major": 2,
       "version_minor": 0
      },
      "text/plain": [
       "Training:   0%|          | 0/94 [00:00<?, ?it/s]"
      ]
     },
     "metadata": {},
     "output_type": "display_data"
    },
    {
     "data": {
      "application/vnd.jupyter.widget-view+json": {
       "model_id": "1e2ea028062e44b4a62113ef5a84fa51",
       "version_major": 2,
       "version_minor": 0
      },
      "text/plain": [
       "Validation:   0%|          | 0/47 [00:00<?, ?it/s]"
      ]
     },
     "metadata": {},
     "output_type": "display_data"
    },
    {
     "name": "stdout",
     "output_type": "stream",
     "text": [
      "Epoch 33/50, Train Loss: 3.7671, Val Loss: 4.9362\n",
      "Model checkpoint saved!\n",
      "Epoch 34/50\r"
     ]
    },
    {
     "data": {
      "application/vnd.jupyter.widget-view+json": {
       "model_id": "f954a009d59447f49dcf1c2c9ca101c0",
       "version_major": 2,
       "version_minor": 0
      },
      "text/plain": [
       "Training:   0%|          | 0/94 [00:00<?, ?it/s]"
      ]
     },
     "metadata": {},
     "output_type": "display_data"
    },
    {
     "data": {
      "application/vnd.jupyter.widget-view+json": {
       "model_id": "f50de16b1d254ab7be965a708d9d2775",
       "version_major": 2,
       "version_minor": 0
      },
      "text/plain": [
       "Validation:   0%|          | 0/47 [00:00<?, ?it/s]"
      ]
     },
     "metadata": {},
     "output_type": "display_data"
    },
    {
     "name": "stdout",
     "output_type": "stream",
     "text": [
      "Epoch 34/50, Train Loss: 3.7204, Val Loss: 4.9671\n",
      "Early stopping counter: 1/5\n",
      "Epoch 35/50\r"
     ]
    },
    {
     "data": {
      "application/vnd.jupyter.widget-view+json": {
       "model_id": "8c3c04e58f4744ff9674c3e70a23c702",
       "version_major": 2,
       "version_minor": 0
      },
      "text/plain": [
       "Training:   0%|          | 0/94 [00:00<?, ?it/s]"
      ]
     },
     "metadata": {},
     "output_type": "display_data"
    },
    {
     "data": {
      "application/vnd.jupyter.widget-view+json": {
       "model_id": "f19278f641124d4489b169152dcf5481",
       "version_major": 2,
       "version_minor": 0
      },
      "text/plain": [
       "Validation:   0%|          | 0/47 [00:00<?, ?it/s]"
      ]
     },
     "metadata": {},
     "output_type": "display_data"
    },
    {
     "name": "stdout",
     "output_type": "stream",
     "text": [
      "Epoch 35/50, Train Loss: 3.6581, Val Loss: 4.9168\n",
      "Model checkpoint saved!\n",
      "Epoch 36/50\r"
     ]
    },
    {
     "data": {
      "application/vnd.jupyter.widget-view+json": {
       "model_id": "f72bc1c76a0d44d08a88d9bef8a2ad5b",
       "version_major": 2,
       "version_minor": 0
      },
      "text/plain": [
       "Training:   0%|          | 0/94 [00:00<?, ?it/s]"
      ]
     },
     "metadata": {},
     "output_type": "display_data"
    },
    {
     "data": {
      "application/vnd.jupyter.widget-view+json": {
       "model_id": "0928d369977745c78502bf04dfe8607a",
       "version_major": 2,
       "version_minor": 0
      },
      "text/plain": [
       "Validation:   0%|          | 0/47 [00:00<?, ?it/s]"
      ]
     },
     "metadata": {},
     "output_type": "display_data"
    },
    {
     "name": "stdout",
     "output_type": "stream",
     "text": [
      "Epoch 36/50, Train Loss: 3.6372, Val Loss: 4.9340\n",
      "Early stopping counter: 1/5\n",
      "Epoch 37/50\r"
     ]
    },
    {
     "data": {
      "application/vnd.jupyter.widget-view+json": {
       "model_id": "7eff5475c99949d4904e6f3b352ebd80",
       "version_major": 2,
       "version_minor": 0
      },
      "text/plain": [
       "Training:   0%|          | 0/94 [00:00<?, ?it/s]"
      ]
     },
     "metadata": {},
     "output_type": "display_data"
    },
    {
     "data": {
      "application/vnd.jupyter.widget-view+json": {
       "model_id": "dc642b022778455c943d50394078f66b",
       "version_major": 2,
       "version_minor": 0
      },
      "text/plain": [
       "Validation:   0%|          | 0/47 [00:00<?, ?it/s]"
      ]
     },
     "metadata": {},
     "output_type": "display_data"
    },
    {
     "name": "stdout",
     "output_type": "stream",
     "text": [
      "Epoch 37/50, Train Loss: 3.5877, Val Loss: 4.8642\n",
      "Model checkpoint saved!\n",
      "Epoch 38/50\r"
     ]
    },
    {
     "data": {
      "application/vnd.jupyter.widget-view+json": {
       "model_id": "c935dbb2daab42849d08907e1b841438",
       "version_major": 2,
       "version_minor": 0
      },
      "text/plain": [
       "Training:   0%|          | 0/94 [00:00<?, ?it/s]"
      ]
     },
     "metadata": {},
     "output_type": "display_data"
    },
    {
     "data": {
      "application/vnd.jupyter.widget-view+json": {
       "model_id": "08f452f37dce4d8e841e5d6651d9b415",
       "version_major": 2,
       "version_minor": 0
      },
      "text/plain": [
       "Validation:   0%|          | 0/47 [00:00<?, ?it/s]"
      ]
     },
     "metadata": {},
     "output_type": "display_data"
    },
    {
     "name": "stdout",
     "output_type": "stream",
     "text": [
      "Epoch 38/50, Train Loss: 3.5404, Val Loss: 4.8882\n",
      "Early stopping counter: 1/5\n",
      "Epoch 39/50\r"
     ]
    },
    {
     "data": {
      "application/vnd.jupyter.widget-view+json": {
       "model_id": "3d578e7df14947edab5e0672d950252e",
       "version_major": 2,
       "version_minor": 0
      },
      "text/plain": [
       "Training:   0%|          | 0/94 [00:00<?, ?it/s]"
      ]
     },
     "metadata": {},
     "output_type": "display_data"
    },
    {
     "data": {
      "application/vnd.jupyter.widget-view+json": {
       "model_id": "72f8e572e5674b47b48a611ae75e2f95",
       "version_major": 2,
       "version_minor": 0
      },
      "text/plain": [
       "Validation:   0%|          | 0/47 [00:00<?, ?it/s]"
      ]
     },
     "metadata": {},
     "output_type": "display_data"
    },
    {
     "name": "stdout",
     "output_type": "stream",
     "text": [
      "Epoch 39/50, Train Loss: 3.4890, Val Loss: 4.8774\n",
      "Early stopping counter: 2/5\n",
      "Epoch 40/50\r"
     ]
    },
    {
     "data": {
      "application/vnd.jupyter.widget-view+json": {
       "model_id": "a37560c8f8644634958cc3afa7cdb216",
       "version_major": 2,
       "version_minor": 0
      },
      "text/plain": [
       "Training:   0%|          | 0/94 [00:00<?, ?it/s]"
      ]
     },
     "metadata": {},
     "output_type": "display_data"
    },
    {
     "data": {
      "application/vnd.jupyter.widget-view+json": {
       "model_id": "6a63cd5fcc084a0289fb220ecf2a95a4",
       "version_major": 2,
       "version_minor": 0
      },
      "text/plain": [
       "Validation:   0%|          | 0/47 [00:00<?, ?it/s]"
      ]
     },
     "metadata": {},
     "output_type": "display_data"
    },
    {
     "name": "stdout",
     "output_type": "stream",
     "text": [
      "Epoch 40/50, Train Loss: 3.4940, Val Loss: 4.8893\n",
      "Early stopping counter: 3/5\n",
      "Epoch 41/50\r"
     ]
    },
    {
     "data": {
      "application/vnd.jupyter.widget-view+json": {
       "model_id": "e16b16f9eecf469cb4f97fff773e6c9d",
       "version_major": 2,
       "version_minor": 0
      },
      "text/plain": [
       "Training:   0%|          | 0/94 [00:00<?, ?it/s]"
      ]
     },
     "metadata": {},
     "output_type": "display_data"
    },
    {
     "data": {
      "application/vnd.jupyter.widget-view+json": {
       "model_id": "cdbc60a523da48e8b8f0e4f6de3bb630",
       "version_major": 2,
       "version_minor": 0
      },
      "text/plain": [
       "Validation:   0%|          | 0/47 [00:00<?, ?it/s]"
      ]
     },
     "metadata": {},
     "output_type": "display_data"
    },
    {
     "name": "stdout",
     "output_type": "stream",
     "text": [
      "Epoch 41/50, Train Loss: 3.4276, Val Loss: 4.8854\n",
      "Early stopping counter: 4/5\n",
      "Epoch 42/50\r"
     ]
    },
    {
     "data": {
      "application/vnd.jupyter.widget-view+json": {
       "model_id": "c0fc197dc8c04c3f9f7a85226ab71ef9",
       "version_major": 2,
       "version_minor": 0
      },
      "text/plain": [
       "Training:   0%|          | 0/94 [00:00<?, ?it/s]"
      ]
     },
     "metadata": {},
     "output_type": "display_data"
    },
    {
     "data": {
      "application/vnd.jupyter.widget-view+json": {
       "model_id": "7b7fa3d63c514cf2ae33d86843ed6255",
       "version_major": 2,
       "version_minor": 0
      },
      "text/plain": [
       "Validation:   0%|          | 0/47 [00:00<?, ?it/s]"
      ]
     },
     "metadata": {},
     "output_type": "display_data"
    },
    {
     "name": "stdout",
     "output_type": "stream",
     "text": [
      "Epoch 42/50, Train Loss: 3.3815, Val Loss: 4.8795\n",
      "Early stopping counter: 5/5\n",
      "Early stopping triggered.\n",
      "Fold 3/3\n",
      "Epoch 1/50\r"
     ]
    },
    {
     "data": {
      "application/vnd.jupyter.widget-view+json": {
       "model_id": "13a3de1523d947cba49bb8add2dc6b2d",
       "version_major": 2,
       "version_minor": 0
      },
      "text/plain": [
       "Training:   0%|          | 0/94 [00:00<?, ?it/s]"
      ]
     },
     "metadata": {},
     "output_type": "display_data"
    },
    {
     "data": {
      "application/vnd.jupyter.widget-view+json": {
       "model_id": "0b4e80a1480f45aca104dfc1c2118485",
       "version_major": 2,
       "version_minor": 0
      },
      "text/plain": [
       "Validation:   0%|          | 0/47 [00:00<?, ?it/s]"
      ]
     },
     "metadata": {},
     "output_type": "display_data"
    },
    {
     "name": "stdout",
     "output_type": "stream",
     "text": [
      "Epoch 1/50, Train Loss: 5.9722, Val Loss: 5.7820\n",
      "Model checkpoint saved!\n",
      "Epoch 2/50\r"
     ]
    },
    {
     "data": {
      "application/vnd.jupyter.widget-view+json": {
       "model_id": "208b554f8cb14ab4b300f408e1e7dbdc",
       "version_major": 2,
       "version_minor": 0
      },
      "text/plain": [
       "Training:   0%|          | 0/94 [00:00<?, ?it/s]"
      ]
     },
     "metadata": {},
     "output_type": "display_data"
    },
    {
     "data": {
      "application/vnd.jupyter.widget-view+json": {
       "model_id": "7eb56a494d744c6694fccd24fe4002dd",
       "version_major": 2,
       "version_minor": 0
      },
      "text/plain": [
       "Validation:   0%|          | 0/47 [00:00<?, ?it/s]"
      ]
     },
     "metadata": {},
     "output_type": "display_data"
    },
    {
     "name": "stdout",
     "output_type": "stream",
     "text": [
      "Epoch 2/50, Train Loss: 5.7602, Val Loss: 5.6834\n",
      "Model checkpoint saved!\n",
      "Epoch 3/50\r"
     ]
    },
    {
     "data": {
      "application/vnd.jupyter.widget-view+json": {
       "model_id": "5150fb3f7cef4f1b9f20a0ca278b3051",
       "version_major": 2,
       "version_minor": 0
      },
      "text/plain": [
       "Training:   0%|          | 0/94 [00:00<?, ?it/s]"
      ]
     },
     "metadata": {},
     "output_type": "display_data"
    },
    {
     "data": {
      "application/vnd.jupyter.widget-view+json": {
       "model_id": "7855d203648447fd806425cf13792cbe",
       "version_major": 2,
       "version_minor": 0
      },
      "text/plain": [
       "Validation:   0%|          | 0/47 [00:00<?, ?it/s]"
      ]
     },
     "metadata": {},
     "output_type": "display_data"
    },
    {
     "name": "stdout",
     "output_type": "stream",
     "text": [
      "Epoch 3/50, Train Loss: 5.5820, Val Loss: 5.4786\n",
      "Model checkpoint saved!\n",
      "Epoch 4/50\r"
     ]
    },
    {
     "data": {
      "application/vnd.jupyter.widget-view+json": {
       "model_id": "c933d15294704a26b5e19fecf2ec6890",
       "version_major": 2,
       "version_minor": 0
      },
      "text/plain": [
       "Training:   0%|          | 0/94 [00:00<?, ?it/s]"
      ]
     },
     "metadata": {},
     "output_type": "display_data"
    },
    {
     "data": {
      "application/vnd.jupyter.widget-view+json": {
       "model_id": "bcabefdcc00344dc8bb7edaf30cd0138",
       "version_major": 2,
       "version_minor": 0
      },
      "text/plain": [
       "Validation:   0%|          | 0/47 [00:00<?, ?it/s]"
      ]
     },
     "metadata": {},
     "output_type": "display_data"
    },
    {
     "name": "stdout",
     "output_type": "stream",
     "text": [
      "Epoch 4/50, Train Loss: 5.4411, Val Loss: 5.3968\n",
      "Model checkpoint saved!\n",
      "Epoch 5/50\r"
     ]
    },
    {
     "data": {
      "application/vnd.jupyter.widget-view+json": {
       "model_id": "265fabc7a2574b26812f870a08f41ac8",
       "version_major": 2,
       "version_minor": 0
      },
      "text/plain": [
       "Training:   0%|          | 0/94 [00:00<?, ?it/s]"
      ]
     },
     "metadata": {},
     "output_type": "display_data"
    },
    {
     "data": {
      "application/vnd.jupyter.widget-view+json": {
       "model_id": "46a2164a5e2346c4951558a667f37333",
       "version_major": 2,
       "version_minor": 0
      },
      "text/plain": [
       "Validation:   0%|          | 0/47 [00:00<?, ?it/s]"
      ]
     },
     "metadata": {},
     "output_type": "display_data"
    },
    {
     "name": "stdout",
     "output_type": "stream",
     "text": [
      "Epoch 5/50, Train Loss: 5.3756, Val Loss: 5.3862\n",
      "Model checkpoint saved!\n",
      "Epoch 6/50\r"
     ]
    },
    {
     "data": {
      "application/vnd.jupyter.widget-view+json": {
       "model_id": "976c4c35f95c40369f1f500f83eae773",
       "version_major": 2,
       "version_minor": 0
      },
      "text/plain": [
       "Training:   0%|          | 0/94 [00:00<?, ?it/s]"
      ]
     },
     "metadata": {},
     "output_type": "display_data"
    },
    {
     "data": {
      "application/vnd.jupyter.widget-view+json": {
       "model_id": "a07bd8f1731a4ad39f5ef07cee43448f",
       "version_major": 2,
       "version_minor": 0
      },
      "text/plain": [
       "Validation:   0%|          | 0/47 [00:00<?, ?it/s]"
      ]
     },
     "metadata": {},
     "output_type": "display_data"
    },
    {
     "name": "stdout",
     "output_type": "stream",
     "text": [
      "Epoch 6/50, Train Loss: 5.3207, Val Loss: 5.3824\n",
      "Model checkpoint saved!\n",
      "Epoch 7/50\r"
     ]
    },
    {
     "data": {
      "application/vnd.jupyter.widget-view+json": {
       "model_id": "eda8dc58a18142d298846a614e3d07ea",
       "version_major": 2,
       "version_minor": 0
      },
      "text/plain": [
       "Training:   0%|          | 0/94 [00:00<?, ?it/s]"
      ]
     },
     "metadata": {},
     "output_type": "display_data"
    },
    {
     "data": {
      "application/vnd.jupyter.widget-view+json": {
       "model_id": "19257213b9844929b3fcd7ed2e6f1973",
       "version_major": 2,
       "version_minor": 0
      },
      "text/plain": [
       "Validation:   0%|          | 0/47 [00:00<?, ?it/s]"
      ]
     },
     "metadata": {},
     "output_type": "display_data"
    },
    {
     "name": "stdout",
     "output_type": "stream",
     "text": [
      "Epoch 7/50, Train Loss: 5.2791, Val Loss: 5.3895\n",
      "Early stopping counter: 1/5\n",
      "Epoch 8/50\r"
     ]
    },
    {
     "data": {
      "application/vnd.jupyter.widget-view+json": {
       "model_id": "061ad26030714e7daad35de80f2350cf",
       "version_major": 2,
       "version_minor": 0
      },
      "text/plain": [
       "Training:   0%|          | 0/94 [00:00<?, ?it/s]"
      ]
     },
     "metadata": {},
     "output_type": "display_data"
    },
    {
     "data": {
      "application/vnd.jupyter.widget-view+json": {
       "model_id": "9090aedf77254a638d129e9c1e953cd5",
       "version_major": 2,
       "version_minor": 0
      },
      "text/plain": [
       "Validation:   0%|          | 0/47 [00:00<?, ?it/s]"
      ]
     },
     "metadata": {},
     "output_type": "display_data"
    },
    {
     "name": "stdout",
     "output_type": "stream",
     "text": [
      "Epoch 8/50, Train Loss: 5.2369, Val Loss: 5.3642\n",
      "Model checkpoint saved!\n",
      "Epoch 9/50\r"
     ]
    },
    {
     "data": {
      "application/vnd.jupyter.widget-view+json": {
       "model_id": "851ba9be494041ab82b07a21eb1a9c3c",
       "version_major": 2,
       "version_minor": 0
      },
      "text/plain": [
       "Training:   0%|          | 0/94 [00:00<?, ?it/s]"
      ]
     },
     "metadata": {},
     "output_type": "display_data"
    },
    {
     "data": {
      "application/vnd.jupyter.widget-view+json": {
       "model_id": "b5fdaa2e0ff1467ea167d73783d72295",
       "version_major": 2,
       "version_minor": 0
      },
      "text/plain": [
       "Validation:   0%|          | 0/47 [00:00<?, ?it/s]"
      ]
     },
     "metadata": {},
     "output_type": "display_data"
    },
    {
     "name": "stdout",
     "output_type": "stream",
     "text": [
      "Epoch 9/50, Train Loss: 5.1922, Val Loss: 5.3925\n",
      "Early stopping counter: 1/5\n",
      "Epoch 10/50\r"
     ]
    },
    {
     "data": {
      "application/vnd.jupyter.widget-view+json": {
       "model_id": "6637f75385d44fd781ea4de016847ed8",
       "version_major": 2,
       "version_minor": 0
      },
      "text/plain": [
       "Training:   0%|          | 0/94 [00:00<?, ?it/s]"
      ]
     },
     "metadata": {},
     "output_type": "display_data"
    },
    {
     "data": {
      "application/vnd.jupyter.widget-view+json": {
       "model_id": "04ac3f2cdaee4e35bceefd4d2793fe1c",
       "version_major": 2,
       "version_minor": 0
      },
      "text/plain": [
       "Validation:   0%|          | 0/47 [00:00<?, ?it/s]"
      ]
     },
     "metadata": {},
     "output_type": "display_data"
    },
    {
     "name": "stdout",
     "output_type": "stream",
     "text": [
      "Epoch 10/50, Train Loss: 5.1497, Val Loss: 5.3784\n",
      "Early stopping counter: 2/5\n",
      "Epoch 11/50\r"
     ]
    },
    {
     "data": {
      "application/vnd.jupyter.widget-view+json": {
       "model_id": "a79b25b1e46046448a12ea051dca1e9c",
       "version_major": 2,
       "version_minor": 0
      },
      "text/plain": [
       "Training:   0%|          | 0/94 [00:00<?, ?it/s]"
      ]
     },
     "metadata": {},
     "output_type": "display_data"
    },
    {
     "data": {
      "application/vnd.jupyter.widget-view+json": {
       "model_id": "3e118504008044f4887b5482c0026fb2",
       "version_major": 2,
       "version_minor": 0
      },
      "text/plain": [
       "Validation:   0%|          | 0/47 [00:00<?, ?it/s]"
      ]
     },
     "metadata": {},
     "output_type": "display_data"
    },
    {
     "name": "stdout",
     "output_type": "stream",
     "text": [
      "Epoch 11/50, Train Loss: 5.0842, Val Loss: 5.3747\n",
      "Early stopping counter: 3/5\n",
      "Epoch 12/50\r"
     ]
    },
    {
     "data": {
      "application/vnd.jupyter.widget-view+json": {
       "model_id": "73c62fe0509946d580aecf21e6558aeb",
       "version_major": 2,
       "version_minor": 0
      },
      "text/plain": [
       "Training:   0%|          | 0/94 [00:00<?, ?it/s]"
      ]
     },
     "metadata": {},
     "output_type": "display_data"
    },
    {
     "data": {
      "application/vnd.jupyter.widget-view+json": {
       "model_id": "e380d7e6749a4c559d648731d4431457",
       "version_major": 2,
       "version_minor": 0
      },
      "text/plain": [
       "Validation:   0%|          | 0/47 [00:00<?, ?it/s]"
      ]
     },
     "metadata": {},
     "output_type": "display_data"
    },
    {
     "name": "stdout",
     "output_type": "stream",
     "text": [
      "Epoch 12/50, Train Loss: 5.0116, Val Loss: 5.3150\n",
      "Model checkpoint saved!\n",
      "Epoch 13/50\r"
     ]
    },
    {
     "data": {
      "application/vnd.jupyter.widget-view+json": {
       "model_id": "b493374d82194ac48bbd471ce521bb1c",
       "version_major": 2,
       "version_minor": 0
      },
      "text/plain": [
       "Training:   0%|          | 0/94 [00:00<?, ?it/s]"
      ]
     },
     "metadata": {},
     "output_type": "display_data"
    },
    {
     "data": {
      "application/vnd.jupyter.widget-view+json": {
       "model_id": "9781e10502c04541a3f9bf057749428e",
       "version_major": 2,
       "version_minor": 0
      },
      "text/plain": [
       "Validation:   0%|          | 0/47 [00:00<?, ?it/s]"
      ]
     },
     "metadata": {},
     "output_type": "display_data"
    },
    {
     "name": "stdout",
     "output_type": "stream",
     "text": [
      "Epoch 13/50, Train Loss: 4.9574, Val Loss: 5.2584\n",
      "Model checkpoint saved!\n",
      "Epoch 14/50\r"
     ]
    },
    {
     "data": {
      "application/vnd.jupyter.widget-view+json": {
       "model_id": "a2e5938eaadb45609e9ec29f2315407d",
       "version_major": 2,
       "version_minor": 0
      },
      "text/plain": [
       "Training:   0%|          | 0/94 [00:00<?, ?it/s]"
      ]
     },
     "metadata": {},
     "output_type": "display_data"
    },
    {
     "data": {
      "application/vnd.jupyter.widget-view+json": {
       "model_id": "688e47302a5e4a3c90140db4190329a5",
       "version_major": 2,
       "version_minor": 0
      },
      "text/plain": [
       "Validation:   0%|          | 0/47 [00:00<?, ?it/s]"
      ]
     },
     "metadata": {},
     "output_type": "display_data"
    },
    {
     "name": "stdout",
     "output_type": "stream",
     "text": [
      "Epoch 14/50, Train Loss: 4.8709, Val Loss: 5.1647\n",
      "Model checkpoint saved!\n",
      "Epoch 15/50\r"
     ]
    },
    {
     "data": {
      "application/vnd.jupyter.widget-view+json": {
       "model_id": "c6d2b0031a2d4c5cbb476249a49e2f79",
       "version_major": 2,
       "version_minor": 0
      },
      "text/plain": [
       "Training:   0%|          | 0/94 [00:00<?, ?it/s]"
      ]
     },
     "metadata": {},
     "output_type": "display_data"
    },
    {
     "data": {
      "application/vnd.jupyter.widget-view+json": {
       "model_id": "f60918eac3894432bc6dc50eb70b4194",
       "version_major": 2,
       "version_minor": 0
      },
      "text/plain": [
       "Validation:   0%|          | 0/47 [00:00<?, ?it/s]"
      ]
     },
     "metadata": {},
     "output_type": "display_data"
    },
    {
     "name": "stdout",
     "output_type": "stream",
     "text": [
      "Epoch 15/50, Train Loss: 4.7746, Val Loss: 5.0667\n",
      "Model checkpoint saved!\n",
      "Epoch 16/50\r"
     ]
    },
    {
     "data": {
      "application/vnd.jupyter.widget-view+json": {
       "model_id": "92d6e2b4bdc14960ae4ef11fe4b77c2a",
       "version_major": 2,
       "version_minor": 0
      },
      "text/plain": [
       "Training:   0%|          | 0/94 [00:00<?, ?it/s]"
      ]
     },
     "metadata": {},
     "output_type": "display_data"
    },
    {
     "data": {
      "application/vnd.jupyter.widget-view+json": {
       "model_id": "83a3a137fd644673adad000fa10d4419",
       "version_major": 2,
       "version_minor": 0
      },
      "text/plain": [
       "Validation:   0%|          | 0/47 [00:00<?, ?it/s]"
      ]
     },
     "metadata": {},
     "output_type": "display_data"
    },
    {
     "name": "stdout",
     "output_type": "stream",
     "text": [
      "Epoch 16/50, Train Loss: 4.6673, Val Loss: 5.0679\n",
      "Early stopping counter: 1/5\n",
      "Epoch 17/50\r"
     ]
    },
    {
     "data": {
      "application/vnd.jupyter.widget-view+json": {
       "model_id": "45fde553459f490d90176fdf54504ce9",
       "version_major": 2,
       "version_minor": 0
      },
      "text/plain": [
       "Training:   0%|          | 0/94 [00:00<?, ?it/s]"
      ]
     },
     "metadata": {},
     "output_type": "display_data"
    },
    {
     "data": {
      "application/vnd.jupyter.widget-view+json": {
       "model_id": "27698d6313ee4852a564c4290c666a14",
       "version_major": 2,
       "version_minor": 0
      },
      "text/plain": [
       "Validation:   0%|          | 0/47 [00:00<?, ?it/s]"
      ]
     },
     "metadata": {},
     "output_type": "display_data"
    },
    {
     "name": "stdout",
     "output_type": "stream",
     "text": [
      "Epoch 17/50, Train Loss: 4.5995, Val Loss: 5.0282\n",
      "Model checkpoint saved!\n",
      "Epoch 18/50\r"
     ]
    },
    {
     "data": {
      "application/vnd.jupyter.widget-view+json": {
       "model_id": "132679ed5c114e28833d129aed2a4934",
       "version_major": 2,
       "version_minor": 0
      },
      "text/plain": [
       "Training:   0%|          | 0/94 [00:00<?, ?it/s]"
      ]
     },
     "metadata": {},
     "output_type": "display_data"
    },
    {
     "data": {
      "application/vnd.jupyter.widget-view+json": {
       "model_id": "e678bdd36ca044cda9381575fa6c3af2",
       "version_major": 2,
       "version_minor": 0
      },
      "text/plain": [
       "Validation:   0%|          | 0/47 [00:00<?, ?it/s]"
      ]
     },
     "metadata": {},
     "output_type": "display_data"
    },
    {
     "name": "stdout",
     "output_type": "stream",
     "text": [
      "Epoch 18/50, Train Loss: 4.5031, Val Loss: 4.9799\n",
      "Model checkpoint saved!\n",
      "Epoch 19/50\r"
     ]
    },
    {
     "data": {
      "application/vnd.jupyter.widget-view+json": {
       "model_id": "1150c44063aa4bc6b60d20f0525f7539",
       "version_major": 2,
       "version_minor": 0
      },
      "text/plain": [
       "Training:   0%|          | 0/94 [00:00<?, ?it/s]"
      ]
     },
     "metadata": {},
     "output_type": "display_data"
    },
    {
     "data": {
      "application/vnd.jupyter.widget-view+json": {
       "model_id": "d4b4c17962bd4fc5bc1253f2fc3ccee7",
       "version_major": 2,
       "version_minor": 0
      },
      "text/plain": [
       "Validation:   0%|          | 0/47 [00:00<?, ?it/s]"
      ]
     },
     "metadata": {},
     "output_type": "display_data"
    },
    {
     "name": "stdout",
     "output_type": "stream",
     "text": [
      "Epoch 19/50, Train Loss: 4.4134, Val Loss: 4.9489\n",
      "Model checkpoint saved!\n",
      "Epoch 20/50\r"
     ]
    },
    {
     "data": {
      "application/vnd.jupyter.widget-view+json": {
       "model_id": "53df7f44522a4a6881246f1432eb58e4",
       "version_major": 2,
       "version_minor": 0
      },
      "text/plain": [
       "Training:   0%|          | 0/94 [00:00<?, ?it/s]"
      ]
     },
     "metadata": {},
     "output_type": "display_data"
    },
    {
     "data": {
      "application/vnd.jupyter.widget-view+json": {
       "model_id": "c036784f5ac941c6a01a629b73115646",
       "version_major": 2,
       "version_minor": 0
      },
      "text/plain": [
       "Validation:   0%|          | 0/47 [00:00<?, ?it/s]"
      ]
     },
     "metadata": {},
     "output_type": "display_data"
    },
    {
     "name": "stdout",
     "output_type": "stream",
     "text": [
      "Epoch 20/50, Train Loss: 4.3757, Val Loss: 4.9448\n",
      "Model checkpoint saved!\n",
      "Epoch 21/50\r"
     ]
    },
    {
     "data": {
      "application/vnd.jupyter.widget-view+json": {
       "model_id": "4874ab963bd444d49b1a67d299b2c316",
       "version_major": 2,
       "version_minor": 0
      },
      "text/plain": [
       "Training:   0%|          | 0/94 [00:00<?, ?it/s]"
      ]
     },
     "metadata": {},
     "output_type": "display_data"
    },
    {
     "data": {
      "application/vnd.jupyter.widget-view+json": {
       "model_id": "ed05175f4ab54019888a7dacf63689ad",
       "version_major": 2,
       "version_minor": 0
      },
      "text/plain": [
       "Validation:   0%|          | 0/47 [00:00<?, ?it/s]"
      ]
     },
     "metadata": {},
     "output_type": "display_data"
    },
    {
     "name": "stdout",
     "output_type": "stream",
     "text": [
      "Epoch 21/50, Train Loss: 4.3355, Val Loss: 4.8935\n",
      "Model checkpoint saved!\n",
      "Epoch 22/50\r"
     ]
    },
    {
     "data": {
      "application/vnd.jupyter.widget-view+json": {
       "model_id": "c92f6cf4c3ec4408a6bee5e16bdb193c",
       "version_major": 2,
       "version_minor": 0
      },
      "text/plain": [
       "Training:   0%|          | 0/94 [00:00<?, ?it/s]"
      ]
     },
     "metadata": {},
     "output_type": "display_data"
    },
    {
     "data": {
      "application/vnd.jupyter.widget-view+json": {
       "model_id": "12fbb11114d44d599832362edbda2360",
       "version_major": 2,
       "version_minor": 0
      },
      "text/plain": [
       "Validation:   0%|          | 0/47 [00:00<?, ?it/s]"
      ]
     },
     "metadata": {},
     "output_type": "display_data"
    },
    {
     "name": "stdout",
     "output_type": "stream",
     "text": [
      "Epoch 22/50, Train Loss: 4.2531, Val Loss: 4.8585\n",
      "Model checkpoint saved!\n",
      "Epoch 23/50\r"
     ]
    },
    {
     "data": {
      "application/vnd.jupyter.widget-view+json": {
       "model_id": "03d64d254d184f2cbbad890479b5e018",
       "version_major": 2,
       "version_minor": 0
      },
      "text/plain": [
       "Training:   0%|          | 0/94 [00:00<?, ?it/s]"
      ]
     },
     "metadata": {},
     "output_type": "display_data"
    },
    {
     "data": {
      "application/vnd.jupyter.widget-view+json": {
       "model_id": "85af10614d0442148230368dab8fcc50",
       "version_major": 2,
       "version_minor": 0
      },
      "text/plain": [
       "Validation:   0%|          | 0/47 [00:00<?, ?it/s]"
      ]
     },
     "metadata": {},
     "output_type": "display_data"
    },
    {
     "name": "stdout",
     "output_type": "stream",
     "text": [
      "Epoch 23/50, Train Loss: 4.2470, Val Loss: 4.8909\n",
      "Early stopping counter: 1/5\n",
      "Epoch 24/50\r"
     ]
    },
    {
     "data": {
      "application/vnd.jupyter.widget-view+json": {
       "model_id": "6ed92e7a787440629309e2c157518ce4",
       "version_major": 2,
       "version_minor": 0
      },
      "text/plain": [
       "Training:   0%|          | 0/94 [00:00<?, ?it/s]"
      ]
     },
     "metadata": {},
     "output_type": "display_data"
    },
    {
     "data": {
      "application/vnd.jupyter.widget-view+json": {
       "model_id": "9e7e43900b3d421e9d271fc5b84a8a14",
       "version_major": 2,
       "version_minor": 0
      },
      "text/plain": [
       "Validation:   0%|          | 0/47 [00:00<?, ?it/s]"
      ]
     },
     "metadata": {},
     "output_type": "display_data"
    },
    {
     "name": "stdout",
     "output_type": "stream",
     "text": [
      "Epoch 24/50, Train Loss: 4.1576, Val Loss: 4.8899\n",
      "Early stopping counter: 2/5\n",
      "Epoch 25/50\r"
     ]
    },
    {
     "data": {
      "application/vnd.jupyter.widget-view+json": {
       "model_id": "780c221364da4f93bd1d7813fdf82d94",
       "version_major": 2,
       "version_minor": 0
      },
      "text/plain": [
       "Training:   0%|          | 0/94 [00:00<?, ?it/s]"
      ]
     },
     "metadata": {},
     "output_type": "display_data"
    },
    {
     "data": {
      "application/vnd.jupyter.widget-view+json": {
       "model_id": "f89bf965a1d94c848f5d982881f5e2c4",
       "version_major": 2,
       "version_minor": 0
      },
      "text/plain": [
       "Validation:   0%|          | 0/47 [00:00<?, ?it/s]"
      ]
     },
     "metadata": {},
     "output_type": "display_data"
    },
    {
     "name": "stdout",
     "output_type": "stream",
     "text": [
      "Epoch 25/50, Train Loss: 4.1557, Val Loss: 4.8627\n",
      "Early stopping counter: 3/5\n",
      "Epoch 26/50\r"
     ]
    },
    {
     "data": {
      "application/vnd.jupyter.widget-view+json": {
       "model_id": "2223642623ac4f0bb1ad7b610ca7801b",
       "version_major": 2,
       "version_minor": 0
      },
      "text/plain": [
       "Training:   0%|          | 0/94 [00:00<?, ?it/s]"
      ]
     },
     "metadata": {},
     "output_type": "display_data"
    },
    {
     "data": {
      "application/vnd.jupyter.widget-view+json": {
       "model_id": "b32390dd784f4857bb939b0df1b7020e",
       "version_major": 2,
       "version_minor": 0
      },
      "text/plain": [
       "Validation:   0%|          | 0/47 [00:00<?, ?it/s]"
      ]
     },
     "metadata": {},
     "output_type": "display_data"
    },
    {
     "name": "stdout",
     "output_type": "stream",
     "text": [
      "Epoch 26/50, Train Loss: 4.0960, Val Loss: 4.7741\n",
      "Model checkpoint saved!\n",
      "Epoch 27/50\r"
     ]
    },
    {
     "data": {
      "application/vnd.jupyter.widget-view+json": {
       "model_id": "db795523609948deaf5eb8f5d99c3c49",
       "version_major": 2,
       "version_minor": 0
      },
      "text/plain": [
       "Training:   0%|          | 0/94 [00:00<?, ?it/s]"
      ]
     },
     "metadata": {},
     "output_type": "display_data"
    },
    {
     "data": {
      "application/vnd.jupyter.widget-view+json": {
       "model_id": "f6825fba53b542619d9c1f5bfaaa48bd",
       "version_major": 2,
       "version_minor": 0
      },
      "text/plain": [
       "Validation:   0%|          | 0/47 [00:00<?, ?it/s]"
      ]
     },
     "metadata": {},
     "output_type": "display_data"
    },
    {
     "name": "stdout",
     "output_type": "stream",
     "text": [
      "Epoch 27/50, Train Loss: 4.0612, Val Loss: 4.7630\n",
      "Model checkpoint saved!\n",
      "Epoch 28/50\r"
     ]
    },
    {
     "data": {
      "application/vnd.jupyter.widget-view+json": {
       "model_id": "ec031dac02e347d893a824f8d0ddbaec",
       "version_major": 2,
       "version_minor": 0
      },
      "text/plain": [
       "Training:   0%|          | 0/94 [00:00<?, ?it/s]"
      ]
     },
     "metadata": {},
     "output_type": "display_data"
    },
    {
     "data": {
      "application/vnd.jupyter.widget-view+json": {
       "model_id": "f33a051271374dedaa9519c623ad159e",
       "version_major": 2,
       "version_minor": 0
      },
      "text/plain": [
       "Validation:   0%|          | 0/47 [00:00<?, ?it/s]"
      ]
     },
     "metadata": {},
     "output_type": "display_data"
    },
    {
     "name": "stdout",
     "output_type": "stream",
     "text": [
      "Epoch 28/50, Train Loss: 4.0280, Val Loss: 4.8542\n",
      "Early stopping counter: 1/5\n",
      "Epoch 29/50\r"
     ]
    },
    {
     "data": {
      "application/vnd.jupyter.widget-view+json": {
       "model_id": "f2388b1b520b46bf821fc0420c90db7f",
       "version_major": 2,
       "version_minor": 0
      },
      "text/plain": [
       "Training:   0%|          | 0/94 [00:00<?, ?it/s]"
      ]
     },
     "metadata": {},
     "output_type": "display_data"
    },
    {
     "data": {
      "application/vnd.jupyter.widget-view+json": {
       "model_id": "7681be1ec1cd426690814d7d372df63b",
       "version_major": 2,
       "version_minor": 0
      },
      "text/plain": [
       "Validation:   0%|          | 0/47 [00:00<?, ?it/s]"
      ]
     },
     "metadata": {},
     "output_type": "display_data"
    },
    {
     "name": "stdout",
     "output_type": "stream",
     "text": [
      "Epoch 29/50, Train Loss: 3.9864, Val Loss: 4.7712\n",
      "Early stopping counter: 2/5\n",
      "Epoch 30/50\r"
     ]
    },
    {
     "data": {
      "application/vnd.jupyter.widget-view+json": {
       "model_id": "446769761bc849189cc90646973133e1",
       "version_major": 2,
       "version_minor": 0
      },
      "text/plain": [
       "Training:   0%|          | 0/94 [00:00<?, ?it/s]"
      ]
     },
     "metadata": {},
     "output_type": "display_data"
    },
    {
     "data": {
      "application/vnd.jupyter.widget-view+json": {
       "model_id": "85706ac9f7934d0b9cd0945a670ec6c9",
       "version_major": 2,
       "version_minor": 0
      },
      "text/plain": [
       "Validation:   0%|          | 0/47 [00:00<?, ?it/s]"
      ]
     },
     "metadata": {},
     "output_type": "display_data"
    },
    {
     "name": "stdout",
     "output_type": "stream",
     "text": [
      "Epoch 30/50, Train Loss: 3.9617, Val Loss: 4.7554\n",
      "Model checkpoint saved!\n",
      "Epoch 31/50\r"
     ]
    },
    {
     "data": {
      "application/vnd.jupyter.widget-view+json": {
       "model_id": "05830f6034414af5b574c6d4f95d8597",
       "version_major": 2,
       "version_minor": 0
      },
      "text/plain": [
       "Training:   0%|          | 0/94 [00:00<?, ?it/s]"
      ]
     },
     "metadata": {},
     "output_type": "display_data"
    },
    {
     "data": {
      "application/vnd.jupyter.widget-view+json": {
       "model_id": "f40469ec730f442b9c7f8dcf9eac0c94",
       "version_major": 2,
       "version_minor": 0
      },
      "text/plain": [
       "Validation:   0%|          | 0/47 [00:00<?, ?it/s]"
      ]
     },
     "metadata": {},
     "output_type": "display_data"
    },
    {
     "name": "stdout",
     "output_type": "stream",
     "text": [
      "Epoch 31/50, Train Loss: 3.8776, Val Loss: 4.6725\n",
      "Model checkpoint saved!\n",
      "Epoch 32/50\r"
     ]
    },
    {
     "data": {
      "application/vnd.jupyter.widget-view+json": {
       "model_id": "686a8e1e76fa4333964c9e46802de1ac",
       "version_major": 2,
       "version_minor": 0
      },
      "text/plain": [
       "Training:   0%|          | 0/94 [00:00<?, ?it/s]"
      ]
     },
     "metadata": {},
     "output_type": "display_data"
    },
    {
     "data": {
      "application/vnd.jupyter.widget-view+json": {
       "model_id": "d64a1bcaf9194494abff746a93880b83",
       "version_major": 2,
       "version_minor": 0
      },
      "text/plain": [
       "Validation:   0%|          | 0/47 [00:00<?, ?it/s]"
      ]
     },
     "metadata": {},
     "output_type": "display_data"
    },
    {
     "name": "stdout",
     "output_type": "stream",
     "text": [
      "Epoch 32/50, Train Loss: 3.8977, Val Loss: 4.7710\n",
      "Early stopping counter: 1/5\n",
      "Epoch 33/50\r"
     ]
    },
    {
     "data": {
      "application/vnd.jupyter.widget-view+json": {
       "model_id": "5e73c37c32ae4f70b1964b094e6675b7",
       "version_major": 2,
       "version_minor": 0
      },
      "text/plain": [
       "Training:   0%|          | 0/94 [00:00<?, ?it/s]"
      ]
     },
     "metadata": {},
     "output_type": "display_data"
    },
    {
     "data": {
      "application/vnd.jupyter.widget-view+json": {
       "model_id": "9d04133a63a149b69d119d0892c838ae",
       "version_major": 2,
       "version_minor": 0
      },
      "text/plain": [
       "Validation:   0%|          | 0/47 [00:00<?, ?it/s]"
      ]
     },
     "metadata": {},
     "output_type": "display_data"
    },
    {
     "name": "stdout",
     "output_type": "stream",
     "text": [
      "Epoch 33/50, Train Loss: 3.8787, Val Loss: 4.7003\n",
      "Early stopping counter: 2/5\n",
      "Epoch 34/50\r"
     ]
    },
    {
     "data": {
      "application/vnd.jupyter.widget-view+json": {
       "model_id": "f45dcd5b9922426ebe7d1adc6ea63305",
       "version_major": 2,
       "version_minor": 0
      },
      "text/plain": [
       "Training:   0%|          | 0/94 [00:00<?, ?it/s]"
      ]
     },
     "metadata": {},
     "output_type": "display_data"
    },
    {
     "data": {
      "application/vnd.jupyter.widget-view+json": {
       "model_id": "e22ad574354d4e4c9d69a3470182c198",
       "version_major": 2,
       "version_minor": 0
      },
      "text/plain": [
       "Validation:   0%|          | 0/47 [00:00<?, ?it/s]"
      ]
     },
     "metadata": {},
     "output_type": "display_data"
    },
    {
     "name": "stdout",
     "output_type": "stream",
     "text": [
      "Epoch 34/50, Train Loss: 3.8320, Val Loss: 4.6599\n",
      "Model checkpoint saved!\n",
      "Epoch 35/50\r"
     ]
    },
    {
     "data": {
      "application/vnd.jupyter.widget-view+json": {
       "model_id": "39209c4a117040b38d15824cd9f24b85",
       "version_major": 2,
       "version_minor": 0
      },
      "text/plain": [
       "Training:   0%|          | 0/94 [00:00<?, ?it/s]"
      ]
     },
     "metadata": {},
     "output_type": "display_data"
    },
    {
     "data": {
      "application/vnd.jupyter.widget-view+json": {
       "model_id": "70f3a93dc0b24223be5540e41509b441",
       "version_major": 2,
       "version_minor": 0
      },
      "text/plain": [
       "Validation:   0%|          | 0/47 [00:00<?, ?it/s]"
      ]
     },
     "metadata": {},
     "output_type": "display_data"
    },
    {
     "name": "stdout",
     "output_type": "stream",
     "text": [
      "Epoch 35/50, Train Loss: 3.7722, Val Loss: 4.6436\n",
      "Model checkpoint saved!\n",
      "Epoch 36/50\r"
     ]
    },
    {
     "data": {
      "application/vnd.jupyter.widget-view+json": {
       "model_id": "477f520f3ca5478e8458419fe9891fc5",
       "version_major": 2,
       "version_minor": 0
      },
      "text/plain": [
       "Training:   0%|          | 0/94 [00:00<?, ?it/s]"
      ]
     },
     "metadata": {},
     "output_type": "display_data"
    },
    {
     "data": {
      "application/vnd.jupyter.widget-view+json": {
       "model_id": "c5f954d8bddc455ea8b3686c460ffc53",
       "version_major": 2,
       "version_minor": 0
      },
      "text/plain": [
       "Validation:   0%|          | 0/47 [00:00<?, ?it/s]"
      ]
     },
     "metadata": {},
     "output_type": "display_data"
    },
    {
     "name": "stdout",
     "output_type": "stream",
     "text": [
      "Epoch 36/50, Train Loss: 3.7540, Val Loss: 4.6470\n",
      "Early stopping counter: 1/5\n",
      "Epoch 37/50\r"
     ]
    },
    {
     "data": {
      "application/vnd.jupyter.widget-view+json": {
       "model_id": "16f00c0a6d6b44768ebd68776fc2a0c2",
       "version_major": 2,
       "version_minor": 0
      },
      "text/plain": [
       "Training:   0%|          | 0/94 [00:00<?, ?it/s]"
      ]
     },
     "metadata": {},
     "output_type": "display_data"
    },
    {
     "data": {
      "application/vnd.jupyter.widget-view+json": {
       "model_id": "d246f18b7cc9440e860a69a22deca9c9",
       "version_major": 2,
       "version_minor": 0
      },
      "text/plain": [
       "Validation:   0%|          | 0/47 [00:00<?, ?it/s]"
      ]
     },
     "metadata": {},
     "output_type": "display_data"
    },
    {
     "name": "stdout",
     "output_type": "stream",
     "text": [
      "Epoch 37/50, Train Loss: 3.7268, Val Loss: 4.6931\n",
      "Early stopping counter: 2/5\n",
      "Epoch 38/50\r"
     ]
    },
    {
     "data": {
      "application/vnd.jupyter.widget-view+json": {
       "model_id": "54a1e5c3ad3e48388bd20575c3e5579c",
       "version_major": 2,
       "version_minor": 0
      },
      "text/plain": [
       "Training:   0%|          | 0/94 [00:00<?, ?it/s]"
      ]
     },
     "metadata": {},
     "output_type": "display_data"
    },
    {
     "data": {
      "application/vnd.jupyter.widget-view+json": {
       "model_id": "c3c16023df9d459493108b897f8c2f9b",
       "version_major": 2,
       "version_minor": 0
      },
      "text/plain": [
       "Validation:   0%|          | 0/47 [00:00<?, ?it/s]"
      ]
     },
     "metadata": {},
     "output_type": "display_data"
    },
    {
     "name": "stdout",
     "output_type": "stream",
     "text": [
      "Epoch 38/50, Train Loss: 3.6690, Val Loss: 4.6144\n",
      "Model checkpoint saved!\n",
      "Epoch 39/50\r"
     ]
    },
    {
     "data": {
      "application/vnd.jupyter.widget-view+json": {
       "model_id": "452137adaaef4b44ae4df4e0068c6c0d",
       "version_major": 2,
       "version_minor": 0
      },
      "text/plain": [
       "Training:   0%|          | 0/94 [00:00<?, ?it/s]"
      ]
     },
     "metadata": {},
     "output_type": "display_data"
    },
    {
     "data": {
      "application/vnd.jupyter.widget-view+json": {
       "model_id": "d630f82082184f80ad5da4d85d3954cd",
       "version_major": 2,
       "version_minor": 0
      },
      "text/plain": [
       "Validation:   0%|          | 0/47 [00:00<?, ?it/s]"
      ]
     },
     "metadata": {},
     "output_type": "display_data"
    },
    {
     "name": "stdout",
     "output_type": "stream",
     "text": [
      "Epoch 39/50, Train Loss: 3.6966, Val Loss: 4.6399\n",
      "Early stopping counter: 1/5\n",
      "Epoch 40/50\r"
     ]
    },
    {
     "data": {
      "application/vnd.jupyter.widget-view+json": {
       "model_id": "c7cad5accd9841ab81884a095d572acb",
       "version_major": 2,
       "version_minor": 0
      },
      "text/plain": [
       "Training:   0%|          | 0/94 [00:00<?, ?it/s]"
      ]
     },
     "metadata": {},
     "output_type": "display_data"
    },
    {
     "data": {
      "application/vnd.jupyter.widget-view+json": {
       "model_id": "fe5be3082ea44d8ca849881f432fb1d7",
       "version_major": 2,
       "version_minor": 0
      },
      "text/plain": [
       "Validation:   0%|          | 0/47 [00:00<?, ?it/s]"
      ]
     },
     "metadata": {},
     "output_type": "display_data"
    },
    {
     "name": "stdout",
     "output_type": "stream",
     "text": [
      "Epoch 40/50, Train Loss: 3.6415, Val Loss: 4.5800\n",
      "Model checkpoint saved!\n",
      "Epoch 41/50\r"
     ]
    },
    {
     "data": {
      "application/vnd.jupyter.widget-view+json": {
       "model_id": "ee8fd46b56124e2a8b9d2eb23731839b",
       "version_major": 2,
       "version_minor": 0
      },
      "text/plain": [
       "Training:   0%|          | 0/94 [00:00<?, ?it/s]"
      ]
     },
     "metadata": {},
     "output_type": "display_data"
    },
    {
     "data": {
      "application/vnd.jupyter.widget-view+json": {
       "model_id": "1191c04daae54e22b685d175f0c91a5f",
       "version_major": 2,
       "version_minor": 0
      },
      "text/plain": [
       "Validation:   0%|          | 0/47 [00:00<?, ?it/s]"
      ]
     },
     "metadata": {},
     "output_type": "display_data"
    },
    {
     "name": "stdout",
     "output_type": "stream",
     "text": [
      "Epoch 41/50, Train Loss: 3.6384, Val Loss: 4.5739\n",
      "Model checkpoint saved!\n",
      "Epoch 42/50\r"
     ]
    },
    {
     "data": {
      "application/vnd.jupyter.widget-view+json": {
       "model_id": "3a5beda716294b85b97be46a16afde71",
       "version_major": 2,
       "version_minor": 0
      },
      "text/plain": [
       "Training:   0%|          | 0/94 [00:00<?, ?it/s]"
      ]
     },
     "metadata": {},
     "output_type": "display_data"
    },
    {
     "data": {
      "application/vnd.jupyter.widget-view+json": {
       "model_id": "40dfa0d3973b44caa914cf652b648198",
       "version_major": 2,
       "version_minor": 0
      },
      "text/plain": [
       "Validation:   0%|          | 0/47 [00:00<?, ?it/s]"
      ]
     },
     "metadata": {},
     "output_type": "display_data"
    },
    {
     "name": "stdout",
     "output_type": "stream",
     "text": [
      "Epoch 42/50, Train Loss: 3.5582, Val Loss: 4.6203\n",
      "Early stopping counter: 1/5\n",
      "Epoch 43/50\r"
     ]
    },
    {
     "data": {
      "application/vnd.jupyter.widget-view+json": {
       "model_id": "7024e29352dc42bab9a21dfeb0115648",
       "version_major": 2,
       "version_minor": 0
      },
      "text/plain": [
       "Training:   0%|          | 0/94 [00:00<?, ?it/s]"
      ]
     },
     "metadata": {},
     "output_type": "display_data"
    },
    {
     "data": {
      "application/vnd.jupyter.widget-view+json": {
       "model_id": "d14a31c632a74317af6ba30c83e7b459",
       "version_major": 2,
       "version_minor": 0
      },
      "text/plain": [
       "Validation:   0%|          | 0/47 [00:00<?, ?it/s]"
      ]
     },
     "metadata": {},
     "output_type": "display_data"
    },
    {
     "name": "stdout",
     "output_type": "stream",
     "text": [
      "Epoch 43/50, Train Loss: 3.5212, Val Loss: 4.6174\n",
      "Early stopping counter: 2/5\n",
      "Epoch 44/50\r"
     ]
    },
    {
     "data": {
      "application/vnd.jupyter.widget-view+json": {
       "model_id": "c9216313fa9d40d0ac6409ecbcf151be",
       "version_major": 2,
       "version_minor": 0
      },
      "text/plain": [
       "Training:   0%|          | 0/94 [00:00<?, ?it/s]"
      ]
     },
     "metadata": {},
     "output_type": "display_data"
    },
    {
     "data": {
      "application/vnd.jupyter.widget-view+json": {
       "model_id": "8a539503eacb49028dcb5cc6b867c7f6",
       "version_major": 2,
       "version_minor": 0
      },
      "text/plain": [
       "Validation:   0%|          | 0/47 [00:00<?, ?it/s]"
      ]
     },
     "metadata": {},
     "output_type": "display_data"
    },
    {
     "name": "stdout",
     "output_type": "stream",
     "text": [
      "Epoch 44/50, Train Loss: 3.5004, Val Loss: 4.6773\n",
      "Early stopping counter: 3/5\n",
      "Epoch 45/50\r"
     ]
    },
    {
     "data": {
      "application/vnd.jupyter.widget-view+json": {
       "model_id": "376984e3a0e34799bfcaccd91a00ff49",
       "version_major": 2,
       "version_minor": 0
      },
      "text/plain": [
       "Training:   0%|          | 0/94 [00:00<?, ?it/s]"
      ]
     },
     "metadata": {},
     "output_type": "display_data"
    },
    {
     "data": {
      "application/vnd.jupyter.widget-view+json": {
       "model_id": "0c59e44ab02448f7a31db03a1037b70b",
       "version_major": 2,
       "version_minor": 0
      },
      "text/plain": [
       "Validation:   0%|          | 0/47 [00:00<?, ?it/s]"
      ]
     },
     "metadata": {},
     "output_type": "display_data"
    },
    {
     "name": "stdout",
     "output_type": "stream",
     "text": [
      "Epoch 45/50, Train Loss: 3.4890, Val Loss: 4.6772\n",
      "Early stopping counter: 4/5\n",
      "Epoch 46/50\r"
     ]
    },
    {
     "data": {
      "application/vnd.jupyter.widget-view+json": {
       "model_id": "5b1c9fd1e9714cfabb071b0284aa5d5b",
       "version_major": 2,
       "version_minor": 0
      },
      "text/plain": [
       "Training:   0%|          | 0/94 [00:00<?, ?it/s]"
      ]
     },
     "metadata": {},
     "output_type": "display_data"
    },
    {
     "data": {
      "application/vnd.jupyter.widget-view+json": {
       "model_id": "7d0bfe4950bf4b61969cb8dfd73119b9",
       "version_major": 2,
       "version_minor": 0
      },
      "text/plain": [
       "Validation:   0%|          | 0/47 [00:00<?, ?it/s]"
      ]
     },
     "metadata": {},
     "output_type": "display_data"
    },
    {
     "name": "stdout",
     "output_type": "stream",
     "text": [
      "Epoch 46/50, Train Loss: 3.4685, Val Loss: 4.5971\n",
      "Early stopping counter: 5/5\n",
      "Early stopping triggered.\n",
      "\n",
      "Cross-validation results:\n",
      "Fold 1: Validation Loss = 4.6166\n",
      "Fold 2: Validation Loss = 4.8642\n",
      "Fold 3: Validation Loss = 4.5739\n",
      "Average Validation Loss: 4.6849\n"
     ]
    }
   ],
   "source": [
    "import torch\n",
    "from torch.utils.data import Dataset, DataLoader, Subset\n",
    "import torch.nn as nn\n",
    "import torch.optim as optim\n",
    "from sklearn.model_selection import KFold\n",
    "from tqdm.notebook import tqdm  # Use notebook-friendly version of tqdm\n",
    "#[I 2025-05-20 08:13:51,105] Trial 81 finished with value: 4.896993033091227 and parameters: {'learning_rate': 0.0005724968553464205, 'hidden_size': 128, 'dropout_rate': 0.3047487972033454, 'batch_size': 32, 'weight_decay': 0.0001401874995351432, 'num_layers': 3}. Best is trial 81 with value: 4.896993033091227.\n",
    "\n",
    "# Use best hyperparameters from grid search\n",
    "best_lr = best_params['learning_rate']\n",
    "best_hidden_size = best_params['hidden_size']\n",
    "best_dropout_rate = best_params['dropout_rate']\n",
    "best_batch_size = max(2, best_params['batch_size'])  # Ensure batch size is above 1\n",
    "best_weight_decay = best_params['weight_decay']\n",
    "best_num_layers = best_params['num_layers']\n",
    "\n",
    "print(f\"Training with best hyperparameters:\")\n",
    "print(f\"  Learning rate: {best_lr}\")\n",
    "print(f\"  Hidden size: {best_hidden_size}\")\n",
    "print(f\"  Dropout rate: {best_dropout_rate}\")\n",
    "print(f\"  Batch size: {best_batch_size}\")\n",
    "print(f\"  Weight decay: {best_weight_decay}\")\n",
    "print(f\"  Number of layers: {best_num_layers}\")\n",
    "\n",
    "from sklearn.model_selection import StratifiedKFold\n",
    "\n",
    "# Extract targets for stratification\n",
    "all_targets = torch.tensor([train_dataset[i][1] for i in range(len(train_dataset))])\n",
    "k_folds = 3\n",
    "skf = StratifiedKFold(n_splits=k_folds, shuffle=True, random_state=42)\n",
    "\n",
    "# Training with stratified k-fold\n",
    "fold_results = []\n",
    "for fold, (train_idx, val_idx) in enumerate(skf.split(torch.zeros(len(all_targets)), all_targets)):\n",
    "    print(f\"Fold {fold+1}/{k_folds}\")\n",
    "\n",
    "    # Create data loaders for current fold\n",
    "    train_subset = Subset(train_dataset, train_idx)\n",
    "    val_subset = Subset(train_dataset, val_idx)\n",
    "    train_loader = DataLoader(train_subset, batch_size=best_batch_size, shuffle=True)\n",
    "    val_loader = DataLoader(val_subset, batch_size=best_batch_size, shuffle=False)\n",
    "\n",
    "    # Recreate model for each fold with best hyperparameters\n",
    "    model = BiLSTM(\n",
    "        input_size, best_hidden_size, output_size, num_layers=best_num_layers, dropout_rate=best_dropout_rate).to(device)\n",
    "\n",
    "    # Define the loss function and optimizer with weight decay\n",
    "    criterion = nn.CrossEntropyLoss(weight=class_weights)\n",
    "    optimizer = optim.Adam(model.parameters(), lr=best_lr, weight_decay=best_weight_decay)\n",
    "    # Use ReduceLROnPlateau scheduler for better learning rate adaptation\n",
    "    scheduler = optim.lr_scheduler.ReduceLROnPlateau(optimizer, mode='min', factor=0.5, patience=5)\n",
    "\n",
    "    # Training loop\n",
    "    train_losses = []\n",
    "    val_losses = []\n",
    "    patience = 5\n",
    "    early_stop_counter = 0\n",
    "    best_val_loss = float('inf')\n",
    "    epochs = 50\n",
    "    for epoch in range(epochs):\n",
    "        print(f\"Epoch {epoch+1}/{epochs}\", end=\"\\r\")\n",
    "        model.train()\n",
    "        train_loss = 0\n",
    "        for batch in tqdm(train_loader, desc=f\"Training\", leave=False):\n",
    "            inputs, targets, lengths = batch\n",
    "            inputs, targets, lengths = inputs.to(device), targets.to(device), lengths.to(device)\n",
    "            optimizer.zero_grad()\n",
    "            outputs = model(inputs, lengths)\n",
    "            loss = criterion(outputs, targets)\n",
    "            loss.backward()\n",
    "            optimizer.step()\n",
    "            train_loss += loss.item()\n",
    "        train_loss /= len(train_loader)\n",
    "        train_losses.append(train_loss)\n",
    "\n",
    "        # Validation loop\n",
    "        model.eval()\n",
    "        val_loss = 0\n",
    "        with torch.no_grad():\n",
    "            for batch in tqdm(val_loader, desc=f\"Validation\", leave=False):\n",
    "                inputs, targets, lengths = batch\n",
    "                inputs, targets, lengths = inputs.to(device), targets.to(device), lengths.to(device)\n",
    "                outputs = model(inputs, lengths)\n",
    "                loss = criterion(outputs, targets)\n",
    "                val_loss += loss.item()\n",
    "        val_loss /= len(val_loader)\n",
    "        val_losses.append(val_loss)\n",
    "\n",
    "        # Print progress only once per epoch\n",
    "        print(f\"Epoch {epoch+1}/{epochs}, Train Loss: {train_loss:.4f}, Val Loss: {val_loss:.4f}\")\n",
    "\n",
    "        # Step the scheduler\n",
    "        scheduler.step(val_loss)\n",
    "\n",
    "        # Save the model if validation loss improves\n",
    "        if val_loss < best_val_loss:\n",
    "            best_val_loss = val_loss\n",
    "            torch.save(model.state_dict(), f\"best_model_fold{fold+1}.pth\")\n",
    "            print(\"Model checkpoint saved!\")\n",
    "            early_stop_counter = 0\n",
    "        else:\n",
    "            early_stop_counter += 1\n",
    "            print(f\"Early stopping counter: {early_stop_counter}/{patience}\")\n",
    "        if early_stop_counter >= patience:\n",
    "            print(\"Early stopping triggered.\")\n",
    "            break\n",
    "\n",
    "    fold_results.append(best_val_loss)\n",
    "\n",
    "# Print cross-validation results\n",
    "print(\"\\nCross-validation results:\")\n",
    "for fold, loss in enumerate(fold_results):\n",
    "    print(f\"Fold {fold+1}: Validation Loss = {loss:.4f}\")\n",
    "print(f\"Average Validation Loss: {sum(fold_results)/len(fold_results):.4f}\")"
   ]
  },
  {
   "cell_type": "code",
   "execution_count": 44,
   "id": "de0b33db",
   "metadata": {},
   "outputs": [
    {
     "data": {
      "image/png": "[encoded data removed]",
      "text/plain": [
       "<Figure size 1000x600 with 1 Axes>"
      ]
     },
     "metadata": {},
     "output_type": "display_data"
    }
   ],
   "source": [
    "# Plot Training and Validation Loss Curves\n",
    "import matplotlib.pyplot as plt\n",
    "plt.figure(figsize=(10, 6))\n",
    "plt.plot(train_losses, label=\"Training Loss\")\n",
    "plt.plot(val_losses, label=\"Validation Loss\")\n",
    "plt.xlabel(\"Epochs\")\n",
    "plt.ylabel(\"Loss\")\n",
    "plt.title(\"Training and Validation Loss Curves\")\n",
    "plt.legend()\n",
    "plt.show()"
   ]
  },
  {
   "cell_type": "markdown",
   "id": "2ab7bf6d",
   "metadata": {},
   "source": [
    "# Evaluation\n",
    "\n",
    "Evaluate the model on the test set and display metrics.\n"
   ]
  },
  {
   "cell_type": "code",
   "execution_count": null,
   "id": "260e4178",
   "metadata": {},
   "outputs": [],
   "source": [
    "# Evaluate the model\n",
    "test_dataset = ASLDataset(X_test, y_test, mask_test.sum(axis=1).astype(int))\n",
    "test_loader = DataLoader(test_dataset, batch_size=best_batch_size, shuffle=False)\n",
    "model.eval()\n",
    "test_loss = 0\n",
    "correct = 0\n",
    "total = 0\n",
    "with torch.no_grad():\n",
    "    for batch in test_loader:\n",
    "        inputs, targets, lengths = batch\n",
    "        inputs, targets, lengths = inputs.to(device), targets.to(device), lengths.to(device)\n",
    "        outputs = model(inputs, lengths)\n",
    "        loss = criterion(outputs, targets)\n",
    "        test_loss += loss.item()\n",
    "        _, predicted = torch.max(outputs, 1)\n",
    "        correct += (predicted == targets).sum().item()\n",
    "        total += targets.size(0)\n",
    "test_loss /= len(test_loader)\n",
    "accuracy = correct / total\n",
    "print(f\"Test Loss: {test_loss:.4f}, Test Accuracy: {accuracy:.4f}\")\n",
    "\n",
    "# Save the model for transfer learning\n",
    "os.makedirs('./models', exist_ok=True)  # Create directory if it doesn't exist\n",
    "torch.save({\n",
    "    'model_state_dict': model.state_dict(),\n",
    "    'input_size': input_size,\n",
    "    'hidden_size': best_hidden_size,\n",
    "    'dropout_rate': best_dropout_rate,\n",
    "    'output_size': output_size,\n",
    "    'accuracy': accuracy\n",
    "}, \"./models/transfer_learning_model.pth\")\n",
    "print(\"Model saved for transfer learning!\")"
   ]
  },
  {
   "cell_type": "markdown",
   "id": "d90776ea",
   "metadata": {},
   "source": [
    "# Inference\n",
    "\n",
    "Test the model on new data or perform real-time inference.\n"
   ]
  },
  {
   "cell_type": "code",
   "execution_count": null,
   "id": "c6bb18cc",
   "metadata": {},
   "outputs": [],
   "source": [
    "# Example inference\n",
    "model.eval()\n",
    "sample = torch.tensor(X_test[0:1], dtype=torch.float32).to(device)\n",
    "sample_length = torch.tensor([mask_test[0].sum()], dtype=torch.long).to(device)\n",
    "with torch.no_grad():\n",
    "    prediction = model(sample, sample_length)\n",
    "    predicted_label = torch.argmax(prediction, dim=1).item()\n",
    "print(f\"Predicted label: {predicted_label}, True label: {y_test[0]}\")"
   ]
  }
 ],
 "metadata": {
  "kernelspec": {
   "display_name": "aslpose",
   "language": "python",
   "name": "python3"
  },
  "language_info": {
   "codemirror_mode": {
    "name": "ipython",
    "version": 3
   },
   "file_extension": ".py",
   "mimetype": "text/x-python",
   "name": "python",
   "nbconvert_exporter": "python",
   "pygments_lexer": "ipython3",
   "version": "3.10.16"
  }
 },
 "nbformat": 4,
 "nbformat_minor": 5
}
