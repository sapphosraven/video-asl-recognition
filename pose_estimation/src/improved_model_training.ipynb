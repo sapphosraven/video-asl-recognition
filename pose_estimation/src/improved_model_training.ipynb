{
 "cells": [
  {
   "cell_type": "markdown",
   "id": "2d4e8737",
   "metadata": {},
   "source": [
    "# ASL Recognition: Improved End-to-End Training with Regularization\n",
    "\n",
    "This notebook implements an improved training workflow for ASL recognition with:\n",
    "\n",
    "1. Advanced model architectures (GRU, LSTM)\n",
    "2. Data augmentation for time series data\n",
    "3. Enhanced regularization techniques\n",
    "4. Learning rate scheduling\n",
    "5. Cross-validation\n",
    "6. Model evaluation and visualization\n"
   ]
  },
  {
   "cell_type": "code",
   "execution_count": 20,
   "id": "75d36ded",
   "metadata": {},
   "outputs": [
    {
     "name": "stdout",
     "output_type": "stream",
     "text": [
      "Using device: cuda\n"
     ]
    }
   ],
   "source": [
    "# Import Required Libraries\n",
    "import os\n",
    "import json\n",
    "import numpy as np\n",
    "import pandas as pd\n",
    "import matplotlib.pyplot as plt\n",
    "from pathlib import Path\n",
    "from sklearn.model_selection import train_test_split\n",
    "import torch\n",
    "import torch.nn as nn\n",
    "import torch.optim as optim\n",
    "from torch.utils.data import DataLoader, Dataset\n",
    "from tqdm import tqdm\n",
    "import seaborn as sns\n",
    "from sklearn.metrics import confusion_matrix, classification_report\n",
    "\n",
    "# Import custom modules\n",
    "from improved_models import ImprovedRNNModel, LSTMModel\n",
    "from data_augmentation import TimeseriesAugmenter\n",
    "from model_trainer import ModelTrainer\n",
    "\n",
    "# Set random seeds for reproducibility\n",
    "torch.manual_seed(42)\n",
    "np.random.seed(42)\n",
    "\n",
    "# Check for GPU availability\n",
    "device = torch.device(\"cuda\" if torch.cuda.is_available() else \"cpu\")\n",
    "print(f\"Using device: {device}\")"
   ]
  },
  {
   "cell_type": "markdown",
   "id": "4be8a9c1",
   "metadata": {},
   "source": [
    "# Data Loading and Preprocessing\n",
    "\n",
    "We'll load the preprocessed keypoints from the JSON files and normalize them.\n"
   ]
  },
  {
   "cell_type": "code",
   "execution_count": 15,
   "id": "35bb577b",
   "metadata": {},
   "outputs": [
    {
     "name": "stdout",
     "output_type": "stream",
     "text": [
      "Loading keypoints from f:\\Uni_Stuff\\6th_Sem\\DL\\Proj\\video-asl-recognition\\pose_estimation\\data\\keypoints\n"
     ]
    },
    {
     "name": "stderr",
     "output_type": "stream",
     "text": [
      "Loading keypoint files: 100%|██████████| 3202/3202 [00:22<00:00, 143.22it/s]\n"
     ]
    },
    {
     "name": "stdout",
     "output_type": "stream",
     "text": [
      "Processed 3202 files successfully, skipped 0 files\n"
     ]
    }
   ],
   "source": [
    "# Configuration\n",
    "DATA_DIR = Path(r'f:\\Uni_Stuff\\6th_Sem\\DL\\Proj\\video-asl-recognition\\pose_estimation\\data\\keypoints')\n",
    "\n",
    "# Load and normalize keypoints (reusing the function from model_training.ipynb)\n",
    "def load_keypoints(data_dir):\n",
    "    data = []\n",
    "    labels = []\n",
    "    skipped_files = 0\n",
    "    processed_files = 0\n",
    "    print(f\"Loading keypoints from {data_dir}\")\n",
    "    # Gather all json files from all label directories\n",
    "    all_json_files = []\n",
    "    for label_dir in data_dir.iterdir():\n",
    "        if label_dir.is_dir():\n",
    "            all_json_files.extend(list(label_dir.glob('*.json')))\n",
    "    # Use a single tqdm progress bar for all files\n",
    "    for json_file in tqdm(all_json_files, desc=\"Loading keypoint files\"):\n",
    "        try:\n",
    "            with open(json_file, 'r') as f:\n",
    "                content = json.load(f)\n",
    "                if 'keypoints' not in content or 'label' not in content:\n",
    "                    skipped_files += 1\n",
    "                    continue\n",
    "                keypoints = content['keypoints']\n",
    "                label = content['label']\n",
    "                processed_frames = []\n",
    "                for frame in keypoints:\n",
    "                    left_hand_features = np.zeros(63, dtype=np.float32)\n",
    "                    right_hand_features = np.zeros(63, dtype=np.float32)\n",
    "                    pose_features = np.zeros(99, dtype=np.float32)\n",
    "                    if 'hands' in frame and frame['hands']:\n",
    "                        for i, hand in enumerate(frame['hands']):\n",
    "                            if i < 2:\n",
    "                                hand_features = []\n",
    "                                for point in hand:\n",
    "                                    if isinstance(point, list) and len(point) == 3:\n",
    "                                        hand_features.extend(point)\n",
    "                                if i == 0 and len(hand_features) <= 63:\n",
    "                                    left_hand_features[:len(hand_features)] = hand_features\n",
    "                                elif i == 1 and len(hand_features) <= 63:\n",
    "                                    right_hand_features[:len(hand_features)] = hand_features\n",
    "                    if 'pose' in frame and frame['pose']:\n",
    "                        pose_data = []\n",
    "                        for point in frame['pose']:\n",
    "                            if isinstance(point, list) and len(point) == 3:\n",
    "                                pose_data.extend(point)\n",
    "                        if len(pose_data) <= 99:\n",
    "                            pose_features[:len(pose_data)] = pose_data\n",
    "                    frame_features = np.concatenate([left_hand_features, right_hand_features, pose_features])\n",
    "                    processed_frames.append(frame_features)\n",
    "                if processed_frames:\n",
    "                    processed_data = np.array(processed_frames, dtype=np.float32)\n",
    "                    if processed_data.shape[0] > 0 and processed_data.shape[1] > 0:\n",
    "                        data.append(processed_data)\n",
    "                        labels.append(label)\n",
    "                        processed_files += 1\n",
    "                    else:\n",
    "                        skipped_files += 1\n",
    "                else:\n",
    "                    skipped_files += 1\n",
    "        except Exception as e:\n",
    "            skipped_files += 1\n",
    "    print(f\"Processed {processed_files} files successfully, skipped {skipped_files} files\")\n",
    "    if not data:\n",
    "        print(\"Warning: No valid data was loaded!\")\n",
    "        return np.array([]), np.array([])\n",
    "    max_seq_len = max(sample.shape[0] for sample in data)\n",
    "    feature_dim = data[0].shape[1]\n",
    "    padded_data = []\n",
    "    for sample in data:\n",
    "        if sample.shape[0] < max_seq_len:\n",
    "            padding = np.zeros((max_seq_len - sample.shape[0], feature_dim), dtype=np.float32)\n",
    "            padded_sample = np.vstack((sample, padding))\n",
    "        else:\n",
    "            padded_sample = sample[:max_seq_len]\n",
    "        padded_data.append(padded_sample)\n",
    "    return np.array(padded_data), np.array(labels)\n",
    "\n",
    "# Load data\n",
    "data, labels = load_keypoints(DATA_DIR)"
   ]
  },
  {
   "cell_type": "markdown",
   "id": "97d17fcd",
   "metadata": {},
   "source": [
    "# Feature Normalization and Preprocessing\n",
    "\n",
    "We'll normalize the features to improve training stability.\n"
   ]
  },
  {
   "cell_type": "code",
   "execution_count": 21,
   "id": "7a7e37e2",
   "metadata": {},
   "outputs": [
    {
     "name": "stdout",
     "output_type": "stream",
     "text": [
      "Data shape after normalization: (3202, 60, 225)\n",
      "Label to index mapping: {'about': 0, 'accident': 1, 'africa': 2, 'again': 3, 'all': 4, 'always': 5, 'animal': 6, 'apple': 7, 'approve': 8, 'argue': 9, 'arrive': 10, 'baby': 11, 'back': 12, 'backpack': 13, 'bad': 14, 'bake': 15, 'balance': 16, 'ball': 17, 'banana': 18, 'bar': 19, 'basketball': 20, 'bath': 21, 'bathroom': 22, 'beard': 23, 'because': 24, 'bed': 25, 'before': 26, 'behind': 27, 'bird': 28, 'birthday': 29, 'black': 30, 'blanket': 31, 'blue': 32, 'book': 33, 'bowling': 34, 'boy': 35, 'bring': 36, 'brother': 37, 'brown': 38, 'business': 39, 'but': 40, 'buy': 41, 'call': 42, 'can': 43, 'candy': 44, 'careful': 45, 'cat': 46, 'catch': 47, 'center': 48, 'cereal': 49, 'chair': 50, 'champion': 51, 'change': 52, 'chat': 53, 'cheat': 54, 'check': 55, 'cheese': 56, 'children': 57, 'christmas': 58, 'city': 59, 'class': 60, 'clock': 61, 'close': 62, 'clothes': 63, 'coffee': 64, 'cold': 65, 'college': 66, 'color': 67, 'computer': 68, 'convince': 69, 'cook': 70, 'cool': 71, 'copy': 72, 'corn': 73, 'cough': 74, 'country': 75, 'cousin': 76, 'cow': 77, 'crash': 78, 'crazy': 79, 'cry': 80, 'cute': 81, 'dance': 82, 'dark': 83, 'daughter': 84, 'day': 85, 'deaf': 86, 'decide': 87, 'delay': 88, 'delicious': 89, 'different': 90, 'disappear': 91, 'discuss': 92, 'divorce': 93, 'doctor': 94, 'dog': 95, 'door': 96, 'draw': 97, 'dress': 98, 'drink': 99, 'drive': 100, 'drop': 101, 'east': 102, 'easy': 103, 'eat': 104, 'egg': 105, 'enjoy': 106, 'environment': 107, 'example': 108, 'family': 109, 'far': 110, 'fat': 111, 'father': 112, 'fault': 113, 'feel': 114, 'fine': 115, 'finish': 116, 'first': 117, 'fish': 118, 'flower': 119, 'football': 120, 'forget': 121, 'friend': 122, 'friendly': 123, 'full': 124, 'future': 125, 'game': 126, 'girl': 127, 'give': 128, 'glasses': 129, 'go': 130, 'good': 131, 'government': 132, 'graduate': 133, 'green': 134, 'hair': 135, 'halloween': 136, 'happy': 137, 'hard': 138, 'hat': 139, 'have': 140, 'headache': 141, 'hear': 142, 'hearing': 143, 'heart': 144, 'help': 145, 'here': 146, 'home': 147, 'hope': 148, 'hot': 149, 'hour': 150, 'house': 151, 'how': 152, 'humble': 153, 'hurry': 154, 'husband': 155, 'improve': 156, 'inform': 157, 'interest': 158, 'internet': 159, 'jacket': 160, 'join': 161, 'jump': 162, 'kill': 163, 'kiss': 164, 'knife': 165, 'know': 166, 'language': 167, 'last': 168, 'late': 169, 'later': 170, 'laugh': 171, 'law': 172, 'learn': 173, 'leave': 174, 'letter': 175, 'light': 176, 'like': 177, 'list': 178, 'live': 179, 'lose': 180, 'make': 181, 'man': 182, 'many': 183, 'match': 184, 'mean': 185, 'meat': 186, 'medicine': 187, 'meet': 188, 'milk': 189, 'money': 190, 'more': 191, 'most': 192, 'mother': 193, 'movie': 194, 'music': 195, 'name': 196, 'need': 197, 'new': 198, 'no': 199, 'none': 200, 'now': 201, 'office': 202, 'old': 203, 'orange': 204, 'order': 205, 'paint': 206, 'pants': 207, 'paper': 208, 'party': 209, 'past': 210, 'pencil': 211, 'person': 212, 'pink': 213, 'pizza': 214, 'plan': 215, 'play': 216, 'please': 217, 'police': 218, 'practice': 219, 'president': 220, 'problem': 221, 'pull': 222, 'purple': 223, 'rabbit': 224, 'read': 225, 'red': 226, 'remember': 227, 'restaurant': 228, 'ride': 229, 'right': 230, 'room': 231, 'run': 232, 'russia': 233, 'salt': 234, 'same': 235, 'sandwich': 236, 'school': 237, 'secretary': 238, 'share': 239, 'shirt': 240, 'short': 241, 'show': 242, 'sick': 243, 'sign': 244, 'since': 245, 'small': 246, 'snow': 247, 'some': 248, 'son': 249, 'soon': 250, 'south': 251, 'stay': 252, 'student': 253, 'study': 254, 'sunday': 255, 'table': 256, 'take': 257, 'tall': 258, 'tea': 259, 'teach': 260, 'teacher': 261, 'tell': 262, 'test': 263, 'thanksgiving': 264, 'theory': 265, 'thin': 266, 'thursday': 267, 'time': 268, 'tired': 269, 'tomato': 270, 'trade': 271, 'train': 272, 'travel': 273, 'ugly': 274, 'visit': 275, 'wait': 276, 'walk': 277, 'want': 278, 'war': 279, 'water': 280, 'week': 281, 'what': 282, 'where': 283, 'white': 284, 'who': 285, 'why': 286, 'wife': 287, 'window': 288, 'with': 289, 'woman': 290, 'work': 291, 'write': 292, 'wrong': 293, 'year': 294, 'yellow': 295, 'yes': 296, 'yesterday': 297, 'you': 298, 'your': 299}\n",
      "Converted labels to numeric indices.\n"
     ]
    }
   ],
   "source": [
    "# Normalize the input features\n",
    "def normalize_features(data):\n",
    "    # Reshape to (samples * timesteps, features)\n",
    "    flattened_data = data.reshape(-1, data.shape[2])\n",
    "    \n",
    "    # Calculate mean and standard deviation\n",
    "    mean = np.mean(flattened_data, axis=0)\n",
    "    std = np.std(flattened_data, axis=0)\n",
    "    \n",
    "    # Replace zeros in std to avoid division by zero\n",
    "    std[std < 1e-10] = 1.0\n",
    "    \n",
    "    # Normalize\n",
    "    normalized_data = (flattened_data - mean) / std\n",
    "    \n",
    "    # Reshape back\n",
    "    normalized_data = normalized_data.reshape(data.shape)\n",
    "    \n",
    "    return normalized_data, mean, std\n",
    "\n",
    "# Normalize data\n",
    "normalized_data, feat_mean, feat_std = normalize_features(data)\n",
    "print(f\"Data shape after normalization: {normalized_data.shape}\")\n",
    "\n",
    "# Create a mapping from string labels to numeric indices\n",
    "label_to_index = {label: idx for idx, label in enumerate(np.unique(labels))}\n",
    "index_to_label = {idx: label for label, idx in label_to_index.items()}\n",
    "print(f\"Label to index mapping: {label_to_index}\")\n",
    "\n",
    "# Convert string labels to numeric indices\n",
    "numeric_labels = np.array([label_to_index[label] for label in labels])\n",
    "print(f\"Converted labels to numeric indices.\")"
   ]
  },
  {
   "cell_type": "markdown",
   "id": "68a1d969",
   "metadata": {},
   "source": [
    "# Enhanced Dataset (No Data Augmentation)\n",
    "\n",
    "We'll create a dataset class without augmentation for now to avoid augmentation-related errors.\n"
   ]
  },
  {
   "cell_type": "code",
   "execution_count": 22,
   "id": "40dc6144",
   "metadata": {},
   "outputs": [
    {
     "name": "stdout",
     "output_type": "stream",
     "text": [
      "Training set: (2241, 60, 225), Validation set: (480, 60, 225), Test set: (481, 60, 225)\n"
     ]
    }
   ],
   "source": [
    "class ASLDataset(Dataset):\n",
    "    def __init__(self, data, labels):\n",
    "        self.data = torch.tensor(data, dtype=torch.float32)\n",
    "        self.labels = torch.tensor(labels, dtype=torch.long)\n",
    "    def __len__(self):\n",
    "        return len(self.data)\n",
    "    def __getitem__(self, idx):\n",
    "        return self.data[idx], self.labels[idx]\n",
    "\n",
    "# Split the dataset: train (70%), validation (15%), test (15%) \n",
    "X_train, X_temp, y_train, y_temp = train_test_split(\n",
    "    normalized_data, numeric_labels, test_size=0.3, \n",
    "    stratify=numeric_labels, random_state=42\n",
    ")\n",
    "X_val, X_test, y_val, y_test = train_test_split(\n",
    "    X_temp, y_temp, test_size=0.5, \n",
    "    stratify=y_temp, random_state=42\n",
    ")\n",
    "\n",
    "print(f\"Training set: {X_train.shape}, Validation set: {X_val.shape}, Test set: {X_test.shape}\")\n",
    "\n",
    "# Create datasets (no augmentation)\n",
    "train_dataset = ASLDataset(X_train, y_train)\n",
    "val_dataset = ASLDataset(X_val, y_val)\n",
    "test_dataset = ASLDataset(X_test, y_test)\n",
    "\n",
    "# Create data loaders with appropriate batch sizes\n",
    "train_loader = DataLoader(train_dataset, batch_size=32, shuffle=True)\n",
    "val_loader = DataLoader(val_dataset, batch_size=32, shuffle=False)\n",
    "test_loader = DataLoader(test_dataset, batch_size=32, shuffle=False)"
   ]
  },
  {
   "cell_type": "markdown",
   "id": "eef5fc9b",
   "metadata": {},
   "source": [
    "# Model Selection and Hyperparameter Settings (RNN, GRU, LSTM)\n",
    "\n",
    "We'll define and compare RNN, GRU, and LSTM architectures (no Transformer).\n"
   ]
  },
  {
   "cell_type": "code",
   "execution_count": 23,
   "id": "8ad21952",
   "metadata": {},
   "outputs": [
    {
     "name": "stdout",
     "output_type": "stream",
     "text": [
      "Input size: 225\n",
      "Output size (num classes): 300\n",
      "\n",
      "RNN Model:\n",
      "SimpleRNNModel(\n",
      "  (rnn): RNN(225, 128, num_layers=2, batch_first=True, dropout=0.3, bidirectional=True)\n",
      "  (fc): Linear(in_features=256, out_features=300, bias=True)\n",
      ")\n",
      "Number of parameters: 266796\n",
      "\n",
      "GRU Model:\n",
      "SimpleGRUModel(\n",
      "  (gru): GRU(225, 128, num_layers=2, batch_first=True, dropout=0.3, bidirectional=True)\n",
      "  (fc): Linear(in_features=256, out_features=300, bias=True)\n",
      ")\n",
      "Number of parameters: 646188\n",
      "\n",
      "LSTM Model:\n",
      "SimpleLSTMModel(\n",
      "  (lstm): LSTM(225, 128, num_layers=2, batch_first=True, dropout=0.3, bidirectional=True)\n",
      "  (fc): Linear(in_features=256, out_features=300, bias=True)\n",
      ")\n",
      "Number of parameters: 835884\n"
     ]
    }
   ],
   "source": [
    "# Model parameters\n",
    "input_size = normalized_data.shape[2]  # Number of features per time step\n",
    "hidden_size = 128\n",
    "output_size = len(np.unique(labels))\n",
    "num_layers = 2\n",
    "dropout_rate = 0.3\n",
    "bidirectional = True\n",
    "\n",
    "print(f\"Input size: {input_size}\")\n",
    "print(f\"Output size (num classes): {output_size}\")\n",
    "\n",
    "# Define model architectures to compare\n",
    "class SimpleRNNModel(nn.Module):\n",
    "    def __init__(self, input_size, hidden_size, output_size, num_layers=2, dropout_rate=0.3, bidirectional=True):\n",
    "        super().__init__()\n",
    "        self.rnn = nn.RNN(input_size, hidden_size, num_layers=num_layers, batch_first=True, bidirectional=bidirectional, dropout=dropout_rate if num_layers > 1 else 0)\n",
    "        self.fc = nn.Linear(hidden_size * (2 if bidirectional else 1), output_size)\n",
    "    def forward(self, x):\n",
    "        out, _ = self.rnn(x)\n",
    "        out = out[:, -1, :]\n",
    "        return self.fc(out)\n",
    "\n",
    "class SimpleGRUModel(nn.Module):\n",
    "    def __init__(self, input_size, hidden_size, output_size, num_layers=2, dropout_rate=0.3, bidirectional=True):\n",
    "        super().__init__()\n",
    "        self.gru = nn.GRU(input_size, hidden_size, num_layers=num_layers, batch_first=True, bidirectional=bidirectional, dropout=dropout_rate if num_layers > 1 else 0)\n",
    "        self.fc = nn.Linear(hidden_size * (2 if bidirectional else 1), output_size)\n",
    "    def forward(self, x):\n",
    "        out, _ = self.gru(x)\n",
    "        out = out[:, -1, :]\n",
    "        return self.fc(out)\n",
    "\n",
    "class SimpleLSTMModel(nn.Module):\n",
    "    def __init__(self, input_size, hidden_size, output_size, num_layers=2, dropout_rate=0.3, bidirectional=True):\n",
    "        super().__init__()\n",
    "        self.lstm = nn.LSTM(input_size, hidden_size, num_layers=num_layers, batch_first=True, bidirectional=bidirectional, dropout=dropout_rate if num_layers > 1 else 0)\n",
    "        self.fc = nn.Linear(hidden_size * (2 if bidirectional else 1), output_size)\n",
    "    def forward(self, x):\n",
    "        out, _ = self.lstm(x)\n",
    "        out = out[:, -1, :]\n",
    "        return self.fc(out)\n",
    "\n",
    "models = {\n",
    "    \"RNN\": SimpleRNNModel(\n",
    "        input_size=input_size,\n",
    "        hidden_size=hidden_size,\n",
    "        output_size=output_size,\n",
    "        num_layers=num_layers,\n",
    "        dropout_rate=dropout_rate,\n",
    "        bidirectional=bidirectional\n",
    "    ),\n",
    "    \"GRU\": SimpleGRUModel(\n",
    "        input_size=input_size,\n",
    "        hidden_size=hidden_size,\n",
    "        output_size=output_size,\n",
    "        num_layers=num_layers,\n",
    "        dropout_rate=dropout_rate,\n",
    "        bidirectional=bidirectional\n",
    "    ),\n",
    "    \"LSTM\": SimpleLSTMModel(\n",
    "        input_size=input_size,\n",
    "        hidden_size=hidden_size,\n",
    "        output_size=output_size,\n",
    "        num_layers=num_layers,\n",
    "        dropout_rate=dropout_rate,\n",
    "        bidirectional=bidirectional\n",
    "    )\n",
    "}\n",
    "\n",
    "# Print model structure\n",
    "for name, model in models.items():\n",
    "    print(f\"\\n{name} Model:\")\n",
    "    print(model)\n",
    "    print(f\"Number of parameters: {sum(p.numel() for p in model.parameters())}\")"
   ]
  },
  {
   "cell_type": "markdown",
   "id": "81ca48ac",
   "metadata": {},
   "source": [
    "# Train the Models Using the Advanced Trainer\n",
    "\n",
    "We'll train each model using the enhanced ModelTrainer class with learning rate scheduling and regularization.\n"
   ]
  },
  {
   "cell_type": "code",
   "execution_count": 24,
   "id": "b7e6b632",
   "metadata": {},
   "outputs": [
    {
     "name": "stdout",
     "output_type": "stream",
     "text": [
      "\n",
      "===== Training RNN Model =====\n"
     ]
    },
    {
     "name": "stderr",
     "output_type": "stream",
     "text": [
      "Epoch 1/50 Training: 100%|██████████| 71/71 [00:01<00:00, 58.36it/s] \n",
      "Epoch 1/50 Training: 100%|██████████| 71/71 [00:01<00:00, 58.36it/s] \n",
      "Validation: 100%|██████████| 15/15 [00:00<00:00, 540.93it/s]\n",
      "\n"
     ]
    },
    {
     "name": "stdout",
     "output_type": "stream",
     "text": [
      "Epoch 1/50, Train Loss: 5.7704, Train Acc: 0.0036, Val Loss: 5.7277, Val Acc: 0.0042\n",
      "Model improved! Best val loss: 5.7277\n"
     ]
    },
    {
     "name": "stderr",
     "output_type": "stream",
     "text": [
      "Epoch 2/50 Training: 100%|██████████| 71/71 [00:00<00:00, 213.54it/s]\n",
      "Epoch 2/50 Training: 100%|██████████| 71/71 [00:00<00:00, 213.54it/s]\n",
      "Validation: 100%|██████████| 15/15 [00:00<00:00, 442.23it/s]\n",
      "\n"
     ]
    },
    {
     "name": "stdout",
     "output_type": "stream",
     "text": [
      "Epoch 2/50, Train Loss: 5.6501, Train Acc: 0.0071, Val Loss: 5.7174, Val Acc: 0.0042\n",
      "Model improved! Best val loss: 5.7174\n"
     ]
    },
    {
     "name": "stderr",
     "output_type": "stream",
     "text": [
      "Epoch 3/50 Training: 100%|██████████| 71/71 [00:00<00:00, 217.48it/s]\n",
      "Epoch 3/50 Training: 100%|██████████| 71/71 [00:00<00:00, 217.48it/s]\n",
      "Validation: 100%|██████████| 15/15 [00:00<00:00, 527.78it/s]\n",
      "\n"
     ]
    },
    {
     "name": "stdout",
     "output_type": "stream",
     "text": [
      "Epoch 3/50, Train Loss: 5.5461, Train Acc: 0.0085, Val Loss: 5.6818, Val Acc: 0.0083\n",
      "Model improved! Best val loss: 5.6818\n"
     ]
    },
    {
     "name": "stderr",
     "output_type": "stream",
     "text": [
      "Epoch 4/50 Training: 100%|██████████| 71/71 [00:00<00:00, 199.67it/s]\n",
      "Epoch 4/50 Training: 100%|██████████| 71/71 [00:00<00:00, 199.67it/s]\n",
      "Validation: 100%|██████████| 15/15 [00:00<00:00, 444.63it/s]\n",
      "\n"
     ]
    },
    {
     "name": "stdout",
     "output_type": "stream",
     "text": [
      "Epoch 4/50, Train Loss: 5.4238, Train Acc: 0.0147, Val Loss: 5.6355, Val Acc: 0.0104\n",
      "Model improved! Best val loss: 5.6355\n"
     ]
    },
    {
     "name": "stderr",
     "output_type": "stream",
     "text": [
      "Epoch 5/50 Training: 100%|██████████| 71/71 [00:00<00:00, 204.61it/s]\n",
      "Epoch 5/50 Training: 100%|██████████| 71/71 [00:00<00:00, 204.61it/s]\n",
      "Validation: 100%|██████████| 15/15 [00:00<00:00, 500.02it/s]\n",
      "\n"
     ]
    },
    {
     "name": "stdout",
     "output_type": "stream",
     "text": [
      "Epoch 5/50, Train Loss: 5.3303, Train Acc: 0.0156, Val Loss: 5.5978, Val Acc: 0.0187\n",
      "Model improved! Best val loss: 5.5978\n"
     ]
    },
    {
     "name": "stderr",
     "output_type": "stream",
     "text": [
      "Epoch 6/50 Training: 100%|██████████| 71/71 [00:00<00:00, 207.65it/s]\n",
      "Epoch 6/50 Training: 100%|██████████| 71/71 [00:00<00:00, 207.65it/s]\n",
      "Validation: 100%|██████████| 15/15 [00:00<00:00, 495.24it/s]\n",
      "\n"
     ]
    },
    {
     "name": "stdout",
     "output_type": "stream",
     "text": [
      "Epoch 6/50, Train Loss: 5.2526, Train Acc: 0.0183, Val Loss: 5.5635, Val Acc: 0.0167\n",
      "Model improved! Best val loss: 5.5635\n"
     ]
    },
    {
     "name": "stderr",
     "output_type": "stream",
     "text": [
      "Epoch 7/50 Training: 100%|██████████| 71/71 [00:00<00:00, 196.22it/s]\n",
      "Epoch 7/50 Training: 100%|██████████| 71/71 [00:00<00:00, 196.22it/s]\n",
      "Validation: 100%|██████████| 15/15 [00:00<00:00, 535.90it/s]\n",
      "\n"
     ]
    },
    {
     "name": "stdout",
     "output_type": "stream",
     "text": [
      "Epoch 7/50, Train Loss: 5.1640, Train Acc: 0.0250, Val Loss: 5.5335, Val Acc: 0.0187\n",
      "Model improved! Best val loss: 5.5335\n"
     ]
    },
    {
     "name": "stderr",
     "output_type": "stream",
     "text": [
      "Epoch 8/50 Training: 100%|██████████| 71/71 [00:00<00:00, 209.64it/s]\n",
      "Epoch 8/50 Training: 100%|██████████| 71/71 [00:00<00:00, 209.64it/s]\n",
      "Validation: 100%|██████████| 15/15 [00:00<00:00, 508.04it/s]\n",
      "Validation: 100%|██████████| 15/15 [00:00<00:00, 508.04it/s]\n"
     ]
    },
    {
     "name": "stdout",
     "output_type": "stream",
     "text": [
      "Epoch 8/50, Train Loss: 5.1306, Train Acc: 0.0348, Val Loss: 5.5469, Val Acc: 0.0187\n",
      "Early stopping counter: 1/10\n"
     ]
    },
    {
     "name": "stderr",
     "output_type": "stream",
     "text": [
      "Epoch 9/50 Training: 100%|██████████| 71/71 [00:00<00:00, 204.26it/s]\n",
      "Epoch 9/50 Training: 100%|██████████| 71/71 [00:00<00:00, 204.26it/s]\n",
      "Validation: 100%|██████████| 15/15 [00:00<00:00, 499.47it/s]\n",
      "\n"
     ]
    },
    {
     "name": "stdout",
     "output_type": "stream",
     "text": [
      "Epoch 9/50, Train Loss: 5.0638, Train Acc: 0.0219, Val Loss: 5.4732, Val Acc: 0.0208\n",
      "Model improved! Best val loss: 5.4732\n"
     ]
    },
    {
     "name": "stderr",
     "output_type": "stream",
     "text": [
      "Epoch 10/50 Training: 100%|██████████| 71/71 [00:00<00:00, 201.16it/s]\n",
      "Epoch 10/50 Training: 100%|██████████| 71/71 [00:00<00:00, 201.16it/s]\n",
      "Validation: 100%|██████████| 15/15 [00:00<00:00, 577.33it/s]\n",
      "\n"
     ]
    },
    {
     "name": "stdout",
     "output_type": "stream",
     "text": [
      "Epoch 10/50, Train Loss: 4.9481, Train Acc: 0.0259, Val Loss: 5.4654, Val Acc: 0.0167\n",
      "Model improved! Best val loss: 5.4654\n"
     ]
    },
    {
     "name": "stderr",
     "output_type": "stream",
     "text": [
      "Epoch 11/50 Training: 100%|██████████| 71/71 [00:00<00:00, 145.65it/s]\n",
      "Validation:   0%|          | 0/15 [00:00<?, ?it/s]\n",
      "Validation: 100%|██████████| 15/15 [00:00<00:00, 510.05it/s]\n",
      "Validation: 100%|██████████| 15/15 [00:00<00:00, 510.05it/s]\n"
     ]
    },
    {
     "name": "stdout",
     "output_type": "stream",
     "text": [
      "Epoch 11/50, Train Loss: 4.8852, Train Acc: 0.0366, Val Loss: 5.4569, Val Acc: 0.0104\n",
      "Model improved! Best val loss: 5.4569\n"
     ]
    },
    {
     "name": "stderr",
     "output_type": "stream",
     "text": [
      "Epoch 12/50 Training: 100%|██████████| 71/71 [00:00<00:00, 206.62it/s]\n",
      "Epoch 12/50 Training: 100%|██████████| 71/71 [00:00<00:00, 206.62it/s]\n",
      "Validation: 100%|██████████| 15/15 [00:00<00:00, 445.37it/s]\n",
      "Validation: 100%|██████████| 15/15 [00:00<00:00, 445.37it/s]\n"
     ]
    },
    {
     "name": "stdout",
     "output_type": "stream",
     "text": [
      "Epoch 12/50, Train Loss: 4.7891, Train Acc: 0.0361, Val Loss: 5.4772, Val Acc: 0.0208\n",
      "Early stopping counter: 1/10\n"
     ]
    },
    {
     "name": "stderr",
     "output_type": "stream",
     "text": [
      "Epoch 13/50 Training: 100%|██████████| 71/71 [00:00<00:00, 191.75it/s]\n",
      "Epoch 13/50 Training: 100%|██████████| 71/71 [00:00<00:00, 191.75it/s]\n",
      "Validation: 100%|██████████| 15/15 [00:00<00:00, 452.45it/s]\n",
      "Validation: 100%|██████████| 15/15 [00:00<00:00, 452.45it/s]\n"
     ]
    },
    {
     "name": "stdout",
     "output_type": "stream",
     "text": [
      "Epoch 13/50, Train Loss: 4.7780, Train Acc: 0.0473, Val Loss: 5.4690, Val Acc: 0.0167\n",
      "Early stopping counter: 2/10\n"
     ]
    },
    {
     "name": "stderr",
     "output_type": "stream",
     "text": [
      "Epoch 14/50 Training: 100%|██████████| 71/71 [00:00<00:00, 184.67it/s]\n",
      "Epoch 14/50 Training: 100%|██████████| 71/71 [00:00<00:00, 184.67it/s]\n",
      "Validation: 100%|██████████| 15/15 [00:00<00:00, 338.19it/s]\n",
      "Validation: 100%|██████████| 15/15 [00:00<00:00, 338.19it/s]\n"
     ]
    },
    {
     "name": "stdout",
     "output_type": "stream",
     "text": [
      "Epoch 14/50, Train Loss: 4.7281, Train Acc: 0.0424, Val Loss: 5.4970, Val Acc: 0.0187\n",
      "Early stopping counter: 3/10\n"
     ]
    },
    {
     "name": "stderr",
     "output_type": "stream",
     "text": [
      "Epoch 15/50 Training: 100%|██████████| 71/71 [00:00<00:00, 200.74it/s]\n",
      "Epoch 15/50 Training: 100%|██████████| 71/71 [00:00<00:00, 200.74it/s]\n",
      "Validation: 100%|██████████| 15/15 [00:00<00:00, 466.59it/s]\n",
      "Validation: 100%|██████████| 15/15 [00:00<00:00, 466.59it/s]\n"
     ]
    },
    {
     "name": "stdout",
     "output_type": "stream",
     "text": [
      "Epoch 15/50, Train Loss: 4.6632, Train Acc: 0.0482, Val Loss: 5.5240, Val Acc: 0.0167\n",
      "Early stopping counter: 4/10\n"
     ]
    },
    {
     "name": "stderr",
     "output_type": "stream",
     "text": [
      "Epoch 16/50 Training: 100%|██████████| 71/71 [00:00<00:00, 206.90it/s]\n",
      "Epoch 16/50 Training: 100%|██████████| 71/71 [00:00<00:00, 206.90it/s]\n",
      "Validation: 100%|██████████| 15/15 [00:00<00:00, 576.02it/s]\n",
      "Validation: 100%|██████████| 15/15 [00:00<00:00, 576.02it/s]\n"
     ]
    },
    {
     "name": "stdout",
     "output_type": "stream",
     "text": [
      "Epoch 16/50, Train Loss: 4.5760, Train Acc: 0.0598, Val Loss: 5.5022, Val Acc: 0.0208\n",
      "Early stopping counter: 5/10\n"
     ]
    },
    {
     "name": "stderr",
     "output_type": "stream",
     "text": [
      "Epoch 17/50 Training: 100%|██████████| 71/71 [00:00<00:00, 177.24it/s]\n",
      "Epoch 17/50 Training: 100%|██████████| 71/71 [00:00<00:00, 177.24it/s]\n",
      "Validation: 100%|██████████| 15/15 [00:00<00:00, 488.63it/s]\n",
      "\n"
     ]
    },
    {
     "name": "stdout",
     "output_type": "stream",
     "text": [
      "Epoch 17/50, Train Loss: 4.8020, Train Acc: 0.0527, Val Loss: 5.8945, Val Acc: 0.0125\n",
      "Early stopping counter: 6/10\n"
     ]
    },
    {
     "name": "stderr",
     "output_type": "stream",
     "text": [
      "Epoch 18/50 Training: 100%|██████████| 71/71 [00:00<00:00, 193.56it/s]\n",
      "Epoch 18/50 Training: 100%|██████████| 71/71 [00:00<00:00, 193.56it/s]\n",
      "Validation: 100%|██████████| 15/15 [00:00<00:00, 447.83it/s]\n",
      "\n"
     ]
    },
    {
     "name": "stdout",
     "output_type": "stream",
     "text": [
      "Epoch 18/50, Train Loss: 4.8989, Train Acc: 0.0321, Val Loss: 5.7023, Val Acc: 0.0229\n",
      "Early stopping counter: 7/10\n"
     ]
    },
    {
     "name": "stderr",
     "output_type": "stream",
     "text": [
      "Epoch 19/50 Training: 100%|██████████| 71/71 [00:00<00:00, 204.97it/s]\n",
      "Epoch 19/50 Training: 100%|██████████| 71/71 [00:00<00:00, 204.97it/s]\n",
      "Validation: 100%|██████████| 15/15 [00:00<00:00, 409.46it/s]\n",
      "\n"
     ]
    },
    {
     "name": "stdout",
     "output_type": "stream",
     "text": [
      "Epoch 19/50, Train Loss: 4.8196, Train Acc: 0.0379, Val Loss: 5.5666, Val Acc: 0.0125\n",
      "Early stopping counter: 8/10\n"
     ]
    },
    {
     "name": "stderr",
     "output_type": "stream",
     "text": [
      "Epoch 20/50 Training: 100%|██████████| 71/71 [00:00<00:00, 195.88it/s]\n",
      "Epoch 20/50 Training: 100%|██████████| 71/71 [00:00<00:00, 195.88it/s]\n",
      "Validation: 100%|██████████| 15/15 [00:00<00:00, 486.21it/s]\n",
      "Validation: 100%|██████████| 15/15 [00:00<00:00, 486.21it/s]\n"
     ]
    },
    {
     "name": "stdout",
     "output_type": "stream",
     "text": [
      "Epoch 20/50, Train Loss: 4.7069, Train Acc: 0.0437, Val Loss: 5.5441, Val Acc: 0.0167\n",
      "Early stopping counter: 9/10\n"
     ]
    },
    {
     "name": "stderr",
     "output_type": "stream",
     "text": [
      "Epoch 21/50 Training: 100%|██████████| 71/71 [00:00<00:00, 159.97it/s]\n",
      "Validation:   0%|          | 0/15 [00:00<?, ?it/s]\n",
      "Validation: 100%|██████████| 15/15 [00:00<00:00, 401.54it/s]\n",
      "\n"
     ]
    },
    {
     "name": "stdout",
     "output_type": "stream",
     "text": [
      "Epoch 21/50, Train Loss: 4.6524, Train Acc: 0.0469, Val Loss: 5.5769, Val Acc: 0.0167\n",
      "Early stopping counter: 10/10\n",
      "Early stopping triggered after 21 epochs\n",
      "Training completed in 0.16 minutes\n",
      "\n",
      "RNN Training History:\n",
      "\n",
      "===== Training GRU Model =====\n"
     ]
    },
    {
     "name": "stderr",
     "output_type": "stream",
     "text": [
      "Epoch 1/50 Training: 100%|██████████| 71/71 [00:00<00:00, 154.78it/s]\n",
      "Epoch 1/50 Training: 100%|██████████| 71/71 [00:00<00:00, 154.78it/s]\n",
      "Validation: 100%|██████████| 15/15 [00:00<00:00, 334.63it/s]\n",
      "\n"
     ]
    },
    {
     "name": "stdout",
     "output_type": "stream",
     "text": [
      "Epoch 1/50, Train Loss: 5.7368, Train Acc: 0.0018, Val Loss: 5.7071, Val Acc: 0.0042\n",
      "Model improved! Best val loss: 5.7071\n"
     ]
    },
    {
     "name": "stderr",
     "output_type": "stream",
     "text": [
      "Epoch 2/50 Training: 100%|██████████| 71/71 [00:00<00:00, 137.95it/s]\n",
      "Epoch 2/50 Training: 100%|██████████| 71/71 [00:00<00:00, 137.95it/s]\n",
      "Validation: 100%|██████████| 15/15 [00:00<00:00, 309.33it/s]\n",
      "\n"
     ]
    },
    {
     "name": "stdout",
     "output_type": "stream",
     "text": [
      "Epoch 2/50, Train Loss: 5.6188, Train Acc: 0.0143, Val Loss: 5.6803, Val Acc: 0.0063\n",
      "Model improved! Best val loss: 5.6803\n"
     ]
    },
    {
     "name": "stderr",
     "output_type": "stream",
     "text": [
      "Epoch 3/50 Training: 100%|██████████| 71/71 [00:00<00:00, 165.02it/s]\n",
      "Epoch 3/50 Training: 100%|██████████| 71/71 [00:00<00:00, 165.02it/s]\n",
      "Validation: 100%|██████████| 15/15 [00:00<00:00, 327.53it/s]\n",
      "\n"
     ]
    },
    {
     "name": "stdout",
     "output_type": "stream",
     "text": [
      "Epoch 3/50, Train Loss: 5.4801, Train Acc: 0.0143, Val Loss: 5.5788, Val Acc: 0.0125\n",
      "Model improved! Best val loss: 5.5788\n"
     ]
    },
    {
     "name": "stderr",
     "output_type": "stream",
     "text": [
      "Epoch 4/50 Training: 100%|██████████| 71/71 [00:00<00:00, 175.79it/s]\n",
      "Epoch 4/50 Training: 100%|██████████| 71/71 [00:00<00:00, 175.79it/s]\n",
      "Validation: 100%|██████████| 15/15 [00:00<00:00, 301.70it/s]\n",
      "\n"
     ]
    },
    {
     "name": "stdout",
     "output_type": "stream",
     "text": [
      "Epoch 4/50, Train Loss: 5.2946, Train Acc: 0.0165, Val Loss: 5.4611, Val Acc: 0.0125\n",
      "Model improved! Best val loss: 5.4611\n"
     ]
    },
    {
     "name": "stderr",
     "output_type": "stream",
     "text": [
      "Epoch 5/50 Training: 100%|██████████| 71/71 [00:00<00:00, 127.04it/s]\n",
      "Epoch 5/50 Training: 100%|██████████| 71/71 [00:00<00:00, 127.04it/s]\n",
      "Validation: 100%|██████████| 15/15 [00:00<00:00, 250.28it/s]\n",
      "\n"
     ]
    },
    {
     "name": "stdout",
     "output_type": "stream",
     "text": [
      "Epoch 5/50, Train Loss: 5.1597, Train Acc: 0.0214, Val Loss: 5.3950, Val Acc: 0.0229\n",
      "Model improved! Best val loss: 5.3950\n"
     ]
    },
    {
     "name": "stderr",
     "output_type": "stream",
     "text": [
      "Epoch 6/50 Training: 100%|██████████| 71/71 [00:00<00:00, 126.52it/s]\n",
      "Epoch 6/50 Training: 100%|██████████| 71/71 [00:00<00:00, 126.52it/s]\n",
      "Validation: 100%|██████████| 15/15 [00:00<00:00, 269.37it/s]\n",
      "\n"
     ]
    },
    {
     "name": "stdout",
     "output_type": "stream",
     "text": [
      "Epoch 6/50, Train Loss: 5.0198, Train Acc: 0.0330, Val Loss: 5.3569, Val Acc: 0.0250\n",
      "Model improved! Best val loss: 5.3569\n"
     ]
    },
    {
     "name": "stderr",
     "output_type": "stream",
     "text": [
      "Epoch 7/50 Training: 100%|██████████| 71/71 [00:00<00:00, 132.28it/s]\n",
      "Validation:   0%|          | 0/15 [00:00<?, ?it/s]\n",
      "Validation: 100%|██████████| 15/15 [00:00<00:00, 312.16it/s]\n",
      "\n"
     ]
    },
    {
     "name": "stdout",
     "output_type": "stream",
     "text": [
      "Epoch 7/50, Train Loss: 4.8721, Train Acc: 0.0446, Val Loss: 5.3167, Val Acc: 0.0187\n",
      "Model improved! Best val loss: 5.3167\n"
     ]
    },
    {
     "name": "stderr",
     "output_type": "stream",
     "text": [
      "Epoch 8/50 Training: 100%|██████████| 71/71 [00:00<00:00, 170.81it/s]\n",
      "Epoch 8/50 Training: 100%|██████████| 71/71 [00:00<00:00, 170.81it/s]\n",
      "Validation: 100%|██████████| 15/15 [00:00<00:00, 285.20it/s]\n",
      "\n"
     ]
    },
    {
     "name": "stdout",
     "output_type": "stream",
     "text": [
      "Epoch 8/50, Train Loss: 4.7943, Train Acc: 0.0348, Val Loss: 5.2736, Val Acc: 0.0271\n",
      "Model improved! Best val loss: 5.2736\n"
     ]
    },
    {
     "name": "stderr",
     "output_type": "stream",
     "text": [
      "Epoch 9/50 Training: 100%|██████████| 71/71 [00:00<00:00, 165.87it/s]\n",
      "Epoch 9/50 Training: 100%|██████████| 71/71 [00:00<00:00, 165.87it/s]\n",
      "Validation: 100%|██████████| 15/15 [00:00<00:00, 291.83it/s]\n",
      "\n"
     ]
    },
    {
     "name": "stdout",
     "output_type": "stream",
     "text": [
      "Epoch 9/50, Train Loss: 4.6537, Train Acc: 0.0477, Val Loss: 5.2125, Val Acc: 0.0333\n",
      "Model improved! Best val loss: 5.2125\n"
     ]
    },
    {
     "name": "stderr",
     "output_type": "stream",
     "text": [
      "Epoch 10/50 Training: 100%|██████████| 71/71 [00:00<00:00, 127.84it/s]\n",
      "Epoch 10/50 Training: 100%|██████████| 71/71 [00:00<00:00, 127.84it/s]\n",
      "Validation: 100%|██████████| 15/15 [00:00<00:00, 255.69it/s]\n",
      "\n"
     ]
    },
    {
     "name": "stdout",
     "output_type": "stream",
     "text": [
      "Epoch 10/50, Train Loss: 4.5736, Train Acc: 0.0576, Val Loss: 5.1306, Val Acc: 0.0333\n",
      "Model improved! Best val loss: 5.1306\n"
     ]
    },
    {
     "name": "stderr",
     "output_type": "stream",
     "text": [
      "Epoch 11/50 Training: 100%|██████████| 71/71 [00:00<00:00, 123.72it/s]\n",
      "Epoch 11/50 Training: 100%|██████████| 71/71 [00:00<00:00, 123.72it/s]\n",
      "Validation: 100%|██████████| 15/15 [00:00<00:00, 278.63it/s]\n",
      "\n"
     ]
    },
    {
     "name": "stdout",
     "output_type": "stream",
     "text": [
      "Epoch 11/50, Train Loss: 4.4151, Train Acc: 0.0616, Val Loss: 5.0792, Val Acc: 0.0437\n",
      "Model improved! Best val loss: 5.0792\n"
     ]
    },
    {
     "name": "stderr",
     "output_type": "stream",
     "text": [
      "Epoch 12/50 Training: 100%|██████████| 71/71 [00:00<00:00, 103.42it/s]\n",
      "Epoch 12/50 Training: 100%|██████████| 71/71 [00:00<00:00, 103.42it/s]\n",
      "Validation: 100%|██████████| 15/15 [00:00<00:00, 264.55it/s]\n",
      "\n"
     ]
    },
    {
     "name": "stdout",
     "output_type": "stream",
     "text": [
      "Epoch 12/50, Train Loss: 4.1896, Train Acc: 0.0745, Val Loss: 4.9859, Val Acc: 0.0479\n",
      "Model improved! Best val loss: 4.9859\n"
     ]
    },
    {
     "name": "stderr",
     "output_type": "stream",
     "text": [
      "Epoch 13/50 Training: 100%|██████████| 71/71 [00:00<00:00, 129.62it/s]\n",
      "Validation:   0%|          | 0/15 [00:00<?, ?it/s]\n",
      "Validation: 100%|██████████| 15/15 [00:00<00:00, 321.58it/s]\n",
      "\n"
     ]
    },
    {
     "name": "stdout",
     "output_type": "stream",
     "text": [
      "Epoch 13/50, Train Loss: 4.1642, Train Acc: 0.0834, Val Loss: 4.9240, Val Acc: 0.0479\n",
      "Model improved! Best val loss: 4.9240\n"
     ]
    },
    {
     "name": "stderr",
     "output_type": "stream",
     "text": [
      "Epoch 14/50 Training: 100%|██████████| 71/71 [00:00<00:00, 127.96it/s]\n",
      "Epoch 14/50 Training: 100%|██████████| 71/71 [00:00<00:00, 127.96it/s]\n",
      "Validation: 100%|██████████| 15/15 [00:00<00:00, 308.81it/s]\n",
      "\n"
     ]
    },
    {
     "name": "stdout",
     "output_type": "stream",
     "text": [
      "Epoch 14/50, Train Loss: 3.9241, Train Acc: 0.1178, Val Loss: 4.8783, Val Acc: 0.0604\n",
      "Model improved! Best val loss: 4.8783\n"
     ]
    },
    {
     "name": "stderr",
     "output_type": "stream",
     "text": [
      "Epoch 15/50 Training: 100%|██████████| 71/71 [00:00<00:00, 167.44it/s]\n",
      "Validation:   0%|          | 0/15 [00:00<?, ?it/s]\n",
      "Validation: 100%|██████████| 15/15 [00:00<00:00, 332.14it/s]\n",
      "\n"
     ]
    },
    {
     "name": "stdout",
     "output_type": "stream",
     "text": [
      "Epoch 15/50, Train Loss: 3.8064, Train Acc: 0.1111, Val Loss: 4.8358, Val Acc: 0.0563\n",
      "Model improved! Best val loss: 4.8358\n"
     ]
    },
    {
     "name": "stderr",
     "output_type": "stream",
     "text": [
      "Epoch 16/50 Training: 100%|██████████| 71/71 [00:00<00:00, 152.65it/s]\n",
      "Epoch 16/50 Training: 100%|██████████| 71/71 [00:00<00:00, 152.65it/s]\n",
      "Validation: 100%|██████████| 15/15 [00:00<00:00, 309.94it/s]\n",
      "\n"
     ]
    },
    {
     "name": "stdout",
     "output_type": "stream",
     "text": [
      "Epoch 16/50, Train Loss: 3.6398, Train Acc: 0.1249, Val Loss: 4.7873, Val Acc: 0.0688\n",
      "Model improved! Best val loss: 4.7873\n"
     ]
    },
    {
     "name": "stderr",
     "output_type": "stream",
     "text": [
      "Epoch 17/50 Training: 100%|██████████| 71/71 [00:00<00:00, 158.96it/s]\n",
      "Epoch 17/50 Training: 100%|██████████| 71/71 [00:00<00:00, 158.96it/s]\n",
      "Validation: 100%|██████████| 15/15 [00:00<00:00, 327.05it/s]\n",
      "\n"
     ]
    },
    {
     "name": "stdout",
     "output_type": "stream",
     "text": [
      "Epoch 17/50, Train Loss: 3.7490, Train Acc: 0.1437, Val Loss: 4.7495, Val Acc: 0.0583\n",
      "Model improved! Best val loss: 4.7495\n"
     ]
    },
    {
     "name": "stderr",
     "output_type": "stream",
     "text": [
      "Epoch 18/50 Training: 100%|██████████| 71/71 [00:00<00:00, 176.82it/s]\n",
      "Epoch 18/50 Training: 100%|██████████| 71/71 [00:00<00:00, 176.82it/s]\n",
      "Validation: 100%|██████████| 15/15 [00:00<00:00, 352.63it/s]\n",
      "\n"
     ]
    },
    {
     "name": "stdout",
     "output_type": "stream",
     "text": [
      "Epoch 18/50, Train Loss: 3.3841, Train Acc: 0.1807, Val Loss: 4.6806, Val Acc: 0.0667\n",
      "Model improved! Best val loss: 4.6806\n"
     ]
    },
    {
     "name": "stderr",
     "output_type": "stream",
     "text": [
      "Epoch 19/50 Training: 100%|██████████| 71/71 [00:00<00:00, 167.39it/s]\n",
      "Epoch 19/50 Training: 100%|██████████| 71/71 [00:00<00:00, 167.39it/s]\n",
      "Validation: 100%|██████████| 15/15 [00:00<00:00, 281.70it/s]\n",
      "\n"
     ]
    },
    {
     "name": "stdout",
     "output_type": "stream",
     "text": [
      "Epoch 19/50, Train Loss: 3.4196, Train Acc: 0.1673, Val Loss: 4.6670, Val Acc: 0.0688\n",
      "Model improved! Best val loss: 4.6670\n"
     ]
    },
    {
     "name": "stderr",
     "output_type": "stream",
     "text": [
      "Epoch 20/50 Training: 100%|██████████| 71/71 [00:00<00:00, 173.31it/s]\n",
      "Epoch 20/50 Training: 100%|██████████| 71/71 [00:00<00:00, 173.31it/s]\n",
      "Validation: 100%|██████████| 15/15 [00:00<00:00, 352.95it/s]\n",
      "\n"
     ]
    },
    {
     "name": "stdout",
     "output_type": "stream",
     "text": [
      "Epoch 20/50, Train Loss: 3.2613, Train Acc: 0.1803, Val Loss: 4.6660, Val Acc: 0.0854\n",
      "Model improved! Best val loss: 4.6660\n"
     ]
    },
    {
     "name": "stderr",
     "output_type": "stream",
     "text": [
      "Epoch 21/50 Training: 100%|██████████| 71/71 [00:00<00:00, 173.85it/s]\n",
      "Epoch 21/50 Training: 100%|██████████| 71/71 [00:00<00:00, 173.85it/s]\n",
      "Validation: 100%|██████████| 15/15 [00:00<00:00, 323.79it/s]\n",
      "\n"
     ]
    },
    {
     "name": "stdout",
     "output_type": "stream",
     "text": [
      "Epoch 21/50, Train Loss: 3.2081, Train Acc: 0.1437, Val Loss: 4.6486, Val Acc: 0.0771\n",
      "Model improved! Best val loss: 4.6486\n"
     ]
    },
    {
     "name": "stderr",
     "output_type": "stream",
     "text": [
      "Epoch 22/50 Training: 100%|██████████| 71/71 [00:00<00:00, 160.62it/s]\n",
      "Epoch 22/50 Training: 100%|██████████| 71/71 [00:00<00:00, 160.62it/s]\n",
      "Validation: 100%|██████████| 15/15 [00:00<00:00, 377.58it/s]\n",
      "Validation: 100%|██████████| 15/15 [00:00<00:00, 377.58it/s]\n"
     ]
    },
    {
     "name": "stdout",
     "output_type": "stream",
     "text": [
      "Epoch 22/50, Train Loss: 3.1189, Train Acc: 0.2142, Val Loss: 4.6186, Val Acc: 0.0771\n",
      "Model improved! Best val loss: 4.6186\n"
     ]
    },
    {
     "name": "stderr",
     "output_type": "stream",
     "text": [
      "Epoch 23/50 Training: 100%|██████████| 71/71 [00:00<00:00, 168.07it/s]\n",
      "Epoch 23/50 Training: 100%|██████████| 71/71 [00:00<00:00, 168.07it/s]\n",
      "Validation: 100%|██████████| 15/15 [00:00<00:00, 301.25it/s]\n",
      "\n"
     ]
    },
    {
     "name": "stdout",
     "output_type": "stream",
     "text": [
      "Epoch 23/50, Train Loss: 2.9155, Train Acc: 0.2191, Val Loss: 4.5855, Val Acc: 0.0875\n",
      "Model improved! Best val loss: 4.5855\n"
     ]
    },
    {
     "name": "stderr",
     "output_type": "stream",
     "text": [
      "Epoch 24/50 Training: 100%|██████████| 71/71 [00:00<00:00, 146.24it/s]\n",
      "Epoch 24/50 Training: 100%|██████████| 71/71 [00:00<00:00, 146.24it/s]\n",
      "Validation: 100%|██████████| 15/15 [00:00<00:00, 295.65it/s]\n",
      "\n"
     ]
    },
    {
     "name": "stdout",
     "output_type": "stream",
     "text": [
      "Epoch 24/50, Train Loss: 2.9512, Train Acc: 0.2378, Val Loss: 4.5452, Val Acc: 0.0833\n",
      "Model improved! Best val loss: 4.5452\n"
     ]
    },
    {
     "name": "stderr",
     "output_type": "stream",
     "text": [
      "Epoch 25/50 Training: 100%|██████████| 71/71 [00:00<00:00, 131.87it/s]\n",
      "Epoch 25/50 Training: 100%|██████████| 71/71 [00:00<00:00, 131.87it/s]\n",
      "Validation: 100%|██████████| 15/15 [00:00<00:00, 237.01it/s]\n",
      "\n"
     ]
    },
    {
     "name": "stdout",
     "output_type": "stream",
     "text": [
      "Epoch 25/50, Train Loss: 2.7674, Train Acc: 0.2834, Val Loss: 4.5508, Val Acc: 0.0875\n",
      "Early stopping counter: 1/10\n"
     ]
    },
    {
     "name": "stderr",
     "output_type": "stream",
     "text": [
      "Epoch 26/50 Training: 100%|██████████| 71/71 [00:00<00:00, 91.76it/s]\n",
      "Epoch 26/50 Training: 100%|██████████| 71/71 [00:00<00:00, 91.76it/s]\n",
      "Validation: 100%|██████████| 15/15 [00:00<00:00, 244.38it/s]\n",
      "\n"
     ]
    },
    {
     "name": "stdout",
     "output_type": "stream",
     "text": [
      "Epoch 26/50, Train Loss: 2.6684, Train Acc: 0.3137, Val Loss: 4.5301, Val Acc: 0.0813\n",
      "Model improved! Best val loss: 4.5301\n"
     ]
    },
    {
     "name": "stderr",
     "output_type": "stream",
     "text": [
      "Epoch 27/50 Training: 100%|██████████| 71/71 [00:00<00:00, 124.63it/s]\n",
      "Epoch 27/50 Training: 100%|██████████| 71/71 [00:00<00:00, 124.63it/s]\n",
      "Validation: 100%|██████████| 15/15 [00:00<00:00, 277.63it/s]\n",
      "\n"
     ]
    },
    {
     "name": "stdout",
     "output_type": "stream",
     "text": [
      "Epoch 27/50, Train Loss: 2.6906, Train Acc: 0.2744, Val Loss: 4.5258, Val Acc: 0.0792\n",
      "Model improved! Best val loss: 4.5258\n"
     ]
    },
    {
     "name": "stderr",
     "output_type": "stream",
     "text": [
      "Epoch 28/50 Training: 100%|██████████| 71/71 [00:00<00:00, 165.73it/s]\n",
      "Validation:   0%|          | 0/15 [00:00<?, ?it/s]\n",
      "Validation: 100%|██████████| 15/15 [00:00<00:00, 347.81it/s]\n",
      "\n"
     ]
    },
    {
     "name": "stdout",
     "output_type": "stream",
     "text": [
      "Epoch 28/50, Train Loss: 2.5513, Train Acc: 0.2994, Val Loss: 4.4895, Val Acc: 0.0854\n",
      "Model improved! Best val loss: 4.4895\n"
     ]
    },
    {
     "name": "stderr",
     "output_type": "stream",
     "text": [
      "Epoch 29/50 Training: 100%|██████████| 71/71 [00:00<00:00, 143.02it/s]\n",
      "Epoch 29/50 Training: 100%|██████████| 71/71 [00:00<00:00, 143.02it/s]\n",
      "Validation: 100%|██████████| 15/15 [00:00<00:00, 307.31it/s]\n",
      "\n"
     ]
    },
    {
     "name": "stdout",
     "output_type": "stream",
     "text": [
      "Epoch 29/50, Train Loss: 2.4860, Train Acc: 0.2548, Val Loss: 4.4686, Val Acc: 0.0958\n",
      "Model improved! Best val loss: 4.4686\n"
     ]
    },
    {
     "name": "stderr",
     "output_type": "stream",
     "text": [
      "Epoch 30/50 Training: 100%|██████████| 71/71 [00:00<00:00, 126.25it/s]\n",
      "Epoch 30/50 Training: 100%|██████████| 71/71 [00:00<00:00, 126.25it/s]\n",
      "Validation: 100%|██████████| 15/15 [00:00<00:00, 256.38it/s]\n",
      "\n"
     ]
    },
    {
     "name": "stdout",
     "output_type": "stream",
     "text": [
      "Epoch 30/50, Train Loss: 2.5889, Train Acc: 0.2829, Val Loss: 4.4718, Val Acc: 0.1104\n",
      "Early stopping counter: 1/10\n"
     ]
    },
    {
     "name": "stderr",
     "output_type": "stream",
     "text": [
      "Epoch 31/50 Training: 100%|██████████| 71/71 [00:00<00:00, 137.80it/s]\n",
      "Epoch 31/50 Training: 100%|██████████| 71/71 [00:00<00:00, 137.80it/s]\n",
      "Validation: 100%|██████████| 15/15 [00:00<00:00, 269.78it/s]\n",
      "\n"
     ]
    },
    {
     "name": "stdout",
     "output_type": "stream",
     "text": [
      "Epoch 31/50, Train Loss: 2.2754, Train Acc: 0.2945, Val Loss: 4.4555, Val Acc: 0.1021\n",
      "Model improved! Best val loss: 4.4555\n"
     ]
    },
    {
     "name": "stderr",
     "output_type": "stream",
     "text": [
      "Epoch 32/50 Training: 100%|██████████| 71/71 [00:00<00:00, 114.59it/s]\n",
      "Epoch 32/50 Training: 100%|██████████| 71/71 [00:00<00:00, 114.59it/s]\n",
      "Validation: 100%|██████████| 15/15 [00:00<00:00, 333.22it/s]\n",
      "Validation: 100%|██████████| 15/15 [00:00<00:00, 333.22it/s]\n"
     ]
    },
    {
     "name": "stdout",
     "output_type": "stream",
     "text": [
      "Epoch 32/50, Train Loss: 2.0746, Train Acc: 0.3137, Val Loss: 4.4676, Val Acc: 0.0938\n",
      "Early stopping counter: 1/10\n"
     ]
    },
    {
     "name": "stderr",
     "output_type": "stream",
     "text": [
      "Epoch 33/50 Training: 100%|██████████| 71/71 [00:00<00:00, 139.74it/s]\n",
      "Epoch 33/50 Training: 100%|██████████| 71/71 [00:00<00:00, 139.74it/s]\n",
      "Validation: 100%|██████████| 15/15 [00:00<00:00, 314.22it/s]\n",
      "\n"
     ]
    },
    {
     "name": "stdout",
     "output_type": "stream",
     "text": [
      "Epoch 33/50, Train Loss: 2.1736, Train Acc: 0.4025, Val Loss: 4.5082, Val Acc: 0.0896\n",
      "Early stopping counter: 2/10\n"
     ]
    },
    {
     "name": "stderr",
     "output_type": "stream",
     "text": [
      "Epoch 34/50 Training: 100%|██████████| 71/71 [00:00<00:00, 143.26it/s]\n",
      "Epoch 34/50 Training: 100%|██████████| 71/71 [00:00<00:00, 143.26it/s]\n",
      "Validation: 100%|██████████| 15/15 [00:00<00:00, 264.05it/s]\n",
      "\n"
     ]
    },
    {
     "name": "stdout",
     "output_type": "stream",
     "text": [
      "Epoch 34/50, Train Loss: 2.0757, Train Acc: 0.3976, Val Loss: 4.4695, Val Acc: 0.1021\n",
      "Early stopping counter: 3/10\n"
     ]
    },
    {
     "name": "stderr",
     "output_type": "stream",
     "text": [
      "Epoch 35/50 Training: 100%|██████████| 71/71 [00:00<00:00, 114.13it/s]\n",
      "Epoch 35/50 Training: 100%|██████████| 71/71 [00:00<00:00, 114.13it/s]\n",
      "Validation: 100%|██████████| 15/15 [00:00<00:00, 278.17it/s]\n",
      "\n"
     ]
    },
    {
     "name": "stdout",
     "output_type": "stream",
     "text": [
      "Epoch 35/50, Train Loss: 1.9891, Train Acc: 0.3588, Val Loss: 4.4597, Val Acc: 0.1021\n",
      "Early stopping counter: 4/10\n"
     ]
    },
    {
     "name": "stderr",
     "output_type": "stream",
     "text": [
      "Epoch 36/50 Training: 100%|██████████| 71/71 [00:00<00:00, 116.48it/s]\n",
      "Epoch 36/50 Training: 100%|██████████| 71/71 [00:00<00:00, 116.48it/s]\n",
      "Validation: 100%|██████████| 15/15 [00:00<00:00, 243.79it/s]\n",
      "\n"
     ]
    },
    {
     "name": "stdout",
     "output_type": "stream",
     "text": [
      "Epoch 36/50, Train Loss: 1.8645, Train Acc: 0.4141, Val Loss: 4.4513, Val Acc: 0.0938\n",
      "Model improved! Best val loss: 4.4513\n"
     ]
    },
    {
     "name": "stderr",
     "output_type": "stream",
     "text": [
      "Epoch 37/50 Training: 100%|██████████| 71/71 [00:00<00:00, 140.48it/s]\n",
      "Epoch 37/50 Training: 100%|██████████| 71/71 [00:00<00:00, 140.48it/s]\n",
      "Validation: 100%|██████████| 15/15 [00:00<00:00, 285.00it/s]\n",
      "\n"
     ]
    },
    {
     "name": "stdout",
     "output_type": "stream",
     "text": [
      "Epoch 37/50, Train Loss: 2.1308, Train Acc: 0.3539, Val Loss: 4.4565, Val Acc: 0.0958\n",
      "Early stopping counter: 1/10\n"
     ]
    },
    {
     "name": "stderr",
     "output_type": "stream",
     "text": [
      "Epoch 38/50 Training: 100%|██████████| 71/71 [00:00<00:00, 127.72it/s]\n",
      "Epoch 38/50 Training: 100%|██████████| 71/71 [00:00<00:00, 127.72it/s]\n",
      "Validation: 100%|██████████| 15/15 [00:00<00:00, 262.12it/s]\n",
      "\n"
     ]
    },
    {
     "name": "stdout",
     "output_type": "stream",
     "text": [
      "Epoch 38/50, Train Loss: 1.8809, Train Acc: 0.3739, Val Loss: 4.4766, Val Acc: 0.1062\n",
      "Early stopping counter: 2/10\n"
     ]
    },
    {
     "name": "stderr",
     "output_type": "stream",
     "text": [
      "Epoch 39/50 Training: 100%|██████████| 71/71 [00:00<00:00, 143.03it/s]\n",
      "Epoch 39/50 Training: 100%|██████████| 71/71 [00:00<00:00, 143.03it/s]\n",
      "Validation: 100%|██████████| 15/15 [00:00<00:00, 270.35it/s]\n",
      "\n"
     ]
    },
    {
     "name": "stdout",
     "output_type": "stream",
     "text": [
      "Epoch 39/50, Train Loss: 1.7731, Train Acc: 0.4444, Val Loss: 4.4146, Val Acc: 0.1125\n",
      "Model improved! Best val loss: 4.4146\n"
     ]
    },
    {
     "name": "stderr",
     "output_type": "stream",
     "text": [
      "Epoch 40/50 Training: 100%|██████████| 71/71 [00:00<00:00, 141.30it/s]\n",
      "Epoch 40/50 Training: 100%|██████████| 71/71 [00:00<00:00, 141.30it/s]\n",
      "Validation: 100%|██████████| 15/15 [00:00<00:00, 315.08it/s]\n",
      "\n"
     ]
    },
    {
     "name": "stdout",
     "output_type": "stream",
     "text": [
      "Epoch 40/50, Train Loss: 2.0048, Train Acc: 0.2914, Val Loss: 4.4301, Val Acc: 0.1000\n",
      "Early stopping counter: 1/10\n"
     ]
    },
    {
     "name": "stderr",
     "output_type": "stream",
     "text": [
      "Epoch 41/50 Training: 100%|██████████| 71/71 [00:00<00:00, 166.68it/s]\n",
      "Validation:   0%|          | 0/15 [00:00<?, ?it/s]\n",
      "Validation: 100%|██████████| 15/15 [00:00<00:00, 290.27it/s]\n",
      "Validation: 100%|██████████| 15/15 [00:00<00:00, 290.27it/s]\n"
     ]
    },
    {
     "name": "stdout",
     "output_type": "stream",
     "text": [
      "Epoch 41/50, Train Loss: 1.7949, Train Acc: 0.3838, Val Loss: 4.4534, Val Acc: 0.0938\n",
      "Early stopping counter: 2/10\n"
     ]
    },
    {
     "name": "stderr",
     "output_type": "stream",
     "text": [
      "Epoch 42/50 Training: 100%|██████████| 71/71 [00:00<00:00, 152.14it/s]\n",
      "Epoch 42/50 Training: 100%|██████████| 71/71 [00:00<00:00, 152.14it/s]\n",
      "Validation: 100%|██████████| 15/15 [00:00<00:00, 308.58it/s]\n",
      "Validation: 100%|██████████| 15/15 [00:00<00:00, 308.58it/s]\n"
     ]
    },
    {
     "name": "stdout",
     "output_type": "stream",
     "text": [
      "Epoch 42/50, Train Loss: 1.7856, Train Acc: 0.4221, Val Loss: 4.4678, Val Acc: 0.1000\n",
      "Early stopping counter: 3/10\n"
     ]
    },
    {
     "name": "stderr",
     "output_type": "stream",
     "text": [
      "Epoch 43/50 Training: 100%|██████████| 71/71 [00:00<00:00, 149.85it/s]\n",
      "Epoch 43/50 Training: 100%|██████████| 71/71 [00:00<00:00, 149.85it/s]\n",
      "Validation: 100%|██████████| 15/15 [00:00<00:00, 275.73it/s]\n",
      "\n"
     ]
    },
    {
     "name": "stdout",
     "output_type": "stream",
     "text": [
      "Epoch 43/50, Train Loss: 1.5346, Train Acc: 0.4627, Val Loss: 4.4032, Val Acc: 0.1083\n",
      "Model improved! Best val loss: 4.4032\n"
     ]
    },
    {
     "name": "stderr",
     "output_type": "stream",
     "text": [
      "Epoch 44/50 Training: 100%|██████████| 71/71 [00:00<00:00, 150.58it/s]\n",
      "Epoch 44/50 Training: 100%|██████████| 71/71 [00:00<00:00, 150.58it/s]\n",
      "Validation: 100%|██████████| 15/15 [00:00<00:00, 291.70it/s]\n",
      "\n"
     ]
    },
    {
     "name": "stdout",
     "output_type": "stream",
     "text": [
      "Epoch 44/50, Train Loss: 1.8152, Train Acc: 0.3668, Val Loss: 4.3919, Val Acc: 0.1167\n",
      "Model improved! Best val loss: 4.3919\n"
     ]
    },
    {
     "name": "stderr",
     "output_type": "stream",
     "text": [
      "Epoch 45/50 Training: 100%|██████████| 71/71 [00:00<00:00, 163.74it/s]\n",
      "Epoch 45/50 Training: 100%|██████████| 71/71 [00:00<00:00, 163.74it/s]\n",
      "Validation: 100%|██████████| 15/15 [00:00<00:00, 334.36it/s]\n",
      "Validation: 100%|██████████| 15/15 [00:00<00:00, 334.36it/s]\n"
     ]
    },
    {
     "name": "stdout",
     "output_type": "stream",
     "text": [
      "Epoch 45/50, Train Loss: 1.7006, Train Acc: 0.3784, Val Loss: 4.4409, Val Acc: 0.1125\n",
      "Early stopping counter: 1/10\n"
     ]
    },
    {
     "name": "stderr",
     "output_type": "stream",
     "text": [
      "Epoch 46/50 Training: 100%|██████████| 71/71 [00:00<00:00, 139.02it/s]\n",
      "Epoch 46/50 Training: 100%|██████████| 71/71 [00:00<00:00, 139.02it/s]\n",
      "Validation: 100%|██████████| 15/15 [00:00<00:00, 276.63it/s]\n",
      "\n"
     ]
    },
    {
     "name": "stdout",
     "output_type": "stream",
     "text": [
      "Epoch 46/50, Train Loss: 1.5889, Train Acc: 0.4257, Val Loss: 4.3872, Val Acc: 0.1125\n",
      "Model improved! Best val loss: 4.3872\n"
     ]
    },
    {
     "name": "stderr",
     "output_type": "stream",
     "text": [
      "Epoch 47/50 Training: 100%|██████████| 71/71 [00:00<00:00, 162.64it/s]\n",
      "Epoch 47/50 Training: 100%|██████████| 71/71 [00:00<00:00, 162.64it/s]\n",
      "Validation: 100%|██████████| 15/15 [00:00<00:00, 269.89it/s]\n",
      "Validation: 100%|██████████| 15/15 [00:00<00:00, 269.89it/s]\n"
     ]
    },
    {
     "name": "stdout",
     "output_type": "stream",
     "text": [
      "Epoch 47/50, Train Loss: 1.6717, Train Acc: 0.4797, Val Loss: 4.4208, Val Acc: 0.1125\n",
      "Early stopping counter: 1/10\n"
     ]
    },
    {
     "name": "stderr",
     "output_type": "stream",
     "text": [
      "Epoch 48/50 Training: 100%|██████████| 71/71 [00:00<00:00, 134.30it/s]\n",
      "Epoch 48/50 Training: 100%|██████████| 71/71 [00:00<00:00, 134.30it/s]\n",
      "Validation: 100%|██████████| 15/15 [00:00<00:00, 256.47it/s]\n",
      "Validation: 100%|██████████| 15/15 [00:00<00:00, 256.47it/s]\n"
     ]
    },
    {
     "name": "stdout",
     "output_type": "stream",
     "text": [
      "Epoch 48/50, Train Loss: 1.8050, Train Acc: 0.5060, Val Loss: 4.4186, Val Acc: 0.1229\n",
      "Early stopping counter: 2/10\n"
     ]
    },
    {
     "name": "stderr",
     "output_type": "stream",
     "text": [
      "Epoch 49/50 Training: 100%|██████████| 71/71 [00:00<00:00, 131.05it/s]\n",
      "Epoch 49/50 Training: 100%|██████████| 71/71 [00:00<00:00, 131.05it/s]\n",
      "Validation: 100%|██████████| 15/15 [00:00<00:00, 275.15it/s]\n",
      "\n"
     ]
    },
    {
     "name": "stdout",
     "output_type": "stream",
     "text": [
      "Epoch 49/50, Train Loss: 1.4885, Train Acc: 0.4788, Val Loss: 4.3871, Val Acc: 0.1167\n",
      "Model improved! Best val loss: 4.3871\n"
     ]
    },
    {
     "name": "stderr",
     "output_type": "stream",
     "text": [
      "Epoch 50/50 Training: 100%|██████████| 71/71 [00:00<00:00, 127.13it/s]\n",
      "Epoch 50/50 Training: 100%|██████████| 71/71 [00:00<00:00, 127.13it/s]\n",
      "Validation: 100%|██████████| 15/15 [00:00<00:00, 337.31it/s]\n",
      "\n"
     ]
    },
    {
     "name": "stdout",
     "output_type": "stream",
     "text": [
      "Epoch 50/50, Train Loss: 1.6807, Train Acc: 0.4538, Val Loss: 4.3795, Val Acc: 0.1104\n",
      "Model improved! Best val loss: 4.3795\n",
      "Training completed in 0.49 minutes\n",
      "\n",
      "GRU Training History:\n",
      "\n",
      "===== Training LSTM Model =====\n"
     ]
    },
    {
     "name": "stderr",
     "output_type": "stream",
     "text": [
      "Epoch 1/50 Training: 100%|██████████| 71/71 [00:00<00:00, 134.92it/s]\n",
      "Epoch 1/50 Training: 100%|██████████| 71/71 [00:00<00:00, 134.92it/s]\n",
      "Validation: 100%|██████████| 15/15 [00:00<00:00, 239.31it/s]\n",
      "\n"
     ]
    },
    {
     "name": "stdout",
     "output_type": "stream",
     "text": [
      "Epoch 1/50, Train Loss: 5.7149, Train Acc: 0.0022, Val Loss: 5.7049, Val Acc: 0.0063\n",
      "Model improved! Best val loss: 5.7049\n"
     ]
    },
    {
     "name": "stderr",
     "output_type": "stream",
     "text": [
      "Epoch 2/50 Training: 100%|██████████| 71/71 [00:00<00:00, 134.84it/s]\n",
      "Epoch 2/50 Training: 100%|██████████| 71/71 [00:00<00:00, 134.84it/s]\n",
      "Validation: 100%|██████████| 15/15 [00:00<00:00, 309.50it/s]\n",
      "\n"
     ]
    },
    {
     "name": "stdout",
     "output_type": "stream",
     "text": [
      "Epoch 2/50, Train Loss: 5.6713, Train Acc: 0.0085, Val Loss: 5.6894, Val Acc: 0.0125\n",
      "Model improved! Best val loss: 5.6894\n"
     ]
    },
    {
     "name": "stderr",
     "output_type": "stream",
     "text": [
      "Epoch 3/50 Training: 100%|██████████| 71/71 [00:00<00:00, 120.96it/s]\n",
      "Epoch 3/50 Training: 100%|██████████| 71/71 [00:00<00:00, 120.96it/s]\n",
      "Validation: 100%|██████████| 15/15 [00:00<00:00, 301.03it/s]\n",
      "\n"
     ]
    },
    {
     "name": "stdout",
     "output_type": "stream",
     "text": [
      "Epoch 3/50, Train Loss: 5.5811, Train Acc: 0.0134, Val Loss: 5.6040, Val Acc: 0.0104\n",
      "Model improved! Best val loss: 5.6040\n"
     ]
    },
    {
     "name": "stderr",
     "output_type": "stream",
     "text": [
      "Epoch 4/50 Training: 100%|██████████| 71/71 [00:00<00:00, 122.81it/s]\n",
      "Epoch 4/50 Training: 100%|██████████| 71/71 [00:00<00:00, 122.81it/s]\n",
      "Validation: 100%|██████████| 15/15 [00:00<00:00, 215.90it/s]\n",
      "\n"
     ]
    },
    {
     "name": "stdout",
     "output_type": "stream",
     "text": [
      "Epoch 4/50, Train Loss: 5.3999, Train Acc: 0.0152, Val Loss: 5.4284, Val Acc: 0.0208\n",
      "Model improved! Best val loss: 5.4284\n"
     ]
    },
    {
     "name": "stderr",
     "output_type": "stream",
     "text": [
      "Epoch 5/50 Training: 100%|██████████| 71/71 [00:00<00:00, 125.39it/s]\n",
      "Epoch 5/50 Training: 100%|██████████| 71/71 [00:00<00:00, 125.39it/s]\n",
      "Validation: 100%|██████████| 15/15 [00:00<00:00, 236.92it/s]\n",
      "\n"
     ]
    },
    {
     "name": "stdout",
     "output_type": "stream",
     "text": [
      "Epoch 5/50, Train Loss: 5.2269, Train Acc: 0.0152, Val Loss: 5.3427, Val Acc: 0.0167\n",
      "Model improved! Best val loss: 5.3427\n"
     ]
    },
    {
     "name": "stderr",
     "output_type": "stream",
     "text": [
      "Epoch 6/50 Training: 100%|██████████| 71/71 [00:00<00:00, 131.78it/s]\n",
      "Epoch 6/50 Training: 100%|██████████| 71/71 [00:00<00:00, 131.78it/s]\n",
      "Validation: 100%|██████████| 15/15 [00:00<00:00, 280.55it/s]\n",
      "\n"
     ]
    },
    {
     "name": "stdout",
     "output_type": "stream",
     "text": [
      "Epoch 6/50, Train Loss: 5.0268, Train Acc: 0.0326, Val Loss: 5.2797, Val Acc: 0.0125\n",
      "Model improved! Best val loss: 5.2797\n"
     ]
    },
    {
     "name": "stderr",
     "output_type": "stream",
     "text": [
      "Epoch 7/50 Training: 100%|██████████| 71/71 [00:00<00:00, 123.12it/s]\n",
      "Epoch 7/50 Training: 100%|██████████| 71/71 [00:00<00:00, 123.12it/s]\n",
      "Validation: 100%|██████████| 15/15 [00:00<00:00, 234.32it/s]\n",
      "\n"
     ]
    },
    {
     "name": "stdout",
     "output_type": "stream",
     "text": [
      "Epoch 7/50, Train Loss: 4.9124, Train Acc: 0.0299, Val Loss: 5.2358, Val Acc: 0.0187\n",
      "Model improved! Best val loss: 5.2358\n"
     ]
    },
    {
     "name": "stderr",
     "output_type": "stream",
     "text": [
      "Epoch 8/50 Training: 100%|██████████| 71/71 [00:00<00:00, 103.33it/s]\n",
      "Epoch 8/50 Training: 100%|██████████| 71/71 [00:00<00:00, 103.33it/s]\n",
      "Validation: 100%|██████████| 15/15 [00:00<00:00, 285.93it/s]\n",
      "\n"
     ]
    },
    {
     "name": "stdout",
     "output_type": "stream",
     "text": [
      "Epoch 8/50, Train Loss: 4.7942, Train Acc: 0.0366, Val Loss: 5.2264, Val Acc: 0.0229\n",
      "Model improved! Best val loss: 5.2264\n"
     ]
    },
    {
     "name": "stderr",
     "output_type": "stream",
     "text": [
      "Epoch 9/50 Training: 100%|██████████| 71/71 [00:00<00:00, 139.34it/s]\n",
      "Epoch 9/50 Training: 100%|██████████| 71/71 [00:00<00:00, 139.34it/s]\n",
      "Validation: 100%|██████████| 15/15 [00:00<00:00, 285.75it/s]\n",
      "\n"
     ]
    },
    {
     "name": "stdout",
     "output_type": "stream",
     "text": [
      "Epoch 9/50, Train Loss: 4.7080, Train Acc: 0.0455, Val Loss: 5.1721, Val Acc: 0.0292\n",
      "Model improved! Best val loss: 5.1721\n"
     ]
    },
    {
     "name": "stderr",
     "output_type": "stream",
     "text": [
      "Epoch 10/50 Training: 100%|██████████| 71/71 [00:00<00:00, 136.70it/s]\n",
      "Epoch 10/50 Training: 100%|██████████| 71/71 [00:00<00:00, 136.70it/s]\n",
      "Validation: 100%|██████████| 15/15 [00:00<00:00, 281.70it/s]\n",
      "\n"
     ]
    },
    {
     "name": "stdout",
     "output_type": "stream",
     "text": [
      "Epoch 10/50, Train Loss: 4.5238, Train Acc: 0.0540, Val Loss: 5.1377, Val Acc: 0.0292\n",
      "Model improved! Best val loss: 5.1377\n"
     ]
    },
    {
     "name": "stderr",
     "output_type": "stream",
     "text": [
      "Epoch 11/50 Training: 100%|██████████| 71/71 [00:00<00:00, 108.93it/s]\n",
      "Epoch 11/50 Training: 100%|██████████| 71/71 [00:00<00:00, 108.93it/s]\n",
      "Validation: 100%|██████████| 15/15 [00:00<00:00, 229.83it/s]\n",
      "\n"
     ]
    },
    {
     "name": "stdout",
     "output_type": "stream",
     "text": [
      "Epoch 11/50, Train Loss: 4.4487, Train Acc: 0.0643, Val Loss: 5.1018, Val Acc: 0.0292\n",
      "Model improved! Best val loss: 5.1018\n"
     ]
    },
    {
     "name": "stderr",
     "output_type": "stream",
     "text": [
      "Epoch 12/50 Training: 100%|██████████| 71/71 [00:00<00:00, 140.13it/s]\n",
      "Epoch 12/50 Training: 100%|██████████| 71/71 [00:00<00:00, 140.13it/s]\n",
      "Validation: 100%|██████████| 15/15 [00:00<00:00, 241.44it/s]\n",
      "\n"
     ]
    },
    {
     "name": "stdout",
     "output_type": "stream",
     "text": [
      "Epoch 12/50, Train Loss: 4.3883, Train Acc: 0.0687, Val Loss: 5.0716, Val Acc: 0.0375\n",
      "Model improved! Best val loss: 5.0716\n"
     ]
    },
    {
     "name": "stderr",
     "output_type": "stream",
     "text": [
      "Epoch 13/50 Training: 100%|██████████| 71/71 [00:00<00:00, 114.68it/s]\n",
      "Epoch 13/50 Training: 100%|██████████| 71/71 [00:00<00:00, 114.68it/s]\n",
      "Validation: 100%|██████████| 15/15 [00:00<00:00, 181.17it/s]\n",
      "\n"
     ]
    },
    {
     "name": "stdout",
     "output_type": "stream",
     "text": [
      "Epoch 13/50, Train Loss: 4.1842, Train Acc: 0.0870, Val Loss: 5.0448, Val Acc: 0.0375\n",
      "Model improved! Best val loss: 5.0448\n"
     ]
    },
    {
     "name": "stderr",
     "output_type": "stream",
     "text": [
      "Epoch 14/50 Training: 100%|██████████| 71/71 [00:00<00:00, 143.96it/s]\n",
      "Epoch 14/50 Training: 100%|██████████| 71/71 [00:00<00:00, 143.96it/s]\n",
      "Validation: 100%|██████████| 15/15 [00:00<00:00, 300.00it/s]\n",
      "\n"
     ]
    },
    {
     "name": "stdout",
     "output_type": "stream",
     "text": [
      "Epoch 14/50, Train Loss: 4.2211, Train Acc: 0.0852, Val Loss: 4.9748, Val Acc: 0.0500\n",
      "Model improved! Best val loss: 4.9748\n"
     ]
    },
    {
     "name": "stderr",
     "output_type": "stream",
     "text": [
      "Epoch 15/50 Training: 100%|██████████| 71/71 [00:00<00:00, 113.09it/s]\n",
      "Epoch 15/50 Training: 100%|██████████| 71/71 [00:00<00:00, 113.09it/s]\n",
      "Validation: 100%|██████████| 15/15 [00:00<00:00, 217.88it/s]\n",
      "\n"
     ]
    },
    {
     "name": "stdout",
     "output_type": "stream",
     "text": [
      "Epoch 15/50, Train Loss: 4.1320, Train Acc: 0.0848, Val Loss: 4.9576, Val Acc: 0.0417\n",
      "Model improved! Best val loss: 4.9576\n"
     ]
    },
    {
     "name": "stderr",
     "output_type": "stream",
     "text": [
      "Epoch 16/50 Training: 100%|██████████| 71/71 [00:00<00:00, 109.37it/s]\n",
      "Validation:   0%|          | 0/15 [00:00<?, ?it/s]\n",
      "Validation: 100%|██████████| 15/15 [00:00<00:00, 205.29it/s]\n",
      "\n"
     ]
    },
    {
     "name": "stdout",
     "output_type": "stream",
     "text": [
      "Epoch 16/50, Train Loss: 4.0680, Train Acc: 0.1138, Val Loss: 4.9751, Val Acc: 0.0417\n",
      "Early stopping counter: 1/10\n"
     ]
    },
    {
     "name": "stderr",
     "output_type": "stream",
     "text": [
      "Epoch 17/50 Training: 100%|██████████| 71/71 [00:00<00:00, 111.39it/s]\n",
      "Epoch 17/50 Training: 100%|██████████| 71/71 [00:00<00:00, 111.39it/s]\n",
      "Validation: 100%|██████████| 15/15 [00:00<00:00, 230.90it/s]\n",
      "\n"
     ]
    },
    {
     "name": "stdout",
     "output_type": "stream",
     "text": [
      "Epoch 17/50, Train Loss: 3.8281, Train Acc: 0.1022, Val Loss: 4.9087, Val Acc: 0.0500\n",
      "Model improved! Best val loss: 4.9087\n"
     ]
    },
    {
     "name": "stderr",
     "output_type": "stream",
     "text": [
      "Epoch 18/50 Training: 100%|██████████| 71/71 [00:00<00:00, 104.88it/s]\n",
      "Epoch 18/50 Training: 100%|██████████| 71/71 [00:00<00:00, 104.88it/s]\n",
      "Validation: 100%|██████████| 15/15 [00:00<00:00, 216.30it/s]\n",
      "\n"
     ]
    },
    {
     "name": "stdout",
     "output_type": "stream",
     "text": [
      "Epoch 18/50, Train Loss: 3.7664, Train Acc: 0.1156, Val Loss: 4.9166, Val Acc: 0.0563\n",
      "Early stopping counter: 1/10\n"
     ]
    },
    {
     "name": "stderr",
     "output_type": "stream",
     "text": [
      "Epoch 19/50 Training: 100%|██████████| 71/71 [00:00<00:00, 88.22it/s] \n",
      "Epoch 19/50 Training: 100%|██████████| 71/71 [00:00<00:00, 88.22it/s]\n",
      "Validation: 100%|██████████| 15/15 [00:00<00:00, 221.30it/s]\n",
      "\n"
     ]
    },
    {
     "name": "stdout",
     "output_type": "stream",
     "text": [
      "Epoch 19/50, Train Loss: 3.6830, Train Acc: 0.1232, Val Loss: 4.9118, Val Acc: 0.0375\n",
      "Early stopping counter: 2/10\n"
     ]
    },
    {
     "name": "stderr",
     "output_type": "stream",
     "text": [
      "Epoch 20/50 Training: 100%|██████████| 71/71 [00:00<00:00, 109.15it/s]\n",
      "Epoch 20/50 Training: 100%|██████████| 71/71 [00:00<00:00, 109.15it/s]\n",
      "Validation: 100%|██████████| 15/15 [00:00<00:00, 314.34it/s]\n",
      "\n"
     ]
    },
    {
     "name": "stdout",
     "output_type": "stream",
     "text": [
      "Epoch 20/50, Train Loss: 3.5803, Train Acc: 0.1031, Val Loss: 4.8424, Val Acc: 0.0583\n",
      "Model improved! Best val loss: 4.8424\n"
     ]
    },
    {
     "name": "stderr",
     "output_type": "stream",
     "text": [
      "Epoch 21/50 Training: 100%|██████████| 71/71 [00:00<00:00, 111.93it/s]\n",
      "Epoch 21/50 Training: 100%|██████████| 71/71 [00:00<00:00, 111.93it/s]\n",
      "Validation: 100%|██████████| 15/15 [00:00<00:00, 235.14it/s]\n",
      "\n"
     ]
    },
    {
     "name": "stdout",
     "output_type": "stream",
     "text": [
      "Epoch 21/50, Train Loss: 3.7112, Train Acc: 0.1232, Val Loss: 4.8297, Val Acc: 0.0563\n",
      "Model improved! Best val loss: 4.8297\n"
     ]
    },
    {
     "name": "stderr",
     "output_type": "stream",
     "text": [
      "Epoch 22/50 Training: 100%|██████████| 71/71 [00:00<00:00, 86.62it/s] \n",
      "Epoch 22/50 Training: 100%|██████████| 71/71 [00:00<00:00, 86.62it/s]\n",
      "Validation: 100%|██████████| 15/15 [00:00<00:00, 156.48it/s]\n",
      "\n"
     ]
    },
    {
     "name": "stdout",
     "output_type": "stream",
     "text": [
      "Epoch 22/50, Train Loss: 3.6121, Train Acc: 0.1722, Val Loss: 4.8053, Val Acc: 0.0521\n",
      "Model improved! Best val loss: 4.8053\n"
     ]
    },
    {
     "name": "stderr",
     "output_type": "stream",
     "text": [
      "Epoch 23/50 Training: 100%|██████████| 71/71 [00:00<00:00, 105.78it/s]\n",
      "Epoch 23/50 Training: 100%|██████████| 71/71 [00:00<00:00, 105.78it/s]\n",
      "Validation: 100%|██████████| 15/15 [00:00<00:00, 213.95it/s]\n",
      "\n"
     ]
    },
    {
     "name": "stdout",
     "output_type": "stream",
     "text": [
      "Epoch 23/50, Train Loss: 3.4102, Train Acc: 0.1754, Val Loss: 4.7721, Val Acc: 0.0646\n",
      "Model improved! Best val loss: 4.7721\n"
     ]
    },
    {
     "name": "stderr",
     "output_type": "stream",
     "text": [
      "Epoch 24/50 Training: 100%|██████████| 71/71 [00:00<00:00, 107.74it/s]\n",
      "Epoch 24/50 Training: 100%|██████████| 71/71 [00:00<00:00, 107.74it/s]\n",
      "Validation: 100%|██████████| 15/15 [00:00<00:00, 212.41it/s]\n",
      "\n"
     ]
    },
    {
     "name": "stdout",
     "output_type": "stream",
     "text": [
      "Epoch 24/50, Train Loss: 3.3262, Train Acc: 0.1651, Val Loss: 4.7592, Val Acc: 0.0604\n",
      "Model improved! Best val loss: 4.7592\n"
     ]
    },
    {
     "name": "stderr",
     "output_type": "stream",
     "text": [
      "Epoch 25/50 Training: 100%|██████████| 71/71 [00:00<00:00, 107.26it/s]\n",
      "Epoch 25/50 Training: 100%|██████████| 71/71 [00:00<00:00, 107.26it/s]\n",
      "Validation: 100%|██████████| 15/15 [00:00<00:00, 216.05it/s]\n",
      "\n"
     ]
    },
    {
     "name": "stdout",
     "output_type": "stream",
     "text": [
      "Epoch 25/50, Train Loss: 3.3438, Train Acc: 0.1673, Val Loss: 4.7683, Val Acc: 0.0667\n",
      "Early stopping counter: 1/10\n"
     ]
    },
    {
     "name": "stderr",
     "output_type": "stream",
     "text": [
      "Epoch 26/50 Training: 100%|██████████| 71/71 [00:00<00:00, 107.89it/s]\n",
      "Epoch 26/50 Training: 100%|██████████| 71/71 [00:00<00:00, 107.89it/s]\n",
      "Validation: 100%|██████████| 15/15 [00:00<00:00, 184.55it/s]\n",
      "\n"
     ]
    },
    {
     "name": "stdout",
     "output_type": "stream",
     "text": [
      "Epoch 26/50, Train Loss: 3.3715, Train Acc: 0.1856, Val Loss: 4.7125, Val Acc: 0.0688\n",
      "Model improved! Best val loss: 4.7125\n"
     ]
    },
    {
     "name": "stderr",
     "output_type": "stream",
     "text": [
      "Epoch 27/50 Training: 100%|██████████| 71/71 [00:00<00:00, 125.70it/s]\n",
      "Epoch 27/50 Training: 100%|██████████| 71/71 [00:00<00:00, 125.70it/s]\n",
      "Validation: 100%|██████████| 15/15 [00:00<00:00, 240.72it/s]\n",
      "\n"
     ]
    },
    {
     "name": "stdout",
     "output_type": "stream",
     "text": [
      "Epoch 27/50, Train Loss: 3.1765, Train Acc: 0.2124, Val Loss: 4.7042, Val Acc: 0.0708\n",
      "Model improved! Best val loss: 4.7042\n"
     ]
    },
    {
     "name": "stderr",
     "output_type": "stream",
     "text": [
      "Epoch 28/50 Training: 100%|██████████| 71/71 [00:00<00:00, 115.04it/s]\n",
      "Epoch 28/50 Training: 100%|██████████| 71/71 [00:00<00:00, 115.04it/s]\n",
      "Validation: 100%|██████████| 15/15 [00:00<00:00, 245.04it/s]\n",
      "Validation: 100%|██████████| 15/15 [00:00<00:00, 245.04it/s]\n"
     ]
    },
    {
     "name": "stdout",
     "output_type": "stream",
     "text": [
      "Epoch 28/50, Train Loss: 3.1154, Train Acc: 0.2097, Val Loss: 4.7147, Val Acc: 0.0750\n",
      "Early stopping counter: 1/10\n"
     ]
    },
    {
     "name": "stderr",
     "output_type": "stream",
     "text": [
      "Epoch 29/50 Training: 100%|██████████| 71/71 [00:00<00:00, 91.63it/s]\n",
      "Epoch 29/50 Training: 100%|██████████| 71/71 [00:00<00:00, 91.63it/s]\n",
      "Validation: 100%|██████████| 15/15 [00:00<00:00, 201.27it/s]\n",
      "\n"
     ]
    },
    {
     "name": "stdout",
     "output_type": "stream",
     "text": [
      "Epoch 29/50, Train Loss: 3.1073, Train Acc: 0.1763, Val Loss: 4.7316, Val Acc: 0.0792\n",
      "Early stopping counter: 2/10\n"
     ]
    },
    {
     "name": "stderr",
     "output_type": "stream",
     "text": [
      "Epoch 30/50 Training: 100%|██████████| 71/71 [00:00<00:00, 129.11it/s]\n",
      "Epoch 30/50 Training: 100%|██████████| 71/71 [00:00<00:00, 129.11it/s]\n",
      "Validation: 100%|██████████| 15/15 [00:00<00:00, 257.43it/s]\n",
      "\n"
     ]
    },
    {
     "name": "stdout",
     "output_type": "stream",
     "text": [
      "Epoch 30/50, Train Loss: 3.0852, Train Acc: 0.2178, Val Loss: 4.7014, Val Acc: 0.0792\n",
      "Model improved! Best val loss: 4.7014\n"
     ]
    },
    {
     "name": "stderr",
     "output_type": "stream",
     "text": [
      "Epoch 31/50 Training: 100%|██████████| 71/71 [00:00<00:00, 141.70it/s]\n",
      "Epoch 31/50 Training: 100%|██████████| 71/71 [00:00<00:00, 141.70it/s]\n",
      "Validation: 100%|██████████| 15/15 [00:00<00:00, 271.84it/s]\n",
      "\n"
     ]
    },
    {
     "name": "stdout",
     "output_type": "stream",
     "text": [
      "Epoch 31/50, Train Loss: 2.8675, Train Acc: 0.1959, Val Loss: 4.6740, Val Acc: 0.0625\n",
      "Model improved! Best val loss: 4.6740\n"
     ]
    },
    {
     "name": "stderr",
     "output_type": "stream",
     "text": [
      "Epoch 32/50 Training: 100%|██████████| 71/71 [00:00<00:00, 134.69it/s]\n",
      "Validation:   0%|          | 0/15 [00:00<?, ?it/s]\n",
      "Validation: 100%|██████████| 15/15 [00:00<00:00, 256.28it/s]\n",
      "\n"
     ]
    },
    {
     "name": "stdout",
     "output_type": "stream",
     "text": [
      "Epoch 32/50, Train Loss: 2.8953, Train Acc: 0.2459, Val Loss: 4.6542, Val Acc: 0.0813\n",
      "Model improved! Best val loss: 4.6542\n"
     ]
    },
    {
     "name": "stderr",
     "output_type": "stream",
     "text": [
      "Epoch 33/50 Training: 100%|██████████| 71/71 [00:00<00:00, 108.98it/s]\n",
      "Epoch 33/50 Training: 100%|██████████| 71/71 [00:00<00:00, 108.98it/s]\n",
      "Validation: 100%|██████████| 15/15 [00:00<00:00, 278.00it/s]\n",
      "\n"
     ]
    },
    {
     "name": "stdout",
     "output_type": "stream",
     "text": [
      "Epoch 33/50, Train Loss: 2.8179, Train Acc: 0.2771, Val Loss: 4.6567, Val Acc: 0.0833\n",
      "Early stopping counter: 1/10\n"
     ]
    },
    {
     "name": "stderr",
     "output_type": "stream",
     "text": [
      "Epoch 34/50 Training: 100%|██████████| 71/71 [00:00<00:00, 131.03it/s]\n",
      "Epoch 34/50 Training: 100%|██████████| 71/71 [00:00<00:00, 131.03it/s]\n",
      "Validation: 100%|██████████| 15/15 [00:00<00:00, 226.70it/s]\n",
      "\n"
     ]
    },
    {
     "name": "stdout",
     "output_type": "stream",
     "text": [
      "Epoch 34/50, Train Loss: 2.8275, Train Acc: 0.2552, Val Loss: 4.6672, Val Acc: 0.0771\n",
      "Early stopping counter: 2/10\n"
     ]
    },
    {
     "name": "stderr",
     "output_type": "stream",
     "text": [
      "Epoch 35/50 Training: 100%|██████████| 71/71 [00:00<00:00, 124.26it/s]\n",
      "Epoch 35/50 Training: 100%|██████████| 71/71 [00:00<00:00, 124.26it/s]\n",
      "Validation: 100%|██████████| 15/15 [00:00<00:00, 271.97it/s]\n",
      "\n"
     ]
    },
    {
     "name": "stdout",
     "output_type": "stream",
     "text": [
      "Epoch 35/50, Train Loss: 2.8274, Train Acc: 0.2655, Val Loss: 4.7008, Val Acc: 0.0917\n",
      "Early stopping counter: 3/10\n"
     ]
    },
    {
     "name": "stderr",
     "output_type": "stream",
     "text": [
      "Epoch 36/50 Training: 100%|██████████| 71/71 [00:00<00:00, 138.72it/s]\n",
      "Epoch 36/50 Training: 100%|██████████| 71/71 [00:00<00:00, 138.72it/s]\n",
      "Validation: 100%|██████████| 15/15 [00:00<00:00, 317.25it/s]\n",
      "Validation: 100%|██████████| 15/15 [00:00<00:00, 317.25it/s]\n"
     ]
    },
    {
     "name": "stdout",
     "output_type": "stream",
     "text": [
      "Epoch 36/50, Train Loss: 2.6234, Train Acc: 0.2722, Val Loss: 4.7011, Val Acc: 0.0833\n",
      "Early stopping counter: 4/10\n"
     ]
    },
    {
     "name": "stderr",
     "output_type": "stream",
     "text": [
      "Epoch 37/50 Training: 100%|██████████| 71/71 [00:00<00:00, 143.40it/s]\n",
      "Epoch 37/50 Training: 100%|██████████| 71/71 [00:00<00:00, 143.40it/s]\n",
      "Validation: 100%|██████████| 15/15 [00:00<00:00, 300.06it/s]\n",
      "Validation: 100%|██████████| 15/15 [00:00<00:00, 300.06it/s]\n"
     ]
    },
    {
     "name": "stdout",
     "output_type": "stream",
     "text": [
      "Epoch 37/50, Train Loss: 2.5912, Train Acc: 0.3110, Val Loss: 4.6768, Val Acc: 0.0729\n",
      "Early stopping counter: 5/10\n"
     ]
    },
    {
     "name": "stderr",
     "output_type": "stream",
     "text": [
      "Epoch 38/50 Training: 100%|██████████| 71/71 [00:00<00:00, 139.36it/s]\n",
      "Epoch 38/50 Training: 100%|██████████| 71/71 [00:00<00:00, 139.36it/s]\n",
      "Validation: 100%|██████████| 15/15 [00:00<00:00, 299.69it/s]\n",
      "\n"
     ]
    },
    {
     "name": "stdout",
     "output_type": "stream",
     "text": [
      "Epoch 38/50, Train Loss: 2.4853, Train Acc: 0.3387, Val Loss: 4.6495, Val Acc: 0.0854\n",
      "Model improved! Best val loss: 4.6495\n"
     ]
    },
    {
     "name": "stderr",
     "output_type": "stream",
     "text": [
      "Epoch 39/50 Training: 100%|██████████| 71/71 [00:00<00:00, 140.26it/s]\n",
      "Epoch 39/50 Training: 100%|██████████| 71/71 [00:00<00:00, 140.26it/s]\n",
      "Validation: 100%|██████████| 15/15 [00:00<00:00, 294.56it/s]\n",
      "\n"
     ]
    },
    {
     "name": "stdout",
     "output_type": "stream",
     "text": [
      "Epoch 39/50, Train Loss: 2.4443, Train Acc: 0.2280, Val Loss: 4.6802, Val Acc: 0.0833\n",
      "Early stopping counter: 1/10\n"
     ]
    },
    {
     "name": "stderr",
     "output_type": "stream",
     "text": [
      "Epoch 40/50 Training: 100%|██████████| 71/71 [00:00<00:00, 142.01it/s]\n",
      "Epoch 40/50 Training: 100%|██████████| 71/71 [00:00<00:00, 142.01it/s]\n",
      "Validation: 100%|██████████| 15/15 [00:00<00:00, 300.00it/s]\n",
      "\n"
     ]
    },
    {
     "name": "stdout",
     "output_type": "stream",
     "text": [
      "Epoch 40/50, Train Loss: 2.3659, Train Acc: 0.2405, Val Loss: 4.6635, Val Acc: 0.0833\n",
      "Early stopping counter: 2/10\n"
     ]
    },
    {
     "name": "stderr",
     "output_type": "stream",
     "text": [
      "Epoch 41/50 Training: 100%|██████████| 71/71 [00:00<00:00, 143.08it/s]\n",
      "Epoch 41/50 Training: 100%|██████████| 71/71 [00:00<00:00, 143.08it/s]\n",
      "Validation: 100%|██████████| 15/15 [00:00<00:00, 250.00it/s]\n",
      "\n"
     ]
    },
    {
     "name": "stdout",
     "output_type": "stream",
     "text": [
      "Epoch 41/50, Train Loss: 2.3616, Train Acc: 0.2954, Val Loss: 4.6698, Val Acc: 0.0792\n",
      "Early stopping counter: 3/10\n"
     ]
    },
    {
     "name": "stderr",
     "output_type": "stream",
     "text": [
      "Epoch 42/50 Training: 100%|██████████| 71/71 [00:00<00:00, 139.50it/s]\n",
      "Epoch 42/50 Training: 100%|██████████| 71/71 [00:00<00:00, 139.50it/s]\n",
      "Validation: 100%|██████████| 15/15 [00:00<00:00, 230.70it/s]\n",
      "Validation: 100%|██████████| 15/15 [00:00<00:00, 230.70it/s]\n"
     ]
    },
    {
     "name": "stdout",
     "output_type": "stream",
     "text": [
      "Epoch 42/50, Train Loss: 2.6574, Train Acc: 0.3195, Val Loss: 4.6513, Val Acc: 0.0729\n",
      "Early stopping counter: 4/10\n"
     ]
    },
    {
     "name": "stderr",
     "output_type": "stream",
     "text": [
      "Epoch 43/50 Training: 100%|██████████| 71/71 [00:00<00:00, 95.72it/s] \n",
      "Validation: 100%|██████████| 15/15 [00:00<00:00, 174.33it/s]\n",
      "Epoch 43/50 Training: 100%|██████████| 71/71 [00:00<00:00, 95.72it/s] \n",
      "Validation: 100%|██████████| 15/15 [00:00<00:00, 174.33it/s]\n"
     ]
    },
    {
     "name": "stdout",
     "output_type": "stream",
     "text": [
      "Epoch 43/50, Train Loss: 2.5921, Train Acc: 0.3083, Val Loss: 4.6956, Val Acc: 0.0875\n",
      "Early stopping counter: 5/10\n"
     ]
    },
    {
     "name": "stderr",
     "output_type": "stream",
     "text": [
      "Epoch 44/50 Training: 100%|██████████| 71/71 [00:00<00:00, 115.02it/s]\n",
      "Validation: 100%|██████████| 15/15 [00:00<00:00, 216.22it/s]\n",
      "Epoch 44/50 Training: 100%|██████████| 71/71 [00:00<00:00, 115.02it/s]\n",
      "Validation: 100%|██████████| 15/15 [00:00<00:00, 216.22it/s]\n"
     ]
    },
    {
     "name": "stdout",
     "output_type": "stream",
     "text": [
      "Epoch 44/50, Train Loss: 2.4075, Train Acc: 0.3289, Val Loss: 4.6758, Val Acc: 0.0938\n",
      "Early stopping counter: 6/10\n"
     ]
    },
    {
     "name": "stderr",
     "output_type": "stream",
     "text": [
      "Epoch 45/50 Training: 100%|██████████| 71/71 [00:00<00:00, 107.37it/s]\n",
      "Epoch 45/50 Training: 100%|██████████| 71/71 [00:00<00:00, 107.37it/s]\n",
      "Validation: 100%|██████████| 15/15 [00:00<00:00, 205.03it/s]\n",
      "\n"
     ]
    },
    {
     "name": "stdout",
     "output_type": "stream",
     "text": [
      "Epoch 45/50, Train Loss: 2.4474, Train Acc: 0.2994, Val Loss: 4.6881, Val Acc: 0.0854\n",
      "Early stopping counter: 7/10\n"
     ]
    },
    {
     "name": "stderr",
     "output_type": "stream",
     "text": [
      "Epoch 46/50 Training: 100%|██████████| 71/71 [00:00<00:00, 100.68it/s]\n",
      "Epoch 46/50 Training: 100%|██████████| 71/71 [00:00<00:00, 100.68it/s]\n",
      "Validation: 100%|██████████| 15/15 [00:00<00:00, 247.99it/s]\n",
      "\n"
     ]
    },
    {
     "name": "stdout",
     "output_type": "stream",
     "text": [
      "Epoch 46/50, Train Loss: 2.4360, Train Acc: 0.2468, Val Loss: 4.6967, Val Acc: 0.0958\n",
      "Early stopping counter: 8/10\n"
     ]
    },
    {
     "name": "stderr",
     "output_type": "stream",
     "text": [
      "Epoch 47/50 Training: 100%|██████████| 71/71 [00:00<00:00, 129.86it/s]\n",
      "Epoch 47/50 Training: 100%|██████████| 71/71 [00:00<00:00, 129.86it/s]\n",
      "Validation: 100%|██████████| 15/15 [00:00<00:00, 263.61it/s]\n",
      "Validation: 100%|██████████| 15/15 [00:00<00:00, 263.61it/s]\n"
     ]
    },
    {
     "name": "stdout",
     "output_type": "stream",
     "text": [
      "Epoch 47/50, Train Loss: 2.0494, Train Acc: 0.3530, Val Loss: 4.6514, Val Acc: 0.0833\n",
      "Early stopping counter: 9/10\n"
     ]
    },
    {
     "name": "stderr",
     "output_type": "stream",
     "text": [
      "Epoch 48/50 Training: 100%|██████████| 71/71 [00:00<00:00, 127.47it/s]\n",
      "Epoch 48/50 Training: 100%|██████████| 71/71 [00:00<00:00, 127.47it/s]\n",
      "Validation: 100%|██████████| 15/15 [00:00<00:00, 255.23it/s]\n",
      "\n"
     ]
    },
    {
     "name": "stdout",
     "output_type": "stream",
     "text": [
      "Epoch 48/50, Train Loss: 2.2668, Train Acc: 0.2570, Val Loss: 4.6719, Val Acc: 0.0958\n",
      "Early stopping counter: 10/10\n",
      "Early stopping triggered after 48 epochs\n",
      "Training completed in 0.56 minutes\n",
      "\n",
      "LSTM Training History:\n"
     ]
    },
    {
     "data": {
      "image/png": "[encoded data removed]",
      "text/plain": [
       "<Figure size 1500x500 with 2 Axes>"
      ]
     },
     "metadata": {},
     "output_type": "display_data"
    },
    {
     "data": {
      "image/png": "[encoded data removed]",
      "text/plain": [
       "<Figure size 1500x500 with 2 Axes>"
      ]
     },
     "metadata": {},
     "output_type": "display_data"
    },
    {
     "data": {
      "image/png": "[encoded data removed]",
      "text/plain": [
       "<Figure size 1500x500 with 2 Axes>"
      ]
     },
     "metadata": {},
     "output_type": "display_data"
    }
   ],
   "source": [
    "# Training parameters\n",
    "epochs = 50\n",
    "lr = 0.001\n",
    "weight_decay = 1e-4\n",
    "checkpoint_dir = './checkpoints'\n",
    "\n",
    "# Create directories for checkpoints and results\n",
    "os.makedirs(checkpoint_dir, exist_ok=True)\n",
    "\n",
    "# Results storage\n",
    "results = {}\n",
    "\n",
    "# Train each model\n",
    "for model_name, model in models.items():\n",
    "    print(f\"\\n===== Training {model_name} Model =====\")\n",
    "    \n",
    "    # Create model-specific checkpoint directory\n",
    "    model_checkpoint_dir = os.path.join(checkpoint_dir, model_name.lower())\n",
    "    os.makedirs(model_checkpoint_dir, exist_ok=True)\n",
    "    \n",
    "    # Create optimizer with weight decay for regularization\n",
    "    optimizer = optim.Adam(model.parameters(), lr=lr, weight_decay=weight_decay)\n",
    "    \n",
    "    # Use class weights if the dataset is imbalanced\n",
    "    class_counts = np.bincount(y_train)\n",
    "    class_weights = 1. / torch.tensor(class_counts, dtype=torch.float)\n",
    "    class_weights = class_weights / class_weights.sum() * len(class_counts)\n",
    "    class_weights = class_weights.to(device)\n",
    "    criterion = nn.CrossEntropyLoss(weight=class_weights)\n",
    "    \n",
    "    # Create trainer\n",
    "    trainer = ModelTrainer(\n",
    "        model=model,\n",
    "        train_dataset=train_dataset,\n",
    "        val_dataset=val_dataset,\n",
    "        criterion=criterion,\n",
    "        optimizer=optimizer,\n",
    "        device=device,\n",
    "        batch_size=32,\n",
    "        patience=10,\n",
    "        checkpoint_dir=model_checkpoint_dir\n",
    "    )\n",
    "    \n",
    "    # Train with one-cycle learning rate schedule\n",
    "    trained_model, history = trainer.train(\n",
    "        epochs=epochs,\n",
    "        scheduler_type='one_cycle',\n",
    "        scheduler_params={'max_lr': lr * 10},\n",
    "        use_mixup=True,\n",
    "        mixup_alpha=0.2,\n",
    "        use_early_stopping=True\n",
    "    )\n",
    "    \n",
    "    # Save model and training history\n",
    "    results[model_name] = {\n",
    "        'model': trained_model,\n",
    "        'history': history,\n",
    "        'trainer': trainer\n",
    "    }\n",
    "    \n",
    "    # Plot training history\n",
    "    print(f\"\\n{model_name} Training History:\")\n",
    "    trainer.plot_history()"
   ]
  },
  {
   "cell_type": "markdown",
   "id": "be3655b4",
   "metadata": {},
   "source": [
    "# Model Evaluation\n",
    "\n",
    "Evaluate each model on the test set and compare their performance.\n"
   ]
  },
  {
   "cell_type": "code",
   "execution_count": 25,
   "id": "d260f87c",
   "metadata": {},
   "outputs": [
    {
     "name": "stdout",
     "output_type": "stream",
     "text": [
      "\n",
      "===== Evaluating RNN Model =====\n"
     ]
    },
    {
     "name": "stderr",
     "output_type": "stream",
     "text": [
      "Evaluation: 100%|██████████| 16/16 [00:00<00:00, 121.43it/s]"
     ]
    },
    {
     "name": "stdout",
     "output_type": "stream",
     "text": [
      "Test Loss: 5.6807\n",
      "Test Accuracy: 0.0104\n",
      "\n",
      "Classification Report:\n",
      "Class about:\n",
      "  Precision: 0.0000\n",
      "  Recall: 0.0000\n",
      "  F1-Score: 0.0000\n",
      "  Support: 1.0\n",
      "Class accident:\n",
      "  Precision: 0.0000\n",
      "  Recall: 0.0000\n",
      "  F1-Score: 0.0000\n",
      "  Support: 2.0\n",
      "Class africa:\n",
      "  Precision: 0.0000\n",
      "  Recall: 0.0000\n",
      "  F1-Score: 0.0000\n",
      "  Support: 2.0\n",
      "Class again:\n",
      "  Precision: 0.0000\n",
      "  Recall: 0.0000\n",
      "  F1-Score: 0.0000\n",
      "  Support: 2.0\n",
      "Class all:\n",
      "  Precision: 0.0000\n",
      "  Recall: 0.0000\n",
      "  F1-Score: 0.0000\n",
      "  Support: 2.0\n",
      "Class always:\n",
      "  Precision: 0.0000\n",
      "  Recall: 0.0000\n",
      "  F1-Score: 0.0000\n",
      "  Support: 2.0\n",
      "Class animal:\n",
      "  Precision: 0.0000\n",
      "  Recall: 0.0000\n",
      "  F1-Score: 0.0000\n",
      "  Support: 2.0\n",
      "Class apple:\n",
      "  Precision: 0.0000\n",
      "  Recall: 0.0000\n",
      "  F1-Score: 0.0000\n",
      "  Support: 2.0\n",
      "Class approve:\n",
      "  Precision: 0.0000\n",
      "  Recall: 0.0000\n",
      "  F1-Score: 0.0000\n",
      "  Support: 1.0\n",
      "Class argue:\n",
      "  Precision: 0.0000\n",
      "  Recall: 0.0000\n",
      "  F1-Score: 0.0000\n",
      "  Support: 2.0\n",
      "Class arrive:\n",
      "  Precision: 0.0000\n",
      "  Recall: 0.0000\n",
      "  F1-Score: 0.0000\n",
      "  Support: 1.0\n",
      "Class baby:\n",
      "  Precision: 0.0000\n",
      "  Recall: 0.0000\n",
      "  F1-Score: 0.0000\n",
      "  Support: 1.0\n",
      "Class back:\n",
      "  Precision: 0.0000\n",
      "  Recall: 0.0000\n",
      "  F1-Score: 0.0000\n",
      "  Support: 1.0\n",
      "Class backpack:\n",
      "  Precision: 0.0000\n",
      "  Recall: 0.0000\n",
      "  F1-Score: 0.0000\n",
      "  Support: 1.0\n",
      "Class bad:\n",
      "  Precision: 0.0000\n",
      "  Recall: 0.0000\n",
      "  F1-Score: 0.0000\n",
      "  Support: 2.0\n",
      "Class bake:\n",
      "  Precision: 0.0000\n",
      "  Recall: 0.0000\n",
      "  F1-Score: 0.0000\n",
      "  Support: 1.0\n",
      "Class balance:\n",
      "  Precision: 0.0000\n",
      "  Recall: 0.0000\n",
      "  F1-Score: 0.0000\n",
      "  Support: 1.0\n",
      "Class ball:\n",
      "  Precision: 0.0000\n",
      "  Recall: 0.0000\n",
      "  F1-Score: 0.0000\n",
      "  Support: 1.0\n",
      "Class banana:\n",
      "  Precision: 0.0000\n",
      "  Recall: 0.0000\n",
      "  F1-Score: 0.0000\n",
      "  Support: 2.0\n",
      "Class bar:\n",
      "  Precision: 0.0000\n",
      "  Recall: 0.0000\n",
      "  F1-Score: 0.0000\n",
      "  Support: 2.0\n",
      "Class basketball:\n",
      "  Precision: 0.0000\n",
      "  Recall: 0.0000\n",
      "  F1-Score: 0.0000\n",
      "  Support: 2.0\n",
      "Class bath:\n",
      "  Precision: 0.0000\n",
      "  Recall: 0.0000\n",
      "  F1-Score: 0.0000\n",
      "  Support: 1.0\n",
      "Class bathroom:\n",
      "  Precision: 0.0000\n",
      "  Recall: 0.0000\n",
      "  F1-Score: 0.0000\n",
      "  Support: 2.0\n",
      "Class beard:\n",
      "  Precision: 0.0000\n",
      "  Recall: 0.0000\n",
      "  F1-Score: 0.0000\n",
      "  Support: 1.0\n",
      "Class because:\n",
      "  Precision: 0.0000\n",
      "  Recall: 0.0000\n",
      "  F1-Score: 0.0000\n",
      "  Support: 1.0\n",
      "Class bed:\n",
      "  Precision: 0.0000\n",
      "  Recall: 0.0000\n",
      "  F1-Score: 0.0000\n",
      "  Support: 2.0\n",
      "Class before:\n",
      "  Precision: 0.0000\n",
      "  Recall: 0.0000\n",
      "  F1-Score: 0.0000\n",
      "  Support: 3.0\n",
      "Class behind:\n",
      "  Precision: 0.0000\n",
      "  Recall: 0.0000\n",
      "  F1-Score: 0.0000\n",
      "  Support: 1.0\n",
      "Class bird:\n",
      "  Precision: 0.0000\n",
      "  Recall: 0.0000\n",
      "  F1-Score: 0.0000\n",
      "  Support: 2.0\n",
      "Class birthday:\n",
      "  Precision: 0.0000\n",
      "  Recall: 0.0000\n",
      "  F1-Score: 0.0000\n",
      "  Support: 1.0\n",
      "Class black:\n",
      "  Precision: 0.0000\n",
      "  Recall: 0.0000\n",
      "  F1-Score: 0.0000\n",
      "  Support: 2.0\n",
      "Class blanket:\n",
      "  Precision: 0.0000\n",
      "  Recall: 0.0000\n",
      "  F1-Score: 0.0000\n",
      "  Support: 1.0\n",
      "Class blue:\n",
      "  Precision: 0.0000\n",
      "  Recall: 0.0000\n",
      "  F1-Score: 0.0000\n",
      "  Support: 2.0\n",
      "Class book:\n",
      "  Precision: 0.0000\n",
      "  Recall: 0.0000\n",
      "  F1-Score: 0.0000\n",
      "  Support: 1.0\n",
      "Class bowling:\n",
      "  Precision: 0.0000\n",
      "  Recall: 0.0000\n",
      "  F1-Score: 0.0000\n",
      "  Support: 2.0\n",
      "Class boy:\n",
      "  Precision: 0.0000\n",
      "  Recall: 0.0000\n",
      "  F1-Score: 0.0000\n",
      "  Support: 1.0\n",
      "Class bring:\n",
      "  Precision: 0.0000\n",
      "  Recall: 0.0000\n",
      "  F1-Score: 0.0000\n",
      "  Support: 1.0\n",
      "Class brother:\n",
      "  Precision: 0.0000\n",
      "  Recall: 0.0000\n",
      "  F1-Score: 0.0000\n",
      "  Support: 1.0\n",
      "Class brown:\n",
      "  Precision: 0.0000\n",
      "  Recall: 0.0000\n",
      "  F1-Score: 0.0000\n",
      "  Support: 1.0\n",
      "Class business:\n",
      "  Precision: 0.0000\n",
      "  Recall: 0.0000\n",
      "  F1-Score: 0.0000\n",
      "  Support: 2.0\n",
      "Class but:\n",
      "  Precision: 0.0000\n",
      "  Recall: 0.0000\n",
      "  F1-Score: 0.0000\n",
      "  Support: 1.0\n",
      "Class buy:\n",
      "  Precision: 0.0000\n",
      "  Recall: 0.0000\n",
      "  F1-Score: 0.0000\n",
      "  Support: 1.0\n",
      "Class call:\n",
      "  Precision: 0.0000\n",
      "  Recall: 0.0000\n",
      "  F1-Score: 0.0000\n",
      "  Support: 2.0\n",
      "Class can:\n",
      "  Precision: 0.0000\n",
      "  Recall: 0.0000\n",
      "  F1-Score: 0.0000\n",
      "  Support: 2.0\n",
      "Class candy:\n",
      "  Precision: 0.0000\n",
      "  Recall: 0.0000\n",
      "  F1-Score: 0.0000\n",
      "  Support: 2.0\n",
      "Class careful:\n",
      "  Precision: 0.0000\n",
      "  Recall: 0.0000\n",
      "  F1-Score: 0.0000\n",
      "  Support: 1.0\n",
      "Class cat:\n",
      "  Precision: 0.0000\n",
      "  Recall: 0.0000\n",
      "  F1-Score: 0.0000\n",
      "  Support: 2.0\n",
      "Class catch:\n",
      "  Precision: 0.0000\n",
      "  Recall: 0.0000\n",
      "  F1-Score: 0.0000\n",
      "  Support: 2.0\n",
      "Class center:\n",
      "  Precision: 0.0000\n",
      "  Recall: 0.0000\n",
      "  F1-Score: 0.0000\n",
      "  Support: 2.0\n",
      "Class cereal:\n",
      "  Precision: 0.0000\n",
      "  Recall: 0.0000\n",
      "  F1-Score: 0.0000\n",
      "  Support: 1.0\n",
      "Class chair:\n",
      "  Precision: 0.0000\n",
      "  Recall: 0.0000\n",
      "  F1-Score: 0.0000\n",
      "  Support: 2.0\n",
      "Class champion:\n",
      "  Precision: 0.0000\n",
      "  Recall: 0.0000\n",
      "  F1-Score: 0.0000\n",
      "  Support: 1.0\n",
      "Class change:\n",
      "  Precision: 0.0000\n",
      "  Recall: 0.0000\n",
      "  F1-Score: 0.0000\n",
      "  Support: 2.0\n",
      "Class chat:\n",
      "  Precision: 0.0000\n",
      "  Recall: 0.0000\n",
      "  F1-Score: 0.0000\n",
      "  Support: 1.0\n",
      "Class cheat:\n",
      "  Precision: 0.0000\n",
      "  Recall: 0.0000\n",
      "  F1-Score: 0.0000\n",
      "  Support: 2.0\n",
      "Class check:\n",
      "  Precision: 0.0000\n",
      "  Recall: 0.0000\n",
      "  F1-Score: 0.0000\n",
      "  Support: 2.0\n",
      "Class cheese:\n",
      "  Precision: 0.0000\n",
      "  Recall: 0.0000\n",
      "  F1-Score: 0.0000\n",
      "  Support: 1.0\n",
      "Class children:\n",
      "  Precision: 0.0000\n",
      "  Recall: 0.0000\n",
      "  F1-Score: 0.0000\n",
      "  Support: 1.0\n",
      "Class christmas:\n",
      "  Precision: 0.0000\n",
      "  Recall: 0.0000\n",
      "  F1-Score: 0.0000\n",
      "  Support: 1.0\n",
      "Class city:\n",
      "  Precision: 0.0000\n",
      "  Recall: 0.0000\n",
      "  F1-Score: 0.0000\n",
      "  Support: 2.0\n",
      "Class class:\n",
      "  Precision: 0.0000\n",
      "  Recall: 0.0000\n",
      "  F1-Score: 0.0000\n",
      "  Support: 2.0\n",
      "Class clock:\n",
      "  Precision: 0.0000\n",
      "  Recall: 0.0000\n",
      "  F1-Score: 0.0000\n",
      "  Support: 1.0\n",
      "Class close:\n",
      "  Precision: 0.0000\n",
      "  Recall: 0.0000\n",
      "  F1-Score: 0.0000\n",
      "  Support: 1.0\n",
      "Class clothes:\n",
      "  Precision: 0.0000\n",
      "  Recall: 0.0000\n",
      "  F1-Score: 0.0000\n",
      "  Support: 2.0\n",
      "Class coffee:\n",
      "  Precision: 0.0000\n",
      "  Recall: 0.0000\n",
      "  F1-Score: 0.0000\n",
      "  Support: 1.0\n",
      "Class cold:\n",
      "  Precision: 0.0000\n",
      "  Recall: 0.0000\n",
      "  F1-Score: 0.0000\n",
      "  Support: 2.0\n",
      "Class college:\n",
      "  Precision: 0.0000\n",
      "  Recall: 0.0000\n",
      "  F1-Score: 0.0000\n",
      "  Support: 2.0\n",
      "Class color:\n",
      "  Precision: 0.0000\n",
      "  Recall: 0.0000\n",
      "  F1-Score: 0.0000\n",
      "  Support: 2.0\n",
      "Class computer:\n",
      "  Precision: 0.3333\n",
      "  Recall: 0.3333\n",
      "  F1-Score: 0.3333\n",
      "  Support: 3.0\n",
      "Class convince:\n",
      "  Precision: 0.0000\n",
      "  Recall: 0.0000\n",
      "  F1-Score: 0.0000\n",
      "  Support: 1.0\n",
      "Class cook:\n",
      "  Precision: 0.0000\n",
      "  Recall: 0.0000\n",
      "  F1-Score: 0.0000\n",
      "  Support: 2.0\n",
      "Class cool:\n",
      "  Precision: 0.0000\n",
      "  Recall: 0.0000\n",
      "  F1-Score: 0.0000\n",
      "  Support: 2.0\n",
      "Class copy:\n",
      "  Precision: 0.0000\n",
      "  Recall: 0.0000\n",
      "  F1-Score: 0.0000\n",
      "  Support: 1.0\n",
      "Class corn:\n",
      "  Precision: 0.0000\n",
      "  Recall: 0.0000\n",
      "  F1-Score: 0.0000\n",
      "  Support: 2.0\n",
      "Class cough:\n",
      "  Precision: 0.0000\n",
      "  Recall: 0.0000\n",
      "  F1-Score: 0.0000\n",
      "  Support: 2.0\n",
      "Class country:\n",
      "  Precision: 0.0000\n",
      "  Recall: 0.0000\n",
      "  F1-Score: 0.0000\n",
      "  Support: 1.0\n",
      "Class cousin:\n",
      "  Precision: 0.0000\n",
      "  Recall: 0.0000\n",
      "  F1-Score: 0.0000\n",
      "  Support: 2.0\n",
      "Class cow:\n",
      "  Precision: 0.0000\n",
      "  Recall: 0.0000\n",
      "  F1-Score: 0.0000\n",
      "  Support: 2.0\n",
      "Class crash:\n",
      "  Precision: 0.0000\n",
      "  Recall: 0.0000\n",
      "  F1-Score: 0.0000\n",
      "  Support: 2.0\n",
      "Class crazy:\n",
      "  Precision: 0.0000\n",
      "  Recall: 0.0000\n",
      "  F1-Score: 0.0000\n",
      "  Support: 2.0\n",
      "Class cry:\n",
      "  Precision: 0.0000\n",
      "  Recall: 0.0000\n",
      "  F1-Score: 0.0000\n",
      "  Support: 1.0\n",
      "Class cute:\n",
      "  Precision: 0.0000\n",
      "  Recall: 0.0000\n",
      "  F1-Score: 0.0000\n",
      "  Support: 1.0\n",
      "Class dance:\n",
      "  Precision: 0.0000\n",
      "  Recall: 0.0000\n",
      "  F1-Score: 0.0000\n",
      "  Support: 1.0\n",
      "Class dark:\n",
      "  Precision: 0.0000\n",
      "  Recall: 0.0000\n",
      "  F1-Score: 0.0000\n",
      "  Support: 2.0\n",
      "Class daughter:\n",
      "  Precision: 0.0000\n",
      "  Recall: 0.0000\n",
      "  F1-Score: 0.0000\n",
      "  Support: 1.0\n",
      "Class day:\n",
      "  Precision: 0.0000\n",
      "  Recall: 0.0000\n",
      "  F1-Score: 0.0000\n",
      "  Support: 1.0\n",
      "Class deaf:\n",
      "  Precision: 0.0000\n",
      "  Recall: 0.0000\n",
      "  F1-Score: 0.0000\n",
      "  Support: 2.0\n",
      "Class decide:\n",
      "  Precision: 0.0000\n",
      "  Recall: 0.0000\n",
      "  F1-Score: 0.0000\n",
      "  Support: 1.0\n",
      "Class delay:\n",
      "  Precision: 0.1000\n",
      "  Recall: 0.5000\n",
      "  F1-Score: 0.1667\n",
      "  Support: 2.0\n",
      "Class delicious:\n",
      "  Precision: 0.0000\n",
      "  Recall: 0.0000\n",
      "  F1-Score: 0.0000\n",
      "  Support: 2.0\n",
      "Class different:\n",
      "  Precision: 0.0000\n",
      "  Recall: 0.0000\n",
      "  F1-Score: 0.0000\n",
      "  Support: 1.0\n",
      "Class disappear:\n",
      "  Precision: 0.0000\n",
      "  Recall: 0.0000\n",
      "  F1-Score: 0.0000\n",
      "  Support: 2.0\n",
      "Class discuss:\n",
      "  Precision: 0.0000\n",
      "  Recall: 0.0000\n",
      "  F1-Score: 0.0000\n",
      "  Support: 1.0\n",
      "Class divorce:\n",
      "  Precision: 0.0000\n",
      "  Recall: 0.0000\n",
      "  F1-Score: 0.0000\n",
      "  Support: 1.0\n",
      "Class doctor:\n",
      "  Precision: 0.0000\n",
      "  Recall: 0.0000\n",
      "  F1-Score: 0.0000\n",
      "  Support: 2.0\n",
      "Class dog:\n",
      "  Precision: 0.0000\n",
      "  Recall: 0.0000\n",
      "  F1-Score: 0.0000\n",
      "  Support: 2.0\n",
      "Class door:\n",
      "  Precision: 0.0000\n",
      "  Recall: 0.0000\n",
      "  F1-Score: 0.0000\n",
      "  Support: 1.0\n",
      "Class draw:\n",
      "  Precision: 0.0000\n",
      "  Recall: 0.0000\n",
      "  F1-Score: 0.0000\n",
      "  Support: 2.0\n",
      "Class dress:\n",
      "  Precision: 0.0000\n",
      "  Recall: 0.0000\n",
      "  F1-Score: 0.0000\n",
      "  Support: 2.0\n",
      "Class drink:\n",
      "  Precision: 0.0000\n",
      "  Recall: 0.0000\n",
      "  F1-Score: 0.0000\n",
      "  Support: 3.0\n",
      "Class drive:\n",
      "  Precision: 0.0000\n",
      "  Recall: 0.0000\n",
      "  F1-Score: 0.0000\n",
      "  Support: 1.0\n",
      "Class drop:\n",
      "  Precision: 0.0000\n",
      "  Recall: 0.0000\n",
      "  F1-Score: 0.0000\n",
      "  Support: 1.0\n",
      "Class east:\n",
      "  Precision: 0.0000\n",
      "  Recall: 0.0000\n",
      "  F1-Score: 0.0000\n",
      "  Support: 1.0\n",
      "Class easy:\n",
      "  Precision: 0.0000\n",
      "  Recall: 0.0000\n",
      "  F1-Score: 0.0000\n",
      "  Support: 1.0\n",
      "Class eat:\n",
      "  Precision: 0.0000\n",
      "  Recall: 0.0000\n",
      "  F1-Score: 0.0000\n",
      "  Support: 1.0\n",
      "Class egg:\n",
      "  Precision: 0.0000\n",
      "  Recall: 0.0000\n",
      "  F1-Score: 0.0000\n",
      "  Support: 1.0\n",
      "Class enjoy:\n",
      "  Precision: 0.0000\n",
      "  Recall: 0.0000\n",
      "  F1-Score: 0.0000\n",
      "  Support: 2.0\n",
      "Class environment:\n",
      "  Precision: 0.0000\n",
      "  Recall: 0.0000\n",
      "  F1-Score: 0.0000\n",
      "  Support: 2.0\n",
      "Class example:\n",
      "  Precision: 0.0000\n",
      "  Recall: 0.0000\n",
      "  F1-Score: 0.0000\n",
      "  Support: 1.0\n",
      "Class family:\n",
      "  Precision: 0.0000\n",
      "  Recall: 0.0000\n",
      "  F1-Score: 0.0000\n",
      "  Support: 2.0\n",
      "Class far:\n",
      "  Precision: 0.0000\n",
      "  Recall: 0.0000\n",
      "  F1-Score: 0.0000\n",
      "  Support: 2.0\n",
      "Class fat:\n",
      "  Precision: 0.0000\n",
      "  Recall: 0.0000\n",
      "  F1-Score: 0.0000\n",
      "  Support: 1.0\n",
      "Class father:\n",
      "  Precision: 0.0000\n",
      "  Recall: 0.0000\n",
      "  F1-Score: 0.0000\n",
      "  Support: 1.0\n",
      "Class fault:\n",
      "  Precision: 0.0000\n",
      "  Recall: 0.0000\n",
      "  F1-Score: 0.0000\n",
      "  Support: 1.0\n",
      "Class feel:\n",
      "  Precision: 0.0000\n",
      "  Recall: 0.0000\n",
      "  F1-Score: 0.0000\n",
      "  Support: 2.0\n",
      "Class fine:\n",
      "  Precision: 0.0000\n",
      "  Recall: 0.0000\n",
      "  F1-Score: 0.0000\n",
      "  Support: 2.0\n",
      "Class finish:\n",
      "  Precision: 0.0000\n",
      "  Recall: 0.0000\n",
      "  F1-Score: 0.0000\n",
      "  Support: 2.0\n",
      "Class first:\n",
      "  Precision: 0.0000\n",
      "  Recall: 0.0000\n",
      "  F1-Score: 0.0000\n",
      "  Support: 1.0\n",
      "Class fish:\n",
      "  Precision: 0.0000\n",
      "  Recall: 0.0000\n",
      "  F1-Score: 0.0000\n",
      "  Support: 2.0\n",
      "Class flower:\n",
      "  Precision: 0.0000\n",
      "  Recall: 0.0000\n",
      "  F1-Score: 0.0000\n",
      "  Support: 1.0\n",
      "Class football:\n",
      "  Precision: 0.0000\n",
      "  Recall: 0.0000\n",
      "  F1-Score: 0.0000\n",
      "  Support: 1.0\n",
      "Class forget:\n",
      "  Precision: 0.0000\n",
      "  Recall: 0.0000\n",
      "  F1-Score: 0.0000\n",
      "  Support: 2.0\n",
      "Class friend:\n",
      "  Precision: 0.0000\n",
      "  Recall: 0.0000\n",
      "  F1-Score: 0.0000\n",
      "  Support: 1.0\n",
      "Class friendly:\n",
      "  Precision: 0.0000\n",
      "  Recall: 0.0000\n",
      "  F1-Score: 0.0000\n",
      "  Support: 1.0\n",
      "Class full:\n",
      "  Precision: 0.0000\n",
      "  Recall: 0.0000\n",
      "  F1-Score: 0.0000\n",
      "  Support: 2.0\n",
      "Class future:\n",
      "  Precision: 0.0000\n",
      "  Recall: 0.0000\n",
      "  F1-Score: 0.0000\n",
      "  Support: 2.0\n",
      "Class game:\n",
      "  Precision: 0.0000\n",
      "  Recall: 0.0000\n",
      "  F1-Score: 0.0000\n",
      "  Support: 2.0\n",
      "Class girl:\n",
      "  Precision: 0.0000\n",
      "  Recall: 0.0000\n",
      "  F1-Score: 0.0000\n",
      "  Support: 2.0\n",
      "Class give:\n",
      "  Precision: 0.0000\n",
      "  Recall: 0.0000\n",
      "  F1-Score: 0.0000\n",
      "  Support: 2.0\n",
      "Class glasses:\n",
      "  Precision: 0.0000\n",
      "  Recall: 0.0000\n",
      "  F1-Score: 0.0000\n",
      "  Support: 1.0\n",
      "Class go:\n",
      "  Precision: 0.0000\n",
      "  Recall: 0.0000\n",
      "  F1-Score: 0.0000\n",
      "  Support: 3.0\n",
      "Class good:\n",
      "  Precision: 0.0000\n",
      "  Recall: 0.0000\n",
      "  F1-Score: 0.0000\n",
      "  Support: 1.0\n",
      "Class government:\n",
      "  Precision: 0.0000\n",
      "  Recall: 0.0000\n",
      "  F1-Score: 0.0000\n",
      "  Support: 2.0\n",
      "Class graduate:\n",
      "  Precision: 0.0000\n",
      "  Recall: 0.0000\n",
      "  F1-Score: 0.0000\n",
      "  Support: 2.0\n",
      "Class green:\n",
      "  Precision: 0.0000\n",
      "  Recall: 0.0000\n",
      "  F1-Score: 0.0000\n",
      "  Support: 1.0\n",
      "Class hair:\n",
      "  Precision: 0.0000\n",
      "  Recall: 0.0000\n",
      "  F1-Score: 0.0000\n",
      "  Support: 2.0\n",
      "Class halloween:\n",
      "  Precision: 0.0000\n",
      "  Recall: 0.0000\n",
      "  F1-Score: 0.0000\n",
      "  Support: 2.0\n",
      "Class happy:\n",
      "  Precision: 0.0000\n",
      "  Recall: 0.0000\n",
      "  F1-Score: 0.0000\n",
      "  Support: 1.0\n",
      "Class hard:\n",
      "  Precision: 0.0000\n",
      "  Recall: 0.0000\n",
      "  F1-Score: 0.0000\n",
      "  Support: 1.0\n",
      "Class hat:\n",
      "  Precision: 0.0000\n",
      "  Recall: 0.0000\n",
      "  F1-Score: 0.0000\n",
      "  Support: 2.0\n",
      "Class have:\n",
      "  Precision: 0.0000\n",
      "  Recall: 0.0000\n",
      "  F1-Score: 0.0000\n",
      "  Support: 1.0\n",
      "Class headache:\n",
      "  Precision: 0.0000\n",
      "  Recall: 0.0000\n",
      "  F1-Score: 0.0000\n",
      "  Support: 2.0\n",
      "Class hear:\n",
      "  Precision: 0.0000\n",
      "  Recall: 0.0000\n",
      "  F1-Score: 0.0000\n",
      "  Support: 2.0\n",
      "Class hearing:\n",
      "  Precision: 0.0000\n",
      "  Recall: 0.0000\n",
      "  F1-Score: 0.0000\n",
      "  Support: 2.0\n",
      "Class heart:\n",
      "  Precision: 0.0000\n",
      "  Recall: 0.0000\n",
      "  F1-Score: 0.0000\n",
      "  Support: 1.0\n",
      "Class help:\n",
      "  Precision: 0.0000\n",
      "  Recall: 0.0000\n",
      "  F1-Score: 0.0000\n",
      "  Support: 2.0\n",
      "Class here:\n",
      "  Precision: 0.0000\n",
      "  Recall: 0.0000\n",
      "  F1-Score: 0.0000\n",
      "  Support: 2.0\n",
      "Class home:\n",
      "  Precision: 0.0000\n",
      "  Recall: 0.0000\n",
      "  F1-Score: 0.0000\n",
      "  Support: 1.0\n",
      "Class hope:\n",
      "  Precision: 0.0000\n",
      "  Recall: 0.0000\n",
      "  F1-Score: 0.0000\n",
      "  Support: 1.0\n",
      "Class hot:\n",
      "  Precision: 0.0000\n",
      "  Recall: 0.0000\n",
      "  F1-Score: 0.0000\n",
      "  Support: 2.0\n",
      "Class hour:\n",
      "  Precision: 0.0000\n",
      "  Recall: 0.0000\n",
      "  F1-Score: 0.0000\n",
      "  Support: 2.0\n",
      "Class house:\n",
      "  Precision: 0.0000\n",
      "  Recall: 0.0000\n",
      "  F1-Score: 0.0000\n",
      "  Support: 1.0\n",
      "Class how:\n",
      "  Precision: 0.0000\n",
      "  Recall: 0.0000\n",
      "  F1-Score: 0.0000\n",
      "  Support: 2.0\n",
      "Class humble:\n",
      "  Precision: 0.0000\n",
      "  Recall: 0.0000\n",
      "  F1-Score: 0.0000\n",
      "  Support: 1.0\n",
      "Class hurry:\n",
      "  Precision: 0.0000\n",
      "  Recall: 0.0000\n",
      "  F1-Score: 0.0000\n",
      "  Support: 1.0\n",
      "Class husband:\n",
      "  Precision: 0.0000\n",
      "  Recall: 0.0000\n",
      "  F1-Score: 0.0000\n",
      "  Support: 2.0\n",
      "Class improve:\n",
      "  Precision: 0.0000\n",
      "  Recall: 0.0000\n",
      "  F1-Score: 0.0000\n",
      "  Support: 2.0\n",
      "Class inform:\n",
      "  Precision: 0.0000\n",
      "  Recall: 0.0000\n",
      "  F1-Score: 0.0000\n",
      "  Support: 2.0\n",
      "Class interest:\n",
      "  Precision: 0.0000\n",
      "  Recall: 0.0000\n",
      "  F1-Score: 0.0000\n",
      "  Support: 2.0\n",
      "Class internet:\n",
      "  Precision: 0.0000\n",
      "  Recall: 0.0000\n",
      "  F1-Score: 0.0000\n",
      "  Support: 1.0\n",
      "Class jacket:\n",
      "  Precision: 0.0000\n",
      "  Recall: 0.0000\n",
      "  F1-Score: 0.0000\n",
      "  Support: 2.0\n",
      "Class join:\n",
      "  Precision: 0.0000\n",
      "  Recall: 0.0000\n",
      "  F1-Score: 0.0000\n",
      "  Support: 2.0\n",
      "Class jump:\n",
      "  Precision: 0.0000\n",
      "  Recall: 0.0000\n",
      "  F1-Score: 0.0000\n",
      "  Support: 1.0\n",
      "Class kill:\n",
      "  Precision: 0.0000\n",
      "  Recall: 0.0000\n",
      "  F1-Score: 0.0000\n",
      "  Support: 1.0\n",
      "Class kiss:\n",
      "  Precision: 0.0000\n",
      "  Recall: 0.0000\n",
      "  F1-Score: 0.0000\n",
      "  Support: 1.0\n",
      "Class knife:\n",
      "  Precision: 0.0000\n",
      "  Recall: 0.0000\n",
      "  F1-Score: 0.0000\n",
      "  Support: 1.0\n",
      "Class know:\n",
      "  Precision: 0.0000\n",
      "  Recall: 0.0000\n",
      "  F1-Score: 0.0000\n",
      "  Support: 2.0\n",
      "Class language:\n",
      "  Precision: 0.0000\n",
      "  Recall: 0.0000\n",
      "  F1-Score: 0.0000\n",
      "  Support: 2.0\n",
      "Class last:\n",
      "  Precision: 0.0000\n",
      "  Recall: 0.0000\n",
      "  F1-Score: 0.0000\n",
      "  Support: 2.0\n",
      "Class late:\n",
      "  Precision: 0.0000\n",
      "  Recall: 0.0000\n",
      "  F1-Score: 0.0000\n",
      "  Support: 2.0\n",
      "Class later:\n",
      "  Precision: 0.0000\n",
      "  Recall: 0.0000\n",
      "  F1-Score: 0.0000\n",
      "  Support: 2.0\n",
      "Class laugh:\n",
      "  Precision: 0.0000\n",
      "  Recall: 0.0000\n",
      "  F1-Score: 0.0000\n",
      "  Support: 2.0\n",
      "Class law:\n",
      "  Precision: 0.0000\n",
      "  Recall: 0.0000\n",
      "  F1-Score: 0.0000\n",
      "  Support: 1.0\n",
      "Class learn:\n",
      "  Precision: 0.0417\n",
      "  Recall: 0.5000\n",
      "  F1-Score: 0.0769\n",
      "  Support: 2.0\n",
      "Class leave:\n",
      "  Precision: 0.0000\n",
      "  Recall: 0.0000\n",
      "  F1-Score: 0.0000\n",
      "  Support: 2.0\n",
      "Class letter:\n",
      "  Precision: 0.0000\n",
      "  Recall: 0.0000\n",
      "  F1-Score: 0.0000\n",
      "  Support: 2.0\n",
      "Class light:\n",
      "  Precision: 0.0000\n",
      "  Recall: 0.0000\n",
      "  F1-Score: 0.0000\n",
      "  Support: 2.0\n",
      "Class like:\n",
      "  Precision: 0.0000\n",
      "  Recall: 0.0000\n",
      "  F1-Score: 0.0000\n",
      "  Support: 3.0\n",
      "Class list:\n",
      "  Precision: 0.0000\n",
      "  Recall: 0.0000\n",
      "  F1-Score: 0.0000\n",
      "  Support: 2.0\n",
      "Class live:\n",
      "  Precision: 0.0000\n",
      "  Recall: 0.0000\n",
      "  F1-Score: 0.0000\n",
      "  Support: 1.0\n",
      "Class lose:\n",
      "  Precision: 0.0000\n",
      "  Recall: 0.0000\n",
      "  F1-Score: 0.0000\n",
      "  Support: 2.0\n",
      "Class make:\n",
      "  Precision: 0.2500\n",
      "  Recall: 1.0000\n",
      "  F1-Score: 0.4000\n",
      "  Support: 1.0\n",
      "Class man:\n",
      "  Precision: 0.0000\n",
      "  Recall: 0.0000\n",
      "  F1-Score: 0.0000\n",
      "  Support: 2.0\n",
      "Class many:\n",
      "  Precision: 0.0000\n",
      "  Recall: 0.0000\n",
      "  F1-Score: 0.0000\n",
      "  Support: 2.0\n",
      "Class match:\n",
      "  Precision: 0.0000\n",
      "  Recall: 0.0000\n",
      "  F1-Score: 0.0000\n",
      "  Support: 1.0\n",
      "Class mean:\n",
      "  Precision: 0.0000\n",
      "  Recall: 0.0000\n",
      "  F1-Score: 0.0000\n",
      "  Support: 1.0\n",
      "Class meat:\n",
      "  Precision: 0.0000\n",
      "  Recall: 0.0000\n",
      "  F1-Score: 0.0000\n",
      "  Support: 2.0\n",
      "Class medicine:\n",
      "  Precision: 0.0000\n",
      "  Recall: 0.0000\n",
      "  F1-Score: 0.0000\n",
      "  Support: 1.0\n",
      "Class meet:\n",
      "  Precision: 0.0000\n",
      "  Recall: 0.0000\n",
      "  F1-Score: 0.0000\n",
      "  Support: 2.0\n",
      "Class milk:\n",
      "  Precision: 0.0000\n",
      "  Recall: 0.0000\n",
      "  F1-Score: 0.0000\n",
      "  Support: 2.0\n",
      "Class money:\n",
      "  Precision: 0.0000\n",
      "  Recall: 0.0000\n",
      "  F1-Score: 0.0000\n",
      "  Support: 1.0\n",
      "Class more:\n",
      "  Precision: 0.0000\n",
      "  Recall: 0.0000\n",
      "  F1-Score: 0.0000\n",
      "  Support: 2.0\n",
      "Class most:\n",
      "  Precision: 0.0000\n",
      "  Recall: 0.0000\n",
      "  F1-Score: 0.0000\n",
      "  Support: 1.0\n",
      "Class mother:\n",
      "  Precision: 0.0000\n",
      "  Recall: 0.0000\n",
      "  F1-Score: 0.0000\n",
      "  Support: 3.0\n",
      "Class movie:\n",
      "  Precision: 0.0000\n",
      "  Recall: 0.0000\n",
      "  F1-Score: 0.0000\n",
      "  Support: 1.0\n",
      "Class music:\n",
      "  Precision: 0.0000\n",
      "  Recall: 0.0000\n",
      "  F1-Score: 0.0000\n",
      "  Support: 2.0\n",
      "Class name:\n",
      "  Precision: 0.0000\n",
      "  Recall: 0.0000\n",
      "  F1-Score: 0.0000\n",
      "  Support: 1.0\n",
      "Class need:\n",
      "  Precision: 0.0000\n",
      "  Recall: 0.0000\n",
      "  F1-Score: 0.0000\n",
      "  Support: 1.0\n",
      "Class new:\n",
      "  Precision: 0.0000\n",
      "  Recall: 0.0000\n",
      "  F1-Score: 0.0000\n",
      "  Support: 2.0\n",
      "Class no:\n",
      "  Precision: 0.0000\n",
      "  Recall: 0.0000\n",
      "  F1-Score: 0.0000\n",
      "  Support: 2.0\n",
      "Class none:\n",
      "  Precision: 0.0000\n",
      "  Recall: 0.0000\n",
      "  F1-Score: 0.0000\n",
      "  Support: 1.0\n",
      "Class now:\n",
      "  Precision: 0.0000\n",
      "  Recall: 0.0000\n",
      "  F1-Score: 0.0000\n",
      "  Support: 2.0\n",
      "Class office:\n",
      "  Precision: 0.0000\n",
      "  Recall: 0.0000\n",
      "  F1-Score: 0.0000\n",
      "  Support: 1.0\n",
      "Class old:\n",
      "  Precision: 0.0000\n",
      "  Recall: 0.0000\n",
      "  F1-Score: 0.0000\n",
      "  Support: 1.0\n",
      "Class orange:\n",
      "  Precision: 0.0000\n",
      "  Recall: 0.0000\n",
      "  F1-Score: 0.0000\n",
      "  Support: 2.0\n",
      "Class order:\n",
      "  Precision: 0.0000\n",
      "  Recall: 0.0000\n",
      "  F1-Score: 0.0000\n",
      "  Support: 1.0\n",
      "Class paint:\n",
      "  Precision: 0.0000\n",
      "  Recall: 0.0000\n",
      "  F1-Score: 0.0000\n",
      "  Support: 1.0\n",
      "Class pants:\n",
      "  Precision: 0.0000\n",
      "  Recall: 0.0000\n",
      "  F1-Score: 0.0000\n",
      "  Support: 1.0\n",
      "Class paper:\n",
      "  Precision: 0.0000\n",
      "  Recall: 0.0000\n",
      "  F1-Score: 0.0000\n",
      "  Support: 2.0\n",
      "Class party:\n",
      "  Precision: 0.0000\n",
      "  Recall: 0.0000\n",
      "  F1-Score: 0.0000\n",
      "  Support: 1.0\n",
      "Class past:\n",
      "  Precision: 0.0000\n",
      "  Recall: 0.0000\n",
      "  F1-Score: 0.0000\n",
      "  Support: 2.0\n",
      "Class pencil:\n",
      "  Precision: 0.0000\n",
      "  Recall: 0.0000\n",
      "  F1-Score: 0.0000\n",
      "  Support: 1.0\n",
      "Class person:\n",
      "  Precision: 0.0000\n",
      "  Recall: 0.0000\n",
      "  F1-Score: 0.0000\n",
      "  Support: 2.0\n",
      "Class pink:\n",
      "  Precision: 0.0000\n",
      "  Recall: 0.0000\n",
      "  F1-Score: 0.0000\n",
      "  Support: 2.0\n",
      "Class pizza:\n",
      "  Precision: 0.0000\n",
      "  Recall: 0.0000\n",
      "  F1-Score: 0.0000\n",
      "  Support: 2.0\n",
      "Class plan:\n",
      "  Precision: 0.0000\n",
      "  Recall: 0.0000\n",
      "  F1-Score: 0.0000\n",
      "  Support: 1.0\n",
      "Class play:\n",
      "  Precision: 0.0000\n",
      "  Recall: 0.0000\n",
      "  F1-Score: 0.0000\n",
      "  Support: 2.0\n",
      "Class please:\n",
      "  Precision: 0.0000\n",
      "  Recall: 0.0000\n",
      "  F1-Score: 0.0000\n",
      "  Support: 1.0\n",
      "Class police:\n",
      "  Precision: 0.0000\n",
      "  Recall: 0.0000\n",
      "  F1-Score: 0.0000\n",
      "  Support: 1.0\n",
      "Class practice:\n",
      "  Precision: 0.0000\n",
      "  Recall: 0.0000\n",
      "  F1-Score: 0.0000\n",
      "  Support: 1.0\n",
      "Class president:\n",
      "  Precision: 0.0000\n",
      "  Recall: 0.0000\n",
      "  F1-Score: 0.0000\n",
      "  Support: 2.0\n",
      "Class problem:\n",
      "  Precision: 0.0000\n",
      "  Recall: 0.0000\n",
      "  F1-Score: 0.0000\n",
      "  Support: 2.0\n",
      "Class pull:\n",
      "  Precision: 0.0000\n",
      "  Recall: 0.0000\n",
      "  F1-Score: 0.0000\n",
      "  Support: 2.0\n",
      "Class purple:\n",
      "  Precision: 0.0000\n",
      "  Recall: 0.0000\n",
      "  F1-Score: 0.0000\n",
      "  Support: 2.0\n",
      "Class rabbit:\n",
      "  Precision: 0.0000\n",
      "  Recall: 0.0000\n",
      "  F1-Score: 0.0000\n",
      "  Support: 2.0\n",
      "Class read:\n",
      "  Precision: 0.0000\n",
      "  Recall: 0.0000\n",
      "  F1-Score: 0.0000\n",
      "  Support: 2.0\n",
      "Class red:\n",
      "  Precision: 0.0000\n",
      "  Recall: 0.0000\n",
      "  F1-Score: 0.0000\n",
      "  Support: 2.0\n",
      "Class remember:\n",
      "  Precision: 0.0000\n",
      "  Recall: 0.0000\n",
      "  F1-Score: 0.0000\n",
      "  Support: 2.0\n",
      "Class restaurant:\n",
      "  Precision: 0.0000\n",
      "  Recall: 0.0000\n",
      "  F1-Score: 0.0000\n",
      "  Support: 1.0\n",
      "Class ride:\n",
      "  Precision: 0.0000\n",
      "  Recall: 0.0000\n",
      "  F1-Score: 0.0000\n",
      "  Support: 1.0\n",
      "Class right:\n",
      "  Precision: 0.0000\n",
      "  Recall: 0.0000\n",
      "  F1-Score: 0.0000\n",
      "  Support: 2.0\n",
      "Class room:\n",
      "  Precision: 0.0000\n",
      "  Recall: 0.0000\n",
      "  F1-Score: 0.0000\n",
      "  Support: 2.0\n",
      "Class run:\n",
      "  Precision: 0.0000\n",
      "  Recall: 0.0000\n",
      "  F1-Score: 0.0000\n",
      "  Support: 2.0\n",
      "Class russia:\n",
      "  Precision: 0.0000\n",
      "  Recall: 0.0000\n",
      "  F1-Score: 0.0000\n",
      "  Support: 1.0\n",
      "Class salt:\n",
      "  Precision: 0.0000\n",
      "  Recall: 0.0000\n",
      "  F1-Score: 0.0000\n",
      "  Support: 1.0\n",
      "Class same:\n",
      "  Precision: 0.0000\n",
      "  Recall: 0.0000\n",
      "  F1-Score: 0.0000\n",
      "  Support: 2.0\n",
      "Class sandwich:\n",
      "  Precision: 0.3333\n",
      "  Recall: 0.5000\n",
      "  F1-Score: 0.4000\n",
      "  Support: 2.0\n",
      "Class school:\n",
      "  Precision: 0.0000\n",
      "  Recall: 0.0000\n",
      "  F1-Score: 0.0000\n",
      "  Support: 2.0\n",
      "Class secretary:\n",
      "  Precision: 0.0000\n",
      "  Recall: 0.0000\n",
      "  F1-Score: 0.0000\n",
      "  Support: 2.0\n",
      "Class share:\n",
      "  Precision: 0.0000\n",
      "  Recall: 0.0000\n",
      "  F1-Score: 0.0000\n",
      "  Support: 1.0\n",
      "Class shirt:\n",
      "  Precision: 0.0000\n",
      "  Recall: 0.0000\n",
      "  F1-Score: 0.0000\n",
      "  Support: 2.0\n",
      "Class short:\n",
      "  Precision: 0.0000\n",
      "  Recall: 0.0000\n",
      "  F1-Score: 0.0000\n",
      "  Support: 2.0\n",
      "Class show:\n",
      "  Precision: 0.0000\n",
      "  Recall: 0.0000\n",
      "  F1-Score: 0.0000\n",
      "  Support: 2.0\n",
      "Class sick:\n",
      "  Precision: 0.0000\n",
      "  Recall: 0.0000\n",
      "  F1-Score: 0.0000\n",
      "  Support: 1.0\n",
      "Class sign:\n",
      "  Precision: 0.0000\n",
      "  Recall: 0.0000\n",
      "  F1-Score: 0.0000\n",
      "  Support: 1.0\n",
      "Class since:\n",
      "  Precision: 0.0000\n",
      "  Recall: 0.0000\n",
      "  F1-Score: 0.0000\n",
      "  Support: 2.0\n",
      "Class small:\n",
      "  Precision: 0.0000\n",
      "  Recall: 0.0000\n",
      "  F1-Score: 0.0000\n",
      "  Support: 2.0\n",
      "Class snow:\n",
      "  Precision: 0.0000\n",
      "  Recall: 0.0000\n",
      "  F1-Score: 0.0000\n",
      "  Support: 1.0\n",
      "Class some:\n",
      "  Precision: 0.0000\n",
      "  Recall: 0.0000\n",
      "  F1-Score: 0.0000\n",
      "  Support: 2.0\n",
      "Class son:\n",
      "  Precision: 0.0000\n",
      "  Recall: 0.0000\n",
      "  F1-Score: 0.0000\n",
      "  Support: 2.0\n",
      "Class soon:\n",
      "  Precision: 0.0000\n",
      "  Recall: 0.0000\n",
      "  F1-Score: 0.0000\n",
      "  Support: 1.0\n",
      "Class south:\n",
      "  Precision: 0.0000\n",
      "  Recall: 0.0000\n",
      "  F1-Score: 0.0000\n",
      "  Support: 1.0\n",
      "Class stay:\n",
      "  Precision: 0.0000\n",
      "  Recall: 0.0000\n",
      "  F1-Score: 0.0000\n",
      "  Support: 2.0\n",
      "Class student:\n",
      "  Precision: 0.0000\n",
      "  Recall: 0.0000\n",
      "  F1-Score: 0.0000\n",
      "  Support: 2.0\n",
      "Class study:\n",
      "  Precision: 0.0000\n",
      "  Recall: 0.0000\n",
      "  F1-Score: 0.0000\n",
      "  Support: 3.0\n",
      "Class sunday:\n",
      "  Precision: 0.0000\n",
      "  Recall: 0.0000\n",
      "  F1-Score: 0.0000\n",
      "  Support: 1.0\n",
      "Class table:\n",
      "  Precision: 0.0000\n",
      "  Recall: 0.0000\n",
      "  F1-Score: 0.0000\n",
      "  Support: 1.0\n",
      "Class take:\n",
      "  Precision: 0.0000\n",
      "  Recall: 0.0000\n",
      "  F1-Score: 0.0000\n",
      "  Support: 1.0\n",
      "Class tall:\n",
      "  Precision: 0.0000\n",
      "  Recall: 0.0000\n",
      "  F1-Score: 0.0000\n",
      "  Support: 2.0\n",
      "Class tea:\n",
      "  Precision: 0.0000\n",
      "  Recall: 0.0000\n",
      "  F1-Score: 0.0000\n",
      "  Support: 1.0\n",
      "Class teach:\n",
      "  Precision: 0.0000\n",
      "  Recall: 0.0000\n",
      "  F1-Score: 0.0000\n",
      "  Support: 1.0\n",
      "Class teacher:\n",
      "  Precision: 0.0000\n",
      "  Recall: 0.0000\n",
      "  F1-Score: 0.0000\n",
      "  Support: 2.0\n",
      "Class tell:\n",
      "  Precision: 0.0000\n",
      "  Recall: 0.0000\n",
      "  F1-Score: 0.0000\n",
      "  Support: 2.0\n",
      "Class test:\n",
      "  Precision: 0.0000\n",
      "  Recall: 0.0000\n",
      "  F1-Score: 0.0000\n",
      "  Support: 1.0\n",
      "Class thanksgiving:\n",
      "  Precision: 0.0000\n",
      "  Recall: 0.0000\n",
      "  F1-Score: 0.0000\n",
      "  Support: 3.0\n",
      "Class theory:\n",
      "  Precision: 0.0000\n",
      "  Recall: 0.0000\n",
      "  F1-Score: 0.0000\n",
      "  Support: 1.0\n",
      "Class thin:\n",
      "  Precision: 0.0000\n",
      "  Recall: 0.0000\n",
      "  F1-Score: 0.0000\n",
      "  Support: 3.0\n",
      "Class thursday:\n",
      "  Precision: 0.0000\n",
      "  Recall: 0.0000\n",
      "  F1-Score: 0.0000\n",
      "  Support: 2.0\n",
      "Class time:\n",
      "  Precision: 0.0000\n",
      "  Recall: 0.0000\n",
      "  F1-Score: 0.0000\n",
      "  Support: 1.0\n",
      "Class tired:\n",
      "  Precision: 0.0000\n",
      "  Recall: 0.0000\n",
      "  F1-Score: 0.0000\n",
      "  Support: 2.0\n",
      "Class tomato:\n",
      "  Precision: 0.0000\n",
      "  Recall: 0.0000\n",
      "  F1-Score: 0.0000\n",
      "  Support: 1.0\n",
      "Class trade:\n",
      "  Precision: 0.0000\n",
      "  Recall: 0.0000\n",
      "  F1-Score: 0.0000\n",
      "  Support: 2.0\n",
      "Class train:\n",
      "  Precision: 0.0000\n",
      "  Recall: 0.0000\n",
      "  F1-Score: 0.0000\n",
      "  Support: 2.0\n",
      "Class travel:\n",
      "  Precision: 0.0000\n",
      "  Recall: 0.0000\n",
      "  F1-Score: 0.0000\n",
      "  Support: 1.0\n",
      "Class ugly:\n",
      "  Precision: 0.0000\n",
      "  Recall: 0.0000\n",
      "  F1-Score: 0.0000\n",
      "  Support: 1.0\n",
      "Class visit:\n",
      "  Precision: 0.0000\n",
      "  Recall: 0.0000\n",
      "  F1-Score: 0.0000\n",
      "  Support: 2.0\n",
      "Class wait:\n",
      "  Precision: 0.0000\n",
      "  Recall: 0.0000\n",
      "  F1-Score: 0.0000\n",
      "  Support: 2.0\n",
      "Class walk:\n",
      "  Precision: 0.0000\n",
      "  Recall: 0.0000\n",
      "  F1-Score: 0.0000\n",
      "  Support: 1.0\n",
      "Class want:\n",
      "  Precision: 0.0000\n",
      "  Recall: 0.0000\n",
      "  F1-Score: 0.0000\n",
      "  Support: 1.0\n",
      "Class war:\n",
      "  Precision: 0.0000\n",
      "  Recall: 0.0000\n",
      "  F1-Score: 0.0000\n",
      "  Support: 1.0\n",
      "Class water:\n",
      "  Precision: 0.0000\n",
      "  Recall: 0.0000\n",
      "  F1-Score: 0.0000\n",
      "  Support: 2.0\n",
      "Class week:\n",
      "  Precision: 0.0000\n",
      "  Recall: 0.0000\n",
      "  F1-Score: 0.0000\n",
      "  Support: 2.0\n",
      "Class what:\n",
      "  Precision: 0.0000\n",
      "  Recall: 0.0000\n",
      "  F1-Score: 0.0000\n",
      "  Support: 2.0\n",
      "Class where:\n",
      "  Precision: 0.0000\n",
      "  Recall: 0.0000\n",
      "  F1-Score: 0.0000\n",
      "  Support: 2.0\n",
      "Class white:\n",
      "  Precision: 0.0000\n",
      "  Recall: 0.0000\n",
      "  F1-Score: 0.0000\n",
      "  Support: 2.0\n",
      "Class who:\n",
      "  Precision: 0.0000\n",
      "  Recall: 0.0000\n",
      "  F1-Score: 0.0000\n",
      "  Support: 2.0\n",
      "Class why:\n",
      "  Precision: 0.0000\n",
      "  Recall: 0.0000\n",
      "  F1-Score: 0.0000\n",
      "  Support: 1.0\n",
      "Class wife:\n",
      "  Precision: 0.0000\n",
      "  Recall: 0.0000\n",
      "  F1-Score: 0.0000\n",
      "  Support: 2.0\n",
      "Class window:\n",
      "  Precision: 0.0000\n",
      "  Recall: 0.0000\n",
      "  F1-Score: 0.0000\n",
      "  Support: 1.0\n",
      "Class with:\n",
      "  Precision: 0.0000\n",
      "  Recall: 0.0000\n",
      "  F1-Score: 0.0000\n",
      "  Support: 1.0\n",
      "Class woman:\n",
      "  Precision: 0.0000\n",
      "  Recall: 0.0000\n",
      "  F1-Score: 0.0000\n",
      "  Support: 2.0\n",
      "Class work:\n",
      "  Precision: 0.0000\n",
      "  Recall: 0.0000\n",
      "  F1-Score: 0.0000\n",
      "  Support: 2.0\n",
      "Class write:\n",
      "  Precision: 0.0000\n",
      "  Recall: 0.0000\n",
      "  F1-Score: 0.0000\n",
      "  Support: 2.0\n",
      "Class wrong:\n",
      "  Precision: 0.0000\n",
      "  Recall: 0.0000\n",
      "  F1-Score: 0.0000\n",
      "  Support: 2.0\n",
      "Class year:\n",
      "  Precision: 0.0000\n",
      "  Recall: 0.0000\n",
      "  F1-Score: 0.0000\n",
      "  Support: 2.0\n",
      "Class yellow:\n",
      "  Precision: 0.0000\n",
      "  Recall: 0.0000\n",
      "  F1-Score: 0.0000\n",
      "  Support: 2.0\n",
      "Class yes:\n",
      "  Precision: 0.0000\n",
      "  Recall: 0.0000\n",
      "  F1-Score: 0.0000\n",
      "  Support: 2.0\n",
      "Class yesterday:\n",
      "  Precision: 0.0000\n",
      "  Recall: 0.0000\n",
      "  F1-Score: 0.0000\n",
      "  Support: 2.0\n",
      "Class you:\n",
      "  Precision: 0.0000\n",
      "  Recall: 0.0000\n",
      "  F1-Score: 0.0000\n",
      "  Support: 2.0\n",
      "Class your:\n",
      "  Precision: 0.0000\n",
      "  Recall: 0.0000\n",
      "  F1-Score: 0.0000\n",
      "  Support: 1.0\n"
     ]
    },
    {
     "name": "stderr",
     "output_type": "stream",
     "text": [
      "\n",
      "c:\\ProgramData\\anaconda3\\envs\\aslpose\\lib\\site-packages\\sklearn\\metrics\\_classification.py:1565: UndefinedMetricWarning: Precision is ill-defined and being set to 0.0 in labels with no predicted samples. Use `zero_division` parameter to control this behavior.\n",
      "  _warn_prf(average, modifier, f\"{metric.capitalize()} is\", len(result))\n",
      "c:\\ProgramData\\anaconda3\\envs\\aslpose\\lib\\site-packages\\sklearn\\metrics\\_classification.py:1565: UndefinedMetricWarning: Precision is ill-defined and being set to 0.0 in labels with no predicted samples. Use `zero_division` parameter to control this behavior.\n",
      "  _warn_prf(average, modifier, f\"{metric.capitalize()} is\", len(result))\n",
      "c:\\ProgramData\\anaconda3\\envs\\aslpose\\lib\\site-packages\\sklearn\\metrics\\_classification.py:1565: UndefinedMetricWarning: Precision is ill-defined and being set to 0.0 in labels with no predicted samples. Use `zero_division` parameter to control this behavior.\n",
      "  _warn_prf(average, modifier, f\"{metric.capitalize()} is\", len(result))\n"
     ]
    },
    {
     "ename": "ValueError",
     "evalue": "invalid literal for int() with base 10: 'macro avg'",
     "output_type": "error",
     "traceback": [
      "\u001b[1;31m---------------------------------------------------------------------------\u001b[0m",
      "\u001b[1;31mValueError\u001b[0m                                Traceback (most recent call last)",
      "Cell \u001b[1;32mIn[25], line 76\u001b[0m\n\u001b[0;32m     74\u001b[0m \u001b[38;5;28;01mfor\u001b[39;00m class_id, metrics \u001b[38;5;129;01min\u001b[39;00m report\u001b[38;5;241m.\u001b[39mitems():\n\u001b[0;32m     75\u001b[0m     \u001b[38;5;28;01mif\u001b[39;00m \u001b[38;5;28misinstance\u001b[39m(metrics, \u001b[38;5;28mdict\u001b[39m):\n\u001b[1;32m---> 76\u001b[0m         \u001b[38;5;28mprint\u001b[39m(\u001b[38;5;124mf\u001b[39m\u001b[38;5;124m\"\u001b[39m\u001b[38;5;124mClass \u001b[39m\u001b[38;5;132;01m{\u001b[39;00mindex_to_label\u001b[38;5;241m.\u001b[39mget(\u001b[38;5;28;43mint\u001b[39;49m\u001b[43m(\u001b[49m\u001b[43mclass_id\u001b[49m\u001b[43m)\u001b[49m,\u001b[38;5;250m \u001b[39mclass_id)\u001b[38;5;132;01m}\u001b[39;00m\u001b[38;5;124m:\u001b[39m\u001b[38;5;124m\"\u001b[39m)\n\u001b[0;32m     77\u001b[0m         \u001b[38;5;28mprint\u001b[39m(\u001b[38;5;124mf\u001b[39m\u001b[38;5;124m\"\u001b[39m\u001b[38;5;124m  Precision: \u001b[39m\u001b[38;5;132;01m{\u001b[39;00mmetrics[\u001b[38;5;124m'\u001b[39m\u001b[38;5;124mprecision\u001b[39m\u001b[38;5;124m'\u001b[39m]\u001b[38;5;132;01m:\u001b[39;00m\u001b[38;5;124m.4f\u001b[39m\u001b[38;5;132;01m}\u001b[39;00m\u001b[38;5;124m\"\u001b[39m)\n\u001b[0;32m     78\u001b[0m         \u001b[38;5;28mprint\u001b[39m(\u001b[38;5;124mf\u001b[39m\u001b[38;5;124m\"\u001b[39m\u001b[38;5;124m  Recall: \u001b[39m\u001b[38;5;132;01m{\u001b[39;00mmetrics[\u001b[38;5;124m'\u001b[39m\u001b[38;5;124mrecall\u001b[39m\u001b[38;5;124m'\u001b[39m]\u001b[38;5;132;01m:\u001b[39;00m\u001b[38;5;124m.4f\u001b[39m\u001b[38;5;132;01m}\u001b[39;00m\u001b[38;5;124m\"\u001b[39m)\n",
      "\u001b[1;31mValueError\u001b[0m: invalid literal for int() with base 10: 'macro avg'"
     ]
    }
   ],
   "source": [
    "def evaluate_model(model, test_loader, criterion, device):\n",
    "    \"\"\"\n",
    "    Evaluate a model on the test set.\n",
    "    \n",
    "    Args:\n",
    "        model: Trained model\n",
    "        test_loader: DataLoader for test data\n",
    "        criterion: Loss function\n",
    "        device: Device to evaluate on\n",
    "    \n",
    "    Returns:\n",
    "        Dictionary with loss, accuracy, confusion matrix, etc.\n",
    "    \"\"\"\n",
    "    model.eval()\n",
    "    test_loss = 0\n",
    "    correct = 0\n",
    "    total = 0\n",
    "    all_preds = []\n",
    "    all_targets = []\n",
    "    \n",
    "    with torch.no_grad():\n",
    "        for batch_idx, (inputs, targets) in enumerate(tqdm(test_loader, desc=\"Evaluation\")):\n",
    "            inputs, targets = inputs.to(device), targets.to(device)\n",
    "            outputs = model(inputs)\n",
    "            loss = criterion(outputs, targets)\n",
    "            \n",
    "            test_loss += loss.item()\n",
    "            _, predicted = torch.max(outputs, 1)\n",
    "            total += targets.size(0)\n",
    "            correct += (predicted == targets).sum().item()\n",
    "            \n",
    "            # Collect predictions and targets for later analysis\n",
    "            all_preds.extend(predicted.cpu().numpy())\n",
    "            all_targets.extend(targets.cpu().numpy())\n",
    "    \n",
    "    # Calculate metrics\n",
    "    test_loss /= len(test_loader)\n",
    "    accuracy = correct / total\n",
    "    \n",
    "    # Confusion matrix\n",
    "    cm = confusion_matrix(all_targets, all_preds)\n",
    "    \n",
    "    # Classification report\n",
    "    report = classification_report(all_targets, all_preds, output_dict=True)\n",
    "    \n",
    "    return {\n",
    "        'loss': test_loss,\n",
    "        'accuracy': accuracy,\n",
    "        'predictions': all_preds,\n",
    "        'targets': all_targets,\n",
    "        'confusion_matrix': cm,\n",
    "        'classification_report': report\n",
    "    }\n",
    "\n",
    "# Evaluate each model\n",
    "evaluation_results = {}\n",
    "for model_name, result in results.items():\n",
    "    print(f\"\\n===== Evaluating {model_name} Model =====\")\n",
    "    \n",
    "    model = result['model']\n",
    "    criterion = nn.CrossEntropyLoss()\n",
    "    \n",
    "    # Evaluate on test set\n",
    "    eval_metrics = evaluate_model(model, test_loader, criterion, device)\n",
    "    evaluation_results[model_name] = eval_metrics\n",
    "    \n",
    "    # Print metrics\n",
    "    print(f\"Test Loss: {eval_metrics['loss']:.4f}\")\n",
    "    print(f\"Test Accuracy: {eval_metrics['accuracy']:.4f}\")\n",
    "    \n",
    "    # Print classification report\n",
    "    print(\"\\nClassification Report:\")\n",
    "    report = eval_metrics['classification_report']\n",
    "    for class_id, metrics in report.items():\n",
    "        if isinstance(metrics, dict):\n",
    "            print(f\"Class {index_to_label.get(int(class_id), class_id)}:\")\n",
    "            print(f\"  Precision: {metrics['precision']:.4f}\")\n",
    "            print(f\"  Recall: {metrics['recall']:.4f}\")\n",
    "            print(f\"  F1-Score: {metrics['f1-score']:.4f}\")\n",
    "            print(f\"  Support: {metrics['support']}\")\n",
    "    \n",
    "    # Plot confusion matrix\n",
    "    plt.figure(figsize=(10, 8))\n",
    "    cm = eval_metrics['confusion_matrix']\n",
    "    sns.heatmap(\n",
    "        cm, annot=True, fmt='d', cmap='Blues',\n",
    "        xticklabels=[index_to_label[i] for i in range(len(index_to_label))],\n",
    "        yticklabels=[index_to_label[i] for i in range(len(index_to_label))]\n",
    "    )\n",
    "    plt.title(f'{model_name} Confusion Matrix')\n",
    "    plt.ylabel('True Label')\n",
    "    plt.xlabel('Predicted Label')\n",
    "    plt.tight_layout()\n",
    "    plt.savefig(f\"./checkpoints/{model_name}_confusion_matrix.png\")\n",
    "    plt.show()"
   ]
  },
  {
   "cell_type": "markdown",
   "id": "446bc0e9",
   "metadata": {},
   "source": [
    "# Compare Model Performance\n",
    "\n",
    "Compare the different models to determine the best one.\n"
   ]
  },
  {
   "cell_type": "code",
   "execution_count": null,
   "id": "780851f7",
   "metadata": {},
   "outputs": [],
   "source": [
    "# Compare models\n",
    "comparison_metrics = {\n",
    "    'accuracy': [],\n",
    "    'f1_score': [],\n",
    "    'average_precision': [],\n",
    "    'average_recall': []\n",
    "}\n",
    "\n",
    "for model_name, eval_results in evaluation_results.items():\n",
    "    # Extract metrics\n",
    "    accuracy = eval_results['accuracy']\n",
    "    report = eval_results['classification_report']\n",
    "    \n",
    "    # Calculate macro averages\n",
    "    avg_precision = report['macro avg']['precision']\n",
    "    avg_recall = report['macro avg']['recall']\n",
    "    f1_score = report['macro avg']['f1-score']\n",
    "    \n",
    "    # Store metrics\n",
    "    comparison_metrics['accuracy'].append(accuracy)\n",
    "    comparison_metrics['f1_score'].append(f1_score)\n",
    "    comparison_metrics['average_precision'].append(avg_precision)\n",
    "    comparison_metrics['average_recall'].append(avg_recall)\n",
    "\n",
    "# Plot comparison\n",
    "model_names = list(evaluation_results.keys())\n",
    "metrics = ['accuracy', 'f1_score', 'average_precision', 'average_recall']\n",
    "\n",
    "plt.figure(figsize=(12, 6))\n",
    "x = np.arange(len(model_names))\n",
    "width = 0.2\n",
    "multiplier = 0\n",
    "\n",
    "for metric in metrics:\n",
    "    offset = width * multiplier\n",
    "    plt.bar(x + offset, comparison_metrics[metric], width, label=metric)\n",
    "    multiplier += 1\n",
    "\n",
    "plt.xlabel('Models')\n",
    "plt.ylabel('Score')\n",
    "plt.title('Model Performance Comparison')\n",
    "plt.xticks(x + width, model_names)\n",
    "plt.legend(loc='lower right')\n",
    "plt.grid(axis='y', linestyle='--', alpha=0.7)\n",
    "plt.savefig(\"./checkpoints/model_comparison.png\")\n",
    "plt.show()\n",
    "\n",
    "# Print best model\n",
    "best_model_idx = np.argmax(comparison_metrics['f1_score'])\n",
    "best_model_name = model_names[best_model_idx]\n",
    "print(f\"\\nBest performing model: {best_model_name}\")\n",
    "print(f\"Accuracy: {comparison_metrics['accuracy'][best_model_idx]:.4f}\")\n",
    "print(f\"F1 Score: {comparison_metrics['f1_score'][best_model_idx]:.4f}\")\n",
    "print(f\"Precision: {comparison_metrics['average_precision'][best_model_idx]:.4f}\")\n",
    "print(f\"Recall: {comparison_metrics['average_recall'][best_model_idx]:.4f}\")"
   ]
  },
  {
   "cell_type": "markdown",
   "id": "a87d91ef",
   "metadata": {},
   "source": [
    "# Save the Best Model for Deployment\n",
    "\n",
    "Save the best model with all necessary information for later use.\n"
   ]
  },
  {
   "cell_type": "code",
   "execution_count": null,
   "id": "2d989b11",
   "metadata": {},
   "outputs": [],
   "source": [
    "# Save the best model for deployment\n",
    "best_model = results[best_model_name]['model']\n",
    "\n",
    "# Save model state\n",
    "torch.save({\n",
    "    'model_state_dict': best_model.state_dict(),\n",
    "    'input_size': input_size,\n",
    "    'hidden_size': hidden_size,\n",
    "    'output_size': output_size,\n",
    "    'num_layers': num_layers,\n",
    "    'dropout_rate': dropout_rate,\n",
    "    'bidirectional': bidirectional,\n",
    "    'model_type': best_model_name,\n",
    "    'label_mapping': index_to_label,\n",
    "    'feature_mean': feat_mean,\n",
    "    'feature_std': feat_std,\n",
    "    'accuracy': comparison_metrics['accuracy'][best_model_idx],\n",
    "    'f1_score': comparison_metrics['f1_score'][best_model_idx]\n",
    "}, \"./checkpoints/best_model_for_deployment.pt\")\n",
    "\n",
    "print(f\"Best model ({best_model_name}) saved for deployment!\")\n",
    "\n",
    "# Create a simplified inference model (optional)\n",
    "# For deployment, you might want to create a simplified version of the model\n",
    "# that includes the preprocessing steps, etc.\n",
    "class InferenceWrapper:\n",
    "    def __init__(self, model, feature_mean, feature_std, index_to_label):\n",
    "        self.model = model\n",
    "        self.feature_mean = feature_mean\n",
    "        self.feature_std = feature_std\n",
    "        self.index_to_label = index_to_label\n",
    "        \n",
    "    def preprocess(self, input_data):\n",
    "        # Normalize\n",
    "        normalized = (input_data - self.feature_mean) / self.feature_std\n",
    "        return torch.tensor(normalized, dtype=torch.float32).unsqueeze(0)  # Add batch dim\n",
    "        \n",
    "    def predict(self, input_data):\n",
    "        # Preprocess\n",
    "        x = self.preprocess(input_data)\n",
    "        \n",
    "        # Get prediction\n",
    "        self.model.eval()\n",
    "        with torch.no_grad():\n",
    "            outputs = self.model(x)\n",
    "            _, predicted = torch.max(outputs, 1)\n",
    "            \n",
    "        return self.index_to_label[predicted.item()]\n",
    "\n",
    "# Create and test the inference wrapper\n",
    "inference_model = InferenceWrapper(\n",
    "    model=best_model,\n",
    "    feature_mean=feat_mean,\n",
    "    feature_std=feat_std,\n",
    "    index_to_label=index_to_label\n",
    ")\n",
    "\n",
    "# Test inference\n",
    "sample_data = X_test[0]\n",
    "true_label = index_to_label[y_test[0]]\n",
    "predicted_label = inference_model.predict(sample_data)\n",
    "\n",
    "print(f\"Sample prediction test:\")\n",
    "print(f\"True label: {true_label}\")\n",
    "print(f\"Predicted label: {predicted_label}\")"
   ]
  }
 ],
 "metadata": {
  "kernelspec": {
   "display_name": "aslpose",
   "language": "python",
   "name": "python3"
  },
  "language_info": {
   "codemirror_mode": {
    "name": "ipython",
    "version": 3
   },
   "file_extension": ".py",
   "mimetype": "text/x-python",
   "name": "python",
   "nbconvert_exporter": "python",
   "pygments_lexer": "ipython3",
   "version": "3.10.16"
  }
 },
 "nbformat": 4,
 "nbformat_minor": 5
}
